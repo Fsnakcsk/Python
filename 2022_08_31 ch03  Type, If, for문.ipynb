{
 "cells": [
  {
   "cell_type": "markdown",
   "id": "a247f269",
   "metadata": {},
   "source": [
    "# 자료구조\n",
    "- 데이터를 저장하는 기억공간을 효율적으로 사용할 수 있도록 도와주는 기능\n",
    "- 기억공간을 효율적으로 사용한다는 것은 낭비를 최소화하고 처리속도를 빠르게 \n",
    "- 파이썬에서 지공하는 자료구조 : List, tuple, 세트, 딕셔너리, 데이터프레임(데이터분석 때 사용)"
   ]
  },
  {
   "cell_type": "markdown",
   "id": "8f82b970",
   "metadata": {},
   "source": [
    "## 리스트(List)\n",
    "- 임의의 객체를 순서대로 저장하는 자료형(시퀀스_sequence), 자료형\n",
    "- 각 데이터의 값이 담겨지는 위치를 인덱스(index)라고 브른다\n",
    "- 인덱스는 0부터 시작된다.\n",
    "- 변경 가능\n",
    "- 데괄호 [ ] 를 사용하여 데이터를 표현한다"
   ]
  },
  {
   "cell_type": "code",
   "execution_count": 5,
   "id": "706e2b7c",
   "metadata": {},
   "outputs": [
    {
     "name": "stdout",
     "output_type": "stream",
     "text": [
      "<class 'list'>\n"
     ]
    }
   ],
   "source": [
    "# 리스트(List) : 하나의 변수에 여러 값을 활당하는 자료구조\n",
    "# 시퀀스 자료형 : 순서대로 데이터를 저장하는 자료형(리스트, 문자열, 튜풀)\n",
    "a = [10, 20, 30, 40, 50]\n",
    "a\n",
    "print(type(a))"
   ]
  },
  {
   "cell_type": "code",
   "execution_count": 11,
   "id": "d87de47e",
   "metadata": {},
   "outputs": [
    {
     "name": "stdout",
     "output_type": "stream",
     "text": [
      "red\n",
      "Green\n"
     ]
    }
   ],
   "source": [
    "# arr[index] 위치의 값을 출력\n",
    "\n",
    "b = [\"red\", 'blue', \"Green\"]\n",
    "print(b[0])\n",
    "print(b[-1])"
   ]
  },
  {
   "cell_type": "code",
   "execution_count": 20,
   "id": "26e21ebc",
   "metadata": {},
   "outputs": [
    {
     "name": "stdout",
     "output_type": "stream",
     "text": [
      "[1, 2, 3, ['a', 'b', 'c']]\n",
      "['a', 'b', 'c']\n",
      "a\n",
      "c\n"
     ]
    }
   ],
   "source": [
    "# 중첩 리스트\n",
    "x = [1, 2, 3,['a', 'b', 'c']]\n",
    "\n",
    "print(x)\n",
    "print(x[3])\n",
    "print(x[3][0])\n",
    "print(x[-1][-1])"
   ]
  },
  {
   "cell_type": "code",
   "execution_count": 24,
   "id": "97882b87",
   "metadata": {},
   "outputs": [
    {
     "name": "stdout",
     "output_type": "stream",
     "text": [
      "[1, 2, 3, 4, 5]\n",
      "10\n"
     ]
    }
   ],
   "source": [
    "y = [1, 2, 3, 4, 5]\n",
    "print(y)\n",
    "\n",
    "y = 10\n",
    "print(y)"
   ]
  },
  {
   "cell_type": "code",
   "execution_count": 31,
   "id": "2992c661",
   "metadata": {},
   "outputs": [
    {
     "name": "stdout",
     "output_type": "stream",
     "text": [
      "[1, 2, 3, 4, 5]\n",
      "[1, 2, 3, 4, 5]\n",
      "[1, 2, 3, 4, 5]\n",
      "[1, 2, 3, 4, 5]\n",
      "[1, 2, 3, 4, 5]\n"
     ]
    }
   ],
   "source": [
    "# 슬라이싱(slicing) : List의 범위지정을 텅해 데이터를 추출 start:end\n",
    "# 파이썬은 마지막데이터를 포함하지 않는다. end = -1번째까지만\n",
    "\n",
    "x = [1, 2, 3, 4, 5]\n",
    "print(x)\n",
    "\n",
    "print(x[0:5]) # 0~4\n",
    "print(x[:5])\n",
    "print(x[0:])\n",
    "print(x[:])"
   ]
  },
  {
   "cell_type": "code",
   "execution_count": 34,
   "id": "02a55fe3",
   "metadata": {},
   "outputs": [],
   "source": [
    "citise = ['서울', '부산', '인천', '대구', '대전', '대전', '광주', '울산', '수원']"
   ]
  },
  {
   "cell_type": "code",
   "execution_count": 49,
   "id": "8d6903d7",
   "metadata": {},
   "outputs": [
    {
     "name": "stdout",
     "output_type": "stream",
     "text": [
      "['서울', '부산', '인천', '대구', '대전', '대전', '광주', '울산', '수원']\n",
      "['서울', '부산', '인천', '대구', '대전', '대전', '광주', '울산']\n",
      "['서울', '부산', '인천', '대구', '대전', '대전', '광주', '울산']\n",
      "['서울', '부산', '인천', '대구', '대전', '대전', '광주', '울산', '수원']\n",
      "['서울', '부산', '인천', '대구', '대전', '대전', '광주', '울산', '수원']\n"
     ]
    }
   ],
   "source": [
    "# 변수명[인덱수]\n",
    "# 변수명[i : i-1]\n",
    "print(citise)\n",
    "print(citise[0:8])\n",
    "print(citise[:8])\n",
    "print(citise[0:])\n",
    "print(citise[:])"
   ]
  },
  {
   "cell_type": "code",
   "execution_count": 52,
   "id": "53fb6149",
   "metadata": {},
   "outputs": [
    {
     "name": "stdout",
     "output_type": "stream",
     "text": [
      "['수원', '울산', '광주', '대전', '대전', '대구', '인천', '부산', '서울']\n"
     ]
    }
   ],
   "source": [
    "# 중가값(step) \n",
    "# 변수명[i : -1 : 1 or -1]\n",
    "\n",
    "print(citise[::-1]) #역으로 슬라이싱\n"
   ]
  },
  {
   "cell_type": "code",
   "execution_count": 62,
   "id": "a5984c35",
   "metadata": {},
   "outputs": [
    {
     "name": "stdout",
     "output_type": "stream",
     "text": [
      "a =  [1, 2, 3, 4, 5]\n",
      "b =  [1, 2, 3, 4, 5]\n",
      "[10, 2, 3, 4, 5]\n",
      "[10, 2, 3, 4, 5]\n",
      "1981075577472\n",
      "1981075577472\n"
     ]
    }
   ],
   "source": [
    "# 깊은 복사 *** b가 a를 가리킨다 ***\n",
    "\n",
    "a = [1, 2, 3, 4, 5]\n",
    "b = a   # 객체 복사 *** b가 a를 가리킨다***\n",
    "print(\"a = \", a)\n",
    "print(\"b = \", b)\n",
    "\n",
    "a[0] = 10\n",
    "print(a)\n",
    "print(b)\n",
    "\n",
    "print(id(a))\n",
    "print(id(b))"
   ]
  },
  {
   "cell_type": "code",
   "execution_count": 64,
   "id": "7745cdf5",
   "metadata": {},
   "outputs": [
    {
     "name": "stdout",
     "output_type": "stream",
     "text": [
      "a =  [1, 2, 3, 4, 5]\n",
      "b =  [1, 2, 3, 4, 5]\n",
      "[10, 2, 3, 4, 5]\n",
      "[1, 2, 3, 4, 5]\n",
      "1981086046272\n",
      "1981085215104\n"
     ]
    }
   ],
   "source": [
    "# 얕은 복사\n",
    "\n",
    "a = [1, 2, 3, 4, 5]\n",
    "b = a[:] # a의 값만 b에 복사 \n",
    "print(\"a = \", a)\n",
    "print(\"b = \", b)\n",
    "\n",
    "a[0] = 10\n",
    "print(a) # 값 바꿈\n",
    "print(b) # 값 안 바꿈\n",
    "\n",
    "print(id(a))\n",
    "print(id(b))"
   ]
  },
  {
   "cell_type": "markdown",
   "id": "e76cbca8",
   "metadata": {},
   "source": [
    "### List 연산"
   ]
  },
  {
   "cell_type": "code",
   "execution_count": 67,
   "id": "a6b2b604",
   "metadata": {},
   "outputs": [
    {
     "name": "stdout",
     "output_type": "stream",
     "text": [
      "[1, 2, 3, 4, 5, 6]\n"
     ]
    }
   ],
   "source": [
    "# + 덧셈연산 (리스트 합침)\n",
    "\n",
    "x = [1, 2, 3]\n",
    "y = [4, 5, 6]\n",
    "\n",
    "a = x + y #합친다\n",
    "print(a)"
   ]
  },
  {
   "cell_type": "code",
   "execution_count": 70,
   "id": "7b6f3851",
   "metadata": {},
   "outputs": [
    {
     "name": "stdout",
     "output_type": "stream",
     "text": [
      "['red', 'blue', 'green', 'orange', 'black', 'white']\n",
      "3\n"
     ]
    }
   ],
   "source": [
    "xx = ['red', 'blue', 'green']\n",
    "yy = ['orange', 'black', 'white']\n",
    "\n",
    "print(xx + yy)\n",
    "print(len(xx))\n"
   ]
  },
  {
   "cell_type": "code",
   "execution_count": 71,
   "id": "63f6432e",
   "metadata": {},
   "outputs": [
    {
     "data": {
      "text/plain": [
       "['red', 'blue', 'green', 'red', 'blue', 'green', 'red', 'blue', 'green']"
      ]
     },
     "execution_count": 71,
     "metadata": {},
     "output_type": "execute_result"
    }
   ],
   "source": [
    "# List * 곱셈 (반복)\n",
    "\n",
    "xx * 3\n"
   ]
  },
  {
   "cell_type": "code",
   "execution_count": 82,
   "id": "52c00775",
   "metadata": {},
   "outputs": [
    {
     "name": "stdout",
     "output_type": "stream",
     "text": [
      "3\n",
      "Hellopython\n",
      "3hi\n"
     ]
    }
   ],
   "source": [
    "a = [1, 2, 3]\n",
    "print(a[2])\n",
    "print(\"Hello\" + \"python\")\n",
    "print(str(a[2]) + \"hi\")"
   ]
  },
  {
   "cell_type": "code",
   "execution_count": 81,
   "id": "a9e3e5b4",
   "metadata": {},
   "outputs": [
    {
     "name": "stdout",
     "output_type": "stream",
     "text": [
      "<class 'int'>\n",
      "<class 'list'>\n"
     ]
    }
   ],
   "source": [
    "# *** 중요 ***\n",
    "print(type(a[0]))\n",
    "print(type(a))\n"
   ]
  },
  {
   "cell_type": "code",
   "execution_count": 89,
   "id": "f2139838",
   "metadata": {},
   "outputs": [
    {
     "name": "stdout",
     "output_type": "stream",
     "text": [
      "['red', 'blue', 'green', 'black', 'white']\n",
      "True\n",
      "False\n"
     ]
    }
   ],
   "source": [
    "# in 연산 (포합여부 확인)\n",
    "\n",
    "color = ['red', 'blue', 'green', 'black', 'white']\n",
    "print(color)\n",
    "\n",
    "print('blue' in color)\n",
    "print(0 in a)"
   ]
  },
  {
   "cell_type": "code",
   "execution_count": 94,
   "id": "fe125f5c",
   "metadata": {},
   "outputs": [
    {
     "name": "stdout",
     "output_type": "stream",
     "text": [
      "['red', 'blue', 'green']\n",
      "['red', 'blue', 'green', 'white']\n"
     ]
    }
   ],
   "source": [
    "# List에 값 추가\n",
    "## appennd() : List 마지막 위치에 추가\n",
    "\n",
    "color = ['red', 'blue', 'green']\n",
    "print(color)\n",
    "\n",
    "color.append('white')\n",
    "print(color)"
   ]
  },
  {
   "cell_type": "code",
   "execution_count": 3,
   "id": "742d855b",
   "metadata": {},
   "outputs": [
    {
     "name": "stdout",
     "output_type": "stream",
     "text": [
      "['red', 'blue', 'green', 'orange', 'black', 'white']\n"
     ]
    }
   ],
   "source": [
    "# extend() or extend([]): 기존에 List에 새로운 List를 추가하는 함수\n",
    "\n",
    "color = ['red', 'blue', 'green']\n",
    "color.extend(['orange', 'black', 'white'])\n",
    "print(color)"
   ]
  },
  {
   "cell_type": "code",
   "execution_count": 4,
   "id": "898e3477",
   "metadata": {},
   "outputs": [
    {
     "name": "stdout",
     "output_type": "stream",
     "text": [
      "['orange', 'red', 'blue', 'green', 'orange', 'black', 'white']\n"
     ]
    }
   ],
   "source": [
    "# insert(index, data)\n",
    "\n",
    "color.insert(0,'orange')\n",
    "print(color)\n"
   ]
  },
  {
   "cell_type": "code",
   "execution_count": 5,
   "id": "91454443",
   "metadata": {},
   "outputs": [
    {
     "ename": "NameError",
     "evalue": "name 'color' is not defined",
     "output_type": "error",
     "traceback": [
      "\u001b[1;31m---------------------------------------------------------------------------\u001b[0m",
      "\u001b[1;31mNameError\u001b[0m                                 Traceback (most recent call last)",
      "Input \u001b[1;32mIn [5]\u001b[0m, in \u001b[0;36m<cell line: 3>\u001b[1;34m()\u001b[0m\n\u001b[0;32m      1\u001b[0m \u001b[38;5;66;03m# remove(data) : 같은 값이 있어도 멘 앞에 것 한개만 지움\u001b[39;00m\n\u001b[1;32m----> 3\u001b[0m \u001b[43mcolor\u001b[49m\u001b[38;5;241m.\u001b[39mremove(\u001b[38;5;124m'\u001b[39m\u001b[38;5;124mred\u001b[39m\u001b[38;5;124m'\u001b[39m)\n\u001b[0;32m      4\u001b[0m \u001b[38;5;28mprint\u001b[39m(color)\n",
      "\u001b[1;31mNameError\u001b[0m: name 'color' is not defined"
     ]
    }
   ],
   "source": [
    "# remove(data) : 같은 값이 있어도 멘 앞에 것 한개만 지움\n",
    "\n",
    "color.remove('red')\n",
    "print(color)\n"
   ]
  },
  {
   "cell_type": "code",
   "execution_count": 7,
   "id": "87e4a324",
   "metadata": {},
   "outputs": [
    {
     "name": "stdout",
     "output_type": "stream",
     "text": [
      "['blue', 'green', 'orange', 'black', 'white']\n"
     ]
    }
   ],
   "source": [
    "# del : 인덱스를 이용해 삭제 --------------------\n",
    "\n",
    "del color[0]\n",
    "print(color)\n"
   ]
  },
  {
   "cell_type": "code",
   "execution_count": 7,
   "id": "dc468092",
   "metadata": {},
   "outputs": [
    {
     "name": "stdout",
     "output_type": "stream",
     "text": [
      "a =  [0, 1, 3, 4, 5]\n"
     ]
    }
   ],
   "source": [
    "# pop() : 삭제할 겂을 따로 뽑아서 삭제\n",
    "a = [0, 1, 2, 3, 4, 5]\n",
    "a.pop(2)\n",
    "print(\"a = \", a)\n"
   ]
  },
  {
   "cell_type": "code",
   "execution_count": 10,
   "id": "3df17c59",
   "metadata": {},
   "outputs": [
    {
     "name": "stdout",
     "output_type": "stream",
     "text": [
      "a =  []\n"
     ]
    }
   ],
   "source": [
    "# clear() : list에 모든 값 제거\n",
    "\n",
    "a.clear()\n",
    "print(\"a = \", a)\n"
   ]
  },
  {
   "cell_type": "code",
   "execution_count": 9,
   "id": "52b0051e",
   "metadata": {},
   "outputs": [
    {
     "name": "stdout",
     "output_type": "stream",
     "text": [
      "[1, 2, 3] 1 2 3\n"
     ]
    }
   ],
   "source": [
    "# 패킹(packinng)과 언패킹(unpacking)\n",
    "## packing : 하나의 변수에 여러 개의 데이터를 활당하는 것\n",
    "## unpacking : 하나의 변수에 담긴 여러 개의 데이터를 각각의 변수로 반환\n",
    "\n",
    "x = [1, 2, 3] # packing\n",
    "a, b, c = x   # unpacking 변수도 index만큼 만들어야 함. 안그러면 에러\n",
    "print(x, a, b, c)"
   ]
  },
  {
   "cell_type": "code",
   "execution_count": 12,
   "id": "a07cb078",
   "metadata": {},
   "outputs": [
    {
     "name": "stdout",
     "output_type": "stream",
     "text": [
      "[[49, 79, 100, 80], [88, 77, 99, 66, 50], [90, 100, 52, 60]]\n"
     ]
    }
   ],
   "source": [
    "# 이차원 리스트 -----------------------------\n",
    "\n",
    "kor = [49, 79, 100, 80]\n",
    "eng = [88, 77, 99, 66 ,50]\n",
    "math = [90, 100, 52, 60]\n",
    "\n",
    "score = [kor, eng, math]\n",
    "print(score)"
   ]
  },
  {
   "cell_type": "code",
   "execution_count": 17,
   "id": "a7cb6e46",
   "metadata": {},
   "outputs": [
    {
     "name": "stdout",
     "output_type": "stream",
     "text": [
      "[49, 79, 100, 80]\n",
      "49\n",
      "88\n",
      "[90, 100, 52, 60]\n",
      "[90, 100, 52, 60]\n"
     ]
    }
   ],
   "source": [
    "print(kor)\n",
    "print(score[0][0])\n",
    "print(score[1][0])\n",
    "\n",
    "print(math)\n",
    "print(score[2])"
   ]
  },
  {
   "cell_type": "code",
   "execution_count": 19,
   "id": "119dba4d",
   "metadata": {},
   "outputs": [
    {
     "name": "stdout",
     "output_type": "stream",
     "text": [
      "79\n"
     ]
    }
   ],
   "source": [
    "# 두번째 학생의 국어점수\n",
    "print(score[0][1])"
   ]
  },
  {
   "cell_type": "code",
   "execution_count": 24,
   "id": "5500eaec",
   "metadata": {},
   "outputs": [
    {
     "name": "stdout",
     "output_type": "stream",
     "text": [
      "True\n",
      "True\n"
     ]
    }
   ],
   "source": [
    "# == : 값비교\n",
    "# is : 메모리의 주소를 비교\n",
    "a = 300\n",
    "b = 300\n",
    "\n",
    "print(a == b)\n",
    "print(a is b)\n"
   ]
  },
  {
   "cell_type": "code",
   "execution_count": 2,
   "id": "dda50a45",
   "metadata": {},
   "outputs": [
    {
     "name": "stdout",
     "output_type": "stream",
     "text": [
      "True\n",
      "True\n"
     ]
    }
   ],
   "source": [
    "# 파이썬 : -5부터 256까지 이미 메모리에 활당되어 있다.\n",
    "a = 255\n",
    "b = 255\n",
    "\n",
    "print(a == b)\n",
    "print(a is b)"
   ]
  },
  {
   "cell_type": "code",
   "execution_count": 12,
   "id": "a3167363",
   "metadata": {},
   "outputs": [
    {
     "name": "stdout",
     "output_type": "stream",
     "text": [
      "[44, 11, 22, 66, 33, 88]\n",
      "[11, 22, 33, 44, 66, 88]\n"
     ]
    }
   ],
   "source": [
    "# sort() ---------------\n",
    "b = [44, 11, 22, 66, 33, 88]\n",
    "print(b)\n",
    "\n",
    "b.sort()\n",
    "print(b)"
   ]
  },
  {
   "cell_type": "code",
   "execution_count": 15,
   "id": "32f3029a",
   "metadata": {},
   "outputs": [
    {
     "name": "stdout",
     "output_type": "stream",
     "text": [
      "[88, 66, 44, 33, 22, 11]\n"
     ]
    }
   ],
   "source": [
    "b = [44, 11, 22, 66, 33, 88]\n",
    "b.sort(reverse = True) # 내림차순\n",
    "print(b)"
   ]
  },
  {
   "cell_type": "code",
   "execution_count": 17,
   "id": "0c31d95a",
   "metadata": {},
   "outputs": [
    {
     "name": "stdout",
     "output_type": "stream",
     "text": [
      "False\n",
      "True\n"
     ]
    }
   ],
   "source": [
    "# in, not in ------------------------\n",
    "b = [44, 11, 22, 66, 33, 88]\n",
    "print(7 in b)\n",
    "print(7 not in b)"
   ]
  },
  {
   "cell_type": "markdown",
   "id": "b916ca46",
   "metadata": {},
   "source": [
    "## 튜플(Tuple)\n",
    "- 리스터와 유사하지만 값을 변경할 수 없다. 즉, 읽기 전용 자료를 저장할 때 사용\n",
    "- 각 값에 대한 인덱스가 부여된다\n",
    "- 변경 불가능\n",
    "- 소괄호 ( ) 를 사용하여 데이터를 표현한다."
   ]
  },
  {
   "cell_type": "markdown",
   "id": "f8215ceb",
   "metadata": {},
   "source": []
  },
  {
   "cell_type": "markdown",
   "id": "2de9b20d",
   "metadata": {},
   "source": [
    "## 사전(Dictionary)\n",
    "- 키(Key),  값(value)를 쌍{Key : value}으로 담아서 관리하는 자료구조\n",
    "- 저장된 데이터를 키(Key)에 의해 조회된다.\n",
    "- 키(Key는 중복을 허용하지 않는다)\n",
    "- 중괄호 { } 를 사용하여 데이터를 표현한다."
   ]
  },
  {
   "cell_type": "markdown",
   "id": "cc2402bc",
   "metadata": {},
   "source": [
    "## 집합(Set)\n",
    "- 인덱스가 없고 값만 저장되는 자료구조\n",
    "- 순서는 의미가 없다\n",
    "- 중괄호 { } 를 사용\n",
    "- 컴마 (,)를 기준으로 데이터를 분리한다\n",
    "- 중복을 허용하지 않다."
   ]
  },
  {
   "cell_type": "markdown",
   "id": "31518d62",
   "metadata": {},
   "source": [
    "# 제어문\n",
    "1. 정의 : 프로그램의 흐름이나 순서를 제어할 때 사용하는 문장\n",
    "         일반적으로 프로그램을ㄴ 위에서 아래로, 좌에서 우로 인행\n",
    "\n",
    "2. 조건문 or 비교/판단문 or 선택문\n",
    "  - 주어진 조건에 따라 프로그램의 실행을 선택 또는 변경\n",
    "  - 조근식은 반드시 그결과가 참 또는 거짓으로 판정이 되는 식\n",
    "  - if문 \n",
    "\n",
    "3. 반복문\n",
    "  - 동일하거나 유사한 성격을 가진 문장을 반복할 때 사용하는 문장\n",
    "  - 주어진 조건이 참일 때 문장을 반복\n",
    "  - 유사한 성격이란 동일한 행위를 하되 일정한 규칙을 가지고 있는 문장\n",
    "  - for, while\n",
    "\n",
    "4. 기타 제어문\n",
    "  - break : 무조건 반복을 벗어나라는 의미\n",
    "  - continue : 만나면 뛰어 넘어"
   ]
  },
  {
   "cell_type": "markdown",
   "id": "2184ced4",
   "metadata": {},
   "source": [
    "## 조건문 - if문"
   ]
  },
  {
   "cell_type": "code",
   "execution_count": 19,
   "id": "6503620a",
   "metadata": {},
   "outputs": [
    {
     "name": "stdout",
     "output_type": "stream",
     "text": [
      "hi\n",
      "a =  0\n",
      "바보\n"
     ]
    }
   ],
   "source": [
    "# 파이썬은 들여쓰기를 중신한다\n",
    "print(\"hi\")\n",
    "a = 0\n",
    "if (a == 0) :\n",
    "    print(\"a = \", a)\n",
    "    print(\"바보\")"
   ]
  },
  {
   "cell_type": "code",
   "execution_count": 31,
   "id": "5a2b128d",
   "metadata": {},
   "outputs": [
    {
     "name": "stdout",
     "output_type": "stream",
     "text": [
      "숫자 : 2\n",
      "숫자 : 2는 짝수입니다.\n"
     ]
    }
   ],
   "source": [
    "# 입력 받은 숫자가 짝수인지 확인함\n",
    "\n",
    "number = int(input(\"숫자 : \"))\n",
    "if (number % 2 == 0) :\n",
    "    print(\"숫자 : %d는 짝수입니다.\" %number)\n",
    "else :\n",
    "    print(\"숫자 : %d는 홀수입니다.\" %number)\n",
    "    "
   ]
  },
  {
   "cell_type": "code",
   "execution_count": 10,
   "id": "1d98c276",
   "metadata": {},
   "outputs": [
    {
     "name": "stdout",
     "output_type": "stream",
     "text": [
      "숫자 : 0\n",
      "0입니다\n"
     ]
    }
   ],
   "source": [
    "# Q. 하나의 숫자를 입력 받아서 양수인지 음수인지 판정\n",
    "# - \n",
    "\n",
    "number = int(input(\"숫자 : \"))\n",
    "\n",
    "if (number > 0) :\n",
    "    print(\"%d는 양수입니다\" %number)\n",
    "    \n",
    "elif (number == 0) :\n",
    "    print(\"%d입니다\" %number)\n",
    "    \n",
    "else :\n",
    "    print(\"%d는 음수입니다\" %number)\n"
   ]
  },
  {
   "cell_type": "markdown",
   "id": "df3351b7",
   "metadata": {},
   "source": [
    "### 문제 : 성적처리 프로그램 1단계\n",
    "국어, 영어, 수학점수를 입력받아 초엊ㅁ과 평균을 계산하여 출려하는 프로그램을 작성하시오. 단 평균은 소숫점 이하 둘째자라까지 출력되도록 구현\n",
    "\n",
    "<출력형식> xx점, 평균 : xx.xx점"
   ]
  },
  {
   "cell_type": "code",
   "execution_count": 22,
   "id": "a8f102ef",
   "metadata": {},
   "outputs": [
    {
     "name": "stdout",
     "output_type": "stream",
     "text": [
      "국어 : 88\n",
      "영어 : 78\n",
      "수학 : 93\n",
      "--------------\n",
      "총점 : 259점\n",
      "평균 : 86.33점\n"
     ]
    }
   ],
   "source": [
    "kor = int(input(\"국어 : \"))\n",
    "eng = int(input(\"영어 : \"))\n",
    "math = int(input(\"수학 : \"))\n",
    "\n",
    "tot = kor + eng + math\n",
    "avg = tot / 3\n",
    "\n",
    "print(\"--------------\\n총점 : %d점\\n평균 : %.2f점\" %(tot, avg))\n",
    "\n",
    "# print(\"총점 : {0}점, 평균 : {1:.2f}점\".format(tot, avg))\n"
   ]
  },
  {
   "cell_type": "markdown",
   "id": "5b910172",
   "metadata": {},
   "source": [
    "### 선적 처리 프로그램\n",
    " - 학점을 부여하시오\n",
    " - 학점을 평균을 이용하여 A, B, C, D, F로 표현\n",
    " - 평균이 90점 이상이면 A\n",
    " -       80점 이상이면 B\n",
    " -       80점 이상이면 C\n",
    " -       80점 이상이면 D\n",
    " -       80점 이상이면 F"
   ]
  },
  {
   "cell_type": "code",
   "execution_count": 45,
   "id": "e9409fe8",
   "metadata": {},
   "outputs": [
    {
     "name": "stdout",
     "output_type": "stream",
     "text": [
      "국어 : 90\n",
      "영어 : 90\n",
      "수학 : 90\n",
      "--------------\n",
      "총점 : 270점\n",
      "평균 : 90.00점\n",
      "학점 : A 등급\n"
     ]
    }
   ],
   "source": [
    "kor = int(input(\"국어 : \"))\n",
    "eng = int(input(\"영어 : \"))\n",
    "math = int(input(\"수학 : \"))\n",
    "\n",
    "tot = kor + eng + math\n",
    "avg = tot / 3\n",
    "\n",
    "if (avg >= 90) : \n",
    "    grade = \"A 등급\"\n",
    "    \n",
    "elif (avg >= 80) :\n",
    "    grade = \"B 등급\"\n",
    "    \n",
    "elif (avg >= 70) :\n",
    "    grade = \"C 등급\"\n",
    "    \n",
    "elif (avg >= 60) :\n",
    "    grade = \"D 등급\"\n",
    "    \n",
    "else :\n",
    "    grade = \"F 등급\"\n",
    "\n",
    "print(\"--------------\\n총점 : %d점\\n평균 : %.2f점\\n학점 : %s\" %(tot, avg, grade))\n",
    "\n",
    "# print(\"총점 : {0}, 평군 : {1:.2f}점,학점 : {2}\".format(sum, avg, grade))"
   ]
  },
  {
   "cell_type": "markdown",
   "id": "14953c49",
   "metadata": {},
   "source": [
    "##  반복문\n",
    " - for문, while문"
   ]
  },
  {
   "cell_type": "code",
   "execution_count": 71,
   "id": "b3a06604",
   "metadata": {},
   "outputs": [
    {
     "name": "stdout",
     "output_type": "stream",
     "text": [
      "1\n",
      "2\n",
      "3\n",
      "4\n",
      "5\n",
      "\n",
      "1\n",
      "2\n",
      "3\n",
      "4\n",
      "5\n"
     ]
    }
   ],
   "source": [
    "# for 개별변수 in 집합변수 :\n",
    "a = [1, 2, 3, 4, 5]\n",
    "\n",
    "for i in range(0, len(a), 1) :\n",
    "    print(a[i])\n",
    "\n",
    "print()\n",
    "\n",
    "for i in a :\n",
    "    print(i)"
   ]
  },
  {
   "cell_type": "code",
   "execution_count": 65,
   "id": "759b10d3",
   "metadata": {},
   "outputs": [
    {
     "name": "stdout",
     "output_type": "stream",
     "text": [
      "hello\n",
      "hello\n",
      "hello\n",
      "hello\n",
      "hello\n"
     ]
    }
   ],
   "source": [
    "for i in a:\n",
    "    print(\"hello\")"
   ]
  },
  {
   "cell_type": "code",
   "execution_count": 73,
   "id": "19322aa0",
   "metadata": {},
   "outputs": [
    {
     "name": "stdout",
     "output_type": "stream",
     "text": [
      "1\n",
      "2\n",
      "3\n",
      "4\n",
      "5\n"
     ]
    }
   ],
   "source": [
    "# range(start, end-1, step) : 순차적\n",
    "for i in range(1, 5+1, 1) : # 1, 2, 3, 4, 5\n",
    "    print(i)"
   ]
  },
  {
   "cell_type": "code",
   "execution_count": 74,
   "id": "bbd92509",
   "metadata": {},
   "outputs": [
    {
     "name": "stdout",
     "output_type": "stream",
     "text": [
      "0\n",
      "1\n",
      "2\n",
      "3\n",
      "4\n",
      "5\n"
     ]
    }
   ],
   "source": [
    "for i in range(6) : # 시작값이 없어도 0부터 시작\n",
    "    print(i)"
   ]
  },
  {
   "cell_type": "code",
   "execution_count": 75,
   "id": "3cb4c291",
   "metadata": {},
   "outputs": [
    {
     "name": "stdout",
     "output_type": "stream",
     "text": [
      "k\n",
      "o\n",
      "r\n",
      "e\n",
      "d\n"
     ]
    }
   ],
   "source": [
    "for i in \"kored\" :\n",
    "    print(i)"
   ]
  },
  {
   "cell_type": "code",
   "execution_count": 78,
   "id": "f8099a2b",
   "metadata": {},
   "outputs": [
    {
     "name": "stdout",
     "output_type": "stream",
     "text": [
      "red\n",
      "blue\n",
      "black\n"
     ]
    }
   ],
   "source": [
    "for i in [\"red\", \"blue\", \"black\"] :\n",
    "    print(i)"
   ]
  },
  {
   "cell_type": "code",
   "execution_count": 81,
   "id": "b3b82a1b",
   "metadata": {},
   "outputs": [
    {
     "name": "stdout",
     "output_type": "stream",
     "text": [
      "1\n",
      "6\n"
     ]
    }
   ],
   "source": [
    "for i in range(1, 10, 2) : # 홀수만 출력\n",
    "    print(i)"
   ]
  },
  {
   "cell_type": "code",
   "execution_count": 84,
   "id": "0d59300b",
   "metadata": {
    "scrolled": true
   },
   "outputs": [
    {
     "name": "stdout",
     "output_type": "stream",
     "text": [
      "1\n",
      "3\n",
      "5\n",
      "7\n",
      "9\n"
     ]
    }
   ],
   "source": [
    "for i in range(1, 11) :\n",
    "    if (i % 2 != 0) : #if i % 2 == 1 과 똑같은 문장\n",
    "        print(i)"
   ]
  },
  {
   "cell_type": "code",
   "execution_count": 88,
   "id": "1789f9b6",
   "metadata": {},
   "outputs": [
    {
     "name": "stdout",
     "output_type": "stream",
     "text": [
      "10\n",
      "9\n",
      "8\n",
      "7\n",
      "6\n",
      "5\n",
      "4\n",
      "3\n",
      "2\n",
      "1\n"
     ]
    }
   ],
   "source": [
    "for i in range(10, 0, -1) :\n",
    "    print(i)"
   ]
  },
  {
   "cell_type": "markdown",
   "id": "b438e3af",
   "metadata": {},
   "source": [
    "#### 구구단 출력하는 프로그램\n",
    "하나의 수를 입력받아 해당 숫자의 구구단을 출력하는 프로그램"
   ]
  },
  {
   "cell_type": "code",
   "execution_count": 92,
   "id": "49d48a6e",
   "metadata": {},
   "outputs": [
    {
     "name": "stdout",
     "output_type": "stream",
     "text": [
      "단수 = 7\n",
      "7 x 1 = 7\n",
      "7 x 2 = 14\n",
      "7 x 3 = 21\n",
      "7 x 4 = 28\n",
      "7 x 5 = 35\n",
      "7 x 6 = 42\n",
      "7 x 7 = 49\n",
      "7 x 8 = 56\n",
      "7 x 9 = 63\n"
     ]
    }
   ],
   "source": [
    "dan = int(input(\"단수 = \"))\n",
    "for i in range(1,10) :\n",
    "    print(\"%d * %d = %d\" %(dan, i, dan*i))\n",
    "    #print(\"{} x {} = {}\".format(dan, i, dan*i))"
   ]
  },
  {
   "cell_type": "code",
   "execution_count": 96,
   "id": "eef757bd",
   "metadata": {},
   "outputs": [
    {
     "name": "stdout",
     "output_type": "stream",
     "text": [
      "==== 2단 ====\n",
      "2 x 1 = 2\n",
      "2 x 2 = 4\n",
      "2 x 3 = 6\n",
      "2 x 4 = 8\n",
      "2 x 5 = 10\n",
      "2 x 6 = 12\n",
      "2 x 7 = 14\n",
      "2 x 8 = 16\n",
      "2 x 9 = 18\n",
      "==== 3단 ====\n",
      "3 x 1 = 3\n",
      "3 x 2 = 6\n",
      "3 x 3 = 9\n",
      "3 x 4 = 12\n",
      "3 x 5 = 15\n",
      "3 x 6 = 18\n",
      "3 x 7 = 21\n",
      "3 x 8 = 24\n",
      "3 x 9 = 27\n",
      "==== 4단 ====\n",
      "4 x 1 = 4\n",
      "4 x 2 = 8\n",
      "4 x 3 = 12\n",
      "4 x 4 = 16\n",
      "4 x 5 = 20\n",
      "4 x 6 = 24\n",
      "4 x 7 = 28\n",
      "4 x 8 = 32\n",
      "4 x 9 = 36\n",
      "==== 5단 ====\n",
      "5 x 1 = 5\n",
      "5 x 2 = 10\n",
      "5 x 3 = 15\n",
      "5 x 4 = 20\n",
      "5 x 5 = 25\n",
      "5 x 6 = 30\n",
      "5 x 7 = 35\n",
      "5 x 8 = 40\n",
      "5 x 9 = 45\n",
      "==== 6단 ====\n",
      "6 x 1 = 6\n",
      "6 x 2 = 12\n",
      "6 x 3 = 18\n",
      "6 x 4 = 24\n",
      "6 x 5 = 30\n",
      "6 x 6 = 36\n",
      "6 x 7 = 42\n",
      "6 x 8 = 48\n",
      "6 x 9 = 54\n",
      "==== 7단 ====\n",
      "7 x 1 = 7\n",
      "7 x 2 = 14\n",
      "7 x 3 = 21\n",
      "7 x 4 = 28\n",
      "7 x 5 = 35\n",
      "7 x 6 = 42\n",
      "7 x 7 = 49\n",
      "7 x 8 = 56\n",
      "7 x 9 = 63\n",
      "==== 8단 ====\n",
      "8 x 1 = 8\n",
      "8 x 2 = 16\n",
      "8 x 3 = 24\n",
      "8 x 4 = 32\n",
      "8 x 5 = 40\n",
      "8 x 6 = 48\n",
      "8 x 7 = 56\n",
      "8 x 8 = 64\n",
      "8 x 9 = 72\n",
      "==== 9단 ====\n",
      "9 x 1 = 9\n",
      "9 x 2 = 18\n",
      "9 x 3 = 27\n",
      "9 x 4 = 36\n",
      "9 x 5 = 45\n",
      "9 x 6 = 54\n",
      "9 x 7 = 63\n",
      "9 x 8 = 72\n",
      "9 x 9 = 81\n"
     ]
    }
   ],
   "source": [
    "for dan in range(2, 10) :\n",
    "    print(\"==== {0}단 ====\".format(dan))\n",
    "    for su in range(1, 10) :\n",
    "        print(\"{} x {} = {}\".format(dan, su, dan*su))"
   ]
  },
  {
   "cell_type": "code",
   "execution_count": 102,
   "id": "11a579d7",
   "metadata": {},
   "outputs": [
    {
     "name": "stdout",
     "output_type": "stream",
     "text": [
      "2 * 1 = 2\n",
      "2 * 2 = 4\n",
      "2 * 3 = 6\n",
      "2 * 4 = 8\n",
      "2 * 5 = 10\n",
      "2 * 6 = 12\n",
      "2 * 7 = 14\n",
      "2 * 8 = 16\n",
      "2 * 9 = 18\n",
      "==========\n",
      "3 * 1 = 3\n",
      "3 * 2 = 6\n",
      "3 * 3 = 9\n",
      "3 * 4 = 12\n",
      "3 * 5 = 15\n",
      "3 * 6 = 18\n",
      "3 * 7 = 21\n",
      "3 * 8 = 24\n",
      "3 * 9 = 27\n",
      "==========\n",
      "4 * 1 = 4\n",
      "4 * 2 = 8\n",
      "4 * 3 = 12\n",
      "4 * 4 = 16\n",
      "4 * 5 = 20\n",
      "4 * 6 = 24\n",
      "4 * 7 = 28\n",
      "4 * 8 = 32\n",
      "4 * 9 = 36\n",
      "==========\n",
      "5 * 1 = 5\n",
      "5 * 2 = 10\n",
      "5 * 3 = 15\n",
      "5 * 4 = 20\n",
      "5 * 5 = 25\n",
      "5 * 6 = 30\n",
      "5 * 7 = 35\n",
      "5 * 8 = 40\n",
      "5 * 9 = 45\n",
      "==========\n",
      "6 * 1 = 6\n",
      "6 * 2 = 12\n",
      "6 * 3 = 18\n",
      "6 * 4 = 24\n",
      "6 * 5 = 30\n",
      "6 * 6 = 36\n",
      "6 * 7 = 42\n",
      "6 * 8 = 48\n",
      "6 * 9 = 54\n",
      "==========\n",
      "7 * 1 = 7\n",
      "7 * 2 = 14\n",
      "7 * 3 = 21\n",
      "7 * 4 = 28\n",
      "7 * 5 = 35\n",
      "7 * 6 = 42\n",
      "7 * 7 = 49\n",
      "7 * 8 = 56\n",
      "7 * 9 = 63\n",
      "==========\n",
      "8 * 1 = 8\n",
      "8 * 2 = 16\n",
      "8 * 3 = 24\n",
      "8 * 4 = 32\n",
      "8 * 5 = 40\n",
      "8 * 6 = 48\n",
      "8 * 7 = 56\n",
      "8 * 8 = 64\n",
      "8 * 9 = 72\n",
      "==========\n",
      "9 * 1 = 9\n",
      "9 * 2 = 18\n",
      "9 * 3 = 27\n",
      "9 * 4 = 36\n",
      "9 * 5 = 45\n",
      "9 * 6 = 54\n",
      "9 * 7 = 63\n",
      "9 * 8 = 72\n",
      "9 * 9 = 81\n",
      "==========\n"
     ]
    }
   ],
   "source": [
    "for i in range(2, 10) :\n",
    "    for j in range(1, 10) :\n",
    "        print(\"%d * %d = %d\" %(i, j, i*j))\n",
    "    print(\"==========\")"
   ]
  },
  {
   "cell_type": "code",
   "execution_count": 110,
   "id": "d316209f",
   "metadata": {},
   "outputs": [
    {
     "name": "stdout",
     "output_type": "stream",
     "text": [
      "나는 1\n",
      "나는 1 = A\n",
      "나는 1 = B\n",
      "나는 1 = C\n",
      "1 끝났다\n",
      "\n",
      "나는 2\n",
      "나는 2 = A\n",
      "나는 2 = B\n",
      "나는 2 = C\n",
      "2 끝났다\n",
      "\n",
      "나는 3\n",
      "나는 3 = A\n",
      "나는 3 = B\n",
      "나는 3 = C\n",
      "3 끝났다\n",
      "\n"
     ]
    }
   ],
   "source": [
    "for i in [1, 2, 3] :\n",
    "    print(\"나는 %d\" %i)\n",
    "    for j in [\"A\", \"B\", \"C\"] :\n",
    "        print('나는 %d = %s' %(i,j))\n",
    "    print(\"%d 끝났다\\n\" %i)"
   ]
  },
  {
   "cell_type": "code",
   "execution_count": 122,
   "id": "84003558",
   "metadata": {},
   "outputs": [
    {
     "name": "stdout",
     "output_type": "stream",
     "text": [
      "   1   2   3   4   5   6   7   8   9  10\n",
      "  11  12  13  14  15  16  17  18  19  20\n",
      "  21  22  23  24  25  26  27  28  29  30\n",
      "  31  32  33  34  35  36  37  38  39  40\n",
      "  41  42  43  44  45  46  47  48  49  50\n",
      "  51  52  53  54  55  56  57  58  59  60\n",
      "  61  62  63  64  65  66  67  68  69  70\n",
      "  71  72  73  74  75  76  77  78  79  80\n",
      "  81  82  83  84  85  86  87  88  89  90\n",
      "  91  92  93  94  95  96  97  98  99 100\n"
     ]
    }
   ],
   "source": [
    "for i in range(1, 101) :\n",
    "    print(\"%4d\" %i, end = \"\")\n",
    "    if i % 10 == 0 :\n",
    "        print()"
   ]
  },
  {
   "cell_type": "code",
   "execution_count": 120,
   "id": "2c6dfe54",
   "metadata": {},
   "outputs": [
    {
     "name": "stdout",
     "output_type": "stream",
     "text": [
      "   1   2   3   4   5   6   7   8   9  10"
     ]
    }
   ],
   "source": [
    "i = 1\n",
    "while i < 11 :\n",
    "    print(\"%4d\" %i, end = \"\")\n",
    "    i = i + 1"
   ]
  },
  {
   "cell_type": "code",
   "execution_count": 121,
   "id": "2fc1964a",
   "metadata": {},
   "outputs": [
    {
     "name": "stdout",
     "output_type": "stream",
     "text": [
      "   1   2   3   4   5   6   7   8   9  10"
     ]
    }
   ],
   "source": [
    "i = 1\n",
    "while True :\n",
    "    print(\"%4d\" %i, end = \"\")\n",
    "    i = i + 1\n",
    "    if i > 10 : break"
   ]
  },
  {
   "cell_type": "markdown",
   "id": "047991f6",
   "metadata": {},
   "source": [
    "### 숫자를 다섯개 입력바아 그합을 께산한 후 출력하는 프로그램"
   ]
  },
  {
   "cell_type": "code",
   "execution_count": 128,
   "id": "285e0dab",
   "metadata": {},
   "outputs": [
    {
     "name": "stdout",
     "output_type": "stream",
     "text": [
      "숫자 : 5\n",
      "숫자 : 4\n",
      "숫자 : 1\n",
      "숫자 : 3\n",
      "숫자 : 2\n",
      "tot =  15\n"
     ]
    }
   ],
   "source": [
    "tot = 0\n",
    "for i in range(5) :\n",
    "    num = int(input(\"숫자 : \"))\n",
    "    tot = tot + num\n",
    "    \n",
    "print(\"tot = \", tot)"
   ]
  },
  {
   "cell_type": "markdown",
   "id": "1a98c3bc",
   "metadata": {},
   "source": [
    "### 숫자를 입력받아 누적합을 계산하는 프로그램을 작성하되, 입력 받은 숫자가 0이면 입력을 중지하고 누적합의 결과를 출력하는 프로그램"
   ]
  },
  {
   "cell_type": "code",
   "execution_count": 131,
   "id": "c690353c",
   "metadata": {},
   "outputs": [
    {
     "name": "stdout",
     "output_type": "stream",
     "text": [
      "숫자 : 2\n",
      "숫자 : 5\n",
      "숫자 : 4\n",
      "숫자 : 0\n",
      "tot = 11\n"
     ]
    }
   ],
   "source": [
    "tot = 0\n",
    "while True :\n",
    "    num = int(input(\"숫자 : \"))\n",
    "    if num == 0 :\n",
    "        break\n",
    "    tot = tot + num\n",
    "    \n",
    "print(\"tot =\", tot)"
   ]
  },
  {
   "cell_type": "code",
   "execution_count": 136,
   "id": "0abdd1f4",
   "metadata": {},
   "outputs": [
    {
     "name": "stdout",
     "output_type": "stream",
     "text": [
      "숫자 : 1\n",
      "숫자 : 2\n",
      "숫자 : 3\n",
      "숫자 : 4\n",
      "숫자 : 0\n",
      "tot = 10\n"
     ]
    }
   ],
   "source": [
    "tot = 0\n",
    "\n",
    "num = int(input(\"숫자 : \"))\n",
    "while num != 0 :\n",
    "    tot = tot + num\n",
    "    num = int(input(\"숫자 : \"))\n",
    "    \n",
    "print(\"tot =\", tot)"
   ]
  },
  {
   "cell_type": "code",
   "execution_count": null,
   "id": "a7643a89",
   "metadata": {},
   "outputs": [],
   "source": [
    "for i in range(10) :\n",
    "    if i == 5 : continue\n",
    "    print(i)"
   ]
  },
  {
   "cell_type": "code",
   "execution_count": 140,
   "id": "21b359f2",
   "metadata": {},
   "outputs": [
    {
     "name": "stdout",
     "output_type": "stream",
     "text": [
      "0\n",
      "1\n",
      "2\n",
      "3\n",
      "4\n",
      "5\n",
      "6\n",
      "7\n",
      "8\n",
      "9\n",
      "End of Program\n"
     ]
    }
   ],
   "source": [
    "# 반복문의 else의 의미 : 어떤 조건이 완전히 끝났을 때 한번더 실행에 주는 역할\n",
    "for i in range(10) :\n",
    "    print(i)\n",
    "else :\n",
    "    print(\"End of Program\")"
   ]
  },
  {
   "cell_type": "code",
   "execution_count": 145,
   "id": "4741ab75",
   "metadata": {},
   "outputs": [
    {
     "name": "stdout",
     "output_type": "stream",
     "text": [
      "단 =1\n",
      "짝수단만 출력하고 싶어요~\n"
     ]
    }
   ],
   "source": [
    "dan = int(input(\"단 =\"))\n",
    "i = 1\n",
    "while dan % 2 == 0 :\n",
    "    print(\"{} x {} = {}\".format(dan, i, dan*i))\n",
    "    i += 1\n",
    "    if i > 9 : break\n",
    "else :\n",
    "    print(\"짝수단만 출력하고 싶어요~\")"
   ]
  },
  {
   "cell_type": "code",
   "execution_count": 143,
   "id": "40ae4aa6",
   "metadata": {},
   "outputs": [
    {
     "name": "stdout",
     "output_type": "stream",
     "text": [
      "number : 1\n",
      "number : 2\n",
      "[]\n"
     ]
    }
   ],
   "source": [
    "a = []\n",
    "b = []\n",
    "num = int(input(\"number : \"))\n",
    "while number % 2 == 1 :\n",
    "    a = num\n",
    "    num = int(input(\"number : \"))\n",
    "else :\n",
    "    b = num\n",
    "    num = int(input(\"number : \"))"
   ]
  },
  {
   "cell_type": "markdown",
   "id": "9567ca2c",
   "metadata": {},
   "source": [
    "4### "
   ]
  },
  {
   "cell_type": "code",
   "execution_count": null,
   "id": "2de3e3f3",
   "metadata": {},
   "outputs": [],
   "source": []
  },
  {
   "cell_type": "code",
   "execution_count": null,
   "id": "c7b0c3d4",
   "metadata": {},
   "outputs": [],
   "source": []
  },
  {
   "cell_type": "code",
   "execution_count": null,
   "id": "9cb9ae75",
   "metadata": {},
   "outputs": [],
   "source": []
  },
  {
   "cell_type": "code",
   "execution_count": null,
   "id": "273faabb",
   "metadata": {},
   "outputs": [],
   "source": []
  }
 ],
 "metadata": {
  "kernelspec": {
   "display_name": "Python 3 (ipykernel)",
   "language": "python",
   "name": "python3"
  },
  "language_info": {
   "codemirror_mode": {
    "name": "ipython",
    "version": 3
   },
   "file_extension": ".py",
   "mimetype": "text/x-python",
   "name": "python",
   "nbconvert_exporter": "python",
   "pygments_lexer": "ipython3",
   "version": "3.9.12"
  },
  "toc": {
   "base_numbering": 1,
   "nav_menu": {},
   "number_sections": true,
   "sideBar": true,
   "skip_h1_title": false,
   "title_cell": "Table of Contents",
   "title_sidebar": "Contents",
   "toc_cell": false,
   "toc_position": {},
   "toc_section_display": true,
   "toc_window_display": false
  }
 },
 "nbformat": 4,
 "nbformat_minor": 5
}
