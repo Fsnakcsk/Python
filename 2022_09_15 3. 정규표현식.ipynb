{
 "cells": [
  {
   "cell_type": "code",
   "execution_count": 20,
   "id": "5584b762",
   "metadata": {},
   "outputs": [
    {
     "name": "stdout",
     "output_type": "stream",
     "text": [
      "[]\n",
      "[]\n",
      "['i', 'i']\n",
      "['y', 'i', 'd', 'n', 'u', 'm', 'b', 'e', 'r', 'i', 's']\n",
      "['y', 'id', 'number', 'is']\n",
      "['M', 'L', 'E', 'E']\n",
      "['M', 'LEE']\n"
     ]
    }
   ],
   "source": [
    "# 정규 표현식(Regular Experssion) \n",
    "import re\n",
    "\n",
    "string = \"My id number is LEE1230\"\n",
    "\n",
    "# findall(\"패턴\", \"문자열\")\n",
    "\n",
    "a = re.findall(\"a\", string)\n",
    "print(a)\n",
    "\n",
    "b = re.findall(\"lee\", string)\n",
    "print(b)\n",
    "\n",
    "c = re.findall(\"i\", string)\n",
    "print(c)\n",
    "\n",
    "# ----------------------------------------\n",
    "# 패턴 담기\n",
    "\n",
    "#소문자를 찾아서 리스트로 리턴 ****\n",
    "d = re.findall(\"[a-z]\", string)\n",
    "print(d)\n",
    "\n",
    "# 소문자를 단어 단위로 찾아서 리스트로 리턴\n",
    "e = re.findall(\"[a-z]+\", string) # [a-z]+ 플러서 붙어 있으면 단어 단위로\n",
    "print(e)\n",
    "\n",
    "# 대문자를 찾아서 리스트로 리턴\n",
    "f = re.findall(\"[A-Z]\", string) # [a-z]+ 플러서 붙어 있으면 단어 단위로\n",
    "print(f)\n",
    "\n",
    "g = re.findall(\"[A-Z]+\", string) # [a-z]+ 대문자 단어별로 \n",
    "print(g)\n"
   ]
  },
  {
   "cell_type": "markdown",
   "id": "111a7359",
   "metadata": {},
   "source": [
    "### 주민등록번호 뒷자리를 ' * ' 문자로 변경"
   ]
  },
  {
   "cell_type": "code",
   "execution_count": 23,
   "id": "f78e1d31",
   "metadata": {},
   "outputs": [],
   "source": [
    "data = \"\"\"\n",
    "park 800905-1049118\n",
    "kim  700405-1059119\n",
    "lee  900725-2012345\n",
    "\"\"\""
   ]
  },
  {
   "cell_type": "code",
   "execution_count": 24,
   "id": "93171cd8",
   "metadata": {},
   "outputs": [],
   "source": [
    "# 전체 텍스트를 공백 문자로 나눈다. => split\n",
    "# 나눈 단아가 주민등록번호 형식인지 조사한다.\n",
    "# 주민등록번호 형식에 맞다면 뒷자리를 *를 변환한다.\n",
    "# 나눈 단어를 합치기\n"
   ]
  },
  {
   "cell_type": "code",
   "execution_count": 76,
   "id": "9cfee4f4",
   "metadata": {},
   "outputs": [
    {
     "name": "stdout",
     "output_type": "stream",
     "text": [
      "\n",
      "800905_*******\n",
      "700405_*******\n",
      "900725_*******\n",
      "\n"
     ]
    }
   ],
   "source": [
    "result = []\n",
    "\n",
    "for line in data.split(\"\\n\") :\n",
    "    word_result = []\n",
    "    for word in line.split(\" \") :\n",
    "        if len(word) == 14 and word[:6].isdigit() and word[7:].isdigit() :#.isdigit() 숫자입니까? 판펼\n",
    "            word = word[:6] + \"_\" + \"*******\"\n",
    "            word_result.append(word)\n",
    "    result.append(\" \".join(word_result))\n",
    "print(\"\\n\".join(result))\n",
    "    "
   ]
  },
  {
   "cell_type": "code",
   "execution_count": 74,
   "id": "06a5a3dd",
   "metadata": {},
   "outputs": [
    {
     "name": "stdout",
     "output_type": "stream",
     "text": [
      "\n",
      "park 800905-*******\n",
      "kim  700405-*******\n",
      "lee  900725-*******\n",
      "\n"
     ]
    }
   ],
   "source": [
    "import re\n",
    "\n",
    "data = \"\"\"\n",
    "park 800905-1049118\n",
    "kim  700405-1059119\n",
    "lee  900725-2012345\n",
    "\"\"\"\n",
    "\n",
    "pattern = re.compile(\"(\\d{6})[-](\\d{7})\")\n",
    "print(pattern.sub(\"\\g<1>-*******\",data)) #"
   ]
  },
  {
   "cell_type": "code",
   "execution_count": 93,
   "id": "b7f7122a",
   "metadata": {},
   "outputs": [
    {
     "data": {
      "text/plain": [
       "<re.Match object; span=(0, 5), match='Hello'>"
      ]
     },
     "execution_count": 93,
     "metadata": {},
     "output_type": "execute_result"
    }
   ],
   "source": [
    "# match(\"패턴\", \"문자열\")\n",
    "re.match(\"Hello\", \"Hello, World!!\")"
   ]
  },
  {
   "cell_type": "code",
   "execution_count": 94,
   "id": "76652f6b",
   "metadata": {},
   "outputs": [],
   "source": [
    "re.match(\"Python\", \"Hello, World!!\")"
   ]
  },
  {
   "cell_type": "code",
   "execution_count": 97,
   "id": "c9b48d5d",
   "metadata": {},
   "outputs": [],
   "source": [
    "# re.search(\"패턴\", \"문자열\")\n"
   ]
  },
  {
   "cell_type": "code",
   "execution_count": 102,
   "id": "77945c5e",
   "metadata": {},
   "outputs": [
    {
     "name": "stdout",
     "output_type": "stream",
     "text": [
      "['M', 'y', 'i', 'd', 'i', 's', 'H', 'o', 'n', 'g', 'G', 'i', 'l', 'l', 'D', 'o', 'n', 'g', '0', '5', '0', '2']\n",
      "['My', 'id', 'is', 'HongGillDong', '0502']\n",
      "[' ', ' ', ' ', '_', '$%']\n"
     ]
    }
   ],
   "source": [
    "string = \"My id is HongGillDong_0502$%\"\n",
    "\n",
    "# 영문자와 숫자만 추출\n",
    "a = re.findall(\"[A-Za-z0-9]\", string)\n",
    "print(a)\n",
    "\n",
    "# 영문자와 숫자만 추출하되 단어 단위로\n",
    "b = re.findall(\"[A-Za-z0-9]+\", string)\n",
    "print(b)\n",
    "\n",
    "# 영문자와 숫자를 제외한 글자를 추출\n",
    "c = re.findall(\"[^A-Za-z0-9]+\", string)\n",
    "print(c)"
   ]
  },
  {
   "cell_type": "code",
   "execution_count": 104,
   "id": "828dab8e",
   "metadata": {},
   "outputs": [
    {
     "name": "stdout",
     "output_type": "stream",
     "text": [
      "['My', 'id', 'is', 'HongGillDong_0502']\n"
     ]
    }
   ],
   "source": [
    "# \\w : 영문자, 숫자, 언드바를 찾아줌\n",
    "d = re.findall(\"[\\w]+\", string)\n",
    "print(d)"
   ]
  },
  {
   "cell_type": "code",
   "execution_count": 106,
   "id": "45ba5ef7",
   "metadata": {},
   "outputs": [
    {
     "name": "stdout",
     "output_type": "stream",
     "text": [
      "[' ', ' ', ' ', '$%']\n"
     ]
    }
   ],
   "source": [
    "# \\W : 소문자 \\w제외한 나머지 출력\n",
    "e = re.findall(\"[\\W]+\", string)\n",
    "print(e)\n"
   ]
  },
  {
   "cell_type": "code",
   "execution_count": 108,
   "id": "cf583747",
   "metadata": {},
   "outputs": [],
   "source": [
    "def pwd_check(pwd) :\n",
    "    # 문자의 길이 체크\n",
    "    if len(pwd) < 6 or len(pwd) > 12 :\n",
    "        print(pwd, \"의 길이가 적당하지 않습니다\")\n",
    "        return False\n",
    "    \n",
    "    # 숫자와 영문자로만 구성되어야 한다\n",
    "    if re.findall(\"[a-zA-Z0-9]+\", pwd)[0] != pwd :\n",
    "        print(pwd, \"숫자와 영문자로만 구성되어야 합니다.\")\n",
    "        return False\n",
    "    \n",
    "    # 영문자는 대소문자가 포함되어야 함\n",
    "    if len(re.findall(\"[a-z]\", pwd)) == 0 or len(re.findall(\"[A-Z]\", pwd)) == 0 :\n",
    "        print(pwd, \"영문자는 대소문자로 구성되어야 합니다.\")\n",
    "        return False\n",
    "    \n",
    "    print(pwd,\" : 사용가능한 비밀번호입니다.\")\n",
    "    return True"
   ]
  },
  {
   "cell_type": "code",
   "execution_count": 109,
   "id": "7bddc687",
   "metadata": {},
   "outputs": [
    {
     "name": "stdout",
     "output_type": "stream",
     "text": [
      "12abc 의 길이가 적당하지 않습니다\n",
      "123abc 영문자는 대소문자로 구성되어야 합니다.\n",
      "123abc% 숫자와 영문자로만 구성되어야 합니다.\n",
      "123Abc  : 사용가능한 비밀번호입니다.\n"
     ]
    },
    {
     "data": {
      "text/plain": [
       "True"
      ]
     },
     "execution_count": 109,
     "metadata": {},
     "output_type": "execute_result"
    }
   ],
   "source": [
    "# 유효성검사를 수행하는 함수를 구현\n",
    "# 비밀번호를 체크 작업\n",
    "# 글자수가 6 ~ 12 사이로 한다\n",
    "# 숫자와 영문자로만 구성되어야 한다\n",
    "# 영문자는 대소문자가 포함되어 있어야 함\n",
    " \n",
    "pwd_check('12abc')  # False, 길이 오류\n",
    "pwd_check('123abc') # False, 대문자 부재\n",
    "pwd_check('123abc%')# False, 특수문자 포함\n",
    "pwd_check('123Abc') # True , 출력\n",
    "\n"
   ]
  },
  {
   "cell_type": "code",
   "execution_count": 110,
   "id": "0e9f752c",
   "metadata": {},
   "outputs": [
    {
     "data": {
      "text/plain": [
       "['12abc']"
      ]
     },
     "execution_count": 110,
     "metadata": {},
     "output_type": "execute_result"
    }
   ],
   "source": [
    "re.findall(\"[a-zA-Z0-9]+\", \"12abc\")"
   ]
  },
  {
   "cell_type": "markdown",
   "id": "f464142f",
   "metadata": {},
   "source": [
    "### Question 이메일 형식체크\n",
    "- id@회사명.종류\n",
    "- id, 회사명, 종류는 두글자 이상이어야한다.\n",
    "- 이메일 형식에 맞는지 체크 email_check()"
   ]
  },
  {
   "cell_type": "code",
   "execution_count": 136,
   "id": "c6e0ec59",
   "metadata": {},
   "outputs": [],
   "source": [
    "def email_check(email) :\n",
    "    # ^[] : 시작, \n",
    "    # [^] : not\n",
    "    #  $  : 끝\n",
    "    # {2,} : 2굴자 이상\n",
    "    \n",
    "    pat = re.findall(\"^[a-z0-9]{2}@[a-z0-9]{2,}\\.[a-z]{2,}$\", email)\n",
    "    \n",
    "    if len(pat) == 0 :\n",
    "        print(email, \": 이메일 형식이 올바르지 않습니다\")\n",
    "        return \n",
    "    \n",
    "    print(email,\" : 사용가능한 이메일입니다\")\n",
    "    return"
   ]
  },
  {
   "cell_type": "code",
   "execution_count": 138,
   "id": "8facf182",
   "metadata": {},
   "outputs": [
    {
     "name": "stdout",
     "output_type": "stream",
     "text": [
      "lee@gmail : 이메일 형식이 올바르지 않습니다\n",
      "lee_gmail@gmail.com : 이메일 형식이 올바르지 않습니다\n",
      "lee : 이메일 형식이 올바르지 않습니다\n",
      "lee@gmail.com : 이메일 형식이 올바르지 않습니다\n"
     ]
    }
   ],
   "source": [
    "email_check(\"lee@gmail\")\n",
    "email_check(\"lee_gmail@gmail.com\")\n",
    "email_check(\"lee\")\n",
    "email_check(\"lee@gmail.com\")"
   ]
  },
  {
   "cell_type": "code",
   "execution_count": null,
   "id": "d9c37464",
   "metadata": {},
   "outputs": [],
   "source": []
  }
 ],
 "metadata": {
  "kernelspec": {
   "display_name": "Python 3 (ipykernel)",
   "language": "python",
   "name": "python3"
  },
  "language_info": {
   "codemirror_mode": {
    "name": "ipython",
    "version": 3
   },
   "file_extension": ".py",
   "mimetype": "text/x-python",
   "name": "python",
   "nbconvert_exporter": "python",
   "pygments_lexer": "ipython3",
   "version": "3.9.12"
  },
  "toc": {
   "base_numbering": 1,
   "nav_menu": {},
   "number_sections": true,
   "sideBar": true,
   "skip_h1_title": false,
   "title_cell": "Table of Contents",
   "title_sidebar": "Contents",
   "toc_cell": false,
   "toc_position": {},
   "toc_section_display": true,
   "toc_window_display": false
  }
 },
 "nbformat": 4,
 "nbformat_minor": 5
}
