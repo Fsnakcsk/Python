{
 "cells": [
  {
   "cell_type": "code",
   "execution_count": null,
   "id": "71726536",
   "metadata": {},
   "outputs": [],
   "source": [
    "print(\"hello python\") # 내장함수"
   ]
  },
  {
   "cell_type": "code",
   "execution_count": 1,
   "id": "415e0d4b",
   "metadata": {},
   "outputs": [
    {
     "name": "stdout",
     "output_type": "stream",
     "text": [
      "30\n"
     ]
    }
   ],
   "source": [
    "a = 10\n",
    "b = 20\n",
    "print(a + b)"
   ]
  },
  {
   "cell_type": "code",
   "execution_count": 2,
   "id": "a0a78cf3",
   "metadata": {},
   "outputs": [
    {
     "name": "stdout",
     "output_type": "stream",
     "text": [
      "su = 1\n",
      "su = 2\n",
      "3\n"
     ]
    }
   ],
   "source": [
    "a = int(input(\"su = \"))\n",
    "b = int(input(\"su = \"))\n",
    "print(a + b)"
   ]
  },
  {
   "cell_type": "code",
   "execution_count": 4,
   "id": "c3455f20",
   "metadata": {},
   "outputs": [],
   "source": [
    "def adder(x, y) :\n",
    "    return x + y"
   ]
  },
  {
   "cell_type": "code",
   "execution_count": 5,
   "id": "30772342",
   "metadata": {},
   "outputs": [
    {
     "data": {
      "text/plain": [
       "30"
      ]
     },
     "execution_count": 5,
     "metadata": {},
     "output_type": "execute_result"
    }
   ],
   "source": [
    "# 호출 : Call By name\n",
    "# 호츨 : Call by value\n",
    "adder(10, 20)"
   ]
  },
  {
   "cell_type": "code",
   "execution_count": 6,
   "id": "82693fa7",
   "metadata": {},
   "outputs": [],
   "source": [
    "def process(x, y, z) :\n",
    "    pass\n"
   ]
  },
  {
   "cell_type": "code",
   "execution_count": 7,
   "id": "6431c49b",
   "metadata": {},
   "outputs": [],
   "source": [
    "def test() :\n",
    "    return 1, 2, 3, 4, 5  #파이썬 내부는 (1, 2, 3, 4, 5)\n",
    "\n",
    "test()"
   ]
  },
  {
   "cell_type": "code",
   "execution_count": 11,
   "id": "a5655a8c",
   "metadata": {},
   "outputs": [
    {
     "data": {
      "text/plain": [
       "5050"
      ]
     },
     "execution_count": 11,
     "metadata": {},
     "output_type": "execute_result"
    }
   ],
   "source": [
    "def getSum(n) :\n",
    "    return round(n*(n+1) / 2)\n",
    "\n",
    "getSum(100)"
   ]
  },
  {
   "cell_type": "markdown",
   "id": "340f38ac",
   "metadata": {},
   "source": [
    "## 내장함수"
   ]
  },
  {
   "cell_type": "code",
   "execution_count": 12,
   "id": "bd4e49bc",
   "metadata": {},
   "outputs": [
    {
     "name": "stdout",
     "output_type": "stream",
     "text": [
      "3\n",
      "3\n"
     ]
    }
   ],
   "source": [
    "# 절대값\n",
    "print(abs(-3))\n",
    "print(abs(3))"
   ]
  },
  {
   "cell_type": "code",
   "execution_count": 13,
   "id": "83408d0a",
   "metadata": {},
   "outputs": [
    {
     "name": "stdout",
     "output_type": "stream",
     "text": [
      "True\n",
      "False\n"
     ]
    }
   ],
   "source": [
    "# all() : 모든 값이 True인지 검사하는 함수(0하나만 있어도 False)\n",
    "# 0과 1\n",
    "\n",
    "print(all([1, 2, 3]))\n",
    "print(all([1, 2, 3, 0]))"
   ]
  },
  {
   "cell_type": "code",
   "execution_count": 14,
   "id": "4360626b",
   "metadata": {},
   "outputs": [
    {
     "name": "stdout",
     "output_type": "stream",
     "text": [
      "True\n",
      "True\n",
      "False\n"
     ]
    }
   ],
   "source": [
    "# any() - 한개라도 Ture이면 True\n",
    "print(any([1, 2, 3]))   # 참\n",
    "print(any([1, 2, 3, 0])) # 참 \n",
    "print(any([0, 0, 0, 0, 0])) #거짓"
   ]
  },
  {
   "cell_type": "code",
   "execution_count": 16,
   "id": "36bf6bf1",
   "metadata": {},
   "outputs": [
    {
     "name": "stdout",
     "output_type": "stream",
     "text": [
      "True\n"
     ]
    }
   ],
   "source": [
    "# 문자열의 경우 문자 있는 경우 True, 비어 있으면 False\n",
    "\n",
    "a = 'hello '\n",
    "\n",
    "if a :\n",
    "    print(\"True\")\n",
    "else :\n",
    "    print(\"False\")"
   ]
  },
  {
   "cell_type": "code",
   "execution_count": 17,
   "id": "0c575da8",
   "metadata": {},
   "outputs": [
    {
     "name": "stdout",
     "output_type": "stream",
     "text": [
      "False\n"
     ]
    }
   ],
   "source": [
    "a = ''\n",
    "\n",
    "if a :\n",
    "    print(\"True\")\n",
    "else :\n",
    "    print(\"False\")"
   ]
  },
  {
   "cell_type": "code",
   "execution_count": 20,
   "id": "e88a40a2",
   "metadata": {},
   "outputs": [
    {
     "name": "stdout",
     "output_type": "stream",
     "text": [
      "['__add__', '__class__', '__class_getitem__', '__contains__', '__delattr__', '__delitem__', '__dir__', '__doc__', '__eq__', '__format__', '__ge__', '__getattribute__', '__getitem__', '__gt__', '__hash__', '__iadd__', '__imul__', '__init__', '__init_subclass__', '__iter__', '__le__', '__len__', '__lt__', '__mul__', '__ne__', '__new__', '__reduce__', '__reduce_ex__', '__repr__', '__reversed__', '__rmul__', '__setattr__', '__setitem__', '__sizeof__', '__str__', '__subclasshook__', 'append', 'clear', 'copy', 'count', 'extend', 'index', 'insert', 'pop', 'remove', 'reverse', 'sort']\n"
     ]
    }
   ],
   "source": [
    "print(dir([1, 2, 3])) # 객체의 멤버 목록(변수 나 함수)\n"
   ]
  },
  {
   "cell_type": "code",
   "execution_count": 22,
   "id": "1baa2a0d",
   "metadata": {},
   "outputs": [
    {
     "name": "stdout",
     "output_type": "stream",
     "text": [
      "['__class__', '__class_getitem__', '__contains__', '__delattr__', '__delitem__', '__dir__', '__doc__', '__eq__', '__format__', '__ge__', '__getattribute__', '__getitem__', '__gt__', '__hash__', '__init__', '__init_subclass__', '__ior__', '__iter__', '__le__', '__len__', '__lt__', '__ne__', '__new__', '__or__', '__reduce__', '__reduce_ex__', '__repr__', '__reversed__', '__ror__', '__setattr__', '__setitem__', '__sizeof__', '__str__', '__subclasshook__', 'clear', 'copy', 'fromkeys', 'get', 'items', 'keys', 'pop', 'popitem', 'setdefault', 'update', 'values']\n"
     ]
    }
   ],
   "source": [
    "print(dir({'name':'홍길동'})) "
   ]
  },
  {
   "cell_type": "code",
   "execution_count": 25,
   "id": "07095ace",
   "metadata": {},
   "outputs": [
    {
     "name": "stdout",
     "output_type": "stream",
     "text": [
      "몫 : 2, 나머지 : 1\n"
     ]
    }
   ],
   "source": [
    "a = 7\n",
    "b = 3\n",
    "c = a // b # 정수 몫\n",
    "d = a % b  # 나머지\n",
    "\n",
    "print(\"몫 : %d, 나머지 : %d\" %(c, d) )"
   ]
  },
  {
   "cell_type": "code",
   "execution_count": 26,
   "id": "9fac0b61",
   "metadata": {},
   "outputs": [
    {
     "name": "stdout",
     "output_type": "stream",
     "text": [
      "(2, 1)\n",
      "(6.0, 0.09999999999999998)\n"
     ]
    }
   ],
   "source": [
    "print(divmod(7, 3)) # 결곽값, 튜풀로 리턴됨.\n",
    "print(divmod(1.3, 0.2))"
   ]
  },
  {
   "cell_type": "code",
   "execution_count": 29,
   "id": "f30a5c6e",
   "metadata": {},
   "outputs": [
    {
     "name": "stdout",
     "output_type": "stream",
     "text": [
      "몫 : 2, 나머지 : 1\n"
     ]
    }
   ],
   "source": [
    "n1, n2 = divmod(7, 3)\n",
    "print(\"몫 : %d, 나머지 : %d\" %(n1, n2) )"
   ]
  },
  {
   "cell_type": "code",
   "execution_count": 30,
   "id": "441d711c",
   "metadata": {},
   "outputs": [
    {
     "name": "stdout",
     "output_type": "stream",
     "text": [
      "<enumerate object at 0x00000132CE3FEA40>\n"
     ]
    }
   ],
   "source": [
    "# 인덱스와 값을 리턴하는 함수 : enumerate()\n",
    "print(enumerate([10, 20, 30, 40, 50]))\n"
   ]
  },
  {
   "cell_type": "code",
   "execution_count": 32,
   "id": "a7d0515d",
   "metadata": {},
   "outputs": [
    {
     "name": "stdout",
     "output_type": "stream",
     "text": [
      "[(0, 10), (1, 20), (2, 30), (3, 40), (4, 50)]\n"
     ]
    }
   ],
   "source": [
    "print(list(enumerate([10, 20, 30, 40, 50])))\n"
   ]
  },
  {
   "cell_type": "code",
   "execution_count": 33,
   "id": "265c7a3b",
   "metadata": {},
   "outputs": [
    {
     "name": "stdout",
     "output_type": "stream",
     "text": [
      "0 10\n",
      "1 20\n",
      "2 30\n",
      "3 40\n",
      "4 50\n"
     ]
    }
   ],
   "source": [
    "for index, value in enumerate([10, 20, 30, 40, 50]) :\n",
    "    print(index, value)"
   ]
  },
  {
   "cell_type": "code",
   "execution_count": 34,
   "id": "92a02d9f",
   "metadata": {},
   "outputs": [
    {
     "name": "stdout",
     "output_type": "stream",
     "text": [
      "number = 12\n",
      "19\n"
     ]
    }
   ],
   "source": [
    "# eval() : 문자열의 따움표를 제러하고 실행하는 함수\n",
    "num = eval(input(\"number = \"))\n",
    "\n",
    "print(num + 7)"
   ]
  },
  {
   "cell_type": "code",
   "execution_count": 36,
   "id": "c08dfeb1",
   "metadata": {},
   "outputs": [
    {
     "ename": "ValueError",
     "evalue": "invalid literal for int() with base 10: 'divmod(7,3)'",
     "output_type": "error",
     "traceback": [
      "\u001b[1;31m---------------------------------------------------------------------------\u001b[0m",
      "\u001b[1;31mValueError\u001b[0m                                Traceback (most recent call last)",
      "Input \u001b[1;32mIn [36]\u001b[0m, in \u001b[0;36m<cell line: 3>\u001b[1;34m()\u001b[0m\n\u001b[0;32m      1\u001b[0m \u001b[38;5;28mstr\u001b[39m \u001b[38;5;241m=\u001b[39m \u001b[38;5;124m\"\u001b[39m\u001b[38;5;124mdivmod(7,3)\u001b[39m\u001b[38;5;124m\"\u001b[39m\n\u001b[1;32m----> 3\u001b[0m \u001b[38;5;28mprint\u001b[39m(\u001b[38;5;28;43mint\u001b[39;49m\u001b[43m(\u001b[49m\u001b[38;5;28;43mstr\u001b[39;49m\u001b[43m)\u001b[49m)\n",
      "\u001b[1;31mValueError\u001b[0m: invalid literal for int() with base 10: 'divmod(7,3)'"
     ]
    }
   ],
   "source": [
    "str = \"divmod(7,3)\"\n",
    "\n",
    "print(int(str))"
   ]
  },
  {
   "cell_type": "code",
   "execution_count": 37,
   "id": "38123d50",
   "metadata": {},
   "outputs": [
    {
     "name": "stdout",
     "output_type": "stream",
     "text": [
      "(2, 1)\n"
     ]
    }
   ],
   "source": [
    "str = \"divmod(7,3)\"\n",
    "\n",
    "print(eval(str))"
   ]
  },
  {
   "cell_type": "code",
   "execution_count": 38,
   "id": "e9d8c35d",
   "metadata": {},
   "outputs": [
    {
     "name": "stdout",
     "output_type": "stream",
     "text": [
      "0xea\n"
     ]
    }
   ],
   "source": [
    "print(hex(234))"
   ]
  },
  {
   "cell_type": "code",
   "execution_count": 39,
   "id": "81bb05fc",
   "metadata": {},
   "outputs": [
    {
     "name": "stdout",
     "output_type": "stream",
     "text": [
      "0x3\n"
     ]
    }
   ],
   "source": [
    "print(hex(3))"
   ]
  },
  {
   "cell_type": "code",
   "execution_count": 43,
   "id": "5729a667",
   "metadata": {},
   "outputs": [
    {
     "name": "stdout",
     "output_type": "stream",
     "text": [
      "1317606418800 1317606418800\n",
      "1317606418800\n"
     ]
    }
   ],
   "source": [
    "# id(객체) - 객체의 주소를 리턴하는 함수\n",
    "a = 3\n",
    "print(id(a), id(3))\n",
    "\n",
    "b = a\n",
    "print(id(b))\n"
   ]
  },
  {
   "cell_type": "code",
   "execution_count": 44,
   "id": "0a14f39f",
   "metadata": {},
   "outputs": [
    {
     "name": "stdout",
     "output_type": "stream",
     "text": [
      "3\n",
      "3\n"
     ]
    }
   ],
   "source": [
    "a = input()\n",
    "print(a)"
   ]
  },
  {
   "cell_type": "code",
   "execution_count": 45,
   "id": "32806fc2",
   "metadata": {},
   "outputs": [
    {
     "name": "stdout",
     "output_type": "stream",
     "text": [
      "입력 = h\n",
      "h\n"
     ]
    }
   ],
   "source": [
    "b = input(\"입력 = \")\n",
    "print(b)"
   ]
  },
  {
   "cell_type": "code",
   "execution_count": 46,
   "id": "f2d82310",
   "metadata": {},
   "outputs": [
    {
     "name": "stdout",
     "output_type": "stream",
     "text": [
      "3\n",
      "<class 'int'>\n"
     ]
    }
   ],
   "source": [
    "a = int(\"3\") # 문자열을 정수형으로 변환\n",
    "print(a)\n",
    "print(type(a))"
   ]
  },
  {
   "cell_type": "code",
   "execution_count": 50,
   "id": "9f4ffc5d",
   "metadata": {},
   "outputs": [
    {
     "name": "stdout",
     "output_type": "stream",
     "text": [
      "3\n",
      "<class 'int'>\n",
      "15\n",
      "255\n"
     ]
    }
   ],
   "source": [
    "b = int(3.4)\n",
    "print(b)\n",
    "print(type(b))\n",
    "\n",
    "c = int(\"1111\", 2) # 문자열을 2진수로 변환\n",
    "print(c)\n",
    "\n",
    "d = int(\"FF\", 16) #\n",
    "print(d)"
   ]
  },
  {
   "cell_type": "code",
   "execution_count": 52,
   "id": "24ccff81",
   "metadata": {},
   "outputs": [
    {
     "name": "stdout",
     "output_type": "stream",
     "text": [
      "['사과', '배', '수박', '바나나', '포도']\n"
     ]
    }
   ],
   "source": [
    "a = ['사과','배','수박', '바나나', '포도']\n",
    "print(a)"
   ]
  },
  {
   "cell_type": "code",
   "execution_count": 56,
   "id": "7902e1a5",
   "metadata": {},
   "outputs": [
    {
     "name": "stdout",
     "output_type": "stream",
     "text": [
      "사과,배,수박,바나나,포도,\n"
     ]
    }
   ],
   "source": [
    "# 조인 함수 \"기호\".join(객체)\n",
    "\n",
    "result = \"\"\n",
    "for i in a:\n",
    "    result += i + \",\"\n",
    "print(result)"
   ]
  },
  {
   "cell_type": "code",
   "execution_count": 62,
   "id": "78edc989",
   "metadata": {},
   "outputs": [
    {
     "name": "stdout",
     "output_type": "stream",
     "text": [
      "사과,배,수박,바나나,포도\n",
      "사과/배/수박/바나나/포도\n",
      "사과-배-수박-바나나-포도\n",
      "사과\n",
      "배\n",
      "수박\n",
      "바나나\n",
      "포도\n"
     ]
    }
   ],
   "source": [
    "a = ['사과','배','수박', '바나나', '포도']\n",
    "print(\",\".join(a))\n",
    "print(\"/\".join(a))\n",
    "print(\"-\".join(a))\n",
    "print(\"\\n\".join(a))\n"
   ]
  },
  {
   "cell_type": "code",
   "execution_count": 63,
   "id": "5a693e80",
   "metadata": {},
   "outputs": [
    {
     "name": "stdout",
     "output_type": "stream",
     "text": [
      "6\n"
     ]
    }
   ],
   "source": [
    "# len()\n",
    "a = len(\"python\")\n",
    "print(a)"
   ]
  },
  {
   "cell_type": "code",
   "execution_count": 65,
   "id": "6aed5b3e",
   "metadata": {},
   "outputs": [
    {
     "name": "stdout",
     "output_type": "stream",
     "text": [
      "3\n"
     ]
    }
   ],
   "source": [
    "b = len([1, 2, 3])\n",
    "print(b)"
   ]
  },
  {
   "cell_type": "code",
   "execution_count": 68,
   "id": "cbcde73e",
   "metadata": {},
   "outputs": [
    {
     "name": "stdout",
     "output_type": "stream",
     "text": [
      "2\n"
     ]
    }
   ],
   "source": [
    "c = len((1, 'a'))\n",
    "print(c)"
   ]
  },
  {
   "cell_type": "code",
   "execution_count": 70,
   "id": "f96adf1e",
   "metadata": {},
   "outputs": [
    {
     "name": "stdout",
     "output_type": "stream",
     "text": [
      "p y t h o n\n",
      "[1, 2, 3]\n"
     ]
    }
   ],
   "source": [
    "# list(), tuple()\n",
    "a = list(\"python\")\n",
    "print(\" \".join(a))\n",
    "b = list((1, 2, 3))\n",
    "print(b)"
   ]
  },
  {
   "cell_type": "markdown",
   "id": "ff06939b",
   "metadata": {},
   "source": [
    "### 사용자 정의 함수"
   ]
  },
  {
   "cell_type": "code",
   "execution_count": 71,
   "id": "94ad13d8",
   "metadata": {},
   "outputs": [
    {
     "name": "stdout",
     "output_type": "stream",
     "text": [
      "[2, 4, 6, 8]\n"
     ]
    }
   ],
   "source": [
    "def calc(x) :\n",
    "#    print(\"x = \",x)\n",
    "    return x * 2\n",
    "\n",
    "a = [calc(1), calc(2), calc(3), calc(4)]\n",
    "print(a)\n"
   ]
  },
  {
   "cell_type": "code",
   "execution_count": 72,
   "id": "6c14fe57",
   "metadata": {},
   "outputs": [
    {
     "name": "stdout",
     "output_type": "stream",
     "text": [
      "[2, 4, 6, 8]\n"
     ]
    }
   ],
   "source": [
    "a = [] \n",
    "\n",
    "for i in [1, 2, 3, 4] :\n",
    "    a.append(calc(i))\n",
    "print(a)"
   ]
  },
  {
   "cell_type": "code",
   "execution_count": 74,
   "id": "e15da08a",
   "metadata": {},
   "outputs": [
    {
     "name": "stdout",
     "output_type": "stream",
     "text": [
      "[2, 4, 6, 8]\n"
     ]
    }
   ],
   "source": [
    "# map(함수명, 입력 리스트)\n",
    "a = list(map(calc, [1, 2, 3, 4]))\n",
    "print(a)"
   ]
  },
  {
   "cell_type": "code",
   "execution_count": 75,
   "id": "60c99df9",
   "metadata": {},
   "outputs": [
    {
     "name": "stdout",
     "output_type": "stream",
     "text": [
      "이\n",
      "51060\n"
     ]
    }
   ],
   "source": [
    "c = \"이\"\n",
    "print(c)\n",
    "print(ord(c)) # ord(문자) : 문자코드"
   ]
  },
  {
   "cell_type": "code",
   "execution_count": 82,
   "id": "143d125c",
   "metadata": {},
   "outputs": [
    {
     "name": "stdout",
     "output_type": "stream",
     "text": [
      "p = 112\n",
      "y = 121\n",
      "t = 116\n",
      "h = 104\n",
      "o = 111\n",
      "n = 110\n"
     ]
    }
   ],
   "source": [
    "a = \"python\"\n",
    "for i in a :\n",
    "    print(\"%s = %d\" %(i, ord(i)))"
   ]
  },
  {
   "cell_type": "code",
   "execution_count": 80,
   "id": "67a255b1",
   "metadata": {},
   "outputs": [
    {
     "name": "stdout",
     "output_type": "stream",
     "text": [
      "3\n",
      "y\n"
     ]
    }
   ],
   "source": [
    "a = max([1, 2, 3])\n",
    "print(a)\n",
    "\n",
    "b = max(\"python\")\n",
    "print(b)"
   ]
  },
  {
   "cell_type": "code",
   "execution_count": 83,
   "id": "93351703",
   "metadata": {},
   "outputs": [
    {
     "name": "stdout",
     "output_type": "stream",
     "text": [
      "1\n",
      "h\n"
     ]
    }
   ],
   "source": [
    "a = min([1, 2, 3])\n",
    "print(a)\n",
    "\n",
    "b = min(\"python\")\n",
    "print(b)"
   ]
  },
  {
   "cell_type": "code",
   "execution_count": 84,
   "id": "4f7f77e3",
   "metadata": {},
   "outputs": [
    {
     "name": "stdout",
     "output_type": "stream",
     "text": [
      "16\n",
      "16\n"
     ]
    }
   ],
   "source": [
    "a = pow(2,4) # 2**4승\n",
    "print(a)\n",
    "print(2**4)"
   ]
  },
  {
   "cell_type": "code",
   "execution_count": 88,
   "id": "96a525b8",
   "metadata": {},
   "outputs": [
    {
     "name": "stdout",
     "output_type": "stream",
     "text": [
      "안녕하세요\n"
     ]
    }
   ],
   "source": [
    "# 호출 방법 : Call By Name()\n",
    "# 호출 방법 : Call By Valuse()\n",
    "# 호출 방법 : Call By Reference()\n",
    "\n",
    "def say() :\n",
    "#    print(\"안녕하세요\")\n",
    "    a = \"안녕하세요\"\n",
    "    return a\n",
    "\n",
    "a = say()\n",
    "print(a)\n"
   ]
  },
  {
   "cell_type": "code",
   "execution_count": 92,
   "id": "5970496b",
   "metadata": {},
   "outputs": [
    {
     "name": "stdout",
     "output_type": "stream",
     "text": [
      "hello, 홍길동\n"
     ]
    }
   ],
   "source": [
    "def hello(name) :\n",
    "    string = \"hello, %s\" %name\n",
    "    print(string)\n",
    "\n",
    "hello(\"홍길동\")"
   ]
  },
  {
   "cell_type": "code",
   "execution_count": 94,
   "id": "4ea60b53",
   "metadata": {},
   "outputs": [
    {
     "name": "stdout",
     "output_type": "stream",
     "text": [
      "hello, Lee\n"
     ]
    }
   ],
   "source": [
    "def hello(name) :\n",
    "    string = \"hello, %s\" %name\n",
    "    return string\n",
    "\n",
    "hi = hello(\"Lee\")\n",
    "print(hi)"
   ]
  },
  {
   "cell_type": "code",
   "execution_count": 95,
   "id": "2ae16ab4",
   "metadata": {},
   "outputs": [
    {
     "name": "stdout",
     "output_type": "stream",
     "text": [
      "hello, Lee\n"
     ]
    }
   ],
   "source": [
    "def hello(name) :\n",
    "    return \"hello, %s\" %name\n",
    "\n",
    "hi = hello(\"Lee\")\n",
    "print(hi)"
   ]
  },
  {
   "cell_type": "code",
   "execution_count": 96,
   "id": "d1e8169b",
   "metadata": {},
   "outputs": [
    {
     "name": "stdout",
     "output_type": "stream",
     "text": [
      "hello,Lee\n"
     ]
    }
   ],
   "source": [
    "def hello(name) :\n",
    "    return \"hello,\" + name\n",
    "\n",
    "hi = hello(\"Lee\")\n",
    "print(hi)"
   ]
  },
  {
   "cell_type": "code",
   "execution_count": 97,
   "id": "3d1ef5f5",
   "metadata": {},
   "outputs": [
    {
     "data": {
      "text/plain": [
       "'hello,이순신'"
      ]
     },
     "execution_count": 97,
     "metadata": {},
     "output_type": "execute_result"
    }
   ],
   "source": [
    "hello(\"이순신\")"
   ]
  },
  {
   "cell_type": "code",
   "execution_count": 100,
   "id": "92465c1a",
   "metadata": {},
   "outputs": [
    {
     "name": "stdout",
     "output_type": "stream",
     "text": [
      "tot =  15\n"
     ]
    }
   ],
   "source": [
    "a = [1, 2, 3, 4, 5]\n",
    "\n",
    "tot = 0\n",
    "for i in a :\n",
    "    tot += i\n",
    "    \n",
    "print(\"tot = \",tot)"
   ]
  },
  {
   "cell_type": "code",
   "execution_count": 111,
   "id": "751d23ba",
   "metadata": {},
   "outputs": [],
   "source": [
    "def hap(data) :\n",
    "    tot = 0\n",
    "    for i in data :\n",
    "        tot += i\n",
    "    return tot"
   ]
  },
  {
   "cell_type": "code",
   "execution_count": 112,
   "id": "fad0bec9",
   "metadata": {},
   "outputs": [
    {
     "name": "stdout",
     "output_type": "stream",
     "text": [
      "tot =  15\n"
     ]
    }
   ],
   "source": [
    "a = [1, 2, 3, 4, 5]\n",
    "\n",
    "tot = hap(a) # 함수 호출\n",
    "    \n",
    "print(\"tot = \",tot)"
   ]
  },
  {
   "cell_type": "code",
   "execution_count": null,
   "id": "00ecc821",
   "metadata": {},
   "outputs": [],
   "source": []
  }
 ],
 "metadata": {
  "kernelspec": {
   "display_name": "Python 3 (ipykernel)",
   "language": "python",
   "name": "python3"
  },
  "language_info": {
   "codemirror_mode": {
    "name": "ipython",
    "version": 3
   },
   "file_extension": ".py",
   "mimetype": "text/x-python",
   "name": "python",
   "nbconvert_exporter": "python",
   "pygments_lexer": "ipython3",
   "version": "3.9.12"
  },
  "toc": {
   "base_numbering": 1,
   "nav_menu": {},
   "number_sections": true,
   "sideBar": true,
   "skip_h1_title": false,
   "title_cell": "Table of Contents",
   "title_sidebar": "Contents",
   "toc_cell": false,
   "toc_position": {},
   "toc_section_display": true,
   "toc_window_display": false
  }
 },
 "nbformat": 4,
 "nbformat_minor": 5
}
