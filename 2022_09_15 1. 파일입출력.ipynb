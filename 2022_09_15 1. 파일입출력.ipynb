{
 "cells": [
  {
   "cell_type": "code",
   "execution_count": 2,
   "id": "1ee6ff5a",
   "metadata": {},
   "outputs": [],
   "source": [
    "# 현재 작업중인 디렉토리(폴더)에 파일이 생성된다.\n",
    "# open(\"filename\",\"mode\")\n",
    "# mode : w(쓰기)  r(읽기)  a(추가)\n",
    "# f = open(\"binary_file\",\"rb\") 이진수로 읽어옴~\n",
    "\n",
    "# step1. 객체생성 + 피일오픈\n",
    "f = open(\"file1.txt\", \"w\")  # 파일이 없어도 자동으로 생성함\n",
    "\n",
    "# step2. 실제 처리할 작업을 기술\n",
    "\n",
    "# step3. 차일 닫기\n",
    "f.close()"
   ]
  },
  {
   "cell_type": "code",
   "execution_count": 4,
   "id": "5d19a0c4",
   "metadata": {},
   "outputs": [],
   "source": [
    "# 디렉토리 지정하여 파일 생성\n",
    "f = open(\"C:/k_digital/source/Python_source/game/file.txt\",\"w\")\n",
    "f.close()"
   ]
  },
  {
   "cell_type": "code",
   "execution_count": 6,
   "id": "d6b127e5",
   "metadata": {},
   "outputs": [],
   "source": [
    "# 파일 출력\n",
    "f = open(\"C:/k_digital/source/Python_source/game/file3.txt\",\"w\")\n",
    "\n",
    "# step2. 내용 기술\n",
    "for i in range(1, 11) :\n",
    "    data = \"{0}번쨰 줄입니다.\\n\".format(i)\n",
    "    f.write(data)\n",
    "    \n",
    "# step3. 파일 닫기\n",
    "f.close()"
   ]
  },
  {
   "cell_type": "code",
   "execution_count": 10,
   "id": "8fbc1be1",
   "metadata": {},
   "outputs": [
    {
     "name": "stdout",
     "output_type": "stream",
     "text": [
      "1번쨰 줄입니다.\n",
      "2번쨰 줄입니다.\n",
      "3번쨰 줄입니다.\n",
      "4번쨰 줄입니다.\n",
      "5번쨰 줄입니다.\n",
      "6번쨰 줄입니다.\n",
      "7번쨰 줄입니다.\n",
      "8번쨰 줄입니다.\n",
      "9번쨰 줄입니다.\n",
      "10번쨰 줄입니다.\n"
     ]
    }
   ],
   "source": [
    "# step1 \n",
    "f = open(\"C:/k_digital/source/Python_source/game/file3.txt\",\"r\")\n",
    "\n",
    "# step2 \n",
    "while True :\n",
    "    line = f.readline()     # 줄단위로 읽어옴 \\n포함\n",
    "                            # 다른 프로그래밍 언어 : EOF = End Of File, 파일의 끝\n",
    "                            # 파이썬은 필요없다\n",
    "    if not line : break     # line참이 아니면 break\n",
    "    print(line, end=\"\")\n",
    "    \n",
    "# step3\n",
    "f.close()\n"
   ]
  },
  {
   "cell_type": "code",
   "execution_count": 20,
   "id": "1f92bd79",
   "metadata": {},
   "outputs": [
    {
     "name": "stdout",
     "output_type": "stream",
     "text": [
      "10\n",
      "추가되었습니다\n"
     ]
    }
   ],
   "source": [
    "nums = [0, 1, 2, 3, 4, 5, 6, 7, 8, 9]\n",
    "\n",
    "count = len(nums)\n",
    "print(count)\n",
    "\n",
    "outfile = \"C:/k_digital/source/Python_source/game/result.csv\"  # csv 쉽표로 구분됨\n",
    "\n",
    "# step1\n",
    "f = open(\"C:/k_digital/source/Python_source/game/result.csv\", \"a\")\n",
    "\n",
    "# step2\n",
    "for idx in range(count) :\n",
    "    if idx < (count - 1) :\n",
    "        f.write(str(nums[idx]) + \",\")\n",
    "    else :\n",
    "        f.write(str(nums[idx]) + \"\\n\")\n",
    "        \n",
    "# step3\n",
    "f.close()\n",
    "print(\"추가되었습니다\")"
   ]
  },
  {
   "cell_type": "code",
   "execution_count": 24,
   "id": "9ea7fdd4",
   "metadata": {},
   "outputs": [
    {
     "name": "stdout",
     "output_type": "stream",
     "text": [
      "['0,1,2,3,4,5,6,7,8,9\\n', '0,1,2,3,4,5,6,7,8,9\\n', '0,1,2,3,4,5,6,7,8,9\\n', '0,1,2,3,4,5,6,7,8,9\\n', '0,1,2,3,4,5,6,7,8,9\\n']\n",
      "0,1,2,3,4,5,6,7,8,9\n",
      "0,1,2,3,4,5,6,7,8,9\n",
      "0,1,2,3,4,5,6,7,8,9\n",
      "0,1,2,3,4,5,6,7,8,9\n",
      "0,1,2,3,4,5,6,7,8,9\n"
     ]
    }
   ],
   "source": [
    "# step1\n",
    "f = open(\"C:/k_digital/source/Python_source/game/result.csv\", \"r\")\n",
    "\n",
    "#모든 라인을 읽어서 리스트에 저장함\n",
    "lines = f.readlines()\n",
    "\n",
    "print(lines)\n",
    "for line in lines : \n",
    "    print(line, end=\"\")\n",
    "\n",
    "f.close()"
   ]
  },
  {
   "cell_type": "code",
   "execution_count": 26,
   "id": "f38059b7",
   "metadata": {},
   "outputs": [
    {
     "name": "stdout",
     "output_type": "stream",
     "text": [
      "0,1,2,3,4,5,6,7,8,9\n",
      "0,1,2,3,4,5,6,7,8,9\n",
      "0,1,2,3,4,5,6,7,8,9\n",
      "0,1,2,3,4,5,6,7,8,9\n",
      "0,1,2,3,4,5,6,7,8,9\n",
      "\n"
     ]
    }
   ],
   "source": [
    "# step1\n",
    "f = open(\"C:/k_digital/source/Python_source/game/result.csv\", \"r\")\n",
    "\n",
    "# step2\n",
    "data = f.read() # 파일 안에 모든 내용을 한꺼번에 읽어오는 함수\n",
    "print(data)\n",
    "\n",
    "# step3\n",
    "f.close()"
   ]
  },
  {
   "cell_type": "code",
   "execution_count": 27,
   "id": "fae22ca7",
   "metadata": {},
   "outputs": [
    {
     "name": "stdout",
     "output_type": "stream",
     "text": [
      "0,1,2,3,4,5,6,7,8,9\n",
      "0,1,2,3,4,5,6,7,8,9\n",
      "0,1,2,3,4,5,6,7,8,9\n",
      "0,1,2,3,4,5,6,7,8,9\n",
      "0,1,2,3,4,5,6,7,8,9\n"
     ]
    }
   ],
   "source": [
    "f = open(\"C:/k_digital/source/Python_source/game/result.csv\", \"r\")\n",
    "for line in f :\n",
    "    print(line, end=\"\")\n",
    "f.close()"
   ]
  },
  {
   "cell_type": "code",
   "execution_count": 40,
   "id": "50df8ab9",
   "metadata": {},
   "outputs": [],
   "source": [
    "# with 사용 close() 함수 자동 호출\n",
    "\n",
    "with open(\"C:/k_digital/source/Python_source/game/result.csv\", \"w\") as f :\n",
    "    f.write(\"Hello Python\")"
   ]
  },
  {
   "cell_type": "code",
   "execution_count": 45,
   "id": "80ddbadb",
   "metadata": {},
   "outputs": [
    {
     "name": "stdout",
     "output_type": "stream",
     "text": [
      "1번쨰 줄입니다.\n",
      "2번쨰 줄입니다.\n",
      "3번쨰 줄입니다.\n",
      "4번쨰 줄입니다.\n",
      "5번쨰 줄입니다.\n",
      "6번쨰 줄입니다.\n",
      "7번쨰 줄입니다.\n",
      "8번쨰 줄입니다.\n",
      "9번쨰 줄입니다.\n",
      "10번쨰 줄입니다.\n",
      "171\n",
      "1번쨰 줄입니다.\n",
      "\n"
     ]
    }
   ],
   "source": [
    "with open(\"C:/k_digital/source/Python_source/game/file3.txt\",\"r\") as f :\n",
    "    for line in f :\n",
    "        print(line, end=\"\")\n",
    "        \n",
    "    print(f.tell()) #파일 포인터의 위치를 출력\n",
    "    \n",
    "    #파일의 시작위치로 포인터를 이동\n",
    "    f.seek(0)    # seek(offset, from)\n",
    "                # offset : 상대적인 위치, 양수(현재 포인터의 뒤쪽), 음수(현재포인터의 앞쪽)\n",
    "                # from : 기준위치, 0(시작위치), 1(현재위치), 2(끝위치)\n",
    "            \n",
    "    line = f.readline() # 한 라인을 일거오는 함수\n",
    "    print(line)"
   ]
  },
  {
   "cell_type": "code",
   "execution_count": 51,
   "id": "aa42393f",
   "metadata": {},
   "outputs": [
    {
     "name": "stdout",
     "output_type": "stream",
     "text": [
      "1번쨰 줄입니다.\n",
      "2번쨰 줄입니다.\n",
      "3번쨰 줄입니다.\n",
      "4번쨰 줄입니다.\n",
      "5번쨰 줄입니다.\n",
      "6번쨰 줄입니다.\n",
      "7번쨰 줄입니다.\n",
      "8번쨰 줄입니다.\n",
      "9번쨰 줄입니다.\n",
      "10번쨰 줄입니다.\n",
      "171\n",
      "1번쨰 줄입니다.\n",
      "\n"
     ]
    }
   ],
   "source": [
    "with open(\"C:/k_digital/source/Python_source/game/file3.txt\",\"r\") as f :\n",
    "    for line in f :\n",
    "        print(line, end=\"\")\n",
    "        \n",
    "    print(f.tell()) #파일 포인터의 위치를 출력\n",
    "    \n",
    "    f.seek(0)\n",
    "    line = f.readline() # 한 라인을 일거오는 함수\n",
    "    print(line)"
   ]
  },
  {
   "cell_type": "code",
   "execution_count": null,
   "id": "12e0a1cb",
   "metadata": {},
   "outputs": [],
   "source": []
  },
  {
   "cell_type": "code",
   "execution_count": null,
   "id": "4b733396",
   "metadata": {},
   "outputs": [],
   "source": []
  },
  {
   "cell_type": "code",
   "execution_count": null,
   "id": "1c59f613",
   "metadata": {},
   "outputs": [],
   "source": []
  },
  {
   "cell_type": "code",
   "execution_count": null,
   "id": "d714776f",
   "metadata": {},
   "outputs": [],
   "source": []
  },
  {
   "cell_type": "code",
   "execution_count": null,
   "id": "83a954f4",
   "metadata": {},
   "outputs": [],
   "source": []
  },
  {
   "cell_type": "code",
   "execution_count": null,
   "id": "edd86ef1",
   "metadata": {},
   "outputs": [],
   "source": []
  },
  {
   "cell_type": "code",
   "execution_count": null,
   "id": "bb15f62c",
   "metadata": {},
   "outputs": [],
   "source": []
  },
  {
   "cell_type": "code",
   "execution_count": null,
   "id": "9f5231fd",
   "metadata": {},
   "outputs": [],
   "source": []
  },
  {
   "cell_type": "code",
   "execution_count": null,
   "id": "95176d05",
   "metadata": {},
   "outputs": [],
   "source": []
  },
  {
   "cell_type": "code",
   "execution_count": null,
   "id": "3331830f",
   "metadata": {},
   "outputs": [],
   "source": []
  },
  {
   "cell_type": "code",
   "execution_count": null,
   "id": "5f9a69a1",
   "metadata": {},
   "outputs": [],
   "source": []
  }
 ],
 "metadata": {
  "kernelspec": {
   "display_name": "Python 3 (ipykernel)",
   "language": "python",
   "name": "python3"
  },
  "language_info": {
   "codemirror_mode": {
    "name": "ipython",
    "version": 3
   },
   "file_extension": ".py",
   "mimetype": "text/x-python",
   "name": "python",
   "nbconvert_exporter": "python",
   "pygments_lexer": "ipython3",
   "version": "3.9.12"
  },
  "toc": {
   "base_numbering": 1,
   "nav_menu": {},
   "number_sections": true,
   "sideBar": true,
   "skip_h1_title": false,
   "title_cell": "Table of Contents",
   "title_sidebar": "Contents",
   "toc_cell": false,
   "toc_position": {},
   "toc_section_display": true,
   "toc_window_display": false
  }
 },
 "nbformat": 4,
 "nbformat_minor": 5
}
