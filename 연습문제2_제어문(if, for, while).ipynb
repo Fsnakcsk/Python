{
 "cells": [
  {
   "cell_type": "code",
   "execution_count": 1,
   "id": "e43100c2",
   "metadata": {},
   "outputs": [
    {
     "name": "stdout",
     "output_type": "stream",
     "text": [
      "shirt\n"
     ]
    }
   ],
   "source": [
    "# 문제1. 다음 주어진 프로그램의 결과값이 어떻게 되는지 그 이유와 결과를 서술하시오.\n",
    "a = \"Life is too short, you need Python\"\n",
    "\n",
    "if \"wife\" in a: print(\"wife\")  # wife라는 무자열아 존재하지 않다\n",
    "elif \"python\" in a and \"you\" not in a: print(\"python\") # Python라는 문자열이 있지만 python이 없다\n",
    "elif \"shirt\" not in a: print(\"shirt\") # shirt라는 문자열이 존재한다 if문자이 끝난다\n",
    "elif \"need\" in a: print(\"need\") # 지난 if문에서 이미 빠져나와서 실행하지 않다\n",
    "else: print(\"none\") # 난 if문에서 이미 빠져나와서 실행하지 않다"
   ]
  },
  {
   "cell_type": "code",
   "execution_count": 5,
   "id": "0504aa76",
   "metadata": {},
   "outputs": [
    {
     "name": "stdout",
     "output_type": "stream",
     "text": [
      "500500\n"
     ]
    }
   ],
   "source": [
    "# 문제2. while문을 사용해 1부터 1000까지의 자연수중 3의 배수의 합을 계산하여 출력하는 프로그램\n",
    "\n",
    "sum = 0\n",
    "i = 0\n",
    "\n",
    "while i < 1001:\n",
    "    sum += i\n",
    "    i+=1\n",
    "    \n",
    "print(sum)"
   ]
  },
  {
   "cell_type": "code",
   "execution_count": 51,
   "id": "1b9114c9",
   "metadata": {},
   "outputs": [
    {
     "name": "stdout",
     "output_type": "stream",
     "text": [
      "*\n",
      "**\n",
      "***\n",
      "****\n",
      "*****\n"
     ]
    }
   ],
   "source": [
    "# 문제3. while문을 사용하여 다음과 같은 별(*)이 출력되는 프로그램\n",
    "# *\n",
    "# **\n",
    "# ***\n",
    "# ****\n",
    "# *****\n",
    "\n",
    "i = 1\n",
    "while i < 6 :\n",
    "    j = 0\n",
    "    while j < i :\n",
    "        print(\"*\", end='')\n",
    "        j+=1\n",
    "    i+=1\n",
    "    print()\n",
    "\n"
   ]
  },
  {
   "cell_type": "code",
   "execution_count": 29,
   "id": "8bf690f4",
   "metadata": {},
   "outputs": [
    {
     "name": "stdout",
     "output_type": "stream",
     "text": [
      "    1    2    3    4    5    6    7    8    9   10\n",
      "   11   12   13   14   15   16   17   18   19   20\n",
      "   21   22   23   24   25   26   27   28   29   30\n",
      "   31   32   33   34   35   36   37   38   39   40\n",
      "   41   42   43   44   45   46   47   48   49   50\n",
      "   51   52   53   54   55   56   57   58   59   60\n",
      "   61   62   63   64   65   66   67   68   69   70\n",
      "   71   72   73   74   75   76   77   78   79   80\n",
      "   81   82   83   84   85   86   87   88   89   90\n",
      "   91   92   93   94   95   96   97   98   99  100\n"
     ]
    }
   ],
   "source": [
    "# 문제4. for문을 사용하여 1부터 100까지의 숫자가 출력되는 프로그램\n",
    "\n",
    "for i in range(1, 101) :\n",
    "    print(\"%5.d\" %i, end=\"\")\n",
    "    if i % 10 == 0:\n",
    "        print()"
   ]
  },
  {
   "cell_type": "code",
   "execution_count": 37,
   "id": "7662d766",
   "metadata": {},
   "outputs": [
    {
     "name": "stdout",
     "output_type": "stream",
     "text": [
      "79\n"
     ]
    }
   ],
   "source": [
    "# 문제5. A학급에 10명의 학생이 있다. 이 학생들의 중간고사 점수가 다음과 같다. 이 반의 평균 점수를\n",
    "# 계산하여 출력하는 프로그램\n",
    "score = [70, 60, 55, 75, 95, 90, 80, 80, 85, 100]\n",
    "sum = 0\n",
    "for i in score :\n",
    "    sum += i\n",
    "avg = sum / len(score)\n",
    "    \n",
    "print(round(avg))"
   ]
  },
  {
   "cell_type": "code",
   "execution_count": 50,
   "id": "52cb04b8",
   "metadata": {},
   "outputs": [
    {
     "name": "stdout",
     "output_type": "stream",
     "text": [
      "[2, 6, 10]\n"
     ]
    }
   ],
   "source": [
    "# 문제6. 리스트 중에서 홀수에만 2를 곱하여 저장하는 코드가 다음과 같다.\n",
    "numbers = [1, 2, 3, 4, 5]\n",
    "result = []\n",
    "for i in numbers:\n",
    "    if i % 2 == 1:\n",
    "        result.append(i * 2)\n",
    "   \n",
    "# 위 코드를 리스트 내포 형식으로 변환하는 프로그램을 구현하시오.\n",
    "num_bers = [i*2 for i in range(1,6) if i % 2 == 1]\n",
    "print(num_bers)"
   ]
  },
  {
   "cell_type": "code",
   "execution_count": null,
   "id": "45f86657",
   "metadata": {},
   "outputs": [],
   "source": []
  },
  {
   "cell_type": "code",
   "execution_count": null,
   "id": "6a322db3",
   "metadata": {},
   "outputs": [],
   "source": []
  }
 ],
 "metadata": {
  "kernelspec": {
   "display_name": "Python 3 (ipykernel)",
   "language": "python",
   "name": "python3"
  },
  "language_info": {
   "codemirror_mode": {
    "name": "ipython",
    "version": 3
   },
   "file_extension": ".py",
   "mimetype": "text/x-python",
   "name": "python",
   "nbconvert_exporter": "python",
   "pygments_lexer": "ipython3",
   "version": "3.9.12"
  },
  "toc": {
   "base_numbering": 1,
   "nav_menu": {},
   "number_sections": true,
   "sideBar": true,
   "skip_h1_title": false,
   "title_cell": "Table of Contents",
   "title_sidebar": "Contents",
   "toc_cell": false,
   "toc_position": {},
   "toc_section_display": true,
   "toc_window_display": false
  }
 },
 "nbformat": 4,
 "nbformat_minor": 5
}
