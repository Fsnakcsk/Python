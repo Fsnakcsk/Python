{
 "cells": [
  {
   "cell_type": "code",
   "execution_count": null,
   "id": "f52ad7ae",
   "metadata": {},
   "outputs": [],
   "source": [
    "print(\"start\")\n",
    "4/0\n",
    "print(\"end\")"
   ]
  },
  {
   "cell_type": "code",
   "execution_count": null,
   "id": "234aae55",
   "metadata": {},
   "outputs": [],
   "source": [
    "print(\"start\")\n",
    "try :\n",
    "    4/0\n",
    "\n",
    "except ZeroDivisionError as zde : # ZeroDivisionError or Exception\n",
    "    #print(zde)\n",
    "    print(\"바보 멍충아 0으로 나눴잖아\")\n",
    "\n",
    "print(\"end\")"
   ]
  },
  {
   "cell_type": "code",
   "execution_count": null,
   "id": "faf040f9",
   "metadata": {},
   "outputs": [],
   "source": [
    "print(\"start\")\n",
    "try :\n",
    "    4/0\n",
    "\n",
    "except Exception as e : # ZeroDivisionError or Exception\n",
    "    #print(e)\n",
    "    print(\"바보 멍충아 0으로 나눴잖아\")\n",
    "\n",
    "print(\"end\")"
   ]
  },
  {
   "cell_type": "markdown",
   "id": "59345f2b",
   "metadata": {},
   "source": [
    "### 예외처리 없이 "
   ]
  },
  {
   "cell_type": "code",
   "execution_count": null,
   "id": "d3592c8f",
   "metadata": {},
   "outputs": [],
   "source": [
    "print(\"종료하려면 q를 입력하세요.\")\n",
    "\n",
    "while True :\n",
    "    num1 = input(\"\\n분자 = \")\n",
    "    if num1 == 'q' :\n",
    "        break\n",
    "    \n",
    "    num2 = input(\"분모 = \")\n",
    "    \n",
    "    result = int(num1) / int(num2)\n",
    "    \n",
    "    print(\"{} / {} = {}\".format(num1, num2, result))\n",
    "\n",
    "\n",
    "\n",
    "print(\"프로그램을 종료합니다.\")"
   ]
  },
  {
   "cell_type": "markdown",
   "id": "d80b9015",
   "metadata": {},
   "source": [
    "### 예외처리 부분"
   ]
  },
  {
   "cell_type": "code",
   "execution_count": null,
   "id": "362d9858",
   "metadata": {},
   "outputs": [],
   "source": [
    "print(\"종료하려면 q를 입력하세요.\")\n",
    "\n",
    "while True :\n",
    "    num1 = input(\"\\n분자 = \")\n",
    "    if num1 == 'q' :\n",
    "        break\n",
    "    \n",
    "    num2 = input(\"분모 = \")\n",
    "    \n",
    "    #result = 0\n",
    "    try :\n",
    "        result = int(num1) / int(num2)\n",
    "        print(\"{} / {} = {}\".format(num1, num2, result))\n",
    "    except Exception as e : # 에러가 e라는 변수에 담는다\n",
    "        print(\"분모에는 0을 입력할 수 없습니다\")\n",
    "        print(\"에러메시지 : \", e) # 무슨 에러인지 Error를 담은 e를 출력\n",
    "\n",
    "\n",
    "\n",
    "print(\"프로그램을 종료합니다.\")"
   ]
  },
  {
   "cell_type": "markdown",
   "id": "ab4e0f90",
   "metadata": {},
   "source": [
    "### 예외처리 부분 분류별로 처리"
   ]
  },
  {
   "cell_type": "code",
   "execution_count": 1,
   "id": "78610a7d",
   "metadata": {},
   "outputs": [
    {
     "name": "stdout",
     "output_type": "stream",
     "text": [
      "종료하려면 q를 입력하세요.\n",
      "\n",
      "분자 = 4\n",
      "분모 = 0\n",
      "분모에는 0을 입력할 수 없습니다\n",
      "에러메시지 :  division by zero\n",
      "\n",
      "분자 = 5\n",
      "분모 = g\n",
      "분자는 산술연산을 수행할 수 없습니다\n",
      "에러메시지 :  invalid literal for int() with base 10: 'g'\n",
      "\n",
      "분자 = q\n",
      "프로그램을 종료합니다.\n"
     ]
    }
   ],
   "source": [
    "print(\"종료하려면 q를 입력하세요.\")\n",
    "\n",
    "while True :\n",
    "    num1 = input(\"\\n분자 = \")\n",
    "    if num1 == 'q' :\n",
    "        break\n",
    "    \n",
    "    num2 = input(\"분모 = \")\n",
    "    \n",
    "    #result = 0\n",
    "    try :\n",
    "        result = int(num1) / int(num2)\n",
    "        print(\"{} / {} = {}\".format(num1, num2, result))\n",
    "        \n",
    "    except ZeroDivisionError as e :         # 에러가 e라는 변수에 담는다\n",
    "        print(\"분모에는 0을 입력할 수 없습니다\")\n",
    "        print(\"에러메시지 : \", e)             # 무슨 에러인지 Error를 담은 e를 출력\n",
    "        \n",
    "    except ValueError as e :\n",
    "        print(\"분자는 산술연산을 수행할 수 없습니다\")\n",
    "        print(\"에러메시지 : \", e)\n",
    "\n",
    "\n",
    "\n",
    "print(\"프로그램을 종료합니다.\")"
   ]
  },
  {
   "cell_type": "markdown",
   "id": "1fa2d9fd",
   "metadata": {},
   "source": [
    "### try ~ except ~ else 문"
   ]
  },
  {
   "cell_type": "code",
   "execution_count": 3,
   "id": "79399845",
   "metadata": {},
   "outputs": [
    {
     "name": "stdout",
     "output_type": "stream",
     "text": [
      "0으로 나눌 수 없습니다\n",
      "10.0\n",
      "5.0\n",
      "3.3333333333333335\n",
      "2.5\n",
      "2.0\n",
      "1.6666666666666667\n",
      "1.4285714285714286\n",
      "1.25\n",
      "1.1111111111111112\n"
     ]
    }
   ],
   "source": [
    "for i in range(10) :\n",
    "    try :\n",
    "        result = 10 / i\n",
    "    except ZeroDivisionError : \n",
    "        print(\"0으로 나눌 수 없습니다\")\n",
    "    else :   \n",
    "        print(result)"
   ]
  },
  {
   "cell_type": "markdown",
   "id": "ef323e49",
   "metadata": {},
   "source": [
    "### try ~ except ~ finally"
   ]
  },
  {
   "cell_type": "code",
   "execution_count": 8,
   "id": "4d204870",
   "metadata": {},
   "outputs": [
    {
     "name": "stdout",
     "output_type": "stream",
     "text": [
      "10\n",
      "5\n",
      "3\n",
      "2\n",
      "2\n",
      "1\n",
      "1\n",
      "1\n",
      "1\n",
      "프로그램을 종료합니다\n"
     ]
    }
   ],
   "source": [
    "try :\n",
    "    for i in range(1,10) :\n",
    "        result = 10 // i\n",
    "        print(result)\n",
    "        \n",
    "except ZeroDivisionError : \n",
    "    print(\"0으로 나눌 수 없습니다\")\n",
    "        \n",
    "finally :   \n",
    "    print(\"프로그램을 종료합니다\")"
   ]
  },
  {
   "cell_type": "code",
   "execution_count": 9,
   "id": "6d333f7a",
   "metadata": {},
   "outputs": [
    {
     "name": "stdout",
     "output_type": "stream",
     "text": [
      "숫자 = 10\n",
      "정수값으로 변환 된 결과 :  10\n",
      "숫자 = a\n"
     ]
    },
    {
     "ename": "ValueError",
     "evalue": "숫자로 변환할 수 없는 값을 입력했습니다",
     "output_type": "error",
     "traceback": [
      "\u001b[1;31m---------------------------------------------------------------------------\u001b[0m",
      "\u001b[1;31mValueError\u001b[0m                                Traceback (most recent call last)",
      "Input \u001b[1;32mIn [9]\u001b[0m, in \u001b[0;36m<cell line: 5>\u001b[1;34m()\u001b[0m\n\u001b[0;32m      6\u001b[0m \u001b[38;5;28;01mfor\u001b[39;00m digit \u001b[38;5;129;01min\u001b[39;00m value :\n\u001b[0;32m      7\u001b[0m     \u001b[38;5;28;01mif\u001b[39;00m digit \u001b[38;5;129;01mnot\u001b[39;00m \u001b[38;5;129;01min\u001b[39;00m \u001b[38;5;124m\"\u001b[39m\u001b[38;5;124m0123456789\u001b[39m\u001b[38;5;124m\"\u001b[39m :\n\u001b[1;32m----> 8\u001b[0m         \u001b[38;5;28;01mraise\u001b[39;00m \u001b[38;5;167;01mValueError\u001b[39;00m(\u001b[38;5;124m\"\u001b[39m\u001b[38;5;124m숫자로 변환할 수 없는 값을 입력했습니다\u001b[39m\u001b[38;5;124m\"\u001b[39m)\n\u001b[0;32m      9\u001b[0m \u001b[38;5;28mprint\u001b[39m(\u001b[38;5;124m\"\u001b[39m\u001b[38;5;124m정수값으로 변환 된 결과 : \u001b[39m\u001b[38;5;124m\"\u001b[39m,\u001b[38;5;28mint\u001b[39m(value))\n",
      "\u001b[1;31mValueError\u001b[0m: 숫자로 변환할 수 없는 값을 입력했습니다"
     ]
    }
   ],
   "source": [
    "# throws : 강제로 개발자가 에러를 방생시키는 것 = JAVA \n",
    "# raise : 예외를 발생시킴 Python\n",
    "\n",
    "while True :\n",
    "    value = input(\"숫자 = \")\n",
    "    for digit in value :\n",
    "        if digit not in \"0123456789\" :\n",
    "            raise ValueError(\"숫자로 변환할 수 없는 값을 입력했습니다\")\n",
    "    print(\"정수값으로 변환 된 결과 : \",int(value))"
   ]
  },
  {
   "cell_type": "code",
   "execution_count": 10,
   "id": "d3daa712",
   "metadata": {},
   "outputs": [
    {
     "ename": "FileNotFoundError",
     "evalue": "[Errno 2] No such file or directory: 'sample.txt'",
     "output_type": "error",
     "traceback": [
      "\u001b[1;31m---------------------------------------------------------------------------\u001b[0m",
      "\u001b[1;31mFileNotFoundError\u001b[0m                         Traceback (most recent call last)",
      "Input \u001b[1;32mIn [10]\u001b[0m, in \u001b[0;36m<cell line: 1>\u001b[1;34m()\u001b[0m\n\u001b[1;32m----> 1\u001b[0m f \u001b[38;5;241m=\u001b[39m \u001b[38;5;28;43mopen\u001b[39;49m\u001b[43m(\u001b[49m\u001b[38;5;124;43m\"\u001b[39;49m\u001b[38;5;124;43msample.txt\u001b[39;49m\u001b[38;5;124;43m\"\u001b[39;49m\u001b[43m,\u001b[49m\u001b[43m \u001b[49m\u001b[38;5;124;43m\"\u001b[39;49m\u001b[38;5;124;43mr\u001b[39;49m\u001b[38;5;124;43m\"\u001b[39;49m\u001b[43m)\u001b[49m\n\u001b[0;32m      3\u001b[0m \u001b[38;5;28;01mwhile\u001b[39;00m \u001b[38;5;28;01mTrue\u001b[39;00m :\n\u001b[0;32m      4\u001b[0m     line \u001b[38;5;241m=\u001b[39m f\u001b[38;5;241m.\u001b[39mreadline()\n",
      "\u001b[1;31mFileNotFoundError\u001b[0m: [Errno 2] No such file or directory: 'sample.txt'"
     ]
    }
   ],
   "source": [
    "f = open(\"sample.txt\", \"r\")\n",
    "\n",
    "while True :\n",
    "    line = f.readline()\n",
    "    if not line : break\n",
    "    print(line,end=\"\")\n",
    "    \n",
    "f.close()"
   ]
  },
  {
   "cell_type": "code",
   "execution_count": 12,
   "id": "2ae7765a",
   "metadata": {},
   "outputs": [
    {
     "name": "stdout",
     "output_type": "stream",
     "text": [
      "[Errno 2] No such file or directory: 'sample.txt'\n"
     ]
    }
   ],
   "source": [
    "try :\n",
    "    f = open(\"sample.txt\", \"r\")\n",
    "\n",
    "except FileNotFoundError as e :\n",
    "    print(e)\n",
    "\n",
    "else :\n",
    "    while True :\n",
    "        line = f.readline()\n",
    "        if not line : break\n",
    "        print(line,end=\"\")\n",
    "    \n",
    "    f.close()"
   ]
  }
 ],
 "metadata": {
  "kernelspec": {
   "display_name": "Python 3 (ipykernel)",
   "language": "python",
   "name": "python3"
  },
  "language_info": {
   "codemirror_mode": {
    "name": "ipython",
    "version": 3
   },
   "file_extension": ".py",
   "mimetype": "text/x-python",
   "name": "python",
   "nbconvert_exporter": "python",
   "pygments_lexer": "ipython3",
   "version": "3.9.12"
  },
  "toc": {
   "base_numbering": 1,
   "nav_menu": {},
   "number_sections": true,
   "sideBar": true,
   "skip_h1_title": false,
   "title_cell": "Table of Contents",
   "title_sidebar": "Contents",
   "toc_cell": false,
   "toc_position": {},
   "toc_section_display": true,
   "toc_window_display": false
  }
 },
 "nbformat": 4,
 "nbformat_minor": 5
}
