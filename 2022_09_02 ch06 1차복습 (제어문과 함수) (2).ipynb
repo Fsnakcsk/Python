{
 "cells": [
  {
   "cell_type": "markdown",
   "id": "2d22180f",
   "metadata": {},
   "source": [
    "# Python Program\n",
    "#### 변수 : 자료구조(리스트, 튜플, 집합, 사전) - 함수\n",
    "#### 자료 : 기본자료형(논리형, 정수형, 실수형, 문자형)\n",
    "#### 제어문 : 조건문, 반복문\n"
   ]
  },
  {
   "cell_type": "markdown",
   "id": "6f9c2ab7",
   "metadata": {},
   "source": [
    "### String Type"
   ]
  },
  {
   "cell_type": "code",
   "execution_count": 2,
   "id": "2f39c9c0",
   "metadata": {},
   "outputs": [],
   "source": [
    "# String : 하나의 문자 또는 그 이상의 문자를 묶어놓은 자료횽\n",
    "# \"\" 또는 '' 사용함\n",
    "# 여러 줄의 String 처리할 떄 (\"\"\" xxxxx \"\"\", ''' xxxxx''')"
   ]
  },
  {
   "cell_type": "code",
   "execution_count": 7,
   "id": "22a4bdbe",
   "metadata": {},
   "outputs": [
    {
     "name": "stdout",
     "output_type": "stream",
     "text": [
      "Hello World\n",
      "'Life is short', you need \"Python\"\n"
     ]
    }
   ],
   "source": [
    "print(\"Hello World\")\n",
    "\n",
    "\"\"\"Life is short, \n",
    "   You need Python\"\"\"\n",
    "\n",
    "print(\"'Life is short', you need \\\"Python\\\"\")"
   ]
  },
  {
   "cell_type": "markdown",
   "id": "ea4e45d0",
   "metadata": {},
   "source": [
    "##### 아스케이프 문자\n",
    "- \\n (new line) : 줄 바꿈\n",
    "- \\t   (tap Key) : 간격을 뛰어라"
   ]
  },
  {
   "cell_type": "code",
   "execution_count": 8,
   "id": "ea5bcc80",
   "metadata": {},
   "outputs": [
    {
     "name": "stdout",
     "output_type": "stream",
     "text": [
      "hellopython\n"
     ]
    }
   ],
   "source": [
    "# 연산 : + *\n",
    "a = \"hello\"\n",
    "b = \"python\"\n",
    "print(a + b)"
   ]
  },
  {
   "cell_type": "code",
   "execution_count": 11,
   "id": "f3997d5e",
   "metadata": {},
   "outputs": [
    {
     "name": "stdout",
     "output_type": "stream",
     "text": [
      "pythonpythonpythonpythonpython\n",
      "==============================\n"
     ]
    }
   ],
   "source": [
    "print(b * 5)\n",
    "print(\"=\" * 30)"
   ]
  },
  {
   "cell_type": "code",
   "execution_count": 13,
   "id": "eb315176",
   "metadata": {},
   "outputs": [
    {
     "name": "stdout",
     "output_type": "stream",
     "text": [
      "30\n"
     ]
    }
   ],
   "source": [
    "# String len()\n",
    "p = \"Life is short, you need Python\"\n",
    "print(len(p))"
   ]
  },
  {
   "cell_type": "code",
   "execution_count": 50,
   "id": "23eebd5e",
   "metadata": {},
   "outputs": [
    {
     "name": "stdout",
     "output_type": "stream",
     "text": [
      "e\n",
      "n\n",
      "Life\n",
      "True\n",
      "Life is short, you need Python\n",
      "==============================\n",
      "생년월일 : 22년 09월 02일\n",
      "성별 : 남자\n"
     ]
    }
   ],
   "source": [
    "# 인덱싱과 슬라이싱\n",
    "# [index] : 위치\n",
    "# [start:end-1] i ~ N-1\n",
    "# [start:end:step]\n",
    "# [col:row]\n",
    "a = \"Life is short, you need Python\"\n",
    "print(a[3])\n",
    "print(a[-1])\n",
    "print(a[:4])\n",
    "print(\"Life\" in a)\n",
    "print(a[:])\n",
    "\n",
    "print(\"=\"*30)\n",
    "\n",
    "\n",
    "jumin = \"220902-1234567\"\n",
    "if int(jumin[7]) % 2 == 1 :\n",
    "    s = \"남자\"\n",
    "else :\n",
    "    s = '여자'\n",
    "    \n",
    "print(\"생년월일 : %s년 %s월 %s일\\n성별 : %s\" \\\n",
    "      %(jumin[:2], jumin[2:4], jumin[4:6], s))"
   ]
  },
  {
   "cell_type": "code",
   "execution_count": null,
   "id": "004fb740",
   "metadata": {},
   "outputs": [],
   "source": [
    "# 파이썬 메모리 관리방식\n",
    "# -5 ~ 256 이미 메모리에 저장 되었다\n",
    "\n",
    "a = -5\n",
    "#print(a == -5)\n",
    "print(a is -5)\n",
    "\n",
    "a = -6\n",
    "#print(a == -6)\n",
    "print(a is -6)"
   ]
  },
  {
   "cell_type": "code",
   "execution_count": 51,
   "id": "40a38a2a",
   "metadata": {},
   "outputs": [
    {
     "name": "stdout",
     "output_type": "stream",
     "text": [
      "hello\n",
      "None\n"
     ]
    }
   ],
   "source": [
    "# print(\"hello\")가 먼저 수행하고 나서, a 에 담지 않는다\n",
    "a = print(\"hello\")\n",
    "print(a)"
   ]
  },
  {
   "cell_type": "markdown",
   "id": "cb326d21",
   "metadata": {},
   "source": [
    "### 리스트(List)"
   ]
  },
  {
   "cell_type": "code",
   "execution_count": 54,
   "id": "af2bcb54",
   "metadata": {},
   "outputs": [
    {
     "name": "stdout",
     "output_type": "stream",
     "text": [
      "<class 'int'> <class 'str'> <class 'float'> <class 'str'> <class 'bool'> <class 'int'> "
     ]
    }
   ],
   "source": [
    "a = [1, 'a', 3.14, 'korea,', True, 10+20]\n",
    "\n",
    "for i in a :\n",
    "    print(type(i), end=\" \")"
   ]
  },
  {
   "cell_type": "code",
   "execution_count": 55,
   "id": "37296d83",
   "metadata": {},
   "outputs": [
    {
     "name": "stdout",
     "output_type": "stream",
     "text": [
      "<class 'list'> <class 'list'>\n"
     ]
    }
   ],
   "source": [
    "b = []\n",
    "c = list()  # tuple()\n",
    "print(type(b), type(c))"
   ]
  },
  {
   "cell_type": "code",
   "execution_count": 89,
   "id": "60d148cb",
   "metadata": {},
   "outputs": [
    {
     "name": "stdout",
     "output_type": "stream",
     "text": [
      "[1, 2, 3, ['a', 'b', 'c', 'd'], 5, 6, (7, 8)]\n",
      "(7, 8)\n",
      "['a', 'b', 'c', 'd']\n",
      "b\n",
      "['b', 'c']\n",
      "b c\n"
     ]
    }
   ],
   "source": [
    "x = [1, 2, 3, ['a', 'b', 'c','d'], 5, 6, (7,8)]\n",
    "print(x)\n",
    "\n",
    "print(x[-1])\n",
    "print(x[3])\n",
    "print(x[3][1]) #[행,열]\n",
    "\n",
    "print(x[3][1:3])           # List type\n",
    "print(x[3][1], x[3][2])    # Strign Type"
   ]
  },
  {
   "cell_type": "code",
   "execution_count": 90,
   "id": "740832aa",
   "metadata": {},
   "outputs": [
    {
     "name": "stdout",
     "output_type": "stream",
     "text": [
      "[5, 7, 9]\n"
     ]
    }
   ],
   "source": [
    "a = [1, 2, 3]\n",
    "b = [4, 5, 6]\n",
    "\n",
    "\n",
    "## 비효율적 코드\n",
    "[a[0] + b[0], a[1] + a[1], a[2] + b[2]]\n",
    "\n",
    "x = []\n",
    "for i in range(3) :\n",
    "    c = a[i] + b[i]\n",
    "    x.append(c)\n",
    "print(x)"
   ]
  },
  {
   "cell_type": "code",
   "execution_count": 101,
   "id": "3c0e841c",
   "metadata": {},
   "outputs": [
    {
     "name": "stdout",
     "output_type": "stream",
     "text": [
      "<class 'list'>\n",
      "(3, 4, 5)\n",
      "<class 'tuple'>\n",
      "['a', 'b']\n"
     ]
    }
   ],
   "source": [
    "x = [1, 2, (3, 4, 5)]\n",
    "print(type(x))\n",
    "\n",
    "print(x[-1])\n",
    "print(type(x[-1]))\n",
    "\n",
    "x[-1] = ['a', 'b'] # *************************** 중요\n",
    "print(x[-1])       # 튜플을 List로 바꿔서 값을 입력가능\n",
    "\n",
    "    "
   ]
  },
  {
   "cell_type": "code",
   "execution_count": 134,
   "id": "4ec49330",
   "metadata": {},
   "outputs": [
    {
     "name": "stdout",
     "output_type": "stream",
     "text": [
      "[1, 2, [3, 4, 5]]\n"
     ]
    }
   ],
   "source": [
    "x = [1, 2, (3, 4, 5)]\n",
    "b = [3, 4, 5]\n",
    "x[2] = []\n",
    "\n",
    "for i in range(3) :\n",
    "    x[2].append(b[i])\n",
    "\n",
    "print(x)"
   ]
  },
  {
   "cell_type": "code",
   "execution_count": 120,
   "id": "30a7603f",
   "metadata": {},
   "outputs": [],
   "source": [
    "# listName.append()\n",
    "# listName.insert(index, value)\n",
    "# listName.sort(reverse = True)\n",
    "# listName.index(data) 해당요소의 인덱스\n",
    "# listName.del list[index]\n",
    "# listName.remove()\n",
    "# listName.clear()\n",
    "# listName.pop()\n",
    "# listName.count(data)\n",
    "# listName.extend()"
   ]
  },
  {
   "cell_type": "markdown",
   "id": "69ae7fd6",
   "metadata": {},
   "source": [
    "### 튜플(Tuple)"
   ]
  },
  {
   "cell_type": "code",
   "execution_count": 109,
   "id": "2ab46e52",
   "metadata": {},
   "outputs": [
    {
     "name": "stdout",
     "output_type": "stream",
     "text": [
      "()\n",
      "(1,)\n",
      "(1, 2, 3)\n",
      "====================\n",
      "[]\n",
      "[1]\n",
      "[1, 2, 3]\n"
     ]
    }
   ],
   "source": [
    "t1 = ()\n",
    "t2 = (1,)\n",
    "t3 = (1, 2, 3)\n",
    "\n",
    "print(t1)\n",
    "print(t2)\n",
    "print(t3)\n",
    "\n",
    "print(\"=\"* 20)\n",
    "\n",
    "l1 = []\n",
    "l2 = [1]\n",
    "l3 = [1,2,3]\n",
    "\n",
    "print(l1)\n",
    "print(l2)\n",
    "print(l3)"
   ]
  },
  {
   "cell_type": "code",
   "execution_count": 123,
   "id": "2cf2465d",
   "metadata": {},
   "outputs": [
    {
     "name": "stdout",
     "output_type": "stream",
     "text": [
      "['a', 'b']\n",
      "(1, 2, 3, ['k', 'b'], ('aaa', 'bbb'))\n",
      "(1, 2)\n",
      "['k', 'b']\n",
      "('aaa', 'bbb')\n"
     ]
    }
   ],
   "source": [
    "t4 = (1, 2, 3, ['a', 'b'], ('aaa', 'bbb'))\n",
    "print(t4[3])\n",
    "\n",
    "t4[3][0] = 'k'\n",
    "print(t4)\n",
    "\n",
    "print(t4[:2])\n",
    "print(t4[3])\n",
    "print(t4[4])\n",
    "\n"
   ]
  },
  {
   "cell_type": "code",
   "execution_count": 135,
   "id": "a52fa3dd",
   "metadata": {},
   "outputs": [],
   "source": [
    "t1 = (1, 2, 'a', 'b')\n",
    "t2 = (3, 4)"
   ]
  },
  {
   "cell_type": "markdown",
   "id": "51c19523",
   "metadata": {},
   "source": [
    "### 사전"
   ]
  },
  {
   "cell_type": "code",
   "execution_count": 138,
   "id": "bfaed6f4",
   "metadata": {},
   "outputs": [],
   "source": [
    "# 딕셔너리, 집합 {} 비어 있으면 집합으로 삼아, 그래서 선언할 때 값이 하나 들어가야 함.\n",
    "dic = {'a': 1}\n",
    "s = {1, 2, 1}\n",
    "li = []\n",
    "t = ()"
   ]
  },
  {
   "cell_type": "code",
   "execution_count": 152,
   "id": "e4eac924",
   "metadata": {},
   "outputs": [
    {
     "name": "stdout",
     "output_type": "stream",
     "text": [
      "dict_keys(['name', 'phone'])\n",
      "aaa\n",
      "dict_values(['aaa', '123-4567-8900'])\n",
      "dict_items([('name', 'aaa'), ('phone', '123-4567-8900')])\n"
     ]
    }
   ],
   "source": [
    "dic = {\"name\" : \"aaa\", \"phone\" : \"123-4567-8900\"}\n",
    "\n",
    "print(dic.keys())\n",
    "print(dic['name'])\n",
    "\n",
    "print(dic.values())\n",
    "print(dic.items())"
   ]
  },
  {
   "cell_type": "code",
   "execution_count": 150,
   "id": "4cab4145",
   "metadata": {},
   "outputs": [
    {
     "name": "stdout",
     "output_type": "stream",
     "text": [
      "{'name': 'aaa', 'phone': '123-4567-8900', 'age': 33}\n"
     ]
    }
   ],
   "source": [
    "dic['age'] = 33\n",
    "print(dic)"
   ]
  },
  {
   "cell_type": "code",
   "execution_count": 156,
   "id": "68310ae8",
   "metadata": {},
   "outputs": [
    {
     "name": "stdout",
     "output_type": "stream",
     "text": [
      "{'name': 'aaa', 'phone': '123-4567-8900', 3: [1, 2, 3]}\n",
      "{'name': 'aaa', 'phone': '123-4567-8900'}\n"
     ]
    }
   ],
   "source": [
    "dic[3] = [1, 2, 3] # Key에 3을 추가 value에 list추가\n",
    "print(dic)\n",
    "\n",
    "del dic[3]         # key 3을 삭제\n",
    "print(dic)"
   ]
  },
  {
   "cell_type": "code",
   "execution_count": 157,
   "id": "20d71a45",
   "metadata": {},
   "outputs": [
    {
     "name": "stdout",
     "output_type": "stream",
     "text": [
      "{'id': [111, 222, 333, 444, 555], 'name': ['aaa', 'bbb', 'ccc', 'ddd', 'eee'], 'kor': [88, 92, 74, 100, 93], 'end': [90, 87, 74, 88, 93], 'math': [80, 70, 90, 50, 60]}\n"
     ]
    }
   ],
   "source": [
    "student = {'id'   : [111, 222, 333, 444, 555],\n",
    "           'name' : ['aaa','bbb','ccc','ddd','eee'],\n",
    "           'kor'  : [88, 92, 74, 100, 93],\n",
    "           'end'  : [90, 87, 74, 88, 93],\n",
    "           'math' : [80, 70, 90, 50, 60]}\n",
    "print(student)"
   ]
  },
  {
   "cell_type": "code",
   "execution_count": 169,
   "id": "e73789b4",
   "metadata": {},
   "outputs": [
    {
     "name": "stdout",
     "output_type": "stream",
     "text": [
      "[111, 222, 333, 444, 555]\n",
      "dict_keys(['id', 'name', 'kor', 'end', 'math'])\n",
      "id\n",
      "name\n",
      "kor\n",
      "end\n",
      "math\n"
     ]
    }
   ],
   "source": [
    "## .Keys\n",
    "print(student['id'])\n",
    "\n",
    "print(student.keys())\n",
    "\n",
    "for key in student.keys() :\n",
    "    print(key)"
   ]
  },
  {
   "cell_type": "code",
   "execution_count": 170,
   "id": "355af894",
   "metadata": {},
   "outputs": [
    {
     "name": "stdout",
     "output_type": "stream",
     "text": [
      "dict_values([[111, 222, 333, 444, 555], ['aaa', 'bbb', 'ccc', 'ddd', 'eee'], [88, 92, 74, 100, 93], [90, 87, 74, 88, 93], [80, 70, 90, 50, 60]])\n",
      "[111, 222, 333, 444, 555]\n",
      "['aaa', 'bbb', 'ccc', 'ddd', 'eee']\n",
      "[88, 92, 74, 100, 93]\n",
      "[90, 87, 74, 88, 93]\n",
      "[80, 70, 90, 50, 60]\n"
     ]
    }
   ],
   "source": [
    "print(student.values())\n",
    "\n",
    "for value in student.values() :\n",
    "    print(value)"
   ]
  },
  {
   "cell_type": "code",
   "execution_count": 165,
   "id": "adca8cf1",
   "metadata": {},
   "outputs": [
    {
     "name": "stdout",
     "output_type": "stream",
     "text": [
      "dict_items([('id', [111, 222, 333, 444, 555]), ('name', ['aaa', 'bbb', 'ccc', 'ddd', 'eee']), ('kor', [88, 92, 74, 100, 93]), ('end', [90, 87, 74, 88, 93]), ('math', [80, 70, 90, 50, 60])])\n"
     ]
    }
   ],
   "source": [
    "print(student.items())\n"
   ]
  },
  {
   "cell_type": "code",
   "execution_count": 171,
   "id": "03ca4054",
   "metadata": {},
   "outputs": [
    {
     "name": "stdout",
     "output_type": "stream",
     "text": [
      "{}\n"
     ]
    }
   ],
   "source": [
    "student.clear()\n",
    "print(student)"
   ]
  },
  {
   "cell_type": "code",
   "execution_count": 175,
   "id": "0b49a6b8",
   "metadata": {},
   "outputs": [
    {
     "name": "stdout",
     "output_type": "stream",
     "text": [
      "{'name': 'aaa', 'phone': '123-4567-8900', 'age': 33}\n",
      "aaa\n",
      "aaa\n"
     ]
    }
   ],
   "source": [
    "## 예제 \n",
    "dic = {\"name\" : \"aaa\", \"phone\" : \"123-4567-8900\"}\n",
    "dic['age'] = 33\n",
    "print(dic)\n",
    "\n",
    "## Key 출력\n",
    "print(dic['name'])\n",
    "print(dic.get('name'))\n"
   ]
  },
  {
   "cell_type": "markdown",
   "id": "dad2fb6d",
   "metadata": {},
   "source": [
    "### 집합(Set)"
   ]
  },
  {
   "cell_type": "code",
   "execution_count": 185,
   "id": "843dd601",
   "metadata": {},
   "outputs": [
    {
     "name": "stdout",
     "output_type": "stream",
     "text": [
      "{1, 2, 3, 4, 5}\n"
     ]
    }
   ],
   "source": [
    "# 중복 불가\n",
    "# 순서 없음\n",
    "\n",
    "s = set([1, 2, 3, 4, 5])\n",
    "print(s)"
   ]
  },
  {
   "cell_type": "code",
   "execution_count": 186,
   "id": "c085ec01",
   "metadata": {},
   "outputs": [
    {
     "name": "stdout",
     "output_type": "stream",
     "text": [
      "{'o', 'l', 'e', 'h'}\n"
     ]
    }
   ],
   "source": [
    "s2 = set(\"hello\")\n",
    "print(s2)"
   ]
  },
  {
   "cell_type": "code",
   "execution_count": 187,
   "id": "b22ed5fe",
   "metadata": {},
   "outputs": [
    {
     "name": "stdout",
     "output_type": "stream",
     "text": [
      "[1, 2, 3, 4, 5]\n"
     ]
    }
   ],
   "source": [
    "a = list(s)\n",
    "print(a)"
   ]
  },
  {
   "cell_type": "code",
   "execution_count": 189,
   "id": "2f6f007c",
   "metadata": {},
   "outputs": [
    {
     "name": "stdout",
     "output_type": "stream",
     "text": [
      "(1, 2, 3, 4, 5)\n"
     ]
    }
   ],
   "source": [
    "b = tuple(s)\n",
    "print(b)"
   ]
  },
  {
   "cell_type": "code",
   "execution_count": 202,
   "id": "410db109",
   "metadata": {},
   "outputs": [
    {
     "name": "stdout",
     "output_type": "stream",
     "text": [
      "==== 집합 함수 ====\n",
      "{1, 2, 3}\n",
      "{1, 2, 3, 4, 5, 6}\n",
      "{1, 2, 3, 4, 6}\n",
      "{1, 2, 3, 4, 5, 6, 7}\n",
      "{'o', 1, 2, 3, 4, 5, 6, 7, 'y', 't', 'P', 'n', 'h'}\n",
      "{'o', 1, 2, 3, 4, 5, 6, 7, 'y', 't', 'n', 'h'}\n"
     ]
    }
   ],
   "source": [
    "print(\"==== 집합 함수 ====\")\n",
    "s1 = set([1, 2, 3])\n",
    "print(s1)\n",
    "\n",
    "\n",
    "# setName.add : 1개 추가\n",
    "s1.add(6)\n",
    "print(s)\n",
    "\n",
    "# setName.update : 여러개 추가  [value, value]\n",
    "s1.update([4])   # 한 개도 가능\n",
    "print(s1)\n",
    "\n",
    "# 리스트, 튜플도 가능\n",
    "s1.update((5, 6, 7))\n",
    "print(s1)\n",
    "\n",
    "# String도 추가 가능\n",
    "s1.update(\"Python\")\n",
    "print(s1)\n",
    "\n",
    "# setName.remove(value)\n",
    "s1.remove('P')\n",
    "print(s1)\n"
   ]
  },
  {
   "cell_type": "code",
   "execution_count": 22,
   "id": "27d8f952",
   "metadata": {},
   "outputs": [
    {
     "name": "stdout",
     "output_type": "stream",
     "text": [
      "#####\n",
      "#####\n",
      "#####\n",
      "#####\n",
      "#####\n",
      "\n"
     ]
    }
   ],
   "source": [
    "for i in range(5) :\n",
    "    for j in range(5) :\n",
    "        print('#', end='')\n",
    "    print()\n",
    "    \n",
    "print()"
   ]
  },
  {
   "cell_type": "code",
   "execution_count": 23,
   "id": "417adef5",
   "metadata": {},
   "outputs": [
    {
     "name": "stdout",
     "output_type": "stream",
     "text": [
      "#\n",
      "##\n",
      "###\n",
      "####\n",
      "#####\n",
      "\n"
     ]
    }
   ],
   "source": [
    "for i in range(5) :\n",
    "    for j in range(i+1) :\n",
    "        print('#', end='')\n",
    "    print()\n",
    "print()"
   ]
  },
  {
   "cell_type": "code",
   "execution_count": 48,
   "id": "aa021986",
   "metadata": {},
   "outputs": [
    {
     "name": "stdout",
     "output_type": "stream",
     "text": [
      "    #####\n",
      "   ####\n",
      "  ###\n",
      " ##\n",
      "#\n"
     ]
    }
   ],
   "source": [
    "list = []\n",
    "for i in range(5, 0,-1) :\n",
    "    for j in range(i-1) :\n",
    "        print(' ', end='')\n",
    "        \n",
    "    for x in range(i-(i-1)) :\n",
    "        for y in range(i) :\n",
    "            print('#', end='')\n",
    " \n",
    "    print()"
   ]
  },
  {
   "cell_type": "code",
   "execution_count": 24,
   "id": "92203464",
   "metadata": {},
   "outputs": [
    {
     "name": "stdout",
     "output_type": "stream",
     "text": [
      "#####\n",
      "####\n",
      "###\n",
      "##\n",
      "#\n",
      "\n"
     ]
    }
   ],
   "source": [
    "for i in range(5,0,-1) :\n",
    "    for j in range(i) :\n",
    "        print('#', end='')\n",
    "    print()\n",
    "print()"
   ]
  },
  {
   "cell_type": "markdown",
   "id": "033d3be6",
   "metadata": {},
   "source": [
    "### 제어문"
   ]
  },
  {
   "cell_type": "code",
   "execution_count": 39,
   "id": "9716ccff",
   "metadata": {},
   "outputs": [
    {
     "name": "stdout",
     "output_type": "stream",
     "text": [
      "택시 타고 집가자\n"
     ]
    }
   ],
   "source": [
    "# 조건문 : 단순 if문, if-else문, elif문 \n",
    "# 조건식 : 비교 연산자, 논리 연산자\n",
    "\n",
    "money = True\n",
    "if money :\n",
    "    print(\"택시 타고 집가자\")\n",
    "else :\n",
    "    print(\"걸어가자\")"
   ]
  },
  {
   "cell_type": "markdown",
   "id": "8bc71e81",
   "metadata": {},
   "source": [
    "### 계산기 프로그램\n",
    "두 개의 정수와 하나의 연산자를 입력받아 연산을 수행한 후 결과들 출력하는 프로그래"
   ]
  },
  {
   "cell_type": "code",
   "execution_count": 32,
   "id": "edb0181e",
   "metadata": {},
   "outputs": [
    {
     "name": "stdout",
     "output_type": "stream",
     "text": [
      "num 1 :1\n",
      "+\n",
      "num 2 :2\n",
      "num 1 :3\n",
      "\n",
      "num 2 :\n"
     ]
    },
    {
     "ename": "ValueError",
     "evalue": "invalid literal for int() with base 10: ''",
     "output_type": "error",
     "traceback": [
      "\u001b[1;31m---------------------------------------------------------------------------\u001b[0m",
      "\u001b[1;31mValueError\u001b[0m                                Traceback (most recent call last)",
      "Input \u001b[1;32mIn [32]\u001b[0m, in \u001b[0;36m<cell line: 6>\u001b[1;34m()\u001b[0m\n\u001b[0;32m      6\u001b[0m num1 \u001b[38;5;241m=\u001b[39m \u001b[38;5;28mint\u001b[39m(\u001b[38;5;28minput\u001b[39m(\u001b[38;5;124m'\u001b[39m\u001b[38;5;124mnum 1 :\u001b[39m\u001b[38;5;124m'\u001b[39m))\n\u001b[0;32m      7\u001b[0m op \u001b[38;5;241m=\u001b[39m \u001b[38;5;28minput\u001b[39m()\n\u001b[1;32m----> 8\u001b[0m num2 \u001b[38;5;241m=\u001b[39m \u001b[38;5;28;43mint\u001b[39;49m\u001b[43m(\u001b[49m\u001b[38;5;28;43minput\u001b[39;49m\u001b[43m(\u001b[49m\u001b[38;5;124;43m'\u001b[39;49m\u001b[38;5;124;43mnum 2 :\u001b[39;49m\u001b[38;5;124;43m'\u001b[39;49m\u001b[43m)\u001b[49m\u001b[43m)\u001b[49m\n\u001b[0;32m     10\u001b[0m \u001b[38;5;28;01mif\u001b[39;00m num1 \u001b[38;5;241m==\u001b[39m \u001b[38;5;241m0\u001b[39m \u001b[38;5;129;01mor\u001b[39;00m num2 \u001b[38;5;241m==\u001b[39m \u001b[38;5;241m0\u001b[39m \u001b[38;5;129;01mor\u001b[39;00m op \u001b[38;5;241m==\u001b[39m \u001b[38;5;124m'\u001b[39m\u001b[38;5;124m'\u001b[39m :\n\u001b[0;32m     11\u001b[0m     \u001b[38;5;28;01mbreak\u001b[39;00m\n",
      "\u001b[1;31mValueError\u001b[0m: invalid literal for int() with base 10: ''"
     ]
    }
   ],
   "source": [
    "# num1 = int(input('num 1 :'))\n",
    "# op = input(\"+ / * /\")\n",
    "# num2 = int(input('num 2 :'))\n",
    "\n",
    "while True :\n",
    "    num1 = int(input('num 1 :'))\n",
    "    op = input()\n",
    "    num2 = int(input('num 2 :'))\n",
    "    \n",
    "    if num1 == 0 or num2 == 0 or op == '' :\n",
    "        break\n",
    "\n",
    "if op == '+' : \n",
    "    res = num1 + num2\n",
    "elif op == '-' : \n",
    "    res = num1 - num2\n",
    "elif op == '*' : \n",
    "    res = num1 * num2\n",
    "elif op == '/' : \n",
    "    res = num1 / num2\n",
    "\n",
    "print(\"%d %s %d = %d\" %(num1, op, num3, res))"
   ]
  },
  {
   "cell_type": "markdown",
   "id": "2b2f0233",
   "metadata": {},
   "source": [
    "# UP / DOWN 게임\n",
    "1에서 100 사이의 숫자 하자를 렌덤으로 발생한 후 사용자가 입력한 숫자와 비교하여 결과 출력"
   ]
  },
  {
   "cell_type": "code",
   "execution_count": 8,
   "id": "2f54cf23",
   "metadata": {},
   "outputs": [
    {
     "name": "stdout",
     "output_type": "stream",
     "text": [
      "1부터 100까지의 숫자를 입력하세요 : 20\n",
      "Up 낲음\n",
      "1부터 100까지의 숫자를 입력하세요 : 10\n",
      "맞첬습니다\n"
     ]
    }
   ],
   "source": [
    "import random\n",
    "\n",
    "check = random.randint(1, 100)\n",
    "userNum = int(input(\"1부터 100까지의 숫자를 입력하세요 : \"))\n",
    "\n",
    "while userNum != check :\n",
    "    if   userNum > check :\n",
    "        print(\"Up 낲음\")\n",
    "        \n",
    "    elif userNum < check :\n",
    "        print(\"Down 낮음\")\n",
    "        \n",
    "    usernum = int(input(\"1부터 100까지의 숫자를 입력하세요 : \")) \n",
    "    \n",
    "print(\"맞첬습니다\")\n"
   ]
  },
  {
   "cell_type": "markdown",
   "id": "29a007d3",
   "metadata": {},
   "source": [
    " ### 사다리꼴의 널이 구하는 프로그램\n",
    " - 윗변, 아랫변, 높이\n",
    " \n",
    " - 위변, 아랫벼느 높이 입력\n"
   ]
  },
  {
   "cell_type": "code",
   "execution_count": 24,
   "id": "ab60e403",
   "metadata": {},
   "outputs": [],
   "source": [
    "\n",
    "sNum = int(input(\"윗변 : \"))\n",
    "xNum = int(input(\"아랫변 : \"))\n",
    "hNum = int(input)(\"높이\")\n",
    "\n",
    "area = (sNum + xNum) / 2 * h\n",
    "\n",
    "print(\"사다리꼴의 넓이 = %d\", area)"
   ]
  },
  {
   "cell_type": "code",
   "execution_count": 60,
   "id": "30dcea0c",
   "metadata": {},
   "outputs": [
    {
     "name": "stdout",
     "output_type": "stream",
     "text": [
      "=== main menu ===\n",
      "1. 최대값 구하기\n",
      "2. 수나열 구하기\n",
      "3. 계산기 프로그램\n",
      "4. 프로개름 종료\n",
      "=================\n",
      "menu = 3\n",
      "num 1 :1\n",
      "+\n",
      "num 2 :2\n",
      "1 + 2 = 3\n",
      "=== main menu ===\n",
      "1. 최대값 구하기\n",
      "2. 수나열 구하기\n",
      "3. 계산기 프로그램\n",
      "4. 프로개름 종료\n",
      "=================\n",
      "menu = 54\n",
      "잘못된 입력값\n",
      "=== main menu ===\n",
      "1. 최대값 구하기\n",
      "2. 수나열 구하기\n",
      "3. 계산기 프로그램\n",
      "4. 프로개름 종료\n",
      "=================\n",
      "menu = 4\n"
     ]
    }
   ],
   "source": [
    "def getNumMax() :\n",
    "    num = []\n",
    "    check = int(input(\"몇개의 숫자를 입력하십니까? : \"))\n",
    "    for i in range(check) :\n",
    "        num.append(int(input(\"숫자 : \")))\n",
    "    print(\"최대 값 : %d입니다\" %max(num))\n",
    "\n",
    "# ----------------------------------------------------\n",
    "\n",
    "def getSadali() :\n",
    "    sNum = int(input(\"윗변 : \"))\n",
    "    xNum = int(input(\"아랫변 : \"))\n",
    "    hNum = int(input)(\"높이\")\n",
    "\n",
    "    area = (sNum + xNum) / 2 * h\n",
    "\n",
    "    print(\"사다리꼴의 넓이 = %d\", area)\n",
    "\n",
    "# ----------------------------------------------------\n",
    "def getOpration() :\n",
    "    num1 = int(input('num 1 :'))\n",
    "    op = input()\n",
    "    num2 = int(input('num 2 :'))\n",
    "\n",
    "    if op == '+' : \n",
    "        res = num1 + num2\n",
    "    elif op == '-' : \n",
    "        res = num1 - num2\n",
    "    elif op == '*' : \n",
    "        res = num1 * num2\n",
    "    elif op == '/' : \n",
    "        res = num1 / num2\n",
    "\n",
    "    print(\"%d %s %d = %d\" %(num1, op, num3, res))\n",
    "\n",
    "# ----------------------------------------------------\n",
    "\n",
    "while True :\n",
    "    print(\"=== main menu ===\")\n",
    "    print(\"1. 최대값 구하기\")\n",
    "    print(\"2. 수나열 구하기\")\n",
    "    print(\"3. 계산기 프로그램\")\n",
    "    print(\"4. 프로개름 종료\")\n",
    "    print(\"=================\")\n",
    "\n",
    "    menu = int(input(\"menu = \"))\n",
    "    \n",
    "    if menu == 4 : \n",
    "        break\n",
    "        \n",
    "    elif menu == 1 :\n",
    "        getNumMax()\n",
    "        \n",
    "    elif menu == 2 :\n",
    "        getSadali()\n",
    "        \n",
    "    elif menu == 3 :\n",
    "        getOpration()\n",
    "        \n",
    "    else :\n",
    "        print(\"잘못된 입력값\")\n",
    "\n"
   ]
  },
  {
   "cell_type": "markdown",
   "id": "31815d11",
   "metadata": {},
   "source": [
    "# 함수(Function)\n",
    "1. 함수의 정의 : 관련된 기능이나 명령어 묶음\n",
    "   - 필요할 때 호출 가능\n",
    "   - 유지보수가 수월\n",
    "   - 가독선이 좋다\n",
    "   \n",
    "2. 함수의 구조(구성) : def(=define) 선언문\n",
    "   - def 함수의 이름(매개변수)\n",
    "   - 함수의 내용정의부\n",
    "   - return\n",
    "  \n",
    "3. 함수의 호출 방법\n",
    "   - Call by Name\n",
    "   - Call by Value\n",
    "   - Call by Reference\n",
    "\n",
    "\n",
    "4. 함수의 기본 형식\n",
    "   - 매개변수 없고, 리턴값도 없다\n",
    "   - 메개변수 없고, 리턴값 있는 경우\n",
    "   - 매개변수 있고, 리턴값 없는 경우\n",
    "   - 매개변수 있고, 리턴값 있는 경우"
   ]
  },
  {
   "cell_type": "code",
   "execution_count": 85,
   "id": "1022a4b5",
   "metadata": {},
   "outputs": [],
   "source": [
    "def aaa() :\n",
    "    print('hi')\n",
    "    print(\"뭘봐\")"
   ]
  },
  {
   "cell_type": "code",
   "execution_count": 86,
   "id": "f2852781",
   "metadata": {},
   "outputs": [],
   "source": [
    "def bbb() :\n",
    "    return 'hi'"
   ]
  },
  {
   "cell_type": "code",
   "execution_count": 87,
   "id": "735124c9",
   "metadata": {},
   "outputs": [],
   "source": [
    "def ccc(a) :\n",
    "    print(a)"
   ]
  },
  {
   "cell_type": "code",
   "execution_count": 88,
   "id": "5fab4b92",
   "metadata": {},
   "outputs": [],
   "source": [
    "def ddd(a, b, c) :\n",
    "    print(a + b + c)"
   ]
  },
  {
   "cell_type": "code",
   "execution_count": 89,
   "id": "c4600ebe",
   "metadata": {},
   "outputs": [],
   "source": [
    "def eee(a, b) :\n",
    "    c = a + b\n",
    "    return c"
   ]
  },
  {
   "cell_type": "code",
   "execution_count": 90,
   "id": "5e6cbb07",
   "metadata": {},
   "outputs": [
    {
     "name": "stdout",
     "output_type": "stream",
     "text": [
      "프로그램 시작\n",
      "여러가지 작업\n",
      "hi\n",
      "프로그램 종료\n"
     ]
    }
   ],
   "source": [
    "# 함수 호출\n",
    "print(\"프로그램 시작\")\n",
    "print(\"여러가지 작업\")\n",
    "string = bbb()\n",
    "print(string)\n",
    "print(\"프로그램 종료\")"
   ]
  },
  {
   "cell_type": "code",
   "execution_count": 91,
   "id": "fb97949d",
   "metadata": {},
   "outputs": [
    {
     "name": "stdout",
     "output_type": "stream",
     "text": [
      "프로그램 시작\n",
      "여러가지 작업\n"
     ]
    },
    {
     "ename": "TypeError",
     "evalue": "ccc() missing 1 required positional argument: 'a'",
     "output_type": "error",
     "traceback": [
      "\u001b[1;31m---------------------------------------------------------------------------\u001b[0m",
      "\u001b[1;31mTypeError\u001b[0m                                 Traceback (most recent call last)",
      "Input \u001b[1;32mIn [91]\u001b[0m, in \u001b[0;36m<cell line: 4>\u001b[1;34m()\u001b[0m\n\u001b[0;32m      2\u001b[0m \u001b[38;5;28mprint\u001b[39m(\u001b[38;5;124m\"\u001b[39m\u001b[38;5;124m프로그램 시작\u001b[39m\u001b[38;5;124m\"\u001b[39m)\n\u001b[0;32m      3\u001b[0m \u001b[38;5;28mprint\u001b[39m(\u001b[38;5;124m\"\u001b[39m\u001b[38;5;124m여러가지 작업\u001b[39m\u001b[38;5;124m\"\u001b[39m)\n\u001b[1;32m----> 4\u001b[0m \u001b[43mccc\u001b[49m\u001b[43m(\u001b[49m\u001b[43m)\u001b[49m\n\u001b[0;32m      5\u001b[0m \u001b[38;5;28mprint\u001b[39m(\u001b[38;5;124m\"\u001b[39m\u001b[38;5;124m프로그램 종료\u001b[39m\u001b[38;5;124m\"\u001b[39m)\n",
      "\u001b[1;31mTypeError\u001b[0m: ccc() missing 1 required positional argument: 'a'"
     ]
    }
   ],
   "source": [
    "\n",
    "# 함수 호출\n",
    "print(\"프로그램 시작\")\n",
    "print(\"여러가지 작업\")\n",
    "ccc()\n",
    "print(\"프로그램 종료\")"
   ]
  },
  {
   "cell_type": "code",
   "execution_count": 125,
   "id": "766ff772",
   "metadata": {},
   "outputs": [
    {
     "ename": "SyntaxError",
     "evalue": "invalid syntax (2229903300.py, line 4)",
     "output_type": "error",
     "traceback": [
      "\u001b[1;36m  Input \u001b[1;32mIn [125]\u001b[1;36m\u001b[0m\n\u001b[1;33m    def ppp(a = 1, b = 2, c + 3) :\u001b[0m\n\u001b[1;37m                            ^\u001b[0m\n\u001b[1;31mSyntaxError\u001b[0m\u001b[1;31m:\u001b[0m invalid syntax\n"
     ]
    }
   ],
   "source": [
    "# default paramater \n",
    "# 파이썬에서 함수 오포로딩\n",
    "# 함수의 매개변수에 초기값을 담아서 처리하는 기능\n",
    "def ppp(a = 1, b = 2, c = 3) :\n",
    "    print(a, b, c)\n",
    "\n",
    "ppp()\n",
    "# ppp(100)\n",
    "# ppp(100,200)\n",
    "# ppp(100,200,300)"
   ]
  },
  {
   "cell_type": "code",
   "execution_count": 120,
   "id": "0e4e6ff1",
   "metadata": {},
   "outputs": [],
   "source": [
    "# 파라메타 기초값 줄 때 멘 뒤에서부터 앞까지 해야함.\n",
    "def ppp(a = 1, b = 2, c = 3) :\n",
    "    print(a, b, c)\n",
    "\n",
    "#ppp()"
   ]
  },
  {
   "cell_type": "code",
   "execution_count": 127,
   "id": "a647fa5d",
   "metadata": {},
   "outputs": [
    {
     "name": "stdout",
     "output_type": "stream",
     "text": [
      "프로그램 시작\n",
      "여러가지 작업\n",
      "3\n",
      "프로그램 종료\n"
     ]
    }
   ],
   "source": [
    "print(\"프로그램 시작\")\n",
    "print(\"여러가지 작업\")\n",
    "x = eee(1, 2)\n",
    "print(x)\n",
    "print(\"프로그램 종료\")"
   ]
  },
  {
   "cell_type": "markdown",
   "id": "8cd199ab",
   "metadata": {},
   "source": [
    "# 함수 (가변 매개변수)"
   ]
  },
  {
   "cell_type": "code",
   "execution_count": 128,
   "id": "a0bcdbe1",
   "metadata": {},
   "outputs": [],
   "source": [
    "# 기변 길이 매개변스\n",
    "def add(a, b) :\n",
    "    return a + b"
   ]
  },
  {
   "cell_type": "code",
   "execution_count": 130,
   "id": "aaf1b0b0",
   "metadata": {},
   "outputs": [],
   "source": [
    "def add(a, b, c) :\n",
    "    return a + b + c"
   ]
  },
  {
   "cell_type": "code",
   "execution_count": 131,
   "id": "475cd290",
   "metadata": {},
   "outputs": [
    {
     "data": {
      "text/plain": [
       "60"
      ]
     },
     "execution_count": 131,
     "metadata": {},
     "output_type": "execute_result"
    }
   ],
   "source": [
    "add(10, 20, 30)"
   ]
  },
  {
   "cell_type": "code",
   "execution_count": 132,
   "id": "292a64b3",
   "metadata": {},
   "outputs": [],
   "source": [
    "# 가변길이 배개변수 \n",
    "def add_res(*args) :\n",
    "    res = 0\n",
    "    \n",
    "    for i in args :\n",
    "        res += i\n",
    "        \n",
    "    return res\n"
   ]
  },
  {
   "cell_type": "code",
   "execution_count": 137,
   "id": "34d759ba",
   "metadata": {},
   "outputs": [
    {
     "name": "stdout",
     "output_type": "stream",
     "text": [
      "a =  6\n",
      "a =  15\n",
      "a =  55\n"
     ]
    }
   ],
   "source": [
    "a = add_res(1, 2, 3)\n",
    "print(\"a = \", a)\n",
    "\n",
    "a = add_res(1, 2, 3, 4, 5)\n",
    "print(\"a = \", a)\n",
    "\n",
    "a = add_res(1, 2, 3, 4, 5, 6, 7, 8, 9, 10)\n",
    "print(\"a = \", a)"
   ]
  },
  {
   "cell_type": "code",
   "execution_count": 143,
   "id": "ca89a837",
   "metadata": {},
   "outputs": [
    {
     "name": "stdout",
     "output_type": "stream",
     "text": [
      "a =  6\n",
      "b =  120\n"
     ]
    }
   ],
   "source": [
    "def calc(ch, *ar) :\n",
    "    \n",
    "    if ch == \"add\" :\n",
    "        res = 0\n",
    "        for i in ar :\n",
    "            res += i\n",
    "            \n",
    "    elif ch == \"mul\" :\n",
    "        res = 1\n",
    "        for i in ar :\n",
    "            res *= i\n",
    "    return res\n",
    "\n",
    "a = calc(\"add\", 1, 2, 3)\n",
    "print(\"a = \", a)\n",
    "\n",
    "b = calc(\"mul\", 1, 2, 3, 4, 5)\n",
    "print(\"b = \", b)\n",
    "\n"
   ]
  },
  {
   "cell_type": "code",
   "execution_count": null,
   "id": "32155865",
   "metadata": {},
   "outputs": [],
   "source": []
  },
  {
   "cell_type": "code",
   "execution_count": null,
   "id": "1f289f29",
   "metadata": {},
   "outputs": [],
   "source": []
  },
  {
   "cell_type": "code",
   "execution_count": null,
   "id": "74c7f799",
   "metadata": {},
   "outputs": [],
   "source": []
  }
 ],
 "metadata": {
  "kernelspec": {
   "display_name": "Python 3 (ipykernel)",
   "language": "python",
   "name": "python3"
  },
  "language_info": {
   "codemirror_mode": {
    "name": "ipython",
    "version": 3
   },
   "file_extension": ".py",
   "mimetype": "text/x-python",
   "name": "python",
   "nbconvert_exporter": "python",
   "pygments_lexer": "ipython3",
   "version": "3.9.7"
  },
  "toc": {
   "base_numbering": 1,
   "nav_menu": {},
   "number_sections": true,
   "sideBar": true,
   "skip_h1_title": false,
   "title_cell": "Table of Contents",
   "title_sidebar": "Contents",
   "toc_cell": false,
   "toc_position": {},
   "toc_section_display": true,
   "toc_window_display": false
  }
 },
 "nbformat": 4,
 "nbformat_minor": 5
}
