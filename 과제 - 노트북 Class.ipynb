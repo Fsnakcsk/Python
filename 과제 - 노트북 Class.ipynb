{
 "cells": [
  {
   "cell_type": "markdown",
   "id": "85da879d",
   "metadata": {},
   "source": [
    "### 노트북 프로그램\n",
    "- 노트를 정리하는 프로그램\n",
    "- 사용자는 노트에 컨켄츠를 적을 수 있도록함\n",
    "- 노트는 노트북에 삽입되도록 함\n",
    "- 노트북은 타이틀을 갖는다\n",
    "- 노트북은 노트가 삽입될 때 페이지를 생성하며, 최대 300페이지까지 저장할 수 있다\n",
    "- 300페지이를 넘기면 노트를 더는 삽입하지 못한다.\n"
   ]
  },
  {
   "cell_type": "code",
   "execution_count": 15,
   "id": "d05a385a",
   "metadata": {},
   "outputs": [
    {
     "name": "stdout",
     "output_type": "stream",
     "text": [
      "제목    : 아름아운 내일\n",
      "페이지수 : 3\n",
      "[1, ' 용도 : 일기장'] \n",
      "\n",
      "[2, '2022년 09월 07일 일기'] \n",
      "\n",
      "[3, '2022년 09월 08일 일기 : 오늘은 클래스 and 상속을 배웠다.'] \n",
      "\n"
     ]
    }
   ],
   "source": [
    "class Notebook :\n",
    "    def __init__(self, title, n_input=\"\") :\n",
    "        self.bookTitle = title             # 제목\n",
    "        self.notePage = 0                  # 페이지\n",
    "        self.n_input = n_input             # 컨텐츠\n",
    "        self.end_page = 300                # 페이지수 제한\n",
    "        self.noteList = [[self.notePage+1, self.n_input]]   \n",
    "    \n",
    "    def get_Index():\n",
    "        return self.notePage\n",
    "    \n",
    "    def set_insert(self, string) :\n",
    "        self.noteList[self.notePage].append(string)\n",
    "        \n",
    "    def getPrint(self) :\n",
    "        print(\"제목    : \" + self.bookTitle)\n",
    "        print(\"페이지수 : \" + str(self.notePage+1))\n",
    "        \n",
    "        i = len(self.noteList)\n",
    "        for i in range(i) :\n",
    "            print(self.noteList[i],\"\\n\")\n",
    "    \n",
    "    def add_Page(self) :\n",
    "        \n",
    "        if self.notePage >= self.end_page :\n",
    "            print(\"최대 300피이제까지만 삽입가능합니다. 더 이상 삽입할 수 없습니다\")\n",
    "        else :\n",
    "            self.notePage += 1\n",
    "            self.noteList.append([self.notePage+1])\n",
    "            # append([get_index()])\n",
    "            \n",
    "    def note_Updata(self, Index, string) :\n",
    "        self.noteList[Index-1][1] += string\n",
    "        \n",
    "    def note_init(self, Index) :\n",
    "        self.noteList[Index-1][1] = \"\"\n",
    "    \n",
    "        \n",
    "        \n",
    "a = Notebook(\"아름아운 내일\", \" 용도 : 일기장\")\n",
    "\n",
    "a.add_Page()\n",
    "a.set_insert(\"2022년 09월 07일 일기\")\n",
    "\n",
    "a.add_Page()\n",
    "a.set_insert(\"2022년 09월 08일 일기\")\n",
    "\n",
    "a.note_Updata(3, \" : 오늘은 클래스 and 상속을 배웠다.\")\n",
    "a.getPrint()\n",
    "\n",
    "# a.note_init(3)\n",
    "# a.getPrint()\n"
   ]
  },
  {
   "cell_type": "code",
   "execution_count": 260,
   "id": "71bf7127",
   "metadata": {},
   "outputs": [
    {
     "data": {
      "text/plain": [
       "[[1, 2], []]"
      ]
     },
     "execution_count": 260,
     "metadata": {},
     "output_type": "execute_result"
    }
   ],
   "source": [
    "a = [1]\n",
    "a[0] = [1,2]\n",
    "a.append([])\n",
    "a\n"
   ]
  },
  {
   "cell_type": "markdown",
   "id": "4e7462ae",
   "metadata": {},
   "source": [
    "### 노트북 프로그램\n",
    "- 노트를 정리하는 프로그램\n",
    "- 사용자는 노트에 컨켄츠를 적을 수 있도록함\n",
    "- 노트는 노트북에 삽입되도록 함\n",
    "- 노트북은 타이틀을 갖는다\n",
    "- 노트북은 노트가 삽입될 때 페이지를 생성하며, 최대 300페이지까지 저장할 수 있다\n",
    "- 300페지이를 넘기면 노트를 더는 삽입하지 못한다.\n"
   ]
  },
  {
   "cell_type": "code",
   "execution_count": 3,
   "id": "ea309ffe",
   "metadata": {},
   "outputs": [],
   "source": [
    "# NoteBook class\n",
    "## 멤버 메소드 : title, page_number, notes\n",
    "## 멤버 메소드 : add_note(), remove_note(), get_number_of_pages()\n",
    "\n",
    "# Note Class\n",
    "## 멤버 필드 : contants\n",
    "## 멤버 메소드 : write(), contant(), remove_all()\n"
   ]
  },
  {
   "cell_type": "code",
   "execution_count": 8,
   "id": "9bf7ec66",
   "metadata": {},
   "outputs": [],
   "source": [
    "class Note(object) :\n",
    "    \n",
    "    def __init__(self, contents=None) :\n",
    "        self.contents = contents\n",
    "    \n",
    "    def remove_all(self) :\n",
    "        self.contents = \"\"\n",
    "    \n",
    "    def get_conntents(self) :\n",
    "        return self.contents\n",
    "    \n",
    "    def write_contnents(self, string) :\n",
    "        sele.contents = contents\n",
    "    "
   ]
  },
  {
   "cell_type": "code",
   "execution_count": 12,
   "id": "465c9321",
   "metadata": {},
   "outputs": [],
   "source": [
    "class NoteBook(object) :\n",
    "    \n",
    "    def __init__(self, title) :\n",
    "        self.title = title    # 제목 \n",
    "        self.page_number = 1  # 페이지수 : 형재 노트북에 총 몇개인지 기록\n",
    "        self.notes = {}       # 노트를 저장하기 위한 딕셔너리\n",
    "        \n",
    "    # 노트 삽입\n",
    "    def add_note(self, note, page=0) :\n",
    "        if self.page_number < 300 :\n",
    "            if page == 0 :\n",
    "                self.notes[self.page_number] = note\n",
    "                self.page_number += 1\n",
    "            else : \n",
    "                self.nots = {page:note}\n",
    "                self.page_number += 1\n",
    "        else:\n",
    "            print(\"페이지가 모드 채워졌다.\")\n",
    "            \n",
    "    def remove_note(self, page_number) :\n",
    "        if page_number in self.notes.keys():\n",
    "            return self.notes.pop(page_number)\n",
    "        else :\n",
    "            print(\"해당 페이지는 존재하지 않습니다\")\n",
    "            \n",
    "    def get_number_of_page(self) :\n",
    "        return len(self.notes.keys())\n",
    "    \n",
    "    \n",
    "    "
   ]
  }
 ],
 "metadata": {
  "kernelspec": {
   "display_name": "Python 3 (ipykernel)",
   "language": "python",
   "name": "python3"
  },
  "language_info": {
   "codemirror_mode": {
    "name": "ipython",
    "version": 3
   },
   "file_extension": ".py",
   "mimetype": "text/x-python",
   "name": "python",
   "nbconvert_exporter": "python",
   "pygments_lexer": "ipython3",
   "version": "3.9.12"
  },
  "toc": {
   "base_numbering": 1,
   "nav_menu": {},
   "number_sections": true,
   "sideBar": true,
   "skip_h1_title": false,
   "title_cell": "Table of Contents",
   "title_sidebar": "Contents",
   "toc_cell": false,
   "toc_position": {},
   "toc_section_display": true,
   "toc_window_display": false
  }
 },
 "nbformat": 4,
 "nbformat_minor": 5
}
