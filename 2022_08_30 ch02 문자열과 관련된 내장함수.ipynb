{
 "cells": [
  {
   "cell_type": "code",
   "execution_count": 3,
   "id": "a5e815c2",
   "metadata": {},
   "outputs": [
    {
     "name": "stdout",
     "output_type": "stream",
     "text": [
      "안녕하세요\n"
     ]
    }
   ],
   "source": [
    "# 대소문자 변환함수 : upper()와 lower()\n",
    "# 모든 것을 객체로 간주한다.\n",
    "print('안녕하세요')\n",
    "\n",
    "love = print # 객체 복사"
   ]
  },
  {
   "cell_type": "code",
   "execution_count": 4,
   "id": "4a68ad87",
   "metadata": {},
   "outputs": [
    {
     "name": "stdout",
     "output_type": "stream",
     "text": [
      "웃기다\n"
     ]
    }
   ],
   "source": [
    "love(\"웃기다\")"
   ]
  },
  {
   "cell_type": "code",
   "execution_count": 6,
   "id": "8941edf5",
   "metadata": {},
   "outputs": [
    {
     "name": "stdout",
     "output_type": "stream",
     "text": [
      "Hello Python Programming...\n"
     ]
    }
   ],
   "source": [
    "string = \"Hello Python Programming...\"\n",
    "love(string)"
   ]
  },
  {
   "cell_type": "code",
   "execution_count": 7,
   "id": "7315bae9",
   "metadata": {},
   "outputs": [
    {
     "data": {
      "text/plain": [
       "'HELLO PYTHON PROGRAMMING...'"
      ]
     },
     "execution_count": 7,
     "metadata": {},
     "output_type": "execute_result"
    }
   ],
   "source": [
    "string.upper()"
   ]
  },
  {
   "cell_type": "code",
   "execution_count": 8,
   "id": "89afe7bd",
   "metadata": {},
   "outputs": [
    {
     "data": {
      "text/plain": [
       "'hello python programming...'"
      ]
     },
     "execution_count": 8,
     "metadata": {},
     "output_type": "execute_result"
    }
   ],
   "source": [
    "string.lower()"
   ]
  },
  {
   "cell_type": "code",
   "execution_count": 9,
   "id": "27d16166",
   "metadata": {},
   "outputs": [
    {
     "ename": "NameError",
     "evalue": "name 'upper' is not defined",
     "output_type": "error",
     "traceback": [
      "\u001b[1;31m---------------------------------------------------------------------------\u001b[0m",
      "\u001b[1;31mNameError\u001b[0m                                 Traceback (most recent call last)",
      "Input \u001b[1;32mIn [9]\u001b[0m, in \u001b[0;36m<cell line: 1>\u001b[1;34m()\u001b[0m\n\u001b[1;32m----> 1\u001b[0m \u001b[43mupper\u001b[49m(string)\n",
      "\u001b[1;31mNameError\u001b[0m: name 'upper' is not defined"
     ]
    }
   ],
   "source": [
    "upper(string)"
   ]
  },
  {
   "cell_type": "code",
   "execution_count": 10,
   "id": "503c4ec0",
   "metadata": {},
   "outputs": [
    {
     "data": {
      "text/plain": [
       "'\\n        안녕하세요\\n문자열과 관련된 함수를 알아볼까요?\\n'"
      ]
     },
     "execution_count": 10,
     "metadata": {},
     "output_type": "execute_result"
    }
   ],
   "source": [
    "# strip, lstrip, rstrip 공백 제거\n",
    "aaa = \"\"\"\n",
    "        안녕하세요\n",
    "문자열과 관련된 함수를 알아볼까요?\n",
    "\"\"\"\n",
    "\n",
    "aaa "
   ]
  },
  {
   "cell_type": "code",
   "execution_count": 12,
   "id": "c9dd4f96",
   "metadata": {},
   "outputs": [
    {
     "name": "stdout",
     "output_type": "stream",
     "text": [
      "안녕하세요\n",
      "문자열과 관련된 함수를 알아볼까요?\n"
     ]
    }
   ],
   "source": [
    "print(aaa.strip())"
   ]
  },
  {
   "cell_type": "code",
   "execution_count": 13,
   "id": "28f0517d",
   "metadata": {},
   "outputs": [
    {
     "name": "stdout",
     "output_type": "stream",
     "text": [
      "그의 이름은 name\n",
      "나이는 30\n"
     ]
    }
   ],
   "source": [
    "a = \"name\"\n",
    "b = 30\n",
    "print(\"그의 이름은 %s\\n나이는 %d\" %(a,b))"
   ]
  },
  {
   "cell_type": "code",
   "execution_count": 16,
   "id": "da7d1654",
   "metadata": {},
   "outputs": [
    {
     "name": "stdout",
     "output_type": "stream",
     "text": [
      "<class 'bool'>\n"
     ]
    }
   ],
   "source": [
    "# 논리형 변수 : True, False, and, or, not\n",
    "hungry = True\n",
    "sleep = False\n",
    "\n",
    "print(type(hungry))"
   ]
  },
  {
   "cell_type": "code",
   "execution_count": 21,
   "id": "5db913b6",
   "metadata": {},
   "outputs": [
    {
     "name": "stdout",
     "output_type": "stream",
     "text": [
      "True\n",
      "True\n"
     ]
    }
   ],
   "source": [
    "print(hungry and not sleep)\n",
    "print(hungry or not sleep)"
   ]
  },
  {
   "cell_type": "code",
   "execution_count": 25,
   "id": "f3da84f6",
   "metadata": {},
   "outputs": [
    {
     "name": "stdout",
     "output_type": "stream",
     "text": [
      "ok\n"
     ]
    }
   ],
   "source": [
    "a = 1\n",
    "b = 3\n",
    "\n",
    "if a == 1 and b == 3 :\n",
    "    print(\"ok\")\n",
    "else :\n",
    "    print(\"not ok\")"
   ]
  },
  {
   "cell_type": "code",
   "execution_count": 26,
   "id": "7016e277",
   "metadata": {},
   "outputs": [],
   "source": [
    "# 비교(관계) 연산자 : ==, !=, >=, =, <, <=\n",
    "# 논리연산자 : and, or, not\n"
   ]
  },
  {
   "cell_type": "code",
   "execution_count": 28,
   "id": "330e14d3",
   "metadata": {},
   "outputs": [
    {
     "data": {
      "text/plain": [
       "0"
      ]
     },
     "execution_count": 28,
     "metadata": {},
     "output_type": "execute_result"
    }
   ],
   "source": [
    "# find() 무엇을 찾아서 위치값을 반환함 (왼쪽부터)  2개 같은 단어 있어도 첫번째것만 반환\n",
    "# rfind() 무엇을 찾아서 위치값을 반환함 (오른쪽부터)\n",
    "\n",
    "string = \"안녕안녕하세요\".find(\"안녕\")\n",
    "string"
   ]
  },
  {
   "cell_type": "markdown",
   "id": "89c5d63e",
   "metadata": {},
   "source": [
    "- 안 녕  안   녕  하  세   요\n",
    "- 0  1   2   3   4   5   6"
   ]
  },
  {
   "cell_type": "code",
   "execution_count": 29,
   "id": "4788cf0f",
   "metadata": {},
   "outputs": [
    {
     "data": {
      "text/plain": [
       "2"
      ]
     },
     "execution_count": 29,
     "metadata": {},
     "output_type": "execute_result"
    }
   ],
   "source": [
    "string = \"안녕안녕하세요\".rfind(\"안녕\")\n",
    "string"
   ]
  },
  {
   "cell_type": "code",
   "execution_count": 30,
   "id": "8bd62c80",
   "metadata": {},
   "outputs": [
    {
     "name": "stdout",
     "output_type": "stream",
     "text": [
      "True\n"
     ]
    }
   ],
   "source": [
    "# in 연산자 \n",
    "print(\"안녕\" in \"안녕하세요\")"
   ]
  },
  {
   "cell_type": "code",
   "execution_count": 31,
   "id": "4e66e2fd",
   "metadata": {},
   "outputs": [
    {
     "name": "stdout",
     "output_type": "stream",
     "text": [
      "False\n"
     ]
    }
   ],
   "source": [
    "# in 연산자 \n",
    "print(\"잘자\" in \"안녕하세요\")"
   ]
  },
  {
   "cell_type": "code",
   "execution_count": 32,
   "id": "880bb47b",
   "metadata": {},
   "outputs": [
    {
     "data": {
      "text/plain": [
       "['10', '20', '30', '40', '50']"
      ]
     },
     "execution_count": 32,
     "metadata": {},
     "output_type": "execute_result"
    }
   ],
   "source": [
    "# split()\n",
    "a = \"10 20 30 40 50\"\n",
    "a.split(\" \")"
   ]
  },
  {
   "cell_type": "code",
   "execution_count": 35,
   "id": "4c3424f3",
   "metadata": {},
   "outputs": [
    {
     "data": {
      "text/plain": [
       "'10'"
      ]
     },
     "execution_count": 35,
     "metadata": {},
     "output_type": "execute_result"
    }
   ],
   "source": [
    "# f- 문자열 : ㅇ파이썬 3.6버전부터 사용\n",
    "# 문자열 앞에 f를 붙이고 문자열에 내부에 표현식을 {}호로 삽입\n",
    "## f'문자열{표현식}문자열'\n",
    "a = \"{}\".format(10)\n",
    "a"
   ]
  },
  {
   "cell_type": "code",
   "execution_count": 36,
   "id": "c27704d1",
   "metadata": {},
   "outputs": [
    {
     "data": {
      "text/plain": [
       "'3+4 = 7'"
      ]
     },
     "execution_count": 36,
     "metadata": {},
     "output_type": "execute_result"
    }
   ],
   "source": [
    "f\"3+4 = {3+4}\" "
   ]
  },
  {
   "cell_type": "code",
   "execution_count": null,
   "id": "b78240c1",
   "metadata": {},
   "outputs": [],
   "source": []
  }
 ],
 "metadata": {
  "kernelspec": {
   "display_name": "Python 3 (ipykernel)",
   "language": "python",
   "name": "python3"
  },
  "language_info": {
   "codemirror_mode": {
    "name": "ipython",
    "version": 3
   },
   "file_extension": ".py",
   "mimetype": "text/x-python",
   "name": "python",
   "nbconvert_exporter": "python",
   "pygments_lexer": "ipython3",
   "version": "3.9.12"
  },
  "toc": {
   "base_numbering": 1,
   "nav_menu": {},
   "number_sections": true,
   "sideBar": true,
   "skip_h1_title": false,
   "title_cell": "Table of Contents",
   "title_sidebar": "Contents",
   "toc_cell": false,
   "toc_position": {},
   "toc_section_display": true,
   "toc_window_display": false
  }
 },
 "nbformat": 4,
 "nbformat_minor": 5
}
