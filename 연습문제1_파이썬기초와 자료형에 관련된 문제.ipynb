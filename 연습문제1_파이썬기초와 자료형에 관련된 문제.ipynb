{
 "cells": [
  {
   "cell_type": "code",
   "execution_count": 1,
   "id": "46d90f55",
   "metadata": {},
   "outputs": [
    {
     "name": "stdout",
     "output_type": "stream",
     "text": [
      "70\n"
     ]
    }
   ],
   "source": [
    "# 문제1. 홍길동의 과목점수를 이용하여 평균 점수를 계산하여 출력하는 프로그램\n",
    "# 국어 : 80, 영어 : 75  수학 : 55\n",
    "\n",
    "kor, eng, math = 80, 75, 55\n",
    "\n",
    "avg = (kor + eng + math) / 3\n",
    "print(round(avg))"
   ]
  },
  {
   "cell_type": "code",
   "execution_count": 2,
   "id": "3c0d2a6c",
   "metadata": {},
   "outputs": [
    {
     "name": "stdout",
     "output_type": "stream",
     "text": [
      "짝수입니다\n"
     ]
    }
   ],
   "source": [
    "# 문제2. 자연수 13이 홀수인지 짝수인지 판별하는 프로그램\n",
    "\n",
    "if 13 % 2 == 0 :\n",
    "    print(\"홀수입니다\")\n",
    "else :\n",
    "    print(\"짝수입니다\")"
   ]
  },
  {
   "cell_type": "code",
   "execution_count": 5,
   "id": "278a3cec",
   "metadata": {},
   "outputs": [
    {
     "name": "stdout",
     "output_type": "stream",
     "text": [
      "88.11.20\n"
     ]
    }
   ],
   "source": [
    "# 문제3 홍길동의 주민번호는 881120-1068234이다.\n",
    "# 홍길동의 주민번호를 연월일 숫자부분을 나눠어 출력\n",
    "# 형식 (YYYY.MM.DD)\n",
    "# 문자열 슬라이싱 기법을 활용\n",
    "\n",
    "a = \"881120-1068234\"\n",
    "print(\"%s.%s.%s\" %(a[0:2],a[2:4],a[4:6]))"
   ]
  },
  {
   "cell_type": "code",
   "execution_count": 30,
   "id": "b8b70061",
   "metadata": {},
   "outputs": [
    {
     "name": "stdout",
     "output_type": "stream",
     "text": [
      "남성\n"
     ]
    }
   ],
   "source": [
    "# 문제4 주민등록번호(-)뒤에 숫자를 이용하여 성별을 판정하는 프로그램\n",
    "# 문자열 인덱싱 기법을 활용\n",
    "\n",
    "pin = \"881120-1068234\"\n",
    "\n",
    "if int(pin[7]) % 2 == 1 :\n",
    "    print(\"남성\")\n",
    "else :\n",
    "    print(\"여성\")\n",
    "    "
   ]
  },
  {
   "cell_type": "code",
   "execution_count": 32,
   "id": "b6a4a812",
   "metadata": {},
   "outputs": [
    {
     "name": "stdout",
     "output_type": "stream",
     "text": [
      "a:b:c:d\n"
     ]
    }
   ],
   "source": [
    "# 문제5. 문자열 \"a:b:c:d\"가 있다. replace함수를 이용하여  a#b#c#d로 바꿈\n",
    "str = \"a:b:c:d\"\n",
    "str.replace(\":\",\"#\")\n",
    "print(str)"
   ]
  },
  {
   "cell_type": "code",
   "execution_count": 36,
   "id": "5d4b335c",
   "metadata": {},
   "outputs": [
    {
     "name": "stdout",
     "output_type": "stream",
     "text": [
      "[5, 4, 3, 2, 1]\n"
     ]
    }
   ],
   "source": [
    "# 문제6. 리스트 [1,2,5,4,3]를 [5,4,3,2,1]로 출력\n",
    "a_list = [1, 3, 5, 4, 2]\n",
    "a_list.sort(reverse = True)\n",
    "print(a_list)"
   ]
  },
  {
   "cell_type": "code",
   "execution_count": 41,
   "id": "b6745515",
   "metadata": {},
   "outputs": [
    {
     "data": {
      "text/plain": [
       "'Life is too short'"
      ]
     },
     "execution_count": 41,
     "metadata": {},
     "output_type": "execute_result"
    }
   ],
   "source": [
    "# 문제7 ['Life', 'is', 'too', 'short'] 리스트를 이용 \"Life is too short\"\n",
    "# 문자열로 출력\n",
    "# 단, join 함수를 사용\n",
    "\n",
    "str = ['Life', 'is', 'too', 'short']\n",
    "\" \".join(str)"
   ]
  },
  {
   "cell_type": "code",
   "execution_count": 59,
   "id": "eac06af8",
   "metadata": {},
   "outputs": [
    {
     "name": "stdout",
     "output_type": "stream",
     "text": [
      "(1, 2, 3, 4)\n",
      "<class 'tuple'>\n"
     ]
    }
   ],
   "source": [
    "# 문제 8 (1, 2, 3)이 저장된 튜플에 4를 차가하여 (1, 2, 3, 4)로 출력\n",
    "# 단, 튜플의 연산자(*)를 활용할 것\n",
    "t = (1, 2, 3,)\n",
    "t = t + (4,)\n",
    "print(t)\n",
    "print(type(t))"
   ]
  },
  {
   "cell_type": "code",
   "execution_count": 66,
   "id": "32fe8df8",
   "metadata": {},
   "outputs": [
    {
     "name": "stdout",
     "output_type": "stream",
     "text": [
      "{250: 'python'}\n"
     ]
    }
   ],
   "source": [
    "# 문제9. 다음 주어진 딕셔너리 값을 이용하여 아래 기술된 내용중 오류가 발생하는 것과 그이유를 서술\n",
    "a = dict()\n",
    "print(a)\n",
    "## 1. a['name'] = 'python'\n",
    "## 2. a[('a')] = 'python'\n",
    "## 3. a[[1]] = 'python'   === 키는 유일성 유지해야 함.\n",
    "## 4. a[250] = 'python'\n"
   ]
  },
  {
   "cell_type": "code",
   "execution_count": 8,
   "id": "d2dfee79",
   "metadata": {},
   "outputs": [
    {
     "name": "stdout",
     "output_type": "stream",
     "text": [
      "80\n",
      "{'A': 90, 'C': 70}\n"
     ]
    }
   ],
   "source": [
    "#문제 10 다음주어진 딕셔너리에 키가 'B'인 것을 출력\n",
    "# 단, pop()함수를 활용\n",
    "\n",
    "dic = {\"A\":90, 'B':80,'C':70}\n",
    "a = dic.pop('B')\n",
    "\n",
    "print(a)\n",
    "print(dic)"
   ]
  },
  {
   "cell_type": "code",
   "execution_count": 81,
   "id": "9ad33d17",
   "metadata": {},
   "outputs": [
    {
     "name": "stdout",
     "output_type": "stream",
     "text": [
      "{1, 2, 3, 4, 5}\n"
     ]
    }
   ],
   "source": [
    "#문제11. 주어진 리스트 x에 중복된 숫자를 제거하는 프로그램\n",
    "x = [1, 1, 1, 2, 2, 3, 3, 3, 4, 4, 5]\n",
    "\n",
    "# 단, 집합 자료형의 특징을 활용 할 것\n",
    "x = set(x)\n",
    "print(x)"
   ]
  },
  {
   "cell_type": "code",
   "execution_count": 9,
   "id": "138808d4",
   "metadata": {},
   "outputs": [
    {
     "name": "stdout",
     "output_type": "stream",
     "text": [
      "a =  [1, 4, 3]\n",
      "b =  [1, 4, 3]\n",
      "2371574535744\n",
      "2371574535744\n"
     ]
    }
   ],
   "source": [
    "# 문제12. 파이썬은 다른 언어와 달리 아래와 같은 방식의 코딩이 허용된다\n",
    "# 다음과 같이 a, b 변수를 선언한 후 a의 두 번쨰 요쇼값을 변경하면 b값은 어떻게 되는지 \n",
    "# 결과, 이유를 서술\n",
    "\n",
    "a = b = [1, 2, 3]\n",
    "a[1] = 4\n",
    "\n",
    "print(\"a = \", a)\n",
    "print(\"b = \", b)\n",
    "\n",
    "# 경과값은 모도 같이 변하고 a와b는 같은 주소를 가리키고 있기 때문에 그래서 a의 값이 변하면  b도 변한다.\n",
    "\n",
    "print(id(a))\n",
    "print(id(b))"
   ]
  },
  {
   "cell_type": "code",
   "execution_count": 13,
   "id": "d1557891",
   "metadata": {},
   "outputs": [
    {
     "name": "stdout",
     "output_type": "stream",
     "text": [
      "2371492211024\n",
      "2371492210992\n"
     ]
    }
   ],
   "source": [
    "a = b = 1\n",
    "print(id(a))\n",
    "print(id(b))"
   ]
  }
 ],
 "metadata": {
  "kernelspec": {
   "display_name": "Python 3 (ipykernel)",
   "language": "python",
   "name": "python3"
  },
  "language_info": {
   "codemirror_mode": {
    "name": "ipython",
    "version": 3
   },
   "file_extension": ".py",
   "mimetype": "text/x-python",
   "name": "python",
   "nbconvert_exporter": "python",
   "pygments_lexer": "ipython3",
   "version": "3.9.12"
  },
  "toc": {
   "base_numbering": 1,
   "nav_menu": {},
   "number_sections": true,
   "sideBar": true,
   "skip_h1_title": false,
   "title_cell": "Table of Contents",
   "title_sidebar": "Contents",
   "toc_cell": false,
   "toc_position": {},
   "toc_section_display": true,
   "toc_window_display": false
  }
 },
 "nbformat": 4,
 "nbformat_minor": 5
}
