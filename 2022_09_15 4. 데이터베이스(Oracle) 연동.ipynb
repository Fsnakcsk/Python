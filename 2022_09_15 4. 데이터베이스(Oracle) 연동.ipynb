{
 "cells": [
  {
   "cell_type": "code",
   "execution_count": 1,
   "id": "73a1f327",
   "metadata": {},
   "outputs": [
    {
     "name": "stdout",
     "output_type": "stream",
     "text": [
      "Requirement already satisfied: cx_Oracle in c:\\anaconda3\\lib\\site-packages (8.3.0)\n"
     ]
    }
   ],
   "source": [
    "# 설치\n",
    "!pip install cx_Oracle"
   ]
  },
  {
   "cell_type": "code",
   "execution_count": 1,
   "id": "64ddfe84",
   "metadata": {},
   "outputs": [],
   "source": [
    "import cx_Oracle"
   ]
  },
  {
   "cell_type": "code",
   "execution_count": 18,
   "id": "7aa911a9",
   "metadata": {},
   "outputs": [],
   "source": [
    "# 데이터베이스 연동\n",
    "conn = cx_Oracle.connect(\"scott/1234@localhost:1521/xe\")\n",
    "\n",
    "#cursor(커서) : 레코드 셋을 탐색하기위해 사용하는 객체\n",
    "cursor = conn.cursor()\n",
    "\n",
    "# query(질의문)\n",
    "sql = \"select * from product\"\n",
    "\n",
    "# query 실행\n",
    "cursor.execute(sql)\n",
    "\n",
    "for row in cursor : # cursor가 가르키는 1개의 레코드를 row 저장 (행 단위로 읽어옴) 한줄\n",
    "    print(row)"
   ]
  },
  {
   "cell_type": "code",
   "execution_count": 17,
   "id": "af5b11f9",
   "metadata": {},
   "outputs": [],
   "source": [
    "# 전체 레코드 삭제\n",
    "sql = \"delete from product\"\n",
    "cursor.execute(sql)\n",
    "conn.commit()"
   ]
  },
  {
   "cell_type": "code",
   "execution_count": 13,
   "id": "87162791",
   "metadata": {},
   "outputs": [],
   "source": [
    "# 파이썬 내부에서 레코드를 추가하는 작업\n",
    "items = [\n",
    "    (1, '레몬', 1500, '맛있는 레몬', 'lemon.jpg'),\n",
    "    (2, '오렌지', 1500, '맛있는 오렌지', 'orange.jpg'),\n",
    "    (3, '키위', 1500, '맛있는 키위', 'kiwi.jpg'),\n",
    "    (4, '포도', 1500, '맛있는 포도', 'grape.jpg'),\n",
    "    (5, '딸기', 1500, '맛있는 딸기', 'strawberry.jpg')]\n",
    "\n",
    "for row in items :\n",
    "                                    # : 필드의 인덱스(1부터 인덱스 부여해야 함)\n",
    "    sql = \"INSERT INTO product VALUES(:1, :2, :3, :4, :5)\"\n",
    "    cursor.execute(sql, row) # 삽입\n",
    "    \n",
    "# DB에 영구 저장시키는 명령\n",
    "conn.commit()"
   ]
  },
  {
   "cell_type": "code",
   "execution_count": 16,
   "id": "1e55e116",
   "metadata": {},
   "outputs": [
    {
     "name": "stdout",
     "output_type": "stream",
     "text": [
      "상품개수 :  5\n"
     ]
    }
   ],
   "source": [
    "# 테이블에 등록된 레코드의 수 확인하는 작업\n",
    "sql = \"SELECT COUNT(*) FROM product\"\n",
    "cursor.execute(sql)\n",
    "count = cursor.fetchone() #쿼리의 결과 값이 1개인 경우\n",
    "print(\"상품개수 : \",count[0])"
   ]
  },
  {
   "cell_type": "code",
   "execution_count": 23,
   "id": "c3e2dca0",
   "metadata": {},
   "outputs": [
    {
     "ename": "IntegrityError",
     "evalue": "ORA-00001: unique constraint (SCOTT.SYS_C007030) violated",
     "output_type": "error",
     "traceback": [
      "\u001b[1;31m---------------------------------------------------------------------------\u001b[0m",
      "\u001b[1;31mIntegrityError\u001b[0m                            Traceback (most recent call last)",
      "Input \u001b[1;32mIn [23]\u001b[0m, in \u001b[0;36m<cell line: 4>\u001b[1;34m()\u001b[0m\n\u001b[0;32m      2\u001b[0m sql \u001b[38;5;241m=\u001b[39m \u001b[38;5;124m\"\u001b[39m\u001b[38;5;124mINSERT INTO product VALUES(:1, :2, :3, :4, :5)\u001b[39m\u001b[38;5;124m\"\u001b[39m\n\u001b[0;32m      3\u001b[0m cursor\u001b[38;5;241m.\u001b[39mbindarraysize \u001b[38;5;241m=\u001b[39m \u001b[38;5;28mlen\u001b[39m(items)\n\u001b[1;32m----> 4\u001b[0m \u001b[43mcursor\u001b[49m\u001b[38;5;241;43m.\u001b[39;49m\u001b[43mexecutemany\u001b[49m\u001b[43m(\u001b[49m\u001b[43msql\u001b[49m\u001b[43m,\u001b[49m\u001b[43m \u001b[49m\u001b[43mitems\u001b[49m\u001b[43m)\u001b[49m\n\u001b[0;32m      5\u001b[0m conn\u001b[38;5;241m.\u001b[39mcommit()\n",
      "\u001b[1;31mIntegrityError\u001b[0m: ORA-00001: unique constraint (SCOTT.SYS_C007030) violated"
     ]
    }
   ],
   "source": [
    "# 레코드를 일괄적으로 추가하는 작업 (한거번에 추가 배열만큼 다 가져옴)\n",
    "sql = \"INSERT INTO product VALUES(:1, :2, :3, :4, :5)\"\n",
    "cursor.bindarraysize = len(items)\n",
    "cursor.executemany(sql, items)\n",
    "conn.commit()"
   ]
  },
  {
   "cell_type": "code",
   "execution_count": 24,
   "id": "514e1f00",
   "metadata": {},
   "outputs": [
    {
     "name": "stdout",
     "output_type": "stream",
     "text": [
      "<class 'list'>\n",
      "[(1, '레몬', 1500, '맛있는 레몬', 'lemon.jpg'), (2, '오렌지', 1500, '맛있는 오렌지', 'orange.jpg'), (3, '키위', 1500, '맛있는 키위', 'kiwi.jpg'), (4, '포도', 1500, '맛있는 포도', 'grape.jpg'), (5, '딸기', 1500, '맛있는 딸기', 'strawberry.jpg')]\n"
     ]
    }
   ],
   "source": [
    "sql = \"SELECT * FROM product\"\n",
    "cursor.execute(sql)\n",
    "\n",
    "# 모든 레코드를 저장하는 작업\n",
    "rs = cursor.fetchall()\n",
    "print(type(rs))\n",
    "print(rs)"
   ]
  },
  {
   "cell_type": "code",
   "execution_count": 25,
   "id": "fa597425",
   "metadata": {},
   "outputs": [
    {
     "name": "stdout",
     "output_type": "stream",
     "text": [
      "(1, '레몬', 1500, '맛있는 레몬', 'lemon.jpg')\n",
      "(2, '오렌지', 1500, '맛있는 오렌지', 'orange.jpg')\n",
      "(3, '키위', 1500, '맛있는 키위', 'kiwi.jpg')\n",
      "(4, '포도', 1500, '맛있는 포도', 'grape.jpg')\n",
      "(5, '딸기', 1500, '맛있는 딸기', 'strawberry.jpg')\n"
     ]
    }
   ],
   "source": [
    "for row in rs :\n",
    "    print(row)"
   ]
  },
  {
   "cell_type": "code",
   "execution_count": 26,
   "id": "8328b00c",
   "metadata": {},
   "outputs": [],
   "source": [
    "# 커서 닫기\n",
    "cursor.close()\n",
    "\n",
    "# db접속 종료\n",
    "conn.close()"
   ]
  },
  {
   "cell_type": "code",
   "execution_count": null,
   "id": "96e637d6",
   "metadata": {},
   "outputs": [],
   "source": []
  }
 ],
 "metadata": {
  "kernelspec": {
   "display_name": "Python 3 (ipykernel)",
   "language": "python",
   "name": "python3"
  },
  "language_info": {
   "codemirror_mode": {
    "name": "ipython",
    "version": 3
   },
   "file_extension": ".py",
   "mimetype": "text/x-python",
   "name": "python",
   "nbconvert_exporter": "python",
   "pygments_lexer": "ipython3",
   "version": "3.9.12"
  },
  "toc": {
   "base_numbering": 1,
   "nav_menu": {},
   "number_sections": true,
   "sideBar": true,
   "skip_h1_title": false,
   "title_cell": "Table of Contents",
   "title_sidebar": "Contents",
   "toc_cell": false,
   "toc_position": {},
   "toc_section_display": true,
   "toc_window_display": false
  }
 },
 "nbformat": 4,
 "nbformat_minor": 5
}
