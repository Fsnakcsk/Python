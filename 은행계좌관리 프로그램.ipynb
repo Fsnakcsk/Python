{
 "cells": [
  {
   "cell_type": "code",
   "execution_count": null,
   "id": "cf6903a1",
   "metadata": {
    "ExecuteTime": {
     "end_time": "2022-09-07T07:38:00.366867Z",
     "start_time": "2022-09-07T07:38:00.348405Z"
    }
   },
   "outputs": [],
   "source": [
    "# Entity Class : 단순히 데이터를 관리할 목적으로 구현하는 클래스\n",
    "# 한 명의 고객에 대한 정보를 처리하는 클래스\n",
    "class Account:\n",
    "    \n",
    "    # 계좌를 개설할 때\n",
    "    def __init__(self, num, name, balance):\n",
    "        self.num = num\n",
    "        self.name = name\n",
    "        self.balance = balance\n",
    "        \n",
    "    # 입금처리\n",
    "    def inMoney(self, money):\n",
    "        self.balance += money\n",
    "        \n",
    "    # 출금처리\n",
    "    def outMoney(self, money):\n",
    "        if money > self.balance:\n",
    "            return 0\n",
    "        else:\n",
    "            self.balance -= money\n",
    "            return money\n",
    "        \n",
    "    # 계좌번호 반환\n",
    "    def getNum(self):\n",
    "        return num\n",
    "    \n",
    "    # 고객정보 출력\n",
    "    def disp(self):\n",
    "        print(self.num, self.name, self.balance, sep = \"\\t\")\n",
    "        \n",
    "    # 잔액 반환\n",
    "    def getBalance(self):\n",
    "        return self.balance"
   ]
  },
  {
   "cell_type": "code",
   "execution_count": null,
   "id": "37caba59",
   "metadata": {
    "ExecuteTime": {
     "end_time": "2022-09-07T07:19:52.558138Z",
     "start_time": "2022-09-07T07:19:52.546051Z"
    }
   },
   "outputs": [],
   "source": [
    "acc_list = {}\n",
    "\n",
    "num = \"111\"\n",
    "name = \"aaa\"\n",
    "money = 10000\n",
    "acc = Account(num, name, money)\n",
    "acc_list[num] = acc\n",
    "\n",
    "print(acc_list[num].disp())"
   ]
  },
  {
   "cell_type": "code",
   "execution_count": null,
   "id": "baf69ba1",
   "metadata": {
    "ExecuteTime": {
     "end_time": "2022-09-07T07:24:46.644065Z",
     "start_time": "2022-09-07T07:24:46.635750Z"
    }
   },
   "outputs": [],
   "source": [
    "a = []\n",
    "\n",
    "a.append(acc)\n",
    "\n",
    "print(a[0].disp())"
   ]
  },
  {
   "cell_type": "code",
   "execution_count": null,
   "id": "0c24a0d2",
   "metadata": {
    "ExecuteTime": {
     "end_time": "2022-09-07T07:44:11.219679Z",
     "start_time": "2022-09-07T07:44:11.209408Z"
    }
   },
   "outputs": [],
   "source": [
    "# 여러 명의 계좌정보를 저장하기 위한 기억공간\n",
    "accList = {}  # accList = dict()로 구현가능\n",
    "\n",
    "# 메뉴 출력하는 메서드\n",
    "def showMenu():\n",
    "    print(\"\\n == Bank Menu ==\")\n",
    "    print(\"1. 계좌개설\")\n",
    "    print(\"2. 입금처리\")\n",
    "    print(\"3. 출금처리\")\n",
    "    print(\"4. 전체고객 잔액조회\")\n",
    "    print(\"5. 프로그램 종료\")\n",
    "    print(\"=\" * 30)\n",
    " \n",
    "\n",
    " # 계좌 개설을 위한 메서드\n",
    "def makeAccount():\n",
    "    num = input(\"계좌번호 = \")\n",
    "    \n",
    "    while num in accList.keys():\n",
    "        num = input(\"계좌번호 = \")\n",
    "        \n",
    "    name = input(\"고객이름 = \")\n",
    "    money = int(input(\"예금금액 = \"))\n",
    "    acc = Account(num, name, money)\n",
    "    accList[num] = acc\n",
    "    print(\"계좌 개설이 완료되었습니다.\")\n",
    "    \n",
    "# 입금처리를 위한 메서드\n",
    "def withDraw():\n",
    "    num = input(\"계좌번호 = \")\n",
    "    \n",
    "    while num in accList.keys():\n",
    "        money = int(input(\"예금금액 = \"))\n",
    "        accList[num].inMoney(money)\n",
    "        break\n",
    "    else:\n",
    "        print(\"계좌번호가 존재하지 않습니다.\")\n",
    "        \n",
    "# 전체 고객에 대한 잔액을 조회하는 메서드\n",
    "def showAllAccount():\n",
    "    print(\"\\n == 전체고객 잔액조회 ==\")\n",
    "    for i in accList.keys():\n",
    "        accList[i].disp()"
   ]
  },
  {
   "cell_type": "code",
   "execution_count": null,
   "id": "2dfaa872",
   "metadata": {
    "ExecuteTime": {
     "end_time": "2022-09-07T07:46:15.192831Z",
     "start_time": "2022-09-07T07:44:20.551313Z"
    }
   },
   "outputs": [],
   "source": [
    "print(\"은행 계좌관리 프로그램을 시작합니다.\")\n",
    "\n",
    "while True:\n",
    "    showMenu()\n",
    "    menu = int(input(\"menu = \"))\n",
    "    \n",
    "    if menu == 1:\n",
    "        makeAccount()\n",
    "    elif menu == 2:\n",
    "        withDraw()\n",
    "    elif menu == 3:\n",
    "        pass\n",
    "    elif menu == 4:\n",
    "        showAllAccount()\n",
    "    elif menu == 5:\n",
    "        break\n",
    "    else:\n",
    "        print(\"메뉴의 선택이 올바르지 않습니다.\")\n",
    "        \n",
    "print(\"은행 계좌관리 프로그램을 종료합니다.\")"
   ]
  },
  {
   "cell_type": "code",
   "execution_count": null,
   "id": "675dee87",
   "metadata": {},
   "outputs": [],
   "source": []
  }
 ],
 "metadata": {
  "kernelspec": {
   "display_name": "Python 3 (ipykernel)",
   "language": "python",
   "name": "python3"
  },
  "language_info": {
   "codemirror_mode": {
    "name": "ipython",
    "version": 3
   },
   "file_extension": ".py",
   "mimetype": "text/x-python",
   "name": "python",
   "nbconvert_exporter": "python",
   "pygments_lexer": "ipython3",
   "version": "3.9.12"
  },
  "toc": {
   "base_numbering": 1,
   "nav_menu": {},
   "number_sections": true,
   "sideBar": true,
   "skip_h1_title": false,
   "title_cell": "Table of Contents",
   "title_sidebar": "Contents",
   "toc_cell": false,
   "toc_position": {},
   "toc_section_display": true,
   "toc_window_display": false
  }
 },
 "nbformat": 4,
 "nbformat_minor": 5
}
