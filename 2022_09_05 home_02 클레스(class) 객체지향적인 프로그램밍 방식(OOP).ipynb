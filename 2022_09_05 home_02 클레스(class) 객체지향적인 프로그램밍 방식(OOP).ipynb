{
 "cells": [
  {
   "cell_type": "markdown",
   "id": "71541645",
   "metadata": {},
   "source": [
    "# 1. 객체지향적인 프로그래밍\n",
    "### 1. 객체지향적인 프로그래밍 : 객체를 기반으로 프로그램을 구현하는 방식\n",
    "   - 객체(Object) : 현실 세계의 모든 유형, 무형의 물질을 총칭하는 표현\n",
    "   - 객체(Object) : 봉어빵들, 걸계도\n",
    "   - 객체(Instance) : 봉어빵, 제품\n",
    "   - 객체의 구성 : 객체의 특성(변수)과 행위(함수)로 이루어져 있다\n",
    "   - 프로그램을 통해 객체를 구현할 떄 사용하는 구조가 클레스(class)\n",
    "\n",
    "### 2. \"나는 사과장수에게 2000원 어치의 사과를 구매했다\n"
   ]
  },
  {
   "cell_type": "markdown",
   "id": "bf63eb2a",
   "metadata": {},
   "source": [
    "# 객체지향에서 클래스는 객체를 표현하는 가장 기본적인 단위\n",
    " - Object(객체) : 모등ㄴ 객체의 공통의 성질(변수)를 가지고 있다\n",
    " - 클래스명 : 사람\n",
    "   -- 클래스 변수 : 이름 나이 , 혈액형....\n",
    "   "
   ]
  },
  {
   "cell_type": "markdown",
   "id": "ae432e99",
   "metadata": {},
   "source": [
    "# 클래스(Class)\n",
    "### 모듈(Module) vs 클레스(class) vs 인스턴스(Instance)\n",
    "- 모듈 : py라는 확장자로 끝나는 차이썬 파일\n",
    "- 클레스 : 사용자 정의 자료형\n",
    "  (피이썬 기본 자료형 : 정수, 실수, 문자, 논리, 리스트, 튜플, 사전, 집합)\n",
    "- 인스턴스 : 클래스로부터 만들어낸 객체\n",
    "\n",
    "### 클래스의 형식 : 키워드 Class\n",
    "-  class 클래스명 : 첫글자 대문자로\n",
    "-  맴버필드(manberfield)\n",
    "-  멤버 메서드(memer method = Fuction) 함수"
   ]
  },
  {
   "cell_type": "code",
   "execution_count": 27,
   "id": "988e3df9",
   "metadata": {},
   "outputs": [],
   "source": [
    "# 클레스 선언\n",
    "class Person :\n",
    "    # Proparity 맴버 변수(필드)\n",
    "    name = \"\"\n",
    "    age = 0\n",
    "    height = 0.0\n",
    "    \n",
    "    # Member Function (멤버함수, 메소드) \n",
    "    # Menber Function : 일반함수와 구분하기위해 self로 명시\n",
    "    def walk(self) :\n",
    "        print(self.name + \"사람이 걸어갑니다\")\n",
    "    \n",
    "    def run(self) :\n",
    "        print(self.name + \"사람이 달려갑니다\")\n",
    "\n",
    "    def disp(self) :\n",
    "        print(\"이름 : \" + self.name)\n",
    "        print(\"이름 : \" + str(self.age))\n",
    "        print(\"이름 : \" + str(self.height))"
   ]
  },
  {
   "cell_type": "code",
   "execution_count": 29,
   "id": "d1d43acd",
   "metadata": {},
   "outputs": [
    {
     "name": "stdout",
     "output_type": "stream",
     "text": [
      "이름 : 송승우\n",
      "이름 : 28\n",
      "이름 : 170.0\n",
      "송승우사람이 걸어갑니다\n"
     ]
    }
   ],
   "source": [
    "# 클래스에 접근하기 위한 instance 객체가 필요하다\n",
    "\n",
    "p1 = Person()\n",
    "p1.name = \"송승우\"\n",
    "p1.age = 28\n",
    "p1.height = 170.0\n",
    "\n",
    "p1.disp()\n",
    "p1.walk()"
   ]
  },
  {
   "cell_type": "code",
   "execution_count": 30,
   "id": "b090549f",
   "metadata": {},
   "outputs": [
    {
     "name": "stdout",
     "output_type": "stream",
     "text": [
      "이름 : 장보고\n",
      "이름 : 25\n",
      "이름 : 177.3\n",
      "장보고사람이 걸어갑니다\n"
     ]
    }
   ],
   "source": [
    "p2 = Person()\n",
    "p2.name = \"장보고\"\n",
    "p2.age = 25\n",
    "p2.height = 177.3\n",
    "\n",
    "p2.disp()\n",
    "p2.walk()\n"
   ]
  },
  {
   "cell_type": "code",
   "execution_count": 56,
   "id": "35d5fc79",
   "metadata": {},
   "outputs": [],
   "source": [
    "# '나' 객체 클래스 선언\n",
    "\n",
    "class Applesller :\n",
    "    apples = 100\n",
    "    price = 1000\n",
    "    result = 0\n",
    "    \n",
    "    def state(self) :\n",
    "        print(\"판매할 사과 객수(남은 사과수) : \", self.apples)\n",
    "        print(\"사과가격 = \", self.price)\n",
    "        print(\"매출금액\", salf.result)\n",
    "\n",
    "    def sale(self, money) :     # 판매\n",
    "        self.apple = moey // price   # 받은 돈으로 사과몇개를 계산함\n",
    "        self.apples = apples - apple # 사과수 감소\n",
    "        self.result += money         # 번 돈을 더하기"
   ]
  },
  {
   "cell_type": "code",
   "execution_count": 57,
   "id": "169b0d9f",
   "metadata": {},
   "outputs": [
    {
     "name": "stdout",
     "output_type": "stream",
     "text": [
      "판매할 사과 객수(남은 사과수) :  100\n",
      "사과가격 =  1000\n"
     ]
    },
    {
     "ename": "NameError",
     "evalue": "name 'salf' is not defined",
     "output_type": "error",
     "traceback": [
      "\u001b[1;31m---------------------------------------------------------------------------\u001b[0m",
      "\u001b[1;31mNameError\u001b[0m                                 Traceback (most recent call last)",
      "Input \u001b[1;32mIn [57]\u001b[0m, in \u001b[0;36m<cell line: 2>\u001b[1;34m()\u001b[0m\n\u001b[0;32m      1\u001b[0m a \u001b[38;5;241m=\u001b[39m Applesller()\n\u001b[1;32m----> 2\u001b[0m \u001b[43ma\u001b[49m\u001b[38;5;241;43m.\u001b[39;49m\u001b[43mstate\u001b[49m\u001b[43m(\u001b[49m\u001b[43m)\u001b[49m\n\u001b[0;32m      3\u001b[0m a\u001b[38;5;241m.\u001b[39msale(\u001b[38;5;241m10000\u001b[39m)\n\u001b[0;32m      4\u001b[0m a\u001b[38;5;241m.\u001b[39mstate()\n",
      "Input \u001b[1;32mIn [56]\u001b[0m, in \u001b[0;36mApplesller.state\u001b[1;34m(self)\u001b[0m\n\u001b[0;32m      9\u001b[0m \u001b[38;5;28mprint\u001b[39m(\u001b[38;5;124m\"\u001b[39m\u001b[38;5;124m판매할 사과 객수(남은 사과수) : \u001b[39m\u001b[38;5;124m\"\u001b[39m, \u001b[38;5;28mself\u001b[39m\u001b[38;5;241m.\u001b[39mapples)\n\u001b[0;32m     10\u001b[0m \u001b[38;5;28mprint\u001b[39m(\u001b[38;5;124m\"\u001b[39m\u001b[38;5;124m사과가격 = \u001b[39m\u001b[38;5;124m\"\u001b[39m, \u001b[38;5;28mself\u001b[39m\u001b[38;5;241m.\u001b[39mprice)\n\u001b[1;32m---> 11\u001b[0m \u001b[38;5;28mprint\u001b[39m(\u001b[38;5;124m\"\u001b[39m\u001b[38;5;124m매출금액\u001b[39m\u001b[38;5;124m\"\u001b[39m, \u001b[43msalf\u001b[49m\u001b[38;5;241m.\u001b[39mresult)\n",
      "\u001b[1;31mNameError\u001b[0m: name 'salf' is not defined"
     ]
    }
   ],
   "source": [
    "\n",
    "a = Applesller()\n",
    "a.state()\n",
    "a.sale(10000)\n",
    "a.state()\n"
   ]
  }
 ],
 "metadata": {
  "kernelspec": {
   "display_name": "Python 3 (ipykernel)",
   "language": "python",
   "name": "python3"
  },
  "language_info": {
   "codemirror_mode": {
    "name": "ipython",
    "version": 3
   },
   "file_extension": ".py",
   "mimetype": "text/x-python",
   "name": "python",
   "nbconvert_exporter": "python",
   "pygments_lexer": "ipython3",
   "version": "3.9.12"
  },
  "toc": {
   "base_numbering": 1,
   "nav_menu": {},
   "number_sections": true,
   "sideBar": true,
   "skip_h1_title": false,
   "title_cell": "Table of Contents",
   "title_sidebar": "Contents",
   "toc_cell": false,
   "toc_position": {},
   "toc_section_display": true,
   "toc_window_display": false
  }
 },
 "nbformat": 4,
 "nbformat_minor": 5
}
