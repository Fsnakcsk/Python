{
 "cells": [
  {
   "cell_type": "markdown",
   "id": "b8af98e3",
   "metadata": {},
   "source": [
    "### 객체 : Object vs Instance \n",
    "- Object : 봉어빵 틀, 설계도\n",
    "- Instance : 봉어빵, 제품"
   ]
  },
  {
   "cell_type": "code",
   "execution_count": null,
   "id": "2c2c6d1b",
   "metadata": {},
   "outputs": [],
   "source": [
    "# 자전거(Bike)\n",
    "## 특성이나 속성 - 멤버 필드 : 색상, 무게\n",
    "## 행위나 동작 - 멤버 메서드 : 기어기능, 브레이크 기능, 주행 기능 \n"
   ]
  },
  {
   "cell_type": "markdown",
   "id": "45fbbdf2",
   "metadata": {},
   "source": [
    "### 클래스(Class)\n",
    "- 객체지향 프로그램에서 객체를 표현하는 단위(구조)\n",
    "- 키워드 class로 시작함\n",
    "- 포함멤버 : 멤버필드(변수, 클래스변수), 생성자메서드, 멤버 머섣(함수), 소멸자 메서드"
   ]
  },
  {
   "cell_type": "code",
   "execution_count": 4,
   "id": "1763ab6a",
   "metadata": {},
   "outputs": [],
   "source": [
    "class Bike :\n",
    "    # 멤버 필드 = 프로포티, _, __(static, private) - public\n",
    "    \n",
    "    # 생성자 메서드\n",
    "    def __init__(self) :\n",
    "        self.color = 'black'\n",
    "        self.weight = 3\n",
    "    \n",
    "    # 멤버 메서드\n",
    "    def gear(self) :\n",
    "        print(\"gear\")\n",
    "        \n",
    "    def brake(self) :\n",
    "        print(\"break\")\n",
    "        \n",
    "    def derive(self) :\n",
    "        print(\"drive\")\n",
    "        \n",
    "    def state(self) :\n",
    "        print(\"color : \" + self.color + \" , \" + \"weight : \" + str(self.weight))\n",
    "    \n",
    "    # 소멸자 메서드 __dle__(self)"
   ]
  },
  {
   "cell_type": "markdown",
   "id": "ca3157fd",
   "metadata": {},
   "source": [
    "### 객체 생성\n",
    "- 멤버에 접근하는 연산자 : direct연산자(.)\n",
    "- 객체명.멤버필드 or 객체명.멤버메서드\n"
   ]
  },
  {
   "cell_type": "code",
   "execution_count": 5,
   "id": "714e8f33",
   "metadata": {},
   "outputs": [],
   "source": [
    "# 인스텐스 객체\n",
    "b1 = Bike() # default 생성자 : 매개변수를 가지고 있지 않은 생서자\n",
    "b2 = Bike()\n",
    "b3 = Bike()\n",
    "b4 = Bike()"
   ]
  },
  {
   "cell_type": "code",
   "execution_count": 8,
   "id": "23aa49e9",
   "metadata": {},
   "outputs": [
    {
     "name": "stdout",
     "output_type": "stream",
     "text": [
      "color : black , weight : 3\n",
      "color : black , weight : 3\n",
      "color : black , weight : 3\n",
      "color : black , weight : 3\n"
     ]
    }
   ],
   "source": [
    "b1.state()\n",
    "b2.state()\n",
    "b3.state()\n",
    "b4.state()"
   ]
  },
  {
   "cell_type": "code",
   "execution_count": 10,
   "id": "7d335261",
   "metadata": {},
   "outputs": [],
   "source": [
    "## 오버로딩(Overloding) : 다중함수\n",
    "## 동일한 이름을 가진 메서드를 여러개 만들어 사용하는 기능\n",
    "## 단, 매개변수의 개수가 다르거나 데이터타입이 달라야 한다 - Java\n",
    "# default parameter : 초기 매개 변수"
   ]
  },
  {
   "cell_type": "code",
   "execution_count": 16,
   "id": "44d029a0",
   "metadata": {},
   "outputs": [
    {
     "name": "stdout",
     "output_type": "stream",
     "text": [
      "color : black , weight : 3\n",
      "color : red , weight : 7\n"
     ]
    }
   ],
   "source": [
    "# Java style 허용이 되지만\n",
    "# Python 허용하지 않다\n",
    "# Pyton __init__ 하나만 존재해야 하며 매개변수에 초기값을 줘야 가능함 = default parameter\n",
    "\n",
    "class Bike :\n",
    "    # 멤버 필드 = 프로포티, _, __(static, private) - public\n",
    "    \n",
    "    # 생성자 메서드\n",
    "#     def __init__(self) :\n",
    "#         self.color = 'black'\n",
    "#         self.weight = 3\n",
    "        \n",
    "    def __init__(self, color='black', weight='3') :\n",
    "        self.color = color\n",
    "        self.weight = weight\n",
    "    \n",
    "    # 멤버 메서드\n",
    "    def gear(self) :\n",
    "        print(\"gear\")\n",
    "        \n",
    "    def brake(self) :\n",
    "        print(\"break\")\n",
    "        \n",
    "    def derive(self) :\n",
    "        print(\"drive\")\n",
    "        \n",
    "    def state(self) :\n",
    "        print(\"color : \" + self.color + \" , \" + \"weight : \" + str(self.weight))\n",
    "    \n",
    "    # 소멸자 메서드 __dle__(self)\n",
    "    \n",
    "ap = Bike()\n",
    "bp = Bike('red', 7)\n",
    "\n",
    "ap.state()\n",
    "bp.state()"
   ]
  },
  {
   "cell_type": "markdown",
   "id": "ef391434",
   "metadata": {},
   "source": [
    "### 접근 제한자(지정자)\n",
    "- publie : 클래서 외에서 접근이 허용된다. 일반적으로 생략\n",
    "- protected : 상속관계에서 접근 허용. 파이썬은 지원하지 않다\n",
    "- private : 클래스 내에서만 접건 허용"
   ]
  },
  {
   "cell_type": "code",
   "execution_count": 8,
   "id": "80de81c6",
   "metadata": {},
   "outputs": [],
   "source": [
    "# 외부에서 객체의 속성과 기능에 접근을 제한할 수 있다\n",
    "# java = private , Python =  __, _까지허용\n",
    "# protected 네이밍 규칙 : _ 사용\n",
    "class PayGildong : \n",
    "\n",
    "    def __init__(self) :\n",
    "        self.day = 25\n",
    "        self.__pay = 1000000 # private : 외부 접근 불가\n",
    "    \n",
    "    def setPay(self, pay) :\n",
    "        self.__pay = pay\n",
    "        \n",
    "    def getPay(self) :\n",
    "        return self.__pay\n",
    "        "
   ]
  },
  {
   "cell_type": "code",
   "execution_count": 14,
   "id": "28fcc67a",
   "metadata": {},
   "outputs": [
    {
     "name": "stdout",
     "output_type": "stream",
     "text": [
      "1000000 25\n"
     ]
    }
   ],
   "source": [
    "gd = PayGildong()\n",
    "#gd.day = 14\n",
    "#gd.__pay = 800000 ****** 이런 문제 쓰면 안됨, 안그러면 이름이 같은 새로운 변수가 생김.\n",
    "\n",
    "#gd.setPay(80000)\n",
    "#gd.__pay\n",
    "gd.getPay()\n",
    "print(gd.getPay(), gd.day)"
   ]
  },
  {
   "cell_type": "markdown",
   "id": "0123d08c",
   "metadata": {},
   "source": [
    "### 객체 생성 메서드와 초기화 메서드"
   ]
  },
  {
   "cell_type": "code",
   "execution_count": 60,
   "id": "57ff0f91",
   "metadata": {},
   "outputs": [
    {
     "name": "stdout",
     "output_type": "stream",
     "text": [
      "radius :  5\n"
     ]
    }
   ],
   "source": [
    "# 객체 생성 메서드 : 생성자 메서드(__init__)\n",
    "# 초기화 메서드 : 멤버 필드의 처음값을 지정하는 메서드\n",
    "\n",
    "class Circle :\n",
    "#     def __init__(self) : 생략 가능\n",
    "\n",
    "    def start(self) :\n",
    "        self.radius = 5\n",
    "        \n",
    "    def disp(self) :\n",
    "        print(\"radius : \", self.radius)\n",
    "    \n",
    "ap = Circle() # default 생성자메소드 호출.. 생성자 없을 경우 생략된 것으로 간주\n",
    "# ap.radius = 1 혹은 \n",
    "ap.start()\n",
    "ap.disp()\n"
   ]
  },
  {
   "cell_type": "code",
   "execution_count": 78,
   "id": "590e3d9f",
   "metadata": {},
   "outputs": [
    {
     "name": "stdout",
     "output_type": "stream",
     "text": [
      "radius :  1\n",
      "radius :  5\n"
     ]
    }
   ],
   "source": [
    "# 생성자 메서드 : 멤버 필드를 초기화 시켜주는 역할\n",
    "class Circle :     \n",
    "    \n",
    "    def __init__(self) :\n",
    "        self.raidus = 1\n",
    "        \n",
    "    def start(self, raidus) :\n",
    "        self.raidus = raidus\n",
    "        \n",
    "    def disp(self) :\n",
    "        print(\"radius : \", self.raidus)\n",
    "        \n",
    "ap = Circle()\n",
    "ap.disp()\n",
    "\n",
    "ap.start(5)\n",
    "ap.disp()"
   ]
  },
  {
   "cell_type": "code",
   "execution_count": 79,
   "id": "d48ec752",
   "metadata": {},
   "outputs": [
    {
     "name": "stdout",
     "output_type": "stream",
     "text": [
      "radius :  1\n",
      "radius :  5\n"
     ]
    }
   ],
   "source": [
    "class Circle :     \n",
    "    \n",
    "    def __init__(self, radius = 1) :\n",
    "        self.raidus = radius\n",
    "        \n",
    "    def disp(self) :\n",
    "        print(\"radius : \", self.raidus)\n",
    "        \n",
    "bp = Circle()\n",
    "cp = Circle(5)\n",
    "bp.disp()\n",
    "cp.disp()\n"
   ]
  },
  {
   "cell_type": "code",
   "execution_count": 104,
   "id": "d628549a",
   "metadata": {},
   "outputs": [],
   "source": [
    "class PayGildong :\n",
    "    __pay = 1000000\n",
    "    day = 25\n",
    "    \n",
    "    def setPay(set, pay) :\n",
    "        self.__pay = pay\n",
    "        \n",
    "    def disp(self) :\n",
    "        print(\"radius : \", self.raidus)\n",
    "        \n"
   ]
  },
  {
   "cell_type": "code",
   "execution_count": 107,
   "id": "119197e5",
   "metadata": {},
   "outputs": [
    {
     "ename": "AttributeError",
     "evalue": "'PayGildong' object has no attribute '__pay'",
     "output_type": "error",
     "traceback": [
      "\u001b[1;31m---------------------------------------------------------------------------\u001b[0m",
      "\u001b[1;31mAttributeError\u001b[0m                            Traceback (most recent call last)",
      "Input \u001b[1;32mIn [107]\u001b[0m, in \u001b[0;36m<cell line: 3>\u001b[1;34m()\u001b[0m\n\u001b[0;32m      1\u001b[0m p \u001b[38;5;241m=\u001b[39m PayGildong()\n\u001b[0;32m      2\u001b[0m \u001b[38;5;66;03m#p.__pay -= 10000\u001b[39;00m\n\u001b[1;32m----> 3\u001b[0m \u001b[38;5;28mprint\u001b[39m(\u001b[43mp\u001b[49m\u001b[38;5;241;43m.\u001b[39;49m\u001b[43m__pay\u001b[49m)\n",
      "\u001b[1;31mAttributeError\u001b[0m: 'PayGildong' object has no attribute '__pay'"
     ]
    }
   ],
   "source": [
    "p = PayGildong()\n",
    "#p.__pay -= 10000\n",
    "print(p.__pay)"
   ]
  },
  {
   "cell_type": "code",
   "execution_count": 109,
   "id": "4c3234ad",
   "metadata": {},
   "outputs": [
    {
     "name": "stdout",
     "output_type": "stream",
     "text": [
      "['__class__', '__delattr__', '__dict__', '__dir__', '__doc__', '__eq__', '__format__', '__ge__', '__getattribute__', '__gt__', '__hash__', '__init__', '__init_subclass__', '__le__', '__lt__', '__module__', '__ne__', '__new__', '__reduce__', '__reduce_ex__', '__repr__', '__setattr__', '__sizeof__', '__str__', '__subclasshook__', '__weakref__', 'disp']\n"
     ]
    }
   ],
   "source": [
    "class A :\n",
    "    def disp(self) :\n",
    "        print(dir(A))\n",
    "        \n",
    "aa = A()\n",
    "aa.disp()"
   ]
  },
  {
   "cell_type": "code",
   "execution_count": 110,
   "id": "94ed02b2",
   "metadata": {},
   "outputs": [
    {
     "data": {
      "text/plain": [
       "True"
      ]
     },
     "execution_count": 110,
     "metadata": {},
     "output_type": "execute_result"
    }
   ],
   "source": [
    "isinstance(aa, A)"
   ]
  },
  {
   "cell_type": "code",
   "execution_count": null,
   "id": "05a6b2b7",
   "metadata": {},
   "outputs": [],
   "source": []
  },
  {
   "cell_type": "markdown",
   "id": "294d5338",
   "metadata": {},
   "source": [
    "### 정적(Static) 메소드와 클래스 메소드 \n",
    "- 데코레이션(@) "
   ]
  },
  {
   "cell_type": "code",
   "execution_count": 101,
   "id": "b802e9d8",
   "metadata": {},
   "outputs": [],
   "source": [
    "class Earth :\n",
    "    \n",
    "    @staticmethod\n",
    "    def getRadius() :\n",
    "        return 6400 \n",
    "    \n",
    "    @staticmethod\n",
    "    def getArea():\n",
    "        return 514457600"
   ]
  },
  {
   "cell_type": "code",
   "execution_count": 102,
   "id": "e7b9e990",
   "metadata": {},
   "outputs": [
    {
     "name": "stdout",
     "output_type": "stream",
     "text": [
      "Earth Radius :  6400\n",
      "Earth Area :  514457600\n"
     ]
    }
   ],
   "source": [
    "print(\"Earth Radius : \", Earth.getRadius())\n",
    "print(\"Earth Area : \", Earth.getArea())"
   ]
  },
  {
   "cell_type": "code",
   "execution_count": null,
   "id": "be87887b",
   "metadata": {},
   "outputs": [],
   "source": []
  },
  {
   "cell_type": "code",
   "execution_count": 118,
   "id": "c3fadb49",
   "metadata": {
    "scrolled": true
   },
   "outputs": [
    {
     "name": "stdout",
     "output_type": "stream",
     "text": [
      "public function\n",
      "private function\n"
     ]
    }
   ],
   "source": [
    "class AAA :\n",
    "    \n",
    "    def __k(self) :\n",
    "        print(\"private function\")\n",
    "    \n",
    "    def kk(self) :\n",
    "        print(\"public function\")\n",
    "        \n",
    "    def disp(self) :\n",
    "        self.__k()\n",
    "\n",
    "aaa = AAA()\n",
    "#aaa.__k()\n",
    "aaa.kk()\n",
    "aaa.disp()"
   ]
  },
  {
   "cell_type": "code",
   "execution_count": 122,
   "id": "f18facbc",
   "metadata": {},
   "outputs": [
    {
     "name": "stdout",
     "output_type": "stream",
     "text": [
      "['_BBB__a', '__class__', '__delattr__', '__dict__', '__dir__', '__doc__', '__eq__', '__format__', '__ge__', '__getattribute__', '__gt__', '__hash__', '__init__', '__init_subclass__', '__le__', '__lt__', '__module__', '__ne__', '__new__', '__reduce__', '__reduce_ex__', '__repr__', '__setattr__', '__sizeof__', '__str__', '__subclasshook__', '__weakref__', 'b', 'disp']\n"
     ]
    }
   ],
   "source": [
    "class BBB :\n",
    "    __a = 100\n",
    "    b = 200\n",
    "    \n",
    "    def disp(self) :\n",
    "        print(\"a : \", self.__a)\n",
    "        print(\"b : \", self.b)\n",
    "\n",
    "bbb = BBB()\n",
    "#print(bbb.__a)\n",
    "print(dir(BBB))"
   ]
  },
  {
   "cell_type": "code",
   "execution_count": 124,
   "id": "629d2e66",
   "metadata": {},
   "outputs": [
    {
     "name": "stdout",
     "output_type": "stream",
     "text": [
      "안녕하세요\n"
     ]
    }
   ],
   "source": [
    "# 대입 연산자 or 활당 연산자 or 치환연산자\n",
    "# 파이썬은 모든 것을 객체로 취급한다\n",
    "print(\"안녕하세요\")\n"
   ]
  },
  {
   "cell_type": "code",
   "execution_count": 125,
   "id": "44713165",
   "metadata": {},
   "outputs": [],
   "source": [
    "love = print"
   ]
  },
  {
   "cell_type": "code",
   "execution_count": 127,
   "id": "07b19fde",
   "metadata": {},
   "outputs": [
    {
     "name": "stdout",
     "output_type": "stream",
     "text": [
      "이것도 print 기능을 가진다 \n"
     ]
    }
   ],
   "source": [
    "love(\"이것도 print 기능을 가진다 \")"
   ]
  },
  {
   "cell_type": "markdown",
   "id": "f08e7422",
   "metadata": {},
   "source": [
    " ### 상속(Inheritance)"
   ]
  },
  {
   "cell_type": "code",
   "execution_count": 128,
   "id": "fbf98dec",
   "metadata": {},
   "outputs": [],
   "source": [
    "class P :\n",
    "    x = 1\n",
    "    y = 2\n",
    "    z = 3\n",
    "    "
   ]
  },
  {
   "cell_type": "code",
   "execution_count": 131,
   "id": "fa0caa30",
   "metadata": {},
   "outputs": [
    {
     "name": "stdout",
     "output_type": "stream",
     "text": [
      "1\n",
      "2\n",
      "3\n"
     ]
    }
   ],
   "source": [
    "pp = P()\n",
    "print(pp.x)\n",
    "print(pp.y)\n",
    "print(pp.z)"
   ]
  },
  {
   "cell_type": "code",
   "execution_count": 139,
   "id": "c3f7dcdb",
   "metadata": {},
   "outputs": [],
   "source": [
    "class CC(P) :\n",
    "    x = 10\n",
    "    y = 20"
   ]
  },
  {
   "cell_type": "code",
   "execution_count": 141,
   "id": "311a80ff",
   "metadata": {},
   "outputs": [
    {
     "name": "stdout",
     "output_type": "stream",
     "text": [
      "10\n",
      "20\n",
      "3\n"
     ]
    }
   ],
   "source": [
    "c = CC()\n",
    "print(c.x)\n",
    "print(c.y)\n",
    "print(c.z)"
   ]
  },
  {
   "cell_type": "code",
   "execution_count": 145,
   "id": "17621ad0",
   "metadata": {},
   "outputs": [],
   "source": [
    "class Parent :\n",
    "    \n",
    "    def __init__(self) :\n",
    "        pass\n",
    "    \n",
    "    def disp(self) :\n",
    "        print(\"Hello\")\n",
    "        \n",
    "class Child(Parent) :\n",
    "    \n",
    "    def __init__(self) :\n",
    "        pass\n",
    "        "
   ]
  },
  {
   "cell_type": "code",
   "execution_count": 146,
   "id": "5ea7174f",
   "metadata": {},
   "outputs": [
    {
     "name": "stdout",
     "output_type": "stream",
     "text": [
      "Hello\n"
     ]
    }
   ],
   "source": [
    "c = Child()\n",
    "c.disp()"
   ]
  },
  {
   "cell_type": "code",
   "execution_count": 155,
   "id": "07750b4c",
   "metadata": {},
   "outputs": [
    {
     "name": "stdout",
     "output_type": "stream",
     "text": [
      "Python\n",
      "C++\n",
      "Java\n"
     ]
    }
   ],
   "source": [
    "class Parent :\n",
    "    \n",
    "    def __init__(self) :\n",
    "        self.a = \"Python\"\n",
    "        self.b = \"C++\"\n",
    "        self.c = \"Java\"\n",
    "    \n",
    "    def disp(self) :\n",
    "        print(self.a)\n",
    "        print(self.b)\n",
    "        print(self.c)\n",
    "        \n",
    "class Child(Parent) :\n",
    "    \n",
    "    def __init__(self) :\n",
    "        Parent.__init__(self) \n",
    "        pass\n",
    "    \n",
    "    \n",
    "# 상속을 받은 자식은 반드시 부모 객체의 멤버를 초기화 시킬 의무가 있다\n",
    "# 부모 객체가 생성자가 존재한다면 자식 객체도 생성자를 통해 부모 멤버를 초기화한다\n",
    "c = Child()\n",
    "c.disp()"
   ]
  },
  {
   "cell_type": "markdown",
   "id": "6bb8e2f0",
   "metadata": {},
   "source": [
    "### 오버라이딩 (Overriding, 재정의)\n",
    "- 부모와 자녀가 동일한 이름의 메소드를 가지고 있는 기능\n",
    "- 자녀객체의 메소드가 호출된다"
   ]
  },
  {
   "cell_type": "code",
   "execution_count": 2,
   "id": "f318f10f",
   "metadata": {},
   "outputs": [],
   "source": [
    "class Parent :\n",
    "    \n",
    "    def __init__(self) :\n",
    "        pass\n",
    "    \n",
    "    def cooking(self) :\n",
    "        print(\"make pizza\")\n",
    "        \n",
    "class Child(Parent) :\n",
    "    \n",
    "    def __init__(self) :\n",
    "        pass\n",
    "    \n",
    "    def cooking(self) :\n",
    "        Parent.cooking(self)\n",
    "        print(\"make pasta\")"
   ]
  },
  {
   "cell_type": "code",
   "execution_count": 4,
   "id": "ac6dca00",
   "metadata": {},
   "outputs": [
    {
     "name": "stdout",
     "output_type": "stream",
     "text": [
      "make pizza\n",
      "make pasta\n"
     ]
    }
   ],
   "source": [
    "ccp = Child()\n",
    "ccp.cooking()"
   ]
  },
  {
   "cell_type": "markdown",
   "id": "a496015f",
   "metadata": {},
   "source": [
    "### 다중상속"
   ]
  },
  {
   "cell_type": "code",
   "execution_count": 11,
   "id": "75d795ca",
   "metadata": {},
   "outputs": [
    {
     "name": "stdout",
     "output_type": "stream",
     "text": [
      "통화 기능\n",
      "촬영 기능\n",
      "영상통화 기능\n"
     ]
    }
   ],
   "source": [
    "class Phone :\n",
    "    def call(self) :\n",
    "        print(\"통화 기능\")\n",
    "    \n",
    "class Camera :\n",
    "    def picture(self) :\n",
    "        print(\"촬영 기능\")\n",
    "        \n",
    "class SmartPhone(Phone, Camera) :\n",
    "    def pictrueCall(self) :\n",
    "        print(\"영상통화 기능\")\n",
    "        \n",
    "sp = SmartPhone()\n",
    "sp.call()\n",
    "sp.picture()\n",
    "sp.pictrueCall()"
   ]
  },
  {
   "cell_type": "markdown",
   "id": "3b47a7b2",
   "metadata": {},
   "source": [
    "### 다형성"
   ]
  },
  {
   "cell_type": "code",
   "execution_count": 14,
   "id": "428fd0c5",
   "metadata": {},
   "outputs": [],
   "source": [
    "# 부모객체에 자식객체를 담아서 사용\n",
    "class Phone :\n",
    "    def call(self) :\n",
    "        print(\"전화 기능\")\n",
    "    \n",
    "class FolderPhone(Phone) :\n",
    "    def call(self) :   #오버라이딩(함수 재정의)\n",
    "        print(\"통화 기능\")\n",
    "        \n",
    "class CameraPhone(Phone) :\n",
    "    def call(self) :\n",
    "        print(\"통화 + 카메라 기능\")\n",
    "\n",
    "class SmartPhone(Phone) :\n",
    "    def call(self) :\n",
    "        print(\"통화 + 카메라 + 인터넷 기능\")"
   ]
  },
  {
   "cell_type": "code",
   "execution_count": 15,
   "id": "c1656969",
   "metadata": {},
   "outputs": [
    {
     "name": "stdout",
     "output_type": "stream",
     "text": [
      "전화 기능\n",
      "통화 기능\n",
      "통화 + 카메라 기능\n",
      "통화 + 카메라 + 인터넷 기능\n"
     ]
    }
   ],
   "source": [
    "p = Phone()\n",
    "p.call()\n",
    "\n",
    "p = FolderPhone()\n",
    "p.call()\n",
    "\n",
    "p = CameraPhone()\n",
    "p.call()\n",
    "\n",
    "p = SmartPhone()\n",
    "p.call()"
   ]
  },
  {
   "cell_type": "markdown",
   "id": "4bb00d2c",
   "metadata": {},
   "source": [
    "### super() 부모객체를 가르키는 메소드"
   ]
  },
  {
   "cell_type": "code",
   "execution_count": 5,
   "id": "745f998a",
   "metadata": {},
   "outputs": [],
   "source": [
    "class Parent :\n",
    "    \n",
    "    def __init__(self) :\n",
    "        self.a = \"Python\"\n",
    "        self.b = \"C++\"\n",
    "        self.c = \"Java\"\n",
    "    \n",
    "    def disp(self) :\n",
    "        print(self.a)\n",
    "        print(self.b)\n",
    "        print(self.c)\n",
    "        \n",
    "class Child(Parent) :\n",
    "    \n",
    "    def __init__(self) :\n",
    "        super().__init__()  # super() - 부모 default생성자, self는 생락한다\n",
    "        pass\n",
    "    "
   ]
  },
  {
   "cell_type": "code",
   "execution_count": 6,
   "id": "0a5a7e69",
   "metadata": {},
   "outputs": [
    {
     "name": "stdout",
     "output_type": "stream",
     "text": [
      "Python\n",
      "C++\n",
      "Java\n"
     ]
    }
   ],
   "source": [
    "c = Child()\n",
    "c.disp()"
   ]
  }
 ],
 "metadata": {
  "kernelspec": {
   "display_name": "Python 3 (ipykernel)",
   "language": "python",
   "name": "python3"
  },
  "language_info": {
   "codemirror_mode": {
    "name": "ipython",
    "version": 3
   },
   "file_extension": ".py",
   "mimetype": "text/x-python",
   "name": "python",
   "nbconvert_exporter": "python",
   "pygments_lexer": "ipython3",
   "version": "3.9.12"
  },
  "toc": {
   "base_numbering": 1,
   "nav_menu": {},
   "number_sections": true,
   "sideBar": true,
   "skip_h1_title": false,
   "title_cell": "Table of Contents",
   "title_sidebar": "Contents",
   "toc_cell": false,
   "toc_position": {},
   "toc_section_display": true,
   "toc_window_display": false
  }
 },
 "nbformat": 4,
 "nbformat_minor": 5
}
