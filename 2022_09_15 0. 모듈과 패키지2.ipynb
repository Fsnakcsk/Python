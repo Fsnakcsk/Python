{
 "cells": [
  {
   "cell_type": "code",
   "execution_count": 10,
   "id": "ac2934a7",
   "metadata": {},
   "outputs": [],
   "source": [
    "# 문자열 모듈\n",
    "import string"
   ]
  },
  {
   "cell_type": "code",
   "execution_count": 22,
   "id": "fb46e90d",
   "metadata": {},
   "outputs": [
    {
     "name": "stdout",
     "output_type": "stream",
     "text": [
      "capwords :  All That I Need You\n",
      "upper :  ALL THAT I NEED YOU\n",
      "lower :  all that i need you\n",
      "split :  ['All', 'that', 'i', 'need', 'you']\n",
      "replace :  All that i need me\n",
      "find :  11\n",
      "count :  2\n"
     ]
    }
   ],
   "source": [
    "text  = \"All that i need you\"\n",
    "\n",
    "# capwords 첫글자만 대문자료 표현하는 함수 \n",
    "print(\"capwords : \", string.capwords(text))\n",
    "\n",
    "# upper 전체 대문자로 변환\n",
    "print(\"upper : \", text.upper())\n",
    "\n",
    "# lower 전체 소문자로 변환\n",
    "print(\"lower : \", text.lower())\n",
    "\n",
    "# split 구분기호로 나누기\n",
    "print(\"split : \", text.split(\" \"))\n",
    "\n",
    "# replace 치환\n",
    "print(\"replace : \", text.replace(\"you\", \"me\"))\n",
    "\n",
    "# find 문자열의 위치를 찾는 함수\n",
    "print(\"find : \", text.find(\"need\"))\n",
    "\n",
    "# count 글자수 세기 \n",
    "print(\"count : \", text.count(\"e\"))"
   ]
  },
  {
   "cell_type": "markdown",
   "id": "11d7208f",
   "metadata": {},
   "source": [
    "##### Question \n",
    "- 사용자로부터 30글자 이상의 문자열을 입력받아서 처리한다.\n",
    "- 알팟벳이 몇개로 구성되어씨는지 출력한다. isalpha() : 참이면(1)반환True 거짓이면 (0)False\n",
    "- 대문자 ispupper(), 소문자 islower() 각각 몇개로 구성되었는지 출력"
   ]
  },
  {
   "cell_type": "code",
   "execution_count": 30,
   "id": "7c5eeb4e",
   "metadata": {},
   "outputs": [
    {
     "name": "stdout",
     "output_type": "stream",
     "text": [
      "30글자 이상의 영문장을 입력하세요asdf56as4dfa\n",
      "알파펫 =  9\n",
      "소문자 =  9\n",
      "대문자파펫 =  0\n"
     ]
    }
   ],
   "source": [
    "text = input(\"30글자 이상의 영문장을 입력하세요\")\n",
    "alpha = 0\n",
    "lower = 0\n",
    "upper = 0\n",
    "\n",
    "for word in text :\n",
    "    alpha += word.isalpha()\n",
    "    lower += word.islower()\n",
    "    upper += word.isupper()\n",
    "\n",
    "print(\"알파펫 = \" , alpha)\n",
    "print(\"소문자 = \" , lower)\n",
    "print(\"대문자파펫 = \" , upper)"
   ]
  },
  {
   "cell_type": "markdown",
   "id": "c1448a71",
   "metadata": {},
   "source": [
    "### 만든 모듈 가져오기"
   ]
  },
  {
   "cell_type": "code",
   "execution_count": 37,
   "id": "48157f11",
   "metadata": {},
   "outputs": [
    {
     "name": "stdout",
     "output_type": "stream",
     "text": [
      "더하기 결과 =  8\n",
      "뺴기 결과 =  2\n"
     ]
    }
   ],
   "source": [
    "#전체 가져오기\n",
    "import mod1  # 혹은 from mod1 import *\n",
    "\n",
    "print(\"더하기 결과 = \",mod1.add(3, 5))\n",
    "print(\"뺴기 결과 = \",mod1.sub(4, 2))"
   ]
  },
  {
   "cell_type": "code",
   "execution_count": 11,
   "id": "9975fa25",
   "metadata": {},
   "outputs": [
    {
     "name": "stdout",
     "output_type": "stream",
     "text": [
      "더하기 결과 =  8\n",
      "뺴기 결과 =  2\n"
     ]
    }
   ],
   "source": [
    "# 일부만 가져오기\n",
    "from mod1 import add, sub\n",
    "print(\"더하기 결과 = \", add(3, 5))\n",
    "print(\"뺴기 결과 = \", sub(4, 2))"
   ]
  },
  {
   "cell_type": "code",
   "execution_count": 1,
   "id": "2760b95a",
   "metadata": {},
   "outputs": [
    {
     "ename": "NameError",
     "evalue": "name 'mod1' is not defined",
     "output_type": "error",
     "traceback": [
      "\u001b[1;31m---------------------------------------------------------------------------\u001b[0m",
      "\u001b[1;31mNameError\u001b[0m                                 Traceback (most recent call last)",
      "Input \u001b[1;32mIn [1]\u001b[0m, in \u001b[0;36m<cell line: 1>\u001b[1;34m()\u001b[0m\n\u001b[1;32m----> 1\u001b[0m \u001b[43mmod1\u001b[49m\u001b[38;5;241m.\u001b[39madd(\u001b[38;5;124m\"\u001b[39m\u001b[38;5;124mkor\u001b[39m\u001b[38;5;124m\"\u001b[39m, \u001b[38;5;241m3\u001b[39m)\n",
      "\u001b[1;31mNameError\u001b[0m: name 'mod1' is not defined"
     ]
    }
   ],
   "source": [
    "mod1.add(\"kor\", 3)"
   ]
  },
  {
   "cell_type": "code",
   "execution_count": 18,
   "id": "b08b3c7d",
   "metadata": {},
   "outputs": [
    {
     "name": "stdout",
     "output_type": "stream",
     "text": [
      "자료형이 일치하지 않습니다.\n"
     ]
    }
   ],
   "source": [
    "import mod2\n",
    "mod2.safe_sum(\"kor\", 3)"
   ]
  },
  {
   "cell_type": "code",
   "execution_count": 20,
   "id": "ca998545",
   "metadata": {},
   "outputs": [],
   "source": [
    "import mod1"
   ]
  },
  {
   "cell_type": "markdown",
   "id": "bdd1d670",
   "metadata": {},
   "source": [
    "### Mod3에 클래스 담아 가져오기"
   ]
  },
  {
   "cell_type": "code",
   "execution_count": 22,
   "id": "99242ee5",
   "metadata": {},
   "outputs": [],
   "source": [
    "import students"
   ]
  },
  {
   "cell_type": "code",
   "execution_count": 24,
   "id": "7fbc67b4",
   "metadata": {},
   "outputs": [
    {
     "name": "stdout",
     "output_type": "stream",
     "text": [
      "__main__\n"
     ]
    }
   ],
   "source": [
    "print(__name__)"
   ]
  },
  {
   "cell_type": "code",
   "execution_count": 25,
   "id": "bf82fdad",
   "metadata": {},
   "outputs": [],
   "source": [
    "from students import*"
   ]
  },
  {
   "cell_type": "code",
   "execution_count": 26,
   "id": "bac28ed3",
   "metadata": {},
   "outputs": [
    {
     "name": "stdout",
     "output_type": "stream",
     "text": [
      "====== 학생 관리 ======\n",
      "1. 학생 등록\n",
      "2. 학번 검색\n",
      "3. 학번 수정\n",
      "4. 같은 이름 학생 확인\n",
      "5. 전체 출력\n",
      "6. 프로그램 종료\n",
      "=======================\n",
      "\n",
      "번호 입력 : 6\n",
      "\n",
      "프로그램을 종료합니다.\n"
     ]
    }
   ],
   "source": [
    "stu = Student()\n",
    "stu.menu()"
   ]
  },
  {
   "cell_type": "markdown",
   "id": "d03839d9",
   "metadata": {},
   "source": [
    "### 패키지(Package) \n",
    "- 물리적으로 여러개의 모듈을 모아놓은 디렉토리(폴더)\n",
    "- 모듈 : 파이썬 파일(*.py)\n",
    "- 패키지 : 딕레토리(폴더)"
   ]
  },
  {
   "cell_type": "code",
   "execution_count": 27,
   "id": "55140e56",
   "metadata": {},
   "outputs": [],
   "source": [
    "# __init__.py  파일의 의미\n",
    "# 해당 디렉토리가 매키지임을 알려주는 역할을 수행하는 파일\n",
    "# 파이썬 버전 3.3버전부터는 없어도 패키지로 인식 가능하다."
   ]
  },
  {
   "cell_type": "code",
   "execution_count": null,
   "id": "031e6c79",
   "metadata": {},
   "outputs": [],
   "source": []
  }
 ],
 "metadata": {
  "kernelspec": {
   "display_name": "Python 3 (ipykernel)",
   "language": "python",
   "name": "python3"
  },
  "language_info": {
   "codemirror_mode": {
    "name": "ipython",
    "version": 3
   },
   "file_extension": ".py",
   "mimetype": "text/x-python",
   "name": "python",
   "nbconvert_exporter": "python",
   "pygments_lexer": "ipython3",
   "version": "3.9.12"
  },
  "toc": {
   "base_numbering": 1,
   "nav_menu": {},
   "number_sections": true,
   "sideBar": true,
   "skip_h1_title": false,
   "title_cell": "Table of Contents",
   "title_sidebar": "Contents",
   "toc_cell": false,
   "toc_position": {},
   "toc_section_display": true,
   "toc_window_display": false
  }
 },
 "nbformat": 4,
 "nbformat_minor": 5
}
