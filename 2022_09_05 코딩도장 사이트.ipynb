{
 "cells": [
  {
   "cell_type": "markdown",
   "id": "872659e5",
   "metadata": {},
   "source": [
    "### Unit8. 불과 비교, 논리 연산자 알아보기"
   ]
  },
  {
   "cell_type": "code",
   "execution_count": 1,
   "id": "8d3b33f9",
   "metadata": {
    "ExecuteTime": {
     "end_time": "2022-09-05T06:08:36.222310Z",
     "start_time": "2022-09-05T06:08:36.215222Z"
    }
   },
   "outputs": [],
   "source": [
    "# boolean 자료형 : True or False\n",
    "# 비교(관계) 연산자 : ==, !=, >, >=, <, <= 결과는 참 또는 거짓으로 출력된다.\n",
    "# 논리연산자 : and, or, not\n",
    "# == : 값이 같은지를 비교\n",
    "# is : 주소가 같은지를 비교\n",
    "# id(객체) : 해당 객체의 주소를 반환해주는 함수 "
   ]
  },
  {
   "cell_type": "markdown",
   "id": "d3e734b6",
   "metadata": {},
   "source": [
    "### Unit9.문자열 자료형"
   ]
  },
  {
   "cell_type": "code",
   "execution_count": null,
   "id": "fa0cad0d",
   "metadata": {},
   "outputs": [],
   "source": [
    "# sequence 자료형 : 문자열, 리스트, 튜플\n",
    "# 문자열 : \"\", '', \"\"\" ~ \"\"\", ''' ~ '''\n",
    "# 문자열 연산 : +(연결), *(반복)\n",
    "# 인덱싱(indexing)과 슬라이싱(slicing), 리버스인덱스(마지막 위치 -1)\n",
    "# 이스케이프문자 : \\n, \\t\n",
    "# 문자열.format() => formatting(포매팅)\n",
    "# %d, %f, %s\n",
    "# f문자열 포매팅 : 문자열앞에 접두어 f 문자열을 붙여서 출력하는 기능, 버전 3.6부터 추가된 기능\n"
   ]
  },
  {
   "cell_type": "code",
   "execution_count": 3,
   "id": "1c9cfe80",
   "metadata": {
    "ExecuteTime": {
     "end_time": "2022-09-05T06:17:18.102096Z",
     "start_time": "2022-09-05T06:17:18.091704Z"
    }
   },
   "outputs": [
    {
     "data": {
      "text/plain": [
       "'나의 이름은 홍길동입니다. 나이는 33 입니다.'"
      ]
     },
     "execution_count": 3,
     "metadata": {},
     "output_type": "execute_result"
    }
   ],
   "source": [
    "name = \"홍길동\"\n",
    "age = 33\n",
    "f'나의 이름은 {name}입니다. 나이는 {age} 입니다.'"
   ]
  },
  {
   "cell_type": "code",
   "execution_count": 4,
   "id": "8444ece4",
   "metadata": {
    "ExecuteTime": {
     "end_time": "2022-09-05T06:18:00.286788Z",
     "start_time": "2022-09-05T06:18:00.267273Z"
    }
   },
   "outputs": [
    {
     "data": {
      "text/plain": [
       "'나는 내년이면 34살이 됩니다.'"
      ]
     },
     "execution_count": 4,
     "metadata": {},
     "output_type": "execute_result"
    }
   ],
   "source": [
    "age = 33\n",
    "f'나는 내년이면 {age+1}살이 됩니다.'"
   ]
  },
  {
   "cell_type": "code",
   "execution_count": 5,
   "id": "1a339714",
   "metadata": {
    "ExecuteTime": {
     "end_time": "2022-09-05T06:19:42.740234Z",
     "start_time": "2022-09-05T06:19:42.732699Z"
    }
   },
   "outputs": [
    {
     "data": {
      "text/plain": [
       "'나의 이름은 홍길동입니다. 나이는 30입니다.'"
      ]
     },
     "execution_count": 5,
     "metadata": {},
     "output_type": "execute_result"
    }
   ],
   "source": [
    "# 딕셔너리\n",
    "dic = {'name':'홍길동', 'age':30}\n",
    "f'나의 이름은 {dic[\"name\"]}입니다. 나이는 {dic[\"age\"]}입니다.'"
   ]
  },
  {
   "cell_type": "code",
   "execution_count": 9,
   "id": "5496b0fd",
   "metadata": {
    "ExecuteTime": {
     "end_time": "2022-09-05T06:24:31.194226Z",
     "start_time": "2022-09-05T06:24:31.174470Z"
    }
   },
   "outputs": [
    {
     "name": "stdout",
     "output_type": "stream",
     "text": [
      "hi        \n"
     ]
    },
    {
     "data": {
      "text/plain": [
       "'hi!!!!!!!!'"
      ]
     },
     "execution_count": 9,
     "metadata": {},
     "output_type": "execute_result"
    }
   ],
   "source": [
    "# 정렬\n",
    "print(f'{\"hi\":<10}') # 왼쪽 정렬\n",
    "f'{\"hi\":>10}' # 오른쪽 정렬\n",
    "f'{\"hi\":^10}' # 가운데 정렬\n",
    "f'{\"hi\":=^10}' # 가운데 정렬, 비어있는 공간 = 문자로 채워라\n",
    "f'{\"hi\":!<10}' # 왼쪽 정렬, 빈칸은 !"
   ]
  },
  {
   "cell_type": "code",
   "execution_count": 10,
   "id": "066ae4e9",
   "metadata": {
    "ExecuteTime": {
     "end_time": "2022-09-05T06:25:54.774550Z",
     "start_time": "2022-09-05T06:25:54.759208Z"
    }
   },
   "outputs": [
    {
     "name": "stdout",
     "output_type": "stream",
     "text": [
      "3.1416\n",
      "    3.1416\n"
     ]
    }
   ],
   "source": [
    "# 소숫점을 표현하는 방법\n",
    "x = 3.141592768\n",
    "print(f'{x:0.4f}')\n",
    "print(f'{x:10.4f}')"
   ]
  },
  {
   "cell_type": "code",
   "execution_count": 11,
   "id": "e600b65f",
   "metadata": {
    "ExecuteTime": {
     "end_time": "2022-09-05T06:27:46.217397Z",
     "start_time": "2022-09-05T06:27:46.199674Z"
    }
   },
   "outputs": [
    {
     "data": {
      "text/plain": [
       "2"
      ]
     },
     "execution_count": 11,
     "metadata": {},
     "output_type": "execute_result"
    }
   ],
   "source": [
    "# 문자열 관련 함수\n",
    "## count : 문자 개수 \n",
    "## find : 위치 찾아주는 함수\n",
    "## index\n",
    "a = \"hobby\"\n",
    "a.count('b')"
   ]
  },
  {
   "cell_type": "code",
   "execution_count": 12,
   "id": "00023709",
   "metadata": {
    "ExecuteTime": {
     "end_time": "2022-09-05T06:28:50.770767Z",
     "start_time": "2022-09-05T06:28:50.754698Z"
    }
   },
   "outputs": [
    {
     "data": {
      "text/plain": [
       "14"
      ]
     },
     "execution_count": 12,
     "metadata": {},
     "output_type": "execute_result"
    }
   ],
   "source": [
    "a = \"Python is the best choice\"\n",
    "a.find('b')  # 14\n"
   ]
  },
  {
   "cell_type": "code",
   "execution_count": 13,
   "id": "e360c4b6",
   "metadata": {
    "ExecuteTime": {
     "end_time": "2022-09-05T06:29:20.234621Z",
     "start_time": "2022-09-05T06:29:20.228548Z"
    }
   },
   "outputs": [
    {
     "data": {
      "text/plain": [
       "-1"
      ]
     },
     "execution_count": 13,
     "metadata": {},
     "output_type": "execute_result"
    }
   ],
   "source": [
    "# 존재하지 않은 문자의 위치를 물으면 : -1\n",
    "a.find('k')"
   ]
  },
  {
   "cell_type": "code",
   "execution_count": 14,
   "id": "16027859",
   "metadata": {
    "ExecuteTime": {
     "end_time": "2022-09-05T06:30:09.005371Z",
     "start_time": "2022-09-05T06:30:08.991059Z"
    }
   },
   "outputs": [
    {
     "data": {
      "text/plain": [
       "14"
      ]
     },
     "execution_count": 14,
     "metadata": {},
     "output_type": "execute_result"
    }
   ],
   "source": [
    "a = \"Python is the best choice\"\n",
    "a.index('b')"
   ]
  },
  {
   "cell_type": "code",
   "execution_count": 15,
   "id": "d6b08f0f",
   "metadata": {
    "ExecuteTime": {
     "end_time": "2022-09-05T06:30:16.878326Z",
     "start_time": "2022-09-05T06:30:16.457935Z"
    }
   },
   "outputs": [
    {
     "ename": "ValueError",
     "evalue": "substring not found",
     "output_type": "error",
     "traceback": [
      "\u001b[1;31m---------------------------------------------------------------------------\u001b[0m",
      "\u001b[1;31mValueError\u001b[0m                                Traceback (most recent call last)",
      "Input \u001b[1;32mIn [15]\u001b[0m, in \u001b[0;36m<cell line: 1>\u001b[1;34m()\u001b[0m\n\u001b[1;32m----> 1\u001b[0m \u001b[43ma\u001b[49m\u001b[38;5;241;43m.\u001b[39;49m\u001b[43mindex\u001b[49m\u001b[43m(\u001b[49m\u001b[38;5;124;43m'\u001b[39;49m\u001b[38;5;124;43mk\u001b[39;49m\u001b[38;5;124;43m'\u001b[39;49m\u001b[43m)\u001b[49m\n",
      "\u001b[1;31mValueError\u001b[0m: substring not found"
     ]
    }
   ],
   "source": [
    "a.index('k')"
   ]
  },
  {
   "cell_type": "code",
   "execution_count": 16,
   "id": "0157dc0f",
   "metadata": {
    "ExecuteTime": {
     "end_time": "2022-09-05T06:31:18.892789Z",
     "start_time": "2022-09-05T06:31:18.874172Z"
    }
   },
   "outputs": [
    {
     "data": {
      "text/plain": [
       "'a,b,c,d,e'"
      ]
     },
     "execution_count": 16,
     "metadata": {},
     "output_type": "execute_result"
    }
   ],
   "source": [
    "# 문자삽입 - 연결 : join, 문자열에 구분기호를 담을 때\n",
    "\",\".join('abcde')"
   ]
  },
  {
   "cell_type": "code",
   "execution_count": 17,
   "id": "7acd2346",
   "metadata": {
    "ExecuteTime": {
     "end_time": "2022-09-05T06:33:17.482125Z",
     "start_time": "2022-09-05T06:33:17.470034Z"
    }
   },
   "outputs": [
    {
     "data": {
      "text/plain": [
       "['Life', 'is', 'too', 'short']"
      ]
     },
     "execution_count": 17,
     "metadata": {},
     "output_type": "execute_result"
    }
   ],
   "source": [
    "# split() : 문자열을 나눌 때\n",
    "# split 함수에 아무것도 넣지 않으면 스페이스, 탭, 엔터를 기준으로 나누어준다.\n",
    "a = \"Life is too short\"\n",
    "a.split()"
   ]
  },
  {
   "cell_type": "code",
   "execution_count": 18,
   "id": "00856116",
   "metadata": {
    "ExecuteTime": {
     "end_time": "2022-09-05T06:33:55.086423Z",
     "start_time": "2022-09-05T06:33:55.080378Z"
    }
   },
   "outputs": [
    {
     "data": {
      "text/plain": [
       "['a', 'b', 'c', 'd', 'e']"
      ]
     },
     "execution_count": 18,
     "metadata": {},
     "output_type": "execute_result"
    }
   ],
   "source": [
    "b = \"a:b:c:d:e\"\n",
    "b.split(\":\")"
   ]
  },
  {
   "cell_type": "markdown",
   "id": "ac8088e0",
   "metadata": {},
   "source": [
    "### Unit10. 리스트와 튜플"
   ]
  },
  {
   "cell_type": "code",
   "execution_count": null,
   "id": "d7765ca4",
   "metadata": {},
   "outputs": [],
   "source": [
    "# 순서대로 데이터를 저장하고 관리하는 자료구조\n",
    "# 서로 다른 자료형을 담을 수 있다.\n",
    "# list(), []"
   ]
  },
  {
   "cell_type": "code",
   "execution_count": 19,
   "id": "1fa1e581",
   "metadata": {
    "ExecuteTime": {
     "end_time": "2022-09-05T06:36:59.471157Z",
     "start_time": "2022-09-05T06:36:59.465098Z"
    }
   },
   "outputs": [
    {
     "name": "stdout",
     "output_type": "stream",
     "text": [
      "[1, 2, ['a', 'b', ['Life', 'is']]]\n"
     ]
    }
   ],
   "source": [
    "a = [1, 2, ['a','b', ['Life', 'is']]]\n",
    "print(a)"
   ]
  },
  {
   "cell_type": "code",
   "execution_count": 20,
   "id": "67f1926c",
   "metadata": {
    "ExecuteTime": {
     "end_time": "2022-09-05T06:37:15.717676Z",
     "start_time": "2022-09-05T06:37:15.704436Z"
    }
   },
   "outputs": [
    {
     "name": "stdout",
     "output_type": "stream",
     "text": [
      "['a', 'b', ['Life', 'is']]\n"
     ]
    }
   ],
   "source": [
    "print(a[2])"
   ]
  },
  {
   "cell_type": "code",
   "execution_count": 21,
   "id": "94f3c882",
   "metadata": {
    "ExecuteTime": {
     "end_time": "2022-09-05T06:37:34.572972Z",
     "start_time": "2022-09-05T06:37:34.556539Z"
    }
   },
   "outputs": [
    {
     "name": "stdout",
     "output_type": "stream",
     "text": [
      "a\n"
     ]
    }
   ],
   "source": [
    "print(a[2][0])"
   ]
  },
  {
   "cell_type": "code",
   "execution_count": 22,
   "id": "dc4a5be0",
   "metadata": {
    "ExecuteTime": {
     "end_time": "2022-09-05T06:38:07.672304Z",
     "start_time": "2022-09-05T06:38:07.660235Z"
    }
   },
   "outputs": [
    {
     "name": "stdout",
     "output_type": "stream",
     "text": [
      "Life\n"
     ]
    }
   ],
   "source": [
    "print(a[2][2][0])"
   ]
  },
  {
   "cell_type": "code",
   "execution_count": 24,
   "id": "9dfe6286",
   "metadata": {
    "ExecuteTime": {
     "end_time": "2022-09-05T06:39:47.599593Z",
     "start_time": "2022-09-05T06:39:47.581748Z"
    }
   },
   "outputs": [
    {
     "name": "stdout",
     "output_type": "stream",
     "text": [
      "[1, 2]\n",
      "12\n"
     ]
    }
   ],
   "source": [
    "a = \"12345\"\n",
    "b = [1, 2, 3, 4, 5]\n",
    "print(b[0:2])\n",
    "print(a[0:2])"
   ]
  },
  {
   "cell_type": "code",
   "execution_count": 25,
   "id": "619a78a1",
   "metadata": {
    "ExecuteTime": {
     "end_time": "2022-09-05T06:40:39.523158Z",
     "start_time": "2022-09-05T06:40:39.511621Z"
    }
   },
   "outputs": [
    {
     "name": "stdout",
     "output_type": "stream",
     "text": [
      "[1, 2]\n",
      "[3, 4, 5]\n"
     ]
    }
   ],
   "source": [
    "print(b[:2]) # 1, 2\n",
    "print(b[2:]) # 3, 4, 5"
   ]
  },
  {
   "cell_type": "code",
   "execution_count": 26,
   "id": "790fb18b",
   "metadata": {
    "ExecuteTime": {
     "end_time": "2022-09-05T06:44:44.686979Z",
     "start_time": "2022-09-05T06:44:44.674905Z"
    }
   },
   "outputs": [
    {
     "data": {
      "text/plain": [
       "(17, 20, 5, 11, 9)"
      ]
     },
     "execution_count": 26,
     "metadata": {},
     "output_type": "execute_result"
    }
   ],
   "source": [
    "# tuple(), ()\n",
    "# 튜플은 변경이 불가능하다.\n",
    "# 튜플 : 인덱싱, 슬라이싱, 더하기연산, 곱하기연산\n",
    "# 파이썬에 기본자료형은 튜플이다.\n",
    "a = 17, 20, 5, 11, 9  # packing\n",
    "a"
   ]
  },
  {
   "cell_type": "code",
   "execution_count": 27,
   "id": "58b12367",
   "metadata": {
    "ExecuteTime": {
     "end_time": "2022-09-05T06:45:08.969323Z",
     "start_time": "2022-09-05T06:45:08.955297Z"
    }
   },
   "outputs": [
    {
     "data": {
      "text/plain": [
       "[1, 2, 3, 4, 5]"
      ]
     },
     "execution_count": 27,
     "metadata": {},
     "output_type": "execute_result"
    }
   ],
   "source": [
    "b = [1, 2, 3, 4, 5]  # packing\n",
    "b"
   ]
  },
  {
   "cell_type": "code",
   "execution_count": 28,
   "id": "c515261e",
   "metadata": {
    "ExecuteTime": {
     "end_time": "2022-09-05T06:45:48.514513Z",
     "start_time": "2022-09-05T06:45:48.504401Z"
    }
   },
   "outputs": [
    {
     "name": "stdout",
     "output_type": "stream",
     "text": [
      "('홍길동', 33, 176.8, True)\n"
     ]
    }
   ],
   "source": [
    "c = (\"홍길동\", 33, 176.8, True)\n",
    "print(c)"
   ]
  },
  {
   "cell_type": "markdown",
   "id": "06a19727",
   "metadata": {},
   "source": [
    "### Unit12. 딕셔너리"
   ]
  },
  {
   "cell_type": "code",
   "execution_count": 29,
   "id": "cd7184a3",
   "metadata": {
    "ExecuteTime": {
     "end_time": "2022-09-05T06:51:41.116631Z",
     "start_time": "2022-09-05T06:51:41.099855Z"
    }
   },
   "outputs": [
    {
     "data": {
      "text/plain": [
       "{'a': [1, 2, 3]}"
      ]
     },
     "execution_count": 29,
     "metadata": {},
     "output_type": "execute_result"
    }
   ],
   "source": [
    "# 생성 {'key':value}\n",
    "dic = {'a':[1, 2, 3]}  # list(), tuple(), set()\n",
    "dic"
   ]
  },
  {
   "cell_type": "code",
   "execution_count": 30,
   "id": "5ed5dffa",
   "metadata": {
    "ExecuteTime": {
     "end_time": "2022-09-05T06:51:58.578521Z",
     "start_time": "2022-09-05T06:51:58.572467Z"
    }
   },
   "outputs": [
    {
     "data": {
      "text/plain": [
       "[1, 2, 3]"
      ]
     },
     "execution_count": 30,
     "metadata": {},
     "output_type": "execute_result"
    }
   ],
   "source": [
    "dic[\"a\"]"
   ]
  },
  {
   "cell_type": "code",
   "execution_count": 31,
   "id": "ef31cbe3",
   "metadata": {
    "ExecuteTime": {
     "end_time": "2022-09-05T06:52:27.107019Z",
     "start_time": "2022-09-05T06:52:27.097877Z"
    }
   },
   "outputs": [
    {
     "name": "stdout",
     "output_type": "stream",
     "text": [
      "{'aaa': 1, 'bbb': 2}\n"
     ]
    }
   ],
   "source": [
    "a = {\"aaa\":1, \"bbb\":2}\n",
    "print(a)"
   ]
  },
  {
   "cell_type": "code",
   "execution_count": 32,
   "id": "600a3f17",
   "metadata": {
    "ExecuteTime": {
     "end_time": "2022-09-05T06:52:49.831907Z",
     "start_time": "2022-09-05T06:52:49.822838Z"
    }
   },
   "outputs": [
    {
     "name": "stdout",
     "output_type": "stream",
     "text": [
      "{'aaa': 1, 'bbb': 2, 'ccc': 3}\n"
     ]
    }
   ],
   "source": [
    "a[\"ccc\"] = 3\n",
    "print(a)"
   ]
  },
  {
   "cell_type": "code",
   "execution_count": 33,
   "id": "c39cfa4e",
   "metadata": {
    "ExecuteTime": {
     "end_time": "2022-09-05T06:53:26.586940Z",
     "start_time": "2022-09-05T06:53:26.577860Z"
    }
   },
   "outputs": [
    {
     "name": "stdout",
     "output_type": "stream",
     "text": [
      "{'aaa': 1, 'bbb': 2, 'ccc': 3, 'name': '홍길동'}\n"
     ]
    }
   ],
   "source": [
    "a['name'] = '홍길동'\n",
    "print(a)"
   ]
  },
  {
   "cell_type": "code",
   "execution_count": 34,
   "id": "947672e0",
   "metadata": {
    "ExecuteTime": {
     "end_time": "2022-09-05T06:53:38.021243Z",
     "start_time": "2022-09-05T06:53:38.002785Z"
    }
   },
   "outputs": [
    {
     "data": {
      "text/plain": [
       "'홍길동'"
      ]
     },
     "execution_count": 34,
     "metadata": {},
     "output_type": "execute_result"
    }
   ],
   "source": [
    "a['name']"
   ]
  },
  {
   "cell_type": "code",
   "execution_count": 35,
   "id": "804ae73a",
   "metadata": {
    "ExecuteTime": {
     "end_time": "2022-09-05T06:54:04.330448Z",
     "start_time": "2022-09-05T06:54:04.319320Z"
    }
   },
   "outputs": [
    {
     "name": "stdout",
     "output_type": "stream",
     "text": [
      "{'aaa': 1, 'bbb': 2, 'ccc': 3}\n"
     ]
    }
   ],
   "source": [
    "del a['name']\n",
    "print(a)"
   ]
  },
  {
   "cell_type": "code",
   "execution_count": 36,
   "id": "9ad59ebc",
   "metadata": {
    "ExecuteTime": {
     "end_time": "2022-09-05T06:55:15.985299Z",
     "start_time": "2022-09-05T06:55:15.969413Z"
    }
   },
   "outputs": [
    {
     "data": {
      "text/plain": [
       "dict_keys(['aaa', 'bbb', 'ccc'])"
      ]
     },
     "execution_count": 36,
     "metadata": {},
     "output_type": "execute_result"
    }
   ],
   "source": [
    "# 사전.keys(), 사전.values(), 사전.items()\n",
    "a.keys()"
   ]
  },
  {
   "cell_type": "code",
   "execution_count": 37,
   "id": "de549ee0",
   "metadata": {
    "ExecuteTime": {
     "end_time": "2022-09-05T06:55:22.488553Z",
     "start_time": "2022-09-05T06:55:22.484554Z"
    }
   },
   "outputs": [
    {
     "data": {
      "text/plain": [
       "dict_values([1, 2, 3])"
      ]
     },
     "execution_count": 37,
     "metadata": {},
     "output_type": "execute_result"
    }
   ],
   "source": [
    "a.values()"
   ]
  },
  {
   "cell_type": "code",
   "execution_count": 38,
   "id": "7c46882f",
   "metadata": {
    "ExecuteTime": {
     "end_time": "2022-09-05T06:55:32.675175Z",
     "start_time": "2022-09-05T06:55:32.666148Z"
    }
   },
   "outputs": [
    {
     "data": {
      "text/plain": [
       "dict_items([('aaa', 1), ('bbb', 2), ('ccc', 3)])"
      ]
     },
     "execution_count": 38,
     "metadata": {},
     "output_type": "execute_result"
    }
   ],
   "source": [
    "a.items()"
   ]
  },
  {
   "cell_type": "code",
   "execution_count": 43,
   "id": "c5670af7",
   "metadata": {
    "ExecuteTime": {
     "end_time": "2022-09-05T06:58:19.050602Z",
     "start_time": "2022-09-05T06:58:19.043476Z"
    }
   },
   "outputs": [
    {
     "name": "stdout",
     "output_type": "stream",
     "text": [
      "aaa  :  1\n",
      "bbb  :  2\n",
      "ccc  :  3\n"
     ]
    }
   ],
   "source": [
    "# 출력형식 key : value\n",
    "for i in a.items():\n",
    "    key = i[0]\n",
    "    value = i[1]\n",
    "    print(key, \" : \", value)"
   ]
  },
  {
   "cell_type": "code",
   "execution_count": 42,
   "id": "cd8749bd",
   "metadata": {
    "ExecuteTime": {
     "end_time": "2022-09-05T06:58:10.286040Z",
     "start_time": "2022-09-05T06:58:10.281835Z"
    }
   },
   "outputs": [
    {
     "name": "stdout",
     "output_type": "stream",
     "text": [
      "('aaa', 1)\n",
      "('bbb', 2)\n",
      "('ccc', 3)\n"
     ]
    }
   ],
   "source": [
    "for i in a.items():\n",
    "    print(i)"
   ]
  },
  {
   "cell_type": "code",
   "execution_count": 44,
   "id": "980fc8d2",
   "metadata": {
    "ExecuteTime": {
     "end_time": "2022-09-05T06:58:47.536886Z",
     "start_time": "2022-09-05T06:58:47.529398Z"
    }
   },
   "outputs": [
    {
     "name": "stdout",
     "output_type": "stream",
     "text": [
      "aaa  :  1\n",
      "bbb  :  2\n",
      "ccc  :  3\n"
     ]
    }
   ],
   "source": [
    "for key, value in a.items():  # unpacking\n",
    "    print(key, \" : \", value)"
   ]
  },
  {
   "cell_type": "code",
   "execution_count": null,
   "id": "74fad753",
   "metadata": {},
   "outputs": [],
   "source": []
  }
 ],
 "metadata": {
  "kernelspec": {
   "display_name": "Python 3 (ipykernel)",
   "language": "python",
   "name": "python3"
  },
  "language_info": {
   "codemirror_mode": {
    "name": "ipython",
    "version": 3
   },
   "file_extension": ".py",
   "mimetype": "text/x-python",
   "name": "python",
   "nbconvert_exporter": "python",
   "pygments_lexer": "ipython3",
   "version": "3.9.7"
  },
  "toc": {
   "base_numbering": 1,
   "nav_menu": {},
   "number_sections": true,
   "sideBar": true,
   "skip_h1_title": false,
   "title_cell": "Table of Contents",
   "title_sidebar": "Contents",
   "toc_cell": false,
   "toc_position": {},
   "toc_section_display": true,
   "toc_window_display": false
  }
 },
 "nbformat": 4,
 "nbformat_minor": 5
}
