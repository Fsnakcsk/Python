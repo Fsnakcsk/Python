{
 "cells": [
  {
   "cell_type": "code",
   "execution_count": 1,
   "id": "b6840cb9",
   "metadata": {},
   "outputs": [
    {
     "name": "stdout",
     "output_type": "stream",
     "text": [
      "[1, 2, 3, 4, 5]\n",
      "<class 'list'>\n",
      "1\n",
      "2\n",
      "5\n",
      "[5]\n",
      "a = [10, 2, 3, 4, 5]\n",
      "10\n",
      "2\n",
      "3\n",
      "4\n",
      "5\n",
      "--------------------\n"
     ]
    }
   ],
   "source": [
    "a = [1,2,3,4,5]\n",
    "print(a)\n",
    "\n",
    "print(type(a))\n",
    "print(a[0])\n",
    "print(a[1])\n",
    "print(a[4])\n",
    "print([a[-1]])\n",
    "\n",
    "a[0] = 10\n",
    "print(\"a =\", a)\n",
    "\n",
    "# ---- for문 ----- \n",
    "for i in a :\n",
    "    print(i)\n",
    "    \n",
    "print(\"-\" *20)"
   ]
  },
  {
   "cell_type": "code",
   "execution_count": 2,
   "id": "bad8ad65",
   "metadata": {},
   "outputs": [
    {
     "name": "stdout",
     "output_type": "stream",
     "text": [
      "[1, 2, 3, ['a', 'b', 'c']]\n",
      "['a', 'b', 'c']\n",
      "a\n"
     ]
    }
   ],
   "source": [
    "# ----- 이차원 리스트 ----- (이차원 배열)\n",
    "\n",
    "a = [1, 2, 3, ['a', 'b', 'c']]\n",
    "print(a)\n",
    "print(a[3])\n",
    "print(a[3][0]) # 이차원의 [행][열]"
   ]
  },
  {
   "cell_type": "code",
   "execution_count": 3,
   "id": "2cdc3def",
   "metadata": {},
   "outputs": [
    {
     "name": "stdout",
     "output_type": "stream",
     "text": [
      "x의 주소 : 1294993416960\n",
      "y의 주소 : 1294993416960\n"
     ]
    }
   ],
   "source": [
    "# --- 깊은 복사 ---\n",
    "x = [1, 2, 3, 4, 5]\n",
    "y = x\n",
    "\n",
    "print(\"x의 주소 :\",id(x))\n",
    "print(\"y의 주소 :\",id(y))"
   ]
  },
  {
   "cell_type": "code",
   "execution_count": 4,
   "id": "9ffcd02d",
   "metadata": {},
   "outputs": [
    {
     "name": "stdout",
     "output_type": "stream",
     "text": [
      "x의 주소 : 1294993430912\n",
      "y의 주소 : 1294993428608\n"
     ]
    }
   ],
   "source": [
    "# --- 얕은 복사 ---\n",
    "# slicing[Start:stop]\n",
    "\n",
    "x = [1, 2, 3, 4, 5]\n",
    "y = x[:]\n",
    "\n",
    "print(\"x의 주소 :\",id(x))\n",
    "print(\"y의 주소 :\",id(y))"
   ]
  },
  {
   "cell_type": "code",
   "execution_count": 5,
   "id": "6ca34d31",
   "metadata": {},
   "outputs": [
    {
     "name": "stdout",
     "output_type": "stream",
     "text": [
      "[1, 2]\n",
      "y = [2, 3, 4, 5]\n",
      "y = [1, 2, 3]\n"
     ]
    }
   ],
   "source": [
    "x = [1, 2, 3, 4, 5]\n",
    "print(x[0:2])\n",
    "\n",
    "y = x[1:]\n",
    "print(\"y =\",y)\n",
    "\n",
    "y = x[:3]\n",
    "print(\"y =\",y)"
   ]
  },
  {
   "cell_type": "code",
   "execution_count": 6,
   "id": "24fc9f4a",
   "metadata": {},
   "outputs": [
    {
     "name": "stdout",
     "output_type": "stream",
     "text": [
      "c = [1, 2, 3, 5, 6, 7]\n",
      "d = [1, 2, 3, 5, 6, 7]\n"
     ]
    }
   ],
   "source": [
    "# List 연결 (+)\n",
    "a = [1, 2, 3]\n",
    "b = [5, 6, 7]\n",
    "c = a + b\n",
    "\n",
    "\n",
    "# extend(확장)의 의미, 리스트가 가로로 연결된다.\n",
    "# a.extend(b) : a = a + b\n",
    "# *******d = a.extend(b) 다른 변수에 담을 수 없다********\n",
    "a.extend(b)\n",
    "\n",
    "print(\"c =\",c)\n",
    "print(\"d =\",a)"
   ]
  },
  {
   "cell_type": "code",
   "execution_count": 7,
   "id": "467d4a27",
   "metadata": {},
   "outputs": [
    {
     "data": {
      "text/plain": [
       "'helloPytyon'"
      ]
     },
     "execution_count": 7,
     "metadata": {},
     "output_type": "execute_result"
    }
   ],
   "source": [
    "# String도 시퀀스 Type\n",
    "\"hello\" + \"Pytyon\""
   ]
  },
  {
   "cell_type": "code",
   "execution_count": 8,
   "id": "4066c438",
   "metadata": {},
   "outputs": [
    {
     "name": "stdout",
     "output_type": "stream",
     "text": [
      "[1, 2, 3, 1, 2, 3, 1, 2, 3]\n"
     ]
    },
    {
     "data": {
      "text/plain": [
       "'hello-hello-hello-'"
      ]
     },
     "execution_count": 8,
     "metadata": {},
     "output_type": "execute_result"
    }
   ],
   "source": [
    "# list (*) : 반복\n",
    "a = [1, 2, 3]\n",
    "b = a * 3\n",
    "\n",
    "print(b)\n",
    "\n",
    "\"hello-\" * 3"
   ]
  },
  {
   "cell_type": "code",
   "execution_count": 9,
   "id": "6e6be349",
   "metadata": {},
   "outputs": [
    {
     "name": "stdout",
     "output_type": "stream",
     "text": [
      "[1, 'a', 'b', 'c', 3]\n",
      "[['a', 'b'], 'a', 'b', 'c', 3]\n"
     ]
    }
   ],
   "source": [
    "a = [1, 2, 3]\n",
    "a[1:2] = ['a','b','c'] \n",
    "print(a) # ******************  그 위치에 추가\n",
    "\n",
    "a[0] = ['a','b'] # **************** 그위치에 List 추가\n",
    "print(a)"
   ]
  },
  {
   "cell_type": "code",
   "execution_count": 10,
   "id": "107bb7d0",
   "metadata": {},
   "outputs": [],
   "source": [
    "a[1:3] = [] # 삭제"
   ]
  },
  {
   "cell_type": "code",
   "execution_count": 11,
   "id": "20ca34e0",
   "metadata": {},
   "outputs": [
    {
     "data": {
      "text/plain": [
       "[1, 3]"
      ]
     },
     "execution_count": 11,
     "metadata": {},
     "output_type": "execute_result"
    }
   ],
   "source": [
    "a = [1,2,3]\n",
    "del a[1]\n",
    "a"
   ]
  },
  {
   "cell_type": "code",
   "execution_count": 12,
   "id": "7fbb8af3",
   "metadata": {},
   "outputs": [
    {
     "name": "stdout",
     "output_type": "stream",
     "text": [
      "[1, 2, 3, 4, 6]\n",
      "[6, 4, 3, 2, 1]\n"
     ]
    }
   ],
   "source": [
    "a = [4, 3, 1, 2, 6]\n",
    "a.sort()\n",
    "print(a)\n",
    "\n",
    "a.reverse()\n",
    "print(a)"
   ]
  },
  {
   "cell_type": "code",
   "execution_count": 13,
   "id": "20a4db4f",
   "metadata": {},
   "outputs": [
    {
     "name": "stdout",
     "output_type": "stream",
     "text": [
      "['a', 'b', 'c', 'd']\n"
     ]
    }
   ],
   "source": [
    "a = ['a', 'b', 'd', 'c']\n",
    "a.sort()\n",
    "print(a)"
   ]
  },
  {
   "cell_type": "code",
   "execution_count": 14,
   "id": "281f627f",
   "metadata": {},
   "outputs": [
    {
     "name": "stdout",
     "output_type": "stream",
     "text": [
      "1\n",
      "0\n"
     ]
    }
   ],
   "source": [
    "# value값에 따른 index를 출력\n",
    "a = [1, 2, 3, 4, 5]\n",
    "print(a.index(2))\n",
    "\n",
    "b = ['a', 'b', 'c']\n",
    "print(b.index('a'))"
   ]
  },
  {
   "cell_type": "code",
   "execution_count": 15,
   "id": "0f564aa3",
   "metadata": {},
   "outputs": [
    {
     "name": "stdout",
     "output_type": "stream",
     "text": [
      "[4, 1, 2, 3]\n"
     ]
    }
   ],
   "source": [
    "a = [1, 2, 3]\n",
    "a.insert(0 ,4)\n",
    "print(a)"
   ]
  },
  {
   "cell_type": "code",
   "execution_count": 7,
   "id": "a39b611b",
   "metadata": {},
   "outputs": [
    {
     "name": "stdout",
     "output_type": "stream",
     "text": [
      "[1, 2, 1, 2, 3]\n",
      "[2, 1, 2, 3]\n"
     ]
    }
   ],
   "source": [
    "# remove 삭제 value\n",
    "a = [1, 2, 3, 1, 2, 3]\n",
    "a.remove(3)\n",
    "\n",
    "print(a)\n",
    "\n",
    "# del index\n",
    "del a[0]\n",
    "print(a)"
   ]
  },
  {
   "cell_type": "code",
   "execution_count": 17,
   "id": "7d0f43c0",
   "metadata": {},
   "outputs": [
    {
     "name": "stdout",
     "output_type": "stream",
     "text": [
      "[1, 2]\n",
      "3\n"
     ]
    }
   ],
   "source": [
    "a = [1, 2, 3]\n",
    "b = a.pop()\n",
    "print(a)\n",
    "print(b)"
   ]
  },
  {
   "cell_type": "code",
   "execution_count": 18,
   "id": "2c396f82",
   "metadata": {},
   "outputs": [
    {
     "name": "stdout",
     "output_type": "stream",
     "text": [
      "3\n"
     ]
    }
   ],
   "source": [
    "# .count(value) : 지정하는 값의 개수를 구함\n",
    "a = [1, 2, 3, 1, 2, 1]\n",
    "b = a.count(1)\n",
    "print(b)"
   ]
  },
  {
   "cell_type": "code",
   "execution_count": 19,
   "id": "c352dfab",
   "metadata": {},
   "outputs": [
    {
     "name": "stdout",
     "output_type": "stream",
     "text": [
      "[1, 2, 3, 4, 5, 6]\n"
     ]
    }
   ],
   "source": [
    "# .extend(value or [list]) # 반드시 리스트만 담아야 됨. type도 일치해야함\n",
    "a = [1, 2, 3]\n",
    "\n",
    "# list1.extend(list2)\n",
    "a.extend([4,5,6])\n",
    "print(a)"
   ]
  },
  {
   "cell_type": "code",
   "execution_count": 20,
   "id": "ca0cffb8",
   "metadata": {},
   "outputs": [
    {
     "name": "stdout",
     "output_type": "stream",
     "text": [
      "[1, 2, 3, 4, 5, 6, 7, 8]\n"
     ]
    }
   ],
   "source": [
    "b = [7, 8]\n",
    "print(a+b)"
   ]
  },
  {
   "cell_type": "code",
   "execution_count": 21,
   "id": "f2f64583",
   "metadata": {},
   "outputs": [
    {
     "name": "stdout",
     "output_type": "stream",
     "text": [
      "True\n",
      "False\n"
     ]
    }
   ],
   "source": [
    "# value in List or value not in List-----\n",
    "a = [1, 2, 3, 4, 5]\n",
    "result = 2 in a     \n",
    "print(result)\n",
    "\n",
    "result = 2 not in a\n",
    "print(result)"
   ]
  },
  {
   "cell_type": "markdown",
   "id": "329d82a2",
   "metadata": {},
   "source": [
    "## 튜플(Tuple)"
   ]
  },
  {
   "cell_type": "code",
   "execution_count": 22,
   "id": "a2e33ae2",
   "metadata": {},
   "outputs": [
    {
     "name": "stdout",
     "output_type": "stream",
     "text": [
      "(1, 2, 'a', 'b')\n",
      "<class 'tuple'>\n",
      "1\n",
      "b\n"
     ]
    },
    {
     "ename": "TypeError",
     "evalue": "'tuple' object does not support item assignment",
     "output_type": "error",
     "traceback": [
      "\u001b[1;31m---------------------------------------------------------------------------\u001b[0m",
      "\u001b[1;31mTypeError\u001b[0m                                 Traceback (most recent call last)",
      "Input \u001b[1;32mIn [22]\u001b[0m, in \u001b[0;36m<cell line: 8>\u001b[1;34m()\u001b[0m\n\u001b[0;32m      5\u001b[0m \u001b[38;5;28mprint\u001b[39m(t1[\u001b[38;5;241m0\u001b[39m])\n\u001b[0;32m      6\u001b[0m \u001b[38;5;28mprint\u001b[39m(t1[\u001b[38;5;241m-\u001b[39m\u001b[38;5;241m1\u001b[39m])\n\u001b[1;32m----> 8\u001b[0m t1[\u001b[38;5;241m0\u001b[39m] \u001b[38;5;241m=\u001b[39m \u001b[38;5;124m'\u001b[39m\u001b[38;5;124mc\u001b[39m\u001b[38;5;124m'\u001b[39m  \u001b[38;5;66;03m# 튜풀은 변경불가능 Error\u001b[39;00m\n\u001b[0;32m      9\u001b[0m \u001b[38;5;28;01mdel\u001b[39;00m t1[\u001b[38;5;241m0\u001b[39m]\n",
      "\u001b[1;31mTypeError\u001b[0m: 'tuple' object does not support item assignment"
     ]
    }
   ],
   "source": [
    "t1 = (1, 2, 'a', 'b')\n",
    "print(t1)\n",
    "print(type(t1))\n",
    "\n",
    "print(t1[0])\n",
    "print(t1[-1])\n",
    "\n",
    "t1[0] = 'c'  # 튜풀은 변경불가능 Error\n",
    "del t1[0]    # 튜풀은 변경불가능 Error\n",
    "\n"
   ]
  },
  {
   "cell_type": "code",
   "execution_count": null,
   "id": "c55cb077",
   "metadata": {},
   "outputs": [],
   "source": [
    "t1 = (1, 2, 'a', 'b')\n",
    "print(t1[1:])\n",
    "\n",
    "t2 = (3, 4)\n",
    "print(t1 + t2)\n",
    "\n",
    "# 추가한다는 것이 아니다. 새로은 t1튜플이 생성하여 값을 넣는다\n",
    "t1 = t1 + t2\n",
    "print(t1)\n",
    "print(t1 * 3)"
   ]
  },
  {
   "cell_type": "code",
   "execution_count": null,
   "id": "d1db7e4f",
   "metadata": {},
   "outputs": [],
   "source": [
    "# 파이썬에 기본 자료형 튜플\n",
    "a = 10\n",
    "b = 20\n",
    "print(\"a = \",a, \"b = \",b)\n"
   ]
  },
  {
   "cell_type": "code",
   "execution_count": null,
   "id": "4343cf05",
   "metadata": {},
   "outputs": [],
   "source": [
    "c = a\n",
    "a = b\n",
    "b = c\n",
    "print(\"a = \",a, \"b = \",b)\n"
   ]
  },
  {
   "cell_type": "code",
   "execution_count": null,
   "id": "7fa693bf",
   "metadata": {},
   "outputs": [],
   "source": [
    "a = 10\n",
    "b = 20\n",
    "a,b = b,a\n",
    "print(\"a =\", a , \"b =\", b)\n"
   ]
  },
  {
   "cell_type": "code",
   "execution_count": null,
   "id": "7b8e1219",
   "metadata": {},
   "outputs": [],
   "source": [
    "# swap의 원리 튜플 때문에 가능함 \n",
    "a = 10\n",
    "b = 20\n",
    "a,b = (b,a) # 파이썬은 기본이 튜퓰이다\n",
    "print(\"a =\", a , \"b =\", b)"
   ]
  },
  {
   "cell_type": "code",
   "execution_count": null,
   "id": "8e81ade0",
   "metadata": {},
   "outputs": [],
   "source": [
    "# packing : 여러 개의 값을 하나의 변수에 저장\n",
    "t1 = (1, 2, 3)\n",
    "\n",
    "#unpacking : 하나의 변수에 답은 것을 각각의 변수에 활당하는 것\n",
    "n1, n2, n3 = (t1)\n",
    "\n",
    "#출력형식 포함된 문자열.format(v1, v2, v3)\n",
    "print(\"{0} {1} {2}\".format(n1, n2, n3))\n",
    "\n",
    "# swap\n",
    "n1, n2 = n2, n1\n",
    "print(\"{0} {1}\".format(n1, n2))\n"
   ]
  },
  {
   "cell_type": "code",
   "execution_count": null,
   "id": "93914ba3",
   "metadata": {},
   "outputs": [],
   "source": [
    "# 형변환 : in(), float(), str()\n",
    "# 자료구조의 형반환 : list(), tuple()\n",
    "\n",
    "my_list = [1, 2, 3]\n",
    "my_tuple = ('x', 'y', 'z')\n",
    "\n",
    "print(\"my_list\",my_list)\n",
    "print(\"my_tuple\",my_tuple)"
   ]
  },
  {
   "cell_type": "code",
   "execution_count": null,
   "id": "8e76c245",
   "metadata": {},
   "outputs": [],
   "source": [
    "print(\"my_list\",tuple(my_list))\n",
    "print(\"my_tuple\",list(my_tuple))\n"
   ]
  },
  {
   "cell_type": "markdown",
   "id": "11cac6ec",
   "metadata": {},
   "source": [
    "## 딕셔너리 : 사전 "
   ]
  },
  {
   "cell_type": "code",
   "execution_count": null,
   "id": "16f210ea",
   "metadata": {},
   "outputs": [],
   "source": [
    "# {key : value, key : value, key : value}\n",
    "# key 숫자인덱스보다 문자인덱스를 선호(권장)\n",
    "# key 중복 불가\n",
    "\n",
    "a = {1 :'a'}\n",
    "print(a)\n",
    "print(type(a))\n",
    "\n"
   ]
  },
  {
   "cell_type": "code",
   "execution_count": null,
   "id": "f65872f6",
   "metadata": {},
   "outputs": [],
   "source": [
    "# 사전에 item 추가\n",
    "a[2] = 'b' #인덱스가 아니라 key다\n",
    "print(a)"
   ]
  },
  {
   "cell_type": "code",
   "execution_count": null,
   "id": "e4fc31c1",
   "metadata": {},
   "outputs": [],
   "source": [
    "stu = {'name':'홍길동', 'phone':'010-1234-5678'}\n",
    "stu['age'] = 23\n",
    "print(stu)"
   ]
  },
  {
   "cell_type": "code",
   "execution_count": null,
   "id": "76acfbd8",
   "metadata": {},
   "outputs": [],
   "source": [
    "# key 이용해 value값을 출력 -------------------\n",
    "\n",
    "print(stu['name'])\n",
    "print(stu.get('name'))\n",
    "\n",
    "print(stu['age'])\n",
    "print(stu.get('age'))"
   ]
  },
  {
   "cell_type": "code",
   "execution_count": null,
   "id": "bf37b50f",
   "metadata": {},
   "outputs": [],
   "source": [
    "# key 출력 \n",
    "\n",
    "stu.keys()  # list형으로 키만 출력"
   ]
  },
  {
   "cell_type": "code",
   "execution_count": null,
   "id": "e834eb47",
   "metadata": {},
   "outputs": [],
   "source": [
    "# values 조회\n",
    "\n",
    "stu.values() # list형으로 value만 출력"
   ]
  },
  {
   "cell_type": "code",
   "execution_count": null,
   "id": "f2dfdfef",
   "metadata": {},
   "outputs": [],
   "source": [
    "# items\n",
    "\n",
    "stu.items() # tuple형으로 item 출력"
   ]
  },
  {
   "cell_type": "code",
   "execution_count": null,
   "id": "d0291f3f",
   "metadata": {},
   "outputs": [],
   "source": [
    "# for 이용 개별로 출력\n",
    "for k in stu.keys() :\n",
    "    print(k,\"==>\",stu[k])"
   ]
  },
  {
   "cell_type": "code",
   "execution_count": null,
   "id": "3d951358",
   "metadata": {
    "scrolled": true
   },
   "outputs": [],
   "source": [
    "# key를 list로 반환\n",
    "b = list(stu.keys())\n",
    "print(b)"
   ]
  },
  {
   "cell_type": "code",
   "execution_count": null,
   "id": "9a0363b4",
   "metadata": {},
   "outputs": [],
   "source": [
    "# value를 list로 반환\n",
    "\n",
    "c = list(stu.values())\n",
    "print(c)"
   ]
  },
  {
   "cell_type": "code",
   "execution_count": null,
   "id": "f28b483e",
   "metadata": {},
   "outputs": [],
   "source": [
    "d = list(stu.items())\n",
    "print(d)"
   ]
  },
  {
   "cell_type": "code",
   "execution_count": null,
   "id": "df083488",
   "metadata": {},
   "outputs": [],
   "source": [
    "print(type(d))\n",
    "print(d[0])"
   ]
  },
  {
   "cell_type": "code",
   "execution_count": null,
   "id": "41dcec2c",
   "metadata": {},
   "outputs": [],
   "source": [
    "for k, v in d :\n",
    "    print(k , \"==>\" , v)"
   ]
  },
  {
   "cell_type": "code",
   "execution_count": null,
   "id": "ca3eccf2",
   "metadata": {},
   "outputs": [],
   "source": [
    "# 새로운 item 추가\n",
    "stu['weight'] = 67.4\n",
    "print(stu)"
   ]
  },
  {
   "cell_type": "code",
   "execution_count": null,
   "id": "3564df7b",
   "metadata": {},
   "outputs": [],
   "source": [
    "'weight' in stu"
   ]
  },
  {
   "cell_type": "markdown",
   "id": "e9ef3adf",
   "metadata": {},
   "source": [
    "## 집합(set)\n",
    " - 집합 자려형 \n",
    " - 중북 불가\n",
    " - 순서 없음"
   ]
  },
  {
   "cell_type": "code",
   "execution_count": null,
   "id": "4143ea4a",
   "metadata": {},
   "outputs": [],
   "source": [
    "s1 = set([5, 4, 3, 2, 1, 1, 2, 3, 2, 3, 4, 5])\n",
    "s1"
   ]
  },
  {
   "cell_type": "code",
   "execution_count": null,
   "id": "ecef9e57",
   "metadata": {},
   "outputs": [],
   "source": [
    "s1 = set([1, 2, 3, 4, 5, 6])\n",
    "s2 = set(         [4, 5, 6, 7, 8 ,9])\n",
    "\n",
    "# 교집합 &\n",
    "a = s1 & s2\n",
    "print(\"교집합 :\",a)\n",
    "\n",
    "# 합집합 |\n",
    "b = s1 | s2\n",
    "print(\"합집합 :\",b)\n",
    "\n",
    "# 차입합 -\n",
    "c = s1 - s2\n",
    "print(\"차집합 :\",c)"
   ]
  },
  {
   "cell_type": "code",
   "execution_count": null,
   "id": "a57b866b",
   "metadata": {},
   "outputs": [],
   "source": [
    "# 집합함수 \n",
    "print(\"교집합 :\",s1.intersection(s2))\n",
    "print(\"합집합 :\",s1.union(s2))\n",
    "print(\"차집합 :\",s1.difference(s2))"
   ]
  },
  {
   "cell_type": "code",
   "execution_count": null,
   "id": "81a6560e",
   "metadata": {},
   "outputs": [],
   "source": [
    "# Set에 value 추가\n",
    "# add() : 한개만 추가할 수 있음\n",
    "s1 = set([1, 2, 3])\n",
    "s1.add(4)\n",
    "s1.add(5)\n",
    "print(s1)\n",
    "\n",
    "s1.add(4) # error 안나지만 추가 되지는 않았다"
   ]
  },
  {
   "cell_type": "code",
   "execution_count": null,
   "id": "0f48f41d",
   "metadata": {},
   "outputs": [],
   "source": [
    "# .update([]) : list형식으로 추가해야 함.\n",
    "#  여러개 추가할 수 있음\n",
    "s1 = set([1, 2, 3])\n",
    "s1.update([4])\n",
    "print(s1)"
   ]
  },
  {
   "cell_type": "code",
   "execution_count": null,
   "id": "4597a174",
   "metadata": {},
   "outputs": [],
   "source": [
    "# set 삭제 --순서가 없어서 index로 삭제 할수 없다\n",
    "s1.remove(2)\n",
    "print(s1)"
   ]
  },
  {
   "cell_type": "code",
   "execution_count": null,
   "id": "7dab6127",
   "metadata": {},
   "outputs": [],
   "source": [
    "dic = {'a' : 10}\n",
    "sse = {10}          # 같은 문자 set\n",
    "sst = set([10])     # 같은 문장 set\n",
    "print(type(sse))\n",
    "print(type(sst))"
   ]
  },
  {
   "cell_type": "code",
   "execution_count": null,
   "id": "10a8590f",
   "metadata": {},
   "outputs": [],
   "source": [
    "x = 10\n",
    "y = 20\n",
    "\n",
    "print(\"x =\",id(x))\n",
    "print(\"y =\",id(y))\n",
    "\n",
    "x,y = y,x\n",
    "print()\n",
    "\n",
    "print(\"x =\",id(x))\n",
    "print(\"y =\",id(y))"
   ]
  },
  {
   "cell_type": "markdown",
   "id": "1666c2b3",
   "metadata": {},
   "source": [
    "## 날짜 자려형"
   ]
  },
  {
   "cell_type": "code",
   "execution_count": null,
   "id": "0a8476cb",
   "metadata": {},
   "outputs": [],
   "source": [
    "# 날짜 관련 함수를 가지고 있는 모듈\n",
    "# import datetime : 해당 모듈 전체 가져온다.\n",
    "from datetime import date, time, datetime, timedelta"
   ]
  },
  {
   "cell_type": "code",
   "execution_count": 23,
   "id": "27514ada",
   "metadata": {},
   "outputs": [
    {
     "ename": "NameError",
     "evalue": "name 'date' is not defined",
     "output_type": "error",
     "traceback": [
      "\u001b[1;31m---------------------------------------------------------------------------\u001b[0m",
      "\u001b[1;31mNameError\u001b[0m                                 Traceback (most recent call last)",
      "Input \u001b[1;32mIn [23]\u001b[0m, in \u001b[0;36m<cell line: 2>\u001b[1;34m()\u001b[0m\n\u001b[0;32m      1\u001b[0m \u001b[38;5;66;03m# 변수.today() - 오늘 날짜를 구하는 함수\u001b[39;00m\n\u001b[1;32m----> 2\u001b[0m today \u001b[38;5;241m=\u001b[39m \u001b[43mdate\u001b[49m\u001b[38;5;241m.\u001b[39mtoday()\n\u001b[0;32m      3\u001b[0m \u001b[38;5;28mprint\u001b[39m(\u001b[38;5;124m\"\u001b[39m\u001b[38;5;124mtoday: \u001b[39m\u001b[38;5;132;01m{}\u001b[39;00m\u001b[38;5;124m\"\u001b[39m\u001b[38;5;241m.\u001b[39mformat(today))\n",
      "\u001b[1;31mNameError\u001b[0m: name 'date' is not defined"
     ]
    }
   ],
   "source": [
    "# 변수.today() - 오늘 날짜를 구하는 함수\n",
    "today = date.today()\n",
    "print(\"today: {}\".format(today))"
   ]
  },
  {
   "cell_type": "code",
   "execution_count": 24,
   "id": "dde44546",
   "metadata": {},
   "outputs": [
    {
     "ename": "NameError",
     "evalue": "name 'today' is not defined",
     "output_type": "error",
     "traceback": [
      "\u001b[1;31m---------------------------------------------------------------------------\u001b[0m",
      "\u001b[1;31mNameError\u001b[0m                                 Traceback (most recent call last)",
      "Input \u001b[1;32mIn [24]\u001b[0m, in \u001b[0;36m<cell line: 1>\u001b[1;34m()\u001b[0m\n\u001b[1;32m----> 1\u001b[0m \u001b[38;5;28mprint\u001b[39m(\u001b[38;5;124m\"\u001b[39m\u001b[38;5;124m연도: \u001b[39m\u001b[38;5;132;01m{}\u001b[39;00m\u001b[38;5;124m\"\u001b[39m\u001b[38;5;241m.\u001b[39mformat(\u001b[43mtoday\u001b[49m\u001b[38;5;241m.\u001b[39myear))\n\u001b[0;32m      2\u001b[0m \u001b[38;5;28mprint\u001b[39m(\u001b[38;5;124m\"\u001b[39m\u001b[38;5;124m월: \u001b[39m\u001b[38;5;132;01m{}\u001b[39;00m\u001b[38;5;124m\"\u001b[39m\u001b[38;5;241m.\u001b[39mformat(today\u001b[38;5;241m.\u001b[39mmonth))\n\u001b[0;32m      3\u001b[0m \u001b[38;5;28mprint\u001b[39m(\u001b[38;5;124m\"\u001b[39m\u001b[38;5;124m일: \u001b[39m\u001b[38;5;132;01m{}\u001b[39;00m\u001b[38;5;124m\"\u001b[39m\u001b[38;5;241m.\u001b[39mformat(today\u001b[38;5;241m.\u001b[39mday))\n",
      "\u001b[1;31mNameError\u001b[0m: name 'today' is not defined"
     ]
    }
   ],
   "source": [
    "print(\"연도: {}\".format(today.year))\n",
    "print(\"월: {}\".format(today.month))\n",
    "print(\"일: {}\".format(today.day))"
   ]
  },
  {
   "cell_type": "code",
   "execution_count": null,
   "id": "45ccc2f1",
   "metadata": {},
   "outputs": [],
   "source": [
    "# datetime 날짜 시간 구하기\n",
    "current_datetime = datetime.today()\n",
    "print(\"현재 날짜와 시간 : %s\" % current_datetime)"
   ]
  },
  {
   "cell_type": "code",
   "execution_count": null,
   "id": "8d64f799",
   "metadata": {},
   "outputs": [],
   "source": [
    "# 형식화된 날짜 출력 : 서식(%)\n",
    "today = datetime.today()\n",
    "print(today)\n",
    "print(type(today))\n"
   ]
  },
  {
   "cell_type": "code",
   "execution_count": 25,
   "id": "3037400b",
   "metadata": {},
   "outputs": [
    {
     "ename": "NameError",
     "evalue": "name 'today' is not defined",
     "output_type": "error",
     "traceback": [
      "\u001b[1;31m---------------------------------------------------------------------------\u001b[0m",
      "\u001b[1;31mNameError\u001b[0m                                 Traceback (most recent call last)",
      "Input \u001b[1;32mIn [25]\u001b[0m, in \u001b[0;36m<cell line: 6>\u001b[1;34m()\u001b[0m\n\u001b[0;32m      1\u001b[0m \u001b[38;5;66;03m# 날짜 자료횽을 문자열로 병변환\u001b[39;00m\n\u001b[0;32m      2\u001b[0m \u001b[38;5;66;03m# %y - 년도   # %H - 시간\u001b[39;00m\n\u001b[0;32m      3\u001b[0m \u001b[38;5;66;03m# %m - 월     # %M - 분\u001b[39;00m\n\u001b[0;32m      4\u001b[0m \u001b[38;5;66;03m# %d - 일     # %S\u001b[39;00m\n\u001b[1;32m----> 6\u001b[0m d \u001b[38;5;241m=\u001b[39m \u001b[43mtoday\u001b[49m\u001b[38;5;241m.\u001b[39mstrftime(\u001b[38;5;124m\"\u001b[39m\u001b[38;5;124m%\u001b[39m\u001b[38;5;124mY-\u001b[39m\u001b[38;5;124m%\u001b[39m\u001b[38;5;124mm-\u001b[39m\u001b[38;5;132;01m%d\u001b[39;00m\u001b[38;5;124m \u001b[39m\u001b[38;5;124m%\u001b[39m\u001b[38;5;124mH:\u001b[39m\u001b[38;5;124m%\u001b[39m\u001b[38;5;124mM:\u001b[39m\u001b[38;5;124m%\u001b[39m\u001b[38;5;124mS\u001b[39m\u001b[38;5;124m\"\u001b[39m) \u001b[38;5;66;03m# 날짜type 문자열로 바꿈\u001b[39;00m\n\u001b[0;32m      7\u001b[0m \u001b[38;5;28mprint\u001b[39m(d)\n\u001b[0;32m      8\u001b[0m \u001b[38;5;28mprint\u001b[39m(\u001b[38;5;28mtype\u001b[39m(d))\n",
      "\u001b[1;31mNameError\u001b[0m: name 'today' is not defined"
     ]
    }
   ],
   "source": [
    "# 날짜 자료횽을 문자열로 병변환\n",
    "# %y - 년도   # %H - 시간\n",
    "# %m - 월     # %M - 분\n",
    "# %d - 일     # %S\n",
    "\n",
    "d = today.strftime(\"%Y-%m-%d %H:%M:%S\") # 날짜type 문자열로 바꿈\n",
    "print(d)\n",
    "print(type(d))\n"
   ]
  },
  {
   "cell_type": "code",
   "execution_count": null,
   "id": "9582c8d0",
   "metadata": {},
   "outputs": [],
   "source": [
    "# timedelta()\n",
    "day = timedelta(days=-1)\n",
    "print(day)\n",
    "\n",
    "# 어제 날짜\n",
    "print(today + days)\n",
    "\n",
    "# 1주일 전\n",
    "day = timedelta(days = -7)\n",
    "print(today + day)\n",
    "\n",
    "# 30일 후\n",
    "day = timedelta(days = 30)\n",
    "print(today + day)\n",
    "\n",
    "# 8시간 전\n",
    "h = timedelta(hours = -8)\n",
    "print(today + h)\n"
   ]
  },
  {
   "cell_type": "markdown",
   "id": "a04cb9fb",
   "metadata": {},
   "source": [
    "## 리스트 내포(List compehension) ******"
   ]
  },
  {
   "cell_type": "code",
   "execution_count": 26,
   "id": "1081c92f",
   "metadata": {},
   "outputs": [
    {
     "name": "stdout",
     "output_type": "stream",
     "text": [
      "[2, 4, 6, 8, 10]\n"
     ]
    }
   ],
   "source": [
    "a = [] # = list()\n",
    "\n",
    "for i in range(1, 6) : #[1,2,3,4,5] 집합변수 만들게 되.\n",
    "    a.append(i * 2)\n",
    "print(a)"
   ]
  },
  {
   "cell_type": "code",
   "execution_count": 27,
   "id": "11f71be8",
   "metadata": {},
   "outputs": [
    {
     "name": "stdout",
     "output_type": "stream",
     "text": [
      "[2, 4, 6, 8, 10]\n"
     ]
    }
   ],
   "source": [
    "# i*2 = 리스트에 담아야 할 값 \n",
    "a = [i*2 for i in range(1, 6)]\n",
    "print(a)"
   ]
  },
  {
   "cell_type": "code",
   "execution_count": 28,
   "id": "80c31f26",
   "metadata": {},
   "outputs": [
    {
     "name": "stdout",
     "output_type": "stream",
     "text": [
      "['사과', '자두', '바나나', '체리']\n"
     ]
    }
   ],
   "source": [
    "array = ['사과', '자두', '초콜릿', '바나나', '체리']\n",
    "output = []\n",
    "\n",
    "for i in array :\n",
    "    if i != '초콜릿' :\n",
    "        output.append(i)\n",
    "print(output)"
   ]
  },
  {
   "cell_type": "code",
   "execution_count": 29,
   "id": "e209c41f",
   "metadata": {},
   "outputs": [
    {
     "name": "stdout",
     "output_type": "stream",
     "text": [
      "['사과', '자두', '바나나', '체리']\n"
     ]
    }
   ],
   "source": [
    "# 인라인 함수 inline\n",
    "array = ['사과', '자두', '초콜릿', '바나나', '체리']\n",
    "\n",
    "output = [i for i in array if i != '초콜릿']\n",
    "\n",
    "print(output)\n"
   ]
  },
  {
   "cell_type": "code",
   "execution_count": null,
   "id": "2f65e048",
   "metadata": {},
   "outputs": [],
   "source": []
  },
  {
   "cell_type": "code",
   "execution_count": null,
   "id": "36d2fd58",
   "metadata": {},
   "outputs": [],
   "source": []
  },
  {
   "cell_type": "code",
   "execution_count": null,
   "id": "779edf1b",
   "metadata": {},
   "outputs": [],
   "source": []
  },
  {
   "cell_type": "code",
   "execution_count": null,
   "id": "bdf863c2",
   "metadata": {},
   "outputs": [],
   "source": []
  },
  {
   "cell_type": "code",
   "execution_count": null,
   "id": "4b7199ae",
   "metadata": {},
   "outputs": [],
   "source": []
  },
  {
   "cell_type": "code",
   "execution_count": null,
   "id": "06a91054",
   "metadata": {},
   "outputs": [],
   "source": []
  },
  {
   "cell_type": "code",
   "execution_count": null,
   "id": "af0c9b6c",
   "metadata": {},
   "outputs": [],
   "source": []
  },
  {
   "cell_type": "code",
   "execution_count": null,
   "id": "86414a32",
   "metadata": {},
   "outputs": [],
   "source": []
  }
 ],
 "metadata": {
  "kernelspec": {
   "display_name": "Python 3 (ipykernel)",
   "language": "python",
   "name": "python3"
  },
  "language_info": {
   "codemirror_mode": {
    "name": "ipython",
    "version": 3
   },
   "file_extension": ".py",
   "mimetype": "text/x-python",
   "name": "python",
   "nbconvert_exporter": "python",
   "pygments_lexer": "ipython3",
   "version": "3.9.7"
  },
  "toc": {
   "base_numbering": 1,
   "nav_menu": {},
   "number_sections": true,
   "sideBar": true,
   "skip_h1_title": false,
   "title_cell": "Table of Contents",
   "title_sidebar": "Contents",
   "toc_cell": false,
   "toc_position": {},
   "toc_section_display": true,
   "toc_window_display": false
  }
 },
 "nbformat": 4,
 "nbformat_minor": 5
}
