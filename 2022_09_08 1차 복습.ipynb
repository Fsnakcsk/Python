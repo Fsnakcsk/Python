{
 "cells": [
  {
   "cell_type": "markdown",
   "id": "d33313f6",
   "metadata": {},
   "source": [
    "### 변수 - 자료형 - 자료구조\n",
    "### 변수의 유효범위 : 지역변수와 전역 변수\n",
    "### 제어문 : 조건문과 반복문 \n",
    "### 함수 : 기능별로 묶어놓은 명령어 집합\n",
    "### 클래스 "
   ]
  },
  {
   "cell_type": "code",
   "execution_count": null,
   "id": "9f78552c",
   "metadata": {},
   "outputs": [],
   "source": [
    "a = 10 # 활당 or 초기값\n",
    "print(a) # 변수의 참조 "
   ]
  },
  {
   "cell_type": "code",
   "execution_count": null,
   "id": "0080872e",
   "metadata": {},
   "outputs": [],
   "source": [
    "a = 10\n",
    "b = 20\n",
    "c = 30"
   ]
  },
  {
   "cell_type": "code",
   "execution_count": null,
   "id": "2effb3a6",
   "metadata": {},
   "outputs": [],
   "source": [
    "# List(리스트) : 배열(Array)을 확장한 개념으로 서로 다늘ㄴ 자료횽을 묶어서 관리하는 자료구조\n",
    "x = [a, b, c] # 비어있는 리스트 하나를 활당\n",
    "# x.append(a)\n",
    "# x.append(b)\n",
    "# x.append(c)\n",
    "x[0]"
   ]
  },
  {
   "cell_type": "code",
   "execution_count": null,
   "id": "90bfdd4c",
   "metadata": {},
   "outputs": [],
   "source": [
    "y = (a, b, b)\n",
    "# packing, unpacking\n",
    "y"
   ]
  },
  {
   "cell_type": "code",
   "execution_count": null,
   "id": "875e36e3",
   "metadata": {},
   "outputs": [],
   "source": [
    "z = 10, 20, 30\n",
    "z"
   ]
  },
  {
   "cell_type": "code",
   "execution_count": null,
   "id": "63f5ae1b",
   "metadata": {},
   "outputs": [],
   "source": [
    "xx = {}\n",
    "print(type(xx))"
   ]
  },
  {
   "cell_type": "code",
   "execution_count": null,
   "id": "89652bc3",
   "metadata": {},
   "outputs": [],
   "source": [
    "yy = {10,20,30}\n",
    "print(type(yy))"
   ]
  },
  {
   "cell_type": "code",
   "execution_count": null,
   "id": "c4b5f4f3",
   "metadata": {},
   "outputs": [],
   "source": [
    "zz = dict()\n",
    "print(type(zz))"
   ]
  },
  {
   "cell_type": "code",
   "execution_count": null,
   "id": "abc1d1e7",
   "metadata": {},
   "outputs": [],
   "source": [
    "aa = list()\n",
    "bb = tuple()\n",
    "cc = set()\n",
    "dd = dict()"
   ]
  },
  {
   "cell_type": "code",
   "execution_count": null,
   "id": "0d3a9c86",
   "metadata": {},
   "outputs": [],
   "source": [
    "x = 10\n",
    "\n",
    "def aaa() :\n",
    "    x = 1\n",
    "    print(\"x = \", x)\n",
    "\n",
    "    print(\"x = \", x)\n",
    "\n",
    "def bbb() :\n",
    "    y = 2\n",
    "    print(\"x = \", x)\n",
    "    print(\"y = \", y)\n",
    "\n",
    "print(\"y = \", y)"
   ]
  },
  {
   "cell_type": "code",
   "execution_count": null,
   "id": "7424c094",
   "metadata": {},
   "outputs": [],
   "source": [
    "k = list[(\"aaa\", 10, 12.5), (\"bbb\", 20, 30), (\"ccc\", 30, 18.9)]\n",
    "print(k)\n"
   ]
  },
  {
   "cell_type": "code",
   "execution_count": null,
   "id": "7c9465e8",
   "metadata": {},
   "outputs": [],
   "source": [
    "class AAA :\n",
    "    def __init__(self, name, no, jumsu) : # 생성자 메소드 - 객체가 생성될 때 호출되는 메서드\n",
    "        self.name = name \n",
    "        self.no = no\n",
    "        self.jumsu = jumsu\n",
    "    \n",
    "    def getName(self):\n",
    "        return self.name\n",
    "    \n",
    "    def disp(self) :\n",
    "        print(self.name, self.no, self. jumsu)\n",
    "\n",
    "    def __del__(self) :                   # 생략 가능\n",
    "        print(\"AAA 소멸자 호출\")\n"
   ]
  },
  {
   "cell_type": "code",
   "execution_count": null,
   "id": "3cd76dbb",
   "metadata": {},
   "outputs": [],
   "source": [
    "ap = AAA('aaa', 10, 12.5) # 인스턴스 변수(객체) 값을 담아 있지 않고 주소를 담겨져 있다.\n",
    "bp = AAA('bbb', 20, 30.7)\n",
    "cp = AAA('ccc', 30, 18.9)\n",
    "\n",
    "print(ap.name)\n",
    "print(bp.no)\n",
    "print(cp.jumsu)\n"
   ]
  },
  {
   "cell_type": "code",
   "execution_count": null,
   "id": "d7995bd1",
   "metadata": {},
   "outputs": [],
   "source": [
    "xxx = [ap, bp, cp]\n",
    "# yyy = [AAA('aaa', 10, 12.5), AAA('bbb', 20, 30.7), AAA('ccc', 30, 18.9)]\n",
    "yyy = [('aaa', 10, 12.5), ('bbb', 20, 30.7), ('ccc', 30, 18.9)] # 시제로 이렇게 생겼음\n",
    "\n",
    "print(xxx)"
   ]
  },
  {
   "cell_type": "code",
   "execution_count": null,
   "id": "cc47b1da",
   "metadata": {},
   "outputs": [],
   "source": [
    "print(xxx[0].name)\n",
    "print()\n",
    "xxx[0].disp()\n",
    "xxx[1].disp()\n",
    "xxx[2].disp()\n",
    "\n"
   ]
  },
  {
   "cell_type": "code",
   "execution_count": null,
   "id": "9d7f49c5",
   "metadata": {},
   "outputs": [],
   "source": [
    "for i in range(3) :\n",
    "    xxx[i].disp()\n",
    "    \n",
    "print()\n"
   ]
  },
  {
   "cell_type": "code",
   "execution_count": null,
   "id": "ecd28507",
   "metadata": {},
   "outputs": [],
   "source": [
    "xxx[1].name\n",
    "xxx[1].getName()"
   ]
  },
  {
   "cell_type": "code",
   "execution_count": null,
   "id": "a6ec296f",
   "metadata": {},
   "outputs": [],
   "source": [
    "# 원을 객체로하는 클래스 Circle을 구현\n",
    "class Circle :\n",
    "    \n",
    "    # 반지름을 입력받을 수 있도록 구현하시오\n",
    "    def setRadius(self, radius) :\n",
    "        self.radius = radius\n",
    "        \n",
    "        \n",
    "    # 반지름을 출력할 수 있도록 구현\n",
    "    def getRadius(self) : \n",
    "        return self.radius\n",
    "    \n",
    "    \n",
    "    # 원의 면적을 게싼하여 출력\n",
    "    def getArea(self) :\n",
    "        return self.radius * self. radius * 3.14\n",
    "    \n",
    "    \n",
    "# 인스턴스 객체 생성 : 생성자 메소드 호출, default 생성자\n",
    "c1 = Circle()\n",
    "\n",
    "# 반지금 입력\n",
    "c1.setRadius(5)\n",
    "\n",
    "# 반지름 출력\n",
    "print(c1.getRadius())\n",
    "\n",
    "# 원의 면적 출력\n",
    "print(c1.getArea())"
   ]
  },
  {
   "cell_type": "code",
   "execution_count": null,
   "id": "992a853d",
   "metadata": {},
   "outputs": [],
   "source": [
    "c2 = Circle()\n",
    "radius = int(input(\"반지름 : \"))\n",
    "c2.setRadius(radius)\n",
    "print(c2.getRadius())\n",
    "print(c2.getArea())"
   ]
  },
  {
   "cell_type": "markdown",
   "id": "d56a1838",
   "metadata": {},
   "source": [
    "### 퀴즈 : 다석개의 반지름을 입력받아 원의 면적을 계산하되, 원의 면적이 100이상 200이하에 해당하는 \n"
   ]
  },
  {
   "cell_type": "code",
   "execution_count": null,
   "id": "c43027dd",
   "metadata": {},
   "outputs": [],
   "source": [
    "## 다석개의 반지름을 입력받아 원의 면적을 계산하되, 원의 면적이 100이상 200이하에 해당하는 \n",
    "# 반지름이 출력되도록 프로그램을 구현\n",
    "\n",
    "List = []\n",
    "\n",
    "def newCircle() :\n",
    "    radius = int(input(\"반지름 \"))\n",
    "    NewC = Circle()\n",
    "    NewC.setRadius(radius)\n",
    "    \n",
    "    if NewC.getArea() >= 100 and NewC.getArea() <= 200 :\n",
    "        List.append(NewC.getArea())\n",
    "    \n",
    "for i in range(5) :\n",
    "    newCircle()\n",
    "\n",
    "for i in List :\n",
    "    print(i)"
   ]
  },
  {
   "cell_type": "markdown",
   "id": "f28ed952",
   "metadata": {},
   "source": [
    "### 성적처리 프로그램\n",
    " - 한 명의 성적을 입력받아 총점과 평균을 출력하는 프로그램\n",
    " - 단, 평균은 소수점이하 둘째자리까지 출력\n",
    "\n",
    " - 학점 : A학점, B학점, C학점, F학점으로 구분\n",
    " - 평균이 90이상 A, 80이상 B ......\n"
   ]
  },
  {
   "cell_type": "code",
   "execution_count": 63,
   "id": "37492438",
   "metadata": {},
   "outputs": [
    {
     "name": "stdout",
     "output_type": "stream",
     "text": [
      "Name : a\n",
      "kor : 1\n",
      "eng : 2\n",
      "math : 3\n",
      "Name : b\n",
      "kor : 1\n",
      "eng : 2\n",
      "math : 3\n",
      "==============================\n",
      "학생정보      \n",
      "\n",
      "이름 : a\n",
      "총점 : 6\n",
      "평균 : 3.0\n",
      "등급 : F\n",
      "\n",
      "==============================\n",
      "학생정보      \n",
      "\n",
      "이름 : b\n",
      "총점 : 6\n",
      "평균 : 3.0\n",
      "등급 : F\n",
      "\n"
     ]
    }
   ],
   "source": [
    "List = []\n",
    "\n",
    "class Stu :\n",
    "    def __init__(self, name, kor, eng, math) :\n",
    "        self.name = name\n",
    "        self.kor = kor\n",
    "        self.eng = eng\n",
    "        self.math = math\n",
    "        self.tot = int()\n",
    "        self.avg = float()\n",
    "    \n",
    "    def getList(self) :\n",
    "        return self.List\n",
    "        \n",
    "    def getSum(self) :\n",
    "        return self.math + self.kor + self.eng\n",
    "    \n",
    "    def getAvg(self) :\n",
    "        return self.getSum() / len(List)\n",
    "        \n",
    "    def getScore(self) :\n",
    "        avg = self.getAvg() \n",
    "        if avg >= 90 :\n",
    "            grade = \"A\"        \n",
    "        elif avg >= 80 :\n",
    "            grade = \"B\"          \n",
    "        elif avg >= 70 :\n",
    "            grade = \"C\"           \n",
    "        elif avg >= 60 :\n",
    "            grade = \"D\"          \n",
    "        else :\n",
    "            grade = \"F\"      \n",
    "        return grade\n",
    "\n",
    "    def disp(self) :\n",
    "        print(\"%s님의 총점은 %d이고, 평균은 %.2f이며 학점은 %s입니다.\" %(self.name, self.getSum(), self.getAvg(), self.getScore()))\n",
    "        \n",
    "        \n",
    "def start() :\n",
    "    name = input(\"Name : \")\n",
    "    kor = int(input(\"kor : \"))\n",
    "    eng = int(input(\"eng : \"))\n",
    "    math = int(input(\"math : \"))\n",
    "    newStu = Stu(name, kor, eng, math)\n",
    "    List.append(newStu)\n",
    "\n",
    "    \n",
    "for i in range(2) :\n",
    "    start()\n",
    "    \n",
    "\n",
    "for i in range(2) :\n",
    "    List[i].disp()\n",
    "    print()\n",
    "    \n"
   ]
  },
  {
   "cell_type": "code",
   "execution_count": 73,
   "id": "201d49c9",
   "metadata": {},
   "outputs": [],
   "source": [
    "students = list()\n",
    "\n",
    "class Student :\n",
    "    def adder(self) :\n",
    "        self.name = input(\"Name : \")\n",
    "        self.kor = int(input(\"kor : \"))\n",
    "        self.eng = int(input(\"eng : \"))\n",
    "        self.math = int(input(\"math : \"))\n",
    "        \n",
    "    def compute(self) :\n",
    "        self.tot = self.math + self.kor + self.eng\n",
    "        self.avg =  self.tot / 3\n",
    "        \n",
    "        if self.avg >= 90 :\n",
    "            self.grade = \"A\"        \n",
    "        elif self.avg >= 80 :\n",
    "            self.grade = \"B\"          \n",
    "        elif self.avg >= 70 :\n",
    "            self.grade = \"C\"           \n",
    "        elif self.avg >= 60 :\n",
    "            self.grade = \"D\"          \n",
    "        else :\n",
    "            self.grade = \"F\"      \n",
    "            \n",
    "    def disp(self) :\n",
    "        return print(\"%s님의 총점은 %d이고, 평균은 %.2f이며 학점은 %s입니다.\" %(self.name, self.tot, self.avg, self.grade))\n",
    "    \n",
    "\n",
    "for i in range(3) :\n",
    "    s = Student()\n",
    "    s.adder()\n",
    "    s.compute()\n",
    "    students.append(s)\n",
    "\n",
    "# 결과 출력 \n",
    "for i in students :\n",
    "    print(i.disp())"
   ]
  },
  {
   "cell_type": "markdown",
   "id": "db9f5661",
   "metadata": {},
   "source": [
    "### 예제 학적관리 프로그램"
   ]
  },
  {
   "cell_type": "code",
   "execution_count": null,
   "id": "8e2edde1",
   "metadata": {},
   "outputs": [],
   "source": []
  },
  {
   "cell_type": "code",
   "execution_count": null,
   "id": "4a497fcd",
   "metadata": {},
   "outputs": [],
   "source": []
  },
  {
   "cell_type": "code",
   "execution_count": null,
   "id": "ed567f08",
   "metadata": {},
   "outputs": [],
   "source": []
  },
  {
   "cell_type": "code",
   "execution_count": null,
   "id": "46c631fd",
   "metadata": {},
   "outputs": [],
   "source": []
  },
  {
   "cell_type": "code",
   "execution_count": null,
   "id": "8b9b6aea",
   "metadata": {},
   "outputs": [],
   "source": []
  },
  {
   "cell_type": "code",
   "execution_count": null,
   "id": "a3018de1",
   "metadata": {},
   "outputs": [],
   "source": []
  },
  {
   "cell_type": "code",
   "execution_count": null,
   "id": "c4221777",
   "metadata": {},
   "outputs": [],
   "source": []
  },
  {
   "cell_type": "code",
   "execution_count": null,
   "id": "1b28e47e",
   "metadata": {},
   "outputs": [],
   "source": []
  },
  {
   "cell_type": "code",
   "execution_count": null,
   "id": "8ccb3d9a",
   "metadata": {},
   "outputs": [],
   "source": []
  },
  {
   "cell_type": "code",
   "execution_count": null,
   "id": "ab53a06f",
   "metadata": {},
   "outputs": [],
   "source": []
  },
  {
   "cell_type": "code",
   "execution_count": null,
   "id": "6c0a01fa",
   "metadata": {},
   "outputs": [],
   "source": []
  },
  {
   "cell_type": "code",
   "execution_count": null,
   "id": "292f63c4",
   "metadata": {},
   "outputs": [],
   "source": []
  },
  {
   "cell_type": "code",
   "execution_count": null,
   "id": "ec3b77c8",
   "metadata": {},
   "outputs": [],
   "source": []
  },
  {
   "cell_type": "code",
   "execution_count": null,
   "id": "de7b576d",
   "metadata": {},
   "outputs": [],
   "source": []
  },
  {
   "cell_type": "code",
   "execution_count": null,
   "id": "ba4f3494",
   "metadata": {},
   "outputs": [],
   "source": []
  },
  {
   "cell_type": "code",
   "execution_count": null,
   "id": "8ca21f48",
   "metadata": {},
   "outputs": [],
   "source": []
  },
  {
   "cell_type": "code",
   "execution_count": null,
   "id": "b0fe9482",
   "metadata": {},
   "outputs": [],
   "source": []
  },
  {
   "cell_type": "code",
   "execution_count": null,
   "id": "5fb201e9",
   "metadata": {},
   "outputs": [],
   "source": []
  },
  {
   "cell_type": "code",
   "execution_count": null,
   "id": "73e820c1",
   "metadata": {},
   "outputs": [],
   "source": []
  },
  {
   "cell_type": "code",
   "execution_count": null,
   "id": "0c4df23c",
   "metadata": {},
   "outputs": [],
   "source": []
  },
  {
   "cell_type": "code",
   "execution_count": null,
   "id": "bfacf598",
   "metadata": {},
   "outputs": [],
   "source": []
  }
 ],
 "metadata": {
  "kernelspec": {
   "display_name": "Python 3 (ipykernel)",
   "language": "python",
   "name": "python3"
  },
  "language_info": {
   "codemirror_mode": {
    "name": "ipython",
    "version": 3
   },
   "file_extension": ".py",
   "mimetype": "text/x-python",
   "name": "python",
   "nbconvert_exporter": "python",
   "pygments_lexer": "ipython3",
   "version": "3.9.12"
  },
  "toc": {
   "base_numbering": 1,
   "nav_menu": {},
   "number_sections": true,
   "sideBar": true,
   "skip_h1_title": false,
   "title_cell": "Table of Contents",
   "title_sidebar": "Contents",
   "toc_cell": false,
   "toc_position": {},
   "toc_section_display": true,
   "toc_window_display": false
  }
 },
 "nbformat": 4,
 "nbformat_minor": 5
}
