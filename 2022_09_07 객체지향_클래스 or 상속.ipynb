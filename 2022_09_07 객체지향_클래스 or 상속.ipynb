{
 "cells": [
  {
   "cell_type": "markdown",
   "id": "0ae7df95",
   "metadata": {},
   "source": [
    "# OOP\n",
    "- 객체(Object) : 현실 세계에 또는 실생활에 존재하는 실제적인 물건 또는 개념\n",
    "\n",
    "- 클래스(Class) : 객체를 프로그램으로 표현하는 기본 단위, 사용자 정의 자료형\n",
    "  - 클래스의 구성요소 :\n",
    "  --     속성(attrbute, feature, field) variable(변수)\n",
    "  --     행위나 동작(Method, Function, Action) - 함수\n",
    "  \n",
    "- 자료형(Data Type) : 기본 자료형, 참조형 자료형, 사용자 정의 자료형\n",
    "\n",
    "\n"
   ]
  },
  {
   "cell_type": "markdown",
   "id": "31e33378",
   "metadata": {},
   "source": [
    "### 1단계"
   ]
  },
  {
   "cell_type": "code",
   "execution_count": 13,
   "id": "c36227b8",
   "metadata": {},
   "outputs": [],
   "source": [
    "class Person :\n",
    "    \n",
    "    # --- 맴버 필드 - 프로포티 ---\n",
    "#     name = \"\"\n",
    "#     age = 0\n",
    "#     height = 0.0\n",
    "    \n",
    "    \n",
    "    # --- 생성자 매소드 - (Constructor) : 객체가 생성될 때 자동으로 호출\n",
    "    \n",
    "    \n",
    "    # --- 멤버 메소드 : Methon = Function ---\n",
    "    def put(self) :\n",
    "        print(\"이름 : \", self.name)\n",
    "        print(\"나이 : \", self.age)\n",
    "        print(\"키   : \", self.height)\n",
    "\n",
    "    \n",
    "    # 소멸자 메소드 : 객체가 소멸될 때 자동으로 호출된다."
   ]
  },
  {
   "cell_type": "code",
   "execution_count": 14,
   "id": "e9ec6fa3",
   "metadata": {},
   "outputs": [
    {
     "name": "stdout",
     "output_type": "stream",
     "text": [
      "이름 :  김철수\n",
      "나이 :  20\n",
      "키   :  180.5\n"
     ]
    }
   ],
   "source": [
    "# Person 믈래스의 인스턴스 객체를 생성, 이떄 생성되는 인스턴스 객체 = 참조변수(주소)\n",
    "p1 = Person() \n",
    "\n",
    "# 멤버 필드를 초기화하는 작업\n",
    "p1.name = \"김철수\"\n",
    "p1.age = 20\n",
    "p1.height = 180.5\n",
    "\n",
    "# 인스턴스 객체를 이용 : 객체명.멤버필드 or 객체명.멤버메소드\n",
    "p1.put()"
   ]
  },
  {
   "cell_type": "code",
   "execution_count": 17,
   "id": "7bb78e3b",
   "metadata": {},
   "outputs": [
    {
     "name": "stdout",
     "output_type": "stream",
     "text": [
      "이름 :  이철스\n",
      "나이 :  30\n",
      "키   :  175.8\n"
     ]
    }
   ],
   "source": [
    "p2 = Person()\n",
    "p2.name = \"이철스\"\n",
    "p2.age = 30\n",
    "p2.height = 175.8\n",
    "p2.put()"
   ]
  },
  {
   "cell_type": "markdown",
   "id": "e6bcc02c",
   "metadata": {},
   "source": [
    "### 2단계"
   ]
  },
  {
   "cell_type": "code",
   "execution_count": 37,
   "id": "1cf00754",
   "metadata": {},
   "outputs": [
    {
     "name": "stdout",
     "output_type": "stream",
     "text": [
      "이름 : kim\n",
      "나이 : 25\n",
      "신장 : 177\n"
     ]
    }
   ],
   "source": [
    "class Person :\n",
    "    # 생성자 메소드 : 멤버 필드를 초기화하는 역할\n",
    "    def __init__(self, name, age, height) :\n",
    "        self.name = name\n",
    "        self.age = age\n",
    "        self.height = height\n",
    "    \n",
    "    # 멤버 매소드\n",
    "    def disp(self) :\n",
    "        print(\"이름 : \" + self.name)\n",
    "        print(\"나이 : \" + str(self.age))\n",
    "        print(\"신장 : \" + str(self.height))\n",
    "\n",
    "p3 = Person(\"kim\", 25, 177)\n",
    "p3.disp()"
   ]
  },
  {
   "cell_type": "markdown",
   "id": "ac8d2e31",
   "metadata": {},
   "source": [
    "### Person과 self의 차이점"
   ]
  },
  {
   "cell_type": "code",
   "execution_count": 42,
   "id": "00042c6c",
   "metadata": {},
   "outputs": [
    {
     "name": "stdout",
     "output_type": "stream",
     "text": [
      "이름 : 김철수 나이 : 21 신장 : 177.7\n",
      "이름 : 디폴트 나이 : 20 신장 : 180.5\n",
      "\n",
      "이름 : 홍길동 나이 : 33 신장 : 178.9\n",
      "이름 : 디폴트 나이 : 20 신장 : 180.5\n",
      "\n",
      "이름 : 디폴트 나이 : 20 신장 : 180.5\n",
      "이름 : 디폴트 나이 : 20 신장 : 180.5\n",
      "\n"
     ]
    }
   ],
   "source": [
    "class Person :\n",
    "    name = \"디폴트\"\n",
    "    age = 20\n",
    "    height = 180.5\n",
    "    \n",
    "    def disp(self) :\n",
    "        # -- slef.변수 --\n",
    "        print(\"이름 : \" + self.name, end=\" \")\n",
    "        print(\"나이 : \" + str(self.age), end=\" \")\n",
    "        print(\"신장 : \" + str(self.height))\n",
    "        \n",
    "        # -- 클래스명.변수 -- (statci 변수)\n",
    "        print(\"이름 : \" + Person.name, end=\" \")\n",
    "        print(\"나이 : \" + str(Person.age), end=\" \")\n",
    "        print(\"신장 : \" + str(Person.height))\n",
    "        \n",
    "        print()\n",
    "\n",
    "p4 = Person()\n",
    "p4.name = \"김철수\"\n",
    "p4.age = 21\n",
    "p4.height = 177.7\n",
    "\n",
    "p5 = Person()\n",
    "p5.name = \"홍길동\"\n",
    "p5.age = 33\n",
    "p5.height = 178.9\n",
    "\n",
    "p6 = Person()\n",
    "\n",
    "p4.disp()\n",
    "p5.disp()\n",
    "p6.disp()"
   ]
  },
  {
   "cell_type": "code",
   "execution_count": 59,
   "id": "a7a74a1b",
   "metadata": {},
   "outputs": [],
   "source": [
    "class JBank :\n",
    "    # 멤버 필드\n",
    "    rate = 0.3\n",
    "    \n",
    "    # 생성자 메소드\n",
    "    def __init__(self, name, money, iyul) :\n",
    "        self.name = name\n",
    "        self.balance = money\n",
    "        self.rate = iyul\n",
    "    \n",
    "    # 멤버 메소드\n",
    "    def disp(self) :\n",
    "        print(\"고객이름 : \", self.name, end=\" \")\n",
    "        print(\"예금금액 : \", self.balance, end=\" \")\n",
    "        print(\"예금이율 : \", JBank.rate)\n"
   ]
  },
  {
   "cell_type": "code",
   "execution_count": 60,
   "id": "0c400eff",
   "metadata": {},
   "outputs": [
    {
     "name": "stdout",
     "output_type": "stream",
     "text": [
      "고객이름 :  aaa 예금금액 :  10000 예금이율 :  0.3\n"
     ]
    }
   ],
   "source": [
    "# 초기고객\n",
    "a = JBank(\"aaa\", 10000, 0.7)\n",
    "a.disp()"
   ]
  },
  {
   "cell_type": "code",
   "execution_count": 61,
   "id": "6289d77a",
   "metadata": {},
   "outputs": [
    {
     "name": "stdout",
     "output_type": "stream",
     "text": [
      "고객이름 :  aaa 예금금액 :  10000 예금이율 :  0.3\n",
      "고객이름 :  bbb 예금금액 :  10000 예금이율 :  0.3\n"
     ]
    }
   ],
   "source": [
    "# 중기고객\n",
    "b = JBank(\"bbb\", 10000, 0.3)\n",
    "a.disp()\n",
    "b.disp()"
   ]
  },
  {
   "cell_type": "code",
   "execution_count": 62,
   "id": "69854c4c",
   "metadata": {},
   "outputs": [
    {
     "name": "stdout",
     "output_type": "stream",
     "text": [
      "고객이름 :  aaa 예금금액 :  10000 예금이율 :  0.3\n",
      "고객이름 :  bbb 예금금액 :  10000 예금이율 :  0.3\n",
      "고객이름 :  ccc 예금금액 :  10000 예금이율 :  0.3\n"
     ]
    }
   ],
   "source": [
    "# 후기고객\n",
    "c = JBank(\"ccc\", 10000, 0.5)\n",
    "a.disp()\n",
    "b.disp()\n",
    "c.disp()"
   ]
  },
  {
   "cell_type": "code",
   "execution_count": 70,
   "id": "889ef86b",
   "metadata": {},
   "outputs": [],
   "source": [
    "class Member :\n",
    "    \n",
    "    userid = \"king@kong.com\"\n",
    "    \n",
    "    def __init__(self, userid=\"aaa@a.com\", userpw=\"1234\", name=\"aaa\") :\n",
    "        self.userid = userid\n",
    "        self.userpw = userpw\n",
    "        self.name = name\n",
    "        \n",
    "    def disp(self) :\n",
    "        print(self.userid, self.userpw, self.name)\n",
    "        "
   ]
  },
  {
   "cell_type": "code",
   "execution_count": 69,
   "id": "5c6dea5a",
   "metadata": {},
   "outputs": [
    {
     "name": "stdout",
     "output_type": "stream",
     "text": [
      "aaa@a.com 1234 aaa\n",
      "bbb@b.com 1234 bbbb\n",
      "ccc@c.com 1234 aaa\n"
     ]
    }
   ],
   "source": [
    "m1 = Member()\n",
    "m1.disp()\n",
    "\n",
    "m2 = Member(\"bbb@b.com\", \"1234\", \"bbbb\")\n",
    "m2.disp()\n",
    "\n",
    "m3 = Member(\"ccc@c.com\")\n",
    "m3.disp()"
   ]
  },
  {
   "cell_type": "markdown",
   "id": "5e571ac2",
   "metadata": {},
   "source": [
    "# 상속(Inheiritance)"
   ]
  },
  {
   "cell_type": "code",
   "execution_count": 89,
   "id": "b821d697",
   "metadata": {},
   "outputs": [],
   "source": [
    "class A : #\n",
    "    def disp(self) :\n",
    "        print(\"A class\")"
   ]
  },
  {
   "cell_type": "code",
   "execution_count": 76,
   "id": "e74545c3",
   "metadata": {},
   "outputs": [],
   "source": [
    "class B :\n",
    "    def bbb(self) :\n",
    "        print(\"B class\")"
   ]
  },
  {
   "cell_type": "code",
   "execution_count": 97,
   "id": "0781236a",
   "metadata": {},
   "outputs": [],
   "source": [
    "class C(A) :\n",
    "    def disp(self) : #오버라이딩(재정의)\n",
    "        A.disp(self)\n",
    "        print(\"C class\")"
   ]
  },
  {
   "cell_type": "code",
   "execution_count": 103,
   "id": "06dae9e3",
   "metadata": {},
   "outputs": [
    {
     "name": "stdout",
     "output_type": "stream",
     "text": [
      "A class\n",
      "C class\n"
     ]
    }
   ],
   "source": [
    "cp = C()\n",
    "cp.disp()"
   ]
  },
  {
   "cell_type": "code",
   "execution_count": 86,
   "id": "f2c9d91a",
   "metadata": {},
   "outputs": [
    {
     "ename": "AttributeError",
     "evalue": "'A' object has no attribute 'bbb'",
     "output_type": "error",
     "traceback": [
      "\u001b[1;31m---------------------------------------------------------------------------\u001b[0m",
      "\u001b[1;31mAttributeError\u001b[0m                            Traceback (most recent call last)",
      "Input \u001b[1;32mIn [86]\u001b[0m, in \u001b[0;36m<cell line: 1>\u001b[1;34m()\u001b[0m\n\u001b[1;32m----> 1\u001b[0m \u001b[43map\u001b[49m\u001b[38;5;241;43m.\u001b[39;49m\u001b[43mbbb\u001b[49m()\n",
      "\u001b[1;31mAttributeError\u001b[0m: 'A' object has no attribute 'bbb'"
     ]
    }
   ],
   "source": [
    "ap.bbb() #상속 받지 않았다."
   ]
  },
  {
   "cell_type": "markdown",
   "id": "8fb01881",
   "metadata": {},
   "source": [
    "### 예제"
   ]
  },
  {
   "cell_type": "code",
   "execution_count": 130,
   "id": "c43d1d79",
   "metadata": {},
   "outputs": [],
   "source": [
    "class Person : # 상위(부모) 클래스\n",
    "    def __init__(self, name, age, height) :\n",
    "        self.name = name\n",
    "        self.age = age\n",
    "        self.height = height\n",
    "        self.number = \"931005-1234567\"\n",
    "        \n",
    "    def disp(self) :\n",
    "        print(\"이른 : \" + self.name, end=\" \") # end of line\n",
    "        print(\"나이 : \" + str(self.age), end=\" \")\n",
    "        print(\"신장 : \" + str(self.height))\n",
    "        print(self.number)\n"
   ]
  },
  {
   "cell_type": "code",
   "execution_count": 126,
   "id": "0b9bbff3",
   "metadata": {},
   "outputs": [],
   "source": [
    "class PersonInfo(Person) : # 하위(파생) 클래스\n",
    "    \n",
    "    \n",
    "    def disp(self) :\n",
    "        Person.disp(self)\n",
    "        print(\"체중 : \" + str(self.weight), end=\" \") # end of line\n",
    "        print(\"시력(좌) : \" + str(self.left_eye), end=\" \")\n",
    "        print(\"시력(우) : \" + str(self.right_eye))"
   ]
  },
  {
   "cell_type": "code",
   "execution_count": 113,
   "id": "262804c5",
   "metadata": {},
   "outputs": [
    {
     "name": "stdout",
     "output_type": "stream",
     "text": [
      "이른 : aaa 나이 : 20 신장 : 178.9\n",
      "체중 : 70 시력(좌) : 1.0 시력(우) : 1.5\n"
     ]
    }
   ],
   "source": [
    "p1 = PersonInfo(\"aaa\", 20, 178.9)\n",
    "p1.weight = 70\n",
    "p1.left_eye = 1.0\n",
    "p1.right_eye = 1.5\n",
    "p1.disp()"
   ]
  },
  {
   "cell_type": "code",
   "execution_count": 132,
   "id": "a6055537",
   "metadata": {},
   "outputs": [],
   "source": [
    "class PersonInfo(Person) : # 하위(파생) 클래스\n",
    "    \n",
    "    def __init__(self, name, age, height, weight, left_eye, rigeth_eye) :\n",
    "        Person.__init__(self, name, age, height)\n",
    "        # Person() 상위클래스 __init__가 없으면 Person()호출 가능\n",
    "        self.weight = weight\n",
    "        self.left_eye = left_eye\n",
    "        self.rigeth_eye = rigeth_eye\n",
    "        \n",
    "    def disp(self) :\n",
    "        Person.disp(self)\n",
    "        print(\"체중 : \" + str(self.weight), end=\" \") # end of line\n",
    "        print(\"시력(좌) : \" + str(self.left_eye), end=\" \")\n",
    "        print(\"시력(우) : \" + str(self.rigeth_eye))"
   ]
  },
  {
   "cell_type": "code",
   "execution_count": 133,
   "id": "38eb8c83",
   "metadata": {},
   "outputs": [
    {
     "name": "stdout",
     "output_type": "stream",
     "text": [
      "이른 : 홍길동 나이 : 33 신장 : 170.9\n",
      "931005-1234567\n",
      "체중 : 90 시력(좌) : 1.2 시력(우) : 1.5\n"
     ]
    }
   ],
   "source": [
    "p1 = PersonInfo(\"홍길동\", 33, 170.9, 90, 1.2, 1.5)\n",
    "p1.disp()"
   ]
  },
  {
   "cell_type": "code",
   "execution_count": 16,
   "id": "e22f749a",
   "metadata": {},
   "outputs": [
    {
     "name": "stdout",
     "output_type": "stream",
     "text": [
      "안녕하세요\n",
      "김출수\n",
      "20\n",
      "김출수\n",
      "20\n",
      "20\n",
      "안녕하세요\n"
     ]
    }
   ],
   "source": [
    "class A :\n",
    "    # 멤버 칠드 프로포티 = 클래스 변수(공통적으로 사용할 값)\n",
    "    name = \"김출수\"\n",
    "    age = 20\n",
    "    \n",
    "    # 멤버 메소드\n",
    "    def disp(self) :\n",
    "        self.message = \"안녕하세요\"\n",
    "        print(self.message)\n",
    "    \n",
    "ap = A()\n",
    "ap.disp()\n",
    "\n",
    "print(ap.name)\n",
    "print(ap.age)\n",
    "\n",
    "print(A.name)\n",
    "print(A.age)\n",
    "\n",
    "print(A.age)\n",
    "#print(A.message) 지역변수라서 접근 불가\n",
    "print(ap.message)"
   ]
  },
  {
   "cell_type": "code",
   "execution_count": 19,
   "id": "226c7646",
   "metadata": {},
   "outputs": [],
   "source": [
    "class Person :\n",
    "    nation = \"한국\"\n",
    "    name = str()\n",
    "    age = int()\n",
    "    height = float()\n",
    "    weight = float()"
   ]
  },
  {
   "cell_type": "code",
   "execution_count": 20,
   "id": "1f95637a",
   "metadata": {},
   "outputs": [
    {
     "name": "stdout",
     "output_type": "stream",
     "text": [
      "['__class__', '__delattr__', '__dict__', '__dir__', '__doc__', '__eq__', '__format__', '__ge__', '__getattribute__', '__gt__', '__hash__', '__init__', '__init_subclass__', '__le__', '__lt__', '__module__', '__ne__', '__new__', '__reduce__', '__reduce_ex__', '__repr__', '__setattr__', '__sizeof__', '__str__', '__subclasshook__', '__weakref__', 'age', 'height', 'name', 'nation', 'weight']\n"
     ]
    }
   ],
   "source": [
    "print(dir(Person)) # dir() = 객체들의 목록 확인"
   ]
  },
  {
   "cell_type": "markdown",
   "id": "a35efa23",
   "metadata": {},
   "source": []
  },
  {
   "cell_type": "code",
   "execution_count": null,
   "id": "64ab1afd",
   "metadata": {},
   "outputs": [],
   "source": []
  },
  {
   "cell_type": "code",
   "execution_count": null,
   "id": "5987a747",
   "metadata": {},
   "outputs": [],
   "source": []
  },
  {
   "cell_type": "code",
   "execution_count": null,
   "id": "2fb451b8",
   "metadata": {},
   "outputs": [],
   "source": []
  }
 ],
 "metadata": {
  "kernelspec": {
   "display_name": "Python 3 (ipykernel)",
   "language": "python",
   "name": "python3"
  },
  "language_info": {
   "codemirror_mode": {
    "name": "ipython",
    "version": 3
   },
   "file_extension": ".py",
   "mimetype": "text/x-python",
   "name": "python",
   "nbconvert_exporter": "python",
   "pygments_lexer": "ipython3",
   "version": "3.9.12"
  },
  "toc": {
   "base_numbering": 1,
   "nav_menu": {},
   "number_sections": true,
   "sideBar": true,
   "skip_h1_title": false,
   "title_cell": "Table of Contents",
   "title_sidebar": "Contents",
   "toc_cell": false,
   "toc_position": {},
   "toc_section_display": true,
   "toc_window_display": false
  }
 },
 "nbformat": 4,
 "nbformat_minor": 5
}
