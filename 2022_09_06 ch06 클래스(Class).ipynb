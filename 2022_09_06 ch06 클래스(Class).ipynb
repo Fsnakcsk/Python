{
 "cells": [
  {
   "cell_type": "markdown",
   "id": "0f36b859",
   "metadata": {},
   "source": [
    "# 객체 지향 프로그래밍(OOP, Object Oriented Programming)\n",
    " - 객체(Object)를 중심으로 프로그램을 구현하거나 생각하는 것\n",
    " - 클래스)Class) 기반의 객체 지향 프로그래밍 언어는 클래스를 기반으로 객체를 만들고, 그 객체를 중심으로 프로그램을 구현\n"
   ]
  },
  {
   "cell_type": "markdown",
   "id": "bdd3c35a",
   "metadata": {},
   "source": [
    "##### 1단계 : 학생정보를 받아 총점과 평균을 계산하여 출력"
   ]
  },
  {
   "cell_type": "code",
   "execution_count": null,
   "id": "13cb64c3",
   "metadata": {},
   "outputs": [],
   "source": [
    "# 학생 정보를 담고 있는 리스트\n",
    "# 리스트에 요솔는 사전(딕셔너리)를 사용\n",
    "students = [\n",
    "    {'name':'홍길동', 'kor':87, 'eng':88, 'math':98, 'sci':95},\n",
    "    {'name':'장보고', 'kor':92, 'eng':98, 'math':96, 'sci':90},\n",
    "    {'name':'유관순', 'kor':99, 'eng':92, 'math':99, 'sci':89},\n",
    "    {'name':'김유신', 'kor':95, 'eng':89, 'math':88, 'sci':90},\n",
    "    {'name':'이순신', 'kor':99, 'eng':80, 'math':92, 'sci':99}\n",
    "]\n",
    "\n",
    "print(\"이름\", \"총점\", \"평균\", sep='\\t')\n",
    "#   student의 Type은 이때는 딕셔너리다 ****\n",
    "for student in students :   \n",
    "    score_sum = student['kor'] + student['eng'] + student['math'] + student['sci'] \n",
    "    score_avg = score_sum / 4\n",
    "    \n",
    "    print(student['name'], score_sum, score_avg, sep=\"\\t\")\n"
   ]
  },
  {
   "cell_type": "markdown",
   "id": "e8f18029",
   "metadata": {},
   "source": [
    "##### 2단계  : 함수로 구현"
   ]
  },
  {
   "cell_type": "code",
   "execution_count": null,
   "id": "c58223f2",
   "metadata": {},
   "outputs": [],
   "source": [
    "# 학생 한명에 대한 정보를 만드는 함수를 구현\n",
    "# 학생 정보를 입력받아 사전으로 변환하여 되돌려주는 역할을 수행하는 함숫 선언\n",
    "\n",
    "def create_student(name, kor, eng, math, sci) :\n",
    "    return {\n",
    "        'name':name,\n",
    "        'kor':kor,\n",
    "        'eng':eng,\n",
    "        'math':math,\n",
    "        'sci':sci\n",
    "    }\n",
    "    \n",
    "# 학생정보를 담은 리스트\n",
    "students = [\n",
    "    create_student('홍길동', 87, 88, 98, 95),\n",
    "    create_student('방보고', 92, 98, 96, 90),\n",
    "    create_student('유관순', 99, 92, 99, 89),\n",
    "    create_student('김유신', 95, 89, 88, 90),\n",
    "    create_student('이순신', 99, 80, 92, 99)\n",
    "]\n",
    "\n",
    "for student in students :\n",
    "    #총점과 평균을 계산하는 로직\n",
    "    score_sum = student['kor'] + student['eng'] + student['math'] + student['sci'] \n",
    "    score_avg = score_sum / 4\n",
    "    \n",
    "    print(student['name'], score_sum, score_avg, sep=\"\\t\")"
   ]
  },
  {
   "cell_type": "markdown",
   "id": "a9273a33",
   "metadata": {},
   "source": [
    "##### 3단계 : 기능 별로 함수로 구현"
   ]
  },
  {
   "cell_type": "code",
   "execution_count": null,
   "id": "4d61ff3c",
   "metadata": {},
   "outputs": [],
   "source": [
    "# 학생 정보를 담고 있는 리스트\n",
    "# 리스트에 요솔는 사전(딕셔너리)를 사용\n",
    "\n",
    "def create_student(name, kor, eng, math, sci) :\n",
    "    return {\n",
    "        'name':name,\n",
    "        'kor':kor,\n",
    "        'eng':eng,\n",
    "        'math':math,\n",
    "        'sci':sci\n",
    "    }\n",
    "\n",
    "def student_getSum(student) :\n",
    "    return student['kor'] + student['eng'] + student['math'] + student['sci'] \n",
    "\n",
    "def student_getAvg(student) :\n",
    "    return student_getSum(student) / 4\n",
    "\n",
    "def student_getString(student) :\n",
    "    return \"{}\\t{}\\t{}\".format(\n",
    "        student['name'],\n",
    "        student_getSum(student),\n",
    "        student_getAvg(student) \n",
    "    )\n",
    "\n",
    "students = [\n",
    "    create_student('홍길동', 87, 88, 98, 95),\n",
    "    create_student('방보고', 92, 98, 96, 90),\n",
    "    create_student('유관순', 99, 92, 99, 89),\n",
    "    create_student('김유신', 95, 89, 88, 90),\n",
    "    create_student('이순신', 99, 80, 92, 99) ]\n",
    "\n",
    "\n",
    "print(\"이름\", \"총점\", \"평균\", sep='\\t')\n",
    "\n",
    "# 학생정보 출력\n",
    "for student in students :\n",
    "    print(student_getString(student))\n"
   ]
  },
  {
   "cell_type": "code",
   "execution_count": null,
   "id": "3b56e61e",
   "metadata": {},
   "outputs": [],
   "source": [
    "# 클레스 선언 : 오브젝트 객체\n",
    "class Student :\n",
    "    pass \n",
    "\n",
    "\n",
    "# 인스턴스 객체\n",
    "student = Student()\n",
    "\n",
    "# 학생정보를 담고 있는 리스 트 선언\n",
    "students = [\n",
    "    Student(),\n",
    "    Student(),\n",
    "    Student(),\n",
    "    Student(),\n",
    "    Student(),\n",
    "    Student()\n",
    "]"
   ]
  },
  {
   "cell_type": "markdown",
   "id": "78cd2f3f",
   "metadata": {},
   "source": [
    "# Class Object"
   ]
  },
  {
   "cell_type": "code",
   "execution_count": null,
   "id": "7f3010f1",
   "metadata": {},
   "outputs": [],
   "source": [
    "class Person :\n",
    "    \n",
    "    name = \"\"\n",
    "    \n",
    "    # 생성자 메소드 : 초기화 목적\n",
    "    def __init__(self, name) :\n",
    "        name = name\n",
    "    \n",
    "    def walk(self, speed) :   # self = this\n",
    "        print(self.name + \"이가\" + str(speed) +\"km/s의 속도로 걸어갑니다.\")\n",
    "    \n",
    "    def run(self, speed) :\n",
    "        print(self.name + \"이가\" + str(speed) +\"km/s의 속도로 달려갑니다.\")"
   ]
  },
  {
   "cell_type": "code",
   "execution_count": null,
   "id": "d7ba8356",
   "metadata": {},
   "outputs": [],
   "source": [
    "\n",
    "# direct(다이렉트) 연산자 : 객체명.멤버변수 or 객체명.멤버함수\n",
    "p1 = Person(\"이순신\")\n",
    "p1.walk(10)\n",
    "p1.run(20)"
   ]
  },
  {
   "cell_type": "code",
   "execution_count": null,
   "id": "22062151",
   "metadata": {},
   "outputs": [],
   "source": [
    "class Person :\n",
    "    \n",
    "    # 멤버 필드\n",
    "    \n",
    "    \n",
    "    # 생성자 메소드\n",
    "    def __init__(self, name, age, height) :\n",
    "        self.name = name\n",
    "        self.age = age\n",
    "        self.height = height\n",
    "    \n",
    "    # 멤버 메소드\n",
    "    def disp(self) :\n",
    "        print(\"이름 : \" + self.name)\n",
    "        print(\"나이 : \" + str(self.age))\n",
    "        print(\"신장 : \" + str(self.height))\n",
    "    \n",
    "    # 소멸자 메소드 : 객체 소멸시 자동으로 호츨, 생략해서 사용\n",
    "\n",
    "\n",
    "p5 = Person(\"이순신\", 40, 180.5)\n",
    "p5.disp()"
   ]
  },
  {
   "cell_type": "code",
   "execution_count": null,
   "id": "a47e0618",
   "metadata": {},
   "outputs": [],
   "source": [
    "class Person :\n",
    "    name = \"감강찬\"\n",
    "    age = 20\n",
    "    height = 180.5\n",
    "    \n",
    "    def show(self) :\n",
    "        print(\"이름 : \" + self.name, end=\" \")\n",
    "        print(\"나이 : \" + str(self.age), end=\" \")\n",
    "        print(\"신장 : \" + str(self.height))\n",
    "        \n",
    "        print(\"이름 : \" + Person.name, end=\" \")\n",
    "        print(\"나이 : \" + str(Person.age), end=\" \")\n",
    "        print(\"신장 : \" + str(Person.height))\n",
    "\n",
    "p4 = Person()\n",
    "p4.name = \"김철수\"\n",
    "p4.age = 21\n",
    "p4.height = 177.7\n",
    "p4.show()\n",
    "\n",
    "#--------\n",
    "print()\n",
    "#--------\n",
    "\n",
    "p5 = Person()\n",
    "p5.show()"
   ]
  },
  {
   "cell_type": "code",
   "execution_count": null,
   "id": "6cd0896f",
   "metadata": {},
   "outputs": [],
   "source": [
    "def aaa(x = 10, y= 20, z = 30) :\n",
    "    print(x, y, z)\n",
    "aaa(1, 2, 3)\n",
    "\n",
    "#--------------------------------\n",
    "\n",
    "def aaa(x = 10, y= 20, z = 30) :\n",
    "    print(x, y, z)\n",
    "aaa(1, 2)\n",
    "\n",
    "#--------------------------------\n",
    "\n",
    "def aaa(x = 10, y= 20, z = 30) :\n",
    "    print(x, y, z)\n",
    "aaa(1)\n",
    "\n",
    "#--------------------------------\n",
    "\n",
    "def aaa(x = 10, y= 20, z = 30) :\n",
    "    print(x, y, z)\n"
   ]
  },
  {
   "cell_type": "code",
   "execution_count": null,
   "id": "eefacc95",
   "metadata": {},
   "outputs": [],
   "source": [
    "class Member :\n",
    "    \n",
    "    \n",
    "    def __init__(self, userid=\"\", pwd=\"\", name=\"\", age=0) :\n",
    "        self.userid = userid\n",
    "        self.pwd = pwd\n",
    "        self.name = name\n",
    "        self.age = age\n",
    "    \n",
    "    def info(self) :\n",
    "        print(\"아이디 : \" + self.userid, end = \" \")\n",
    "        print(\"비밀번호 : \" + self.pwd, end = \" \")\n",
    "        print(\"이름 : \" + self.name, end = \" \")\n",
    "        print(\"나이 : \" + str(self.age), end = \" \")\n",
    "        \n",
    "\n",
    "m2 = Member(\"fsn\",\"1234\",\"송승우\",20)\n",
    "m2.info()\n",
    "\n",
    "print()\n",
    "\n",
    "m3 = Member()\n",
    "m3.info()"
   ]
  },
  {
   "cell_type": "markdown",
   "id": "aa5cc0c6",
   "metadata": {},
   "source": [
    "# 4단계 학생 성적관리"
   ]
  },
  {
   "cell_type": "code",
   "execution_count": null,
   "id": "e0debc60",
   "metadata": {},
   "outputs": [],
   "source": [
    "class Student :\n",
    "    \n",
    "    def __init__(self, name, kor, eng, math,sci) :\n",
    "        self.name = name\n",
    "        self.kor = kor\n",
    "        self.eng = eng\n",
    "        self.math = math\n",
    "        self.sci = sci\n",
    "        \n",
    "    def get_sum(self):\n",
    "        return self.kor + self.eng + self.math + self.sci\n",
    "    \n",
    "    def get_avg(self):\n",
    "        return self.get_sum() / 4\n",
    "    \n",
    "    def to_string(self):\n",
    "        return \"%s\\t%s\\t%s\" %(self.name, self.get_sum(), self.get_avg())\n",
    "    \n",
    "\n",
    "students = [\n",
    "    Student('홍길동', 87, 98, 88, 95),\n",
    "    Student('장보고', 87, 98, 88, 95),\n",
    "    Student('이순신', 87, 98, 88, 95),\n",
    "    Student('강감찬', 87, 98, 88, 95),\n",
    "    Student('유관순', 87, 98, 88, 95)\n",
    "]\n",
    "\n",
    "students.append(Student(\"임꺽정\",80, 90, 70, 60))\n",
    "\n",
    "print(\"이름\", \"총점\", \"평균\", sep = \"\\t\")\n",
    "for student in students :\n",
    "    print(student.to_string())\n",
    "\n"
   ]
  },
  {
   "cell_type": "code",
   "execution_count": null,
   "id": "8e2f0c24",
   "metadata": {},
   "outputs": [],
   "source": [
    "class Student :\n",
    "    \n",
    "    def __init__(self, name, kor, eng, math,sci) :\n",
    "        self.name = name\n",
    "        self.kor = kor\n",
    "        self.eng = eng\n",
    "        self.math = math\n",
    "        self.sci = sci\n",
    "        \n",
    "    def get_sum(self):\n",
    "        return self.kor + self.eng + self.math + self.sci\n",
    "    \n",
    "    def get_avg(self):\n",
    "        return self.get_sum() / 4\n",
    "    \n",
    "    def to_string(self):\n",
    "        return \"%s\\t%s\\t%s\" %(self.name, self.get_sum(), self.get_avg())\n",
    "    \n",
    "\n",
    "students = []\n",
    "\n",
    "for i in range(5) :\n",
    "    \n",
    "    students.append(Student(\"임꺽정\",80, 90, 70, 60))\n",
    "\n",
    "    \n",
    "print(\"이름\", \"총점\", \"평균\", sep = \"\\t\")\n",
    "for student in students :\n",
    "    print(student.to_string())\n",
    "\n"
   ]
  },
  {
   "cell_type": "markdown",
   "id": "3738c889",
   "metadata": {},
   "source": [
    "### 클래스를 사용하는 이유"
   ]
  },
  {
   "cell_type": "code",
   "execution_count": null,
   "id": "bc04f773",
   "metadata": {},
   "outputs": [],
   "source": [
    "names = ['Messi', 'Ramos', 'Ronaldo', 'Park', 'Buffon']\n",
    "positons = ['MF', 'DF', 'CF', 'WF', 'GK']\n",
    "numbers = [10, 4, 7, 13, 1]\n",
    "\n",
    "players[[name, positon, number] :for name, positon, number in zip(names, positions, numbers)]\n",
    "\n",
    "print(players)"
   ]
  },
  {
   "cell_type": "code",
   "execution_count": null,
   "id": "8c7407f5",
   "metadata": {},
   "outputs": [],
   "source": [
    "class SoccerPlayer :\n",
    "    \n",
    "    def __init__(self, name, position, number) :\n",
    "        self.name = name\n",
    "        self.position = position\n",
    "        self.number = number\n",
    "        \n",
    "    def disp(self) :\n",
    "        print('이름 : ',self.name)\n",
    "        print('호지션 : ',self.position)\n",
    "        print('백넘버 : ',self.number)"
   ]
  },
  {
   "cell_type": "code",
   "execution_count": null,
   "id": "8635d98c",
   "metadata": {},
   "outputs": [],
   "source": [
    "p1 = SoccerPlayer(\"작지성\", 'MF', 13)\n",
    "p1.disp()"
   ]
  },
  {
   "cell_type": "markdown",
   "id": "40dc8ff6",
   "metadata": {},
   "source": [
    "### 자동차 관리프로그램\n",
    "1. 요구사항 명세서\n",
    "  - 자동차는 실별할 이금과 속도, 연료랑을 관리함\n",
    "  - 자동차의 속도는 최대 200을 넘지 못하게 구현\n",
    "  - 자동차가 가속시 연료에 10을 소모하도록 구현\n",
    "  - 연료가 없으면 가속이 불가능하도록 구현\n",
    "  - 현재 자동차의 산태를 확인함수 구현\n",
    "  - 기능별 함수로 구현\n",
    "  \n",
    "  "
   ]
  },
  {
   "cell_type": "code",
   "execution_count": null,
   "id": "f9622978",
   "metadata": {},
   "outputs": [],
   "source": [
    "class Car :\n",
    "\n",
    "    def __init__(self, name, speed, gas) :\n",
    "        self.name = name\n",
    "        self.speed = speed\n",
    "        self.gas = gas\n",
    "        \n",
    "    def carAccel(self) : # 가속\n",
    "        \n",
    "        if self.gas >= 10 : #연료가 있냐 없냐\n",
    "            if self.speed + 10 > 200 :\n",
    "                self.speed = 200\n",
    "\n",
    "            else :\n",
    "                self.speed = self.speed + 10\n",
    "                self.gas = self.gas - 10\n",
    "        else :\n",
    "            print(\"연료가 부족합니다\")\n",
    "            return #제어권만 호출된 곳으로 돌려준다. 생가가능하다\n",
    "    \n",
    "    def carBreak(self) :\n",
    "        # 연료의 소모는 없다\n",
    "        # 자돋ㅇ차의 속도가 10 감속한다\n",
    "        # 자동차의 속도값 음수일 수 없다\n",
    "        \n",
    "        if self.speed < 10 :\n",
    "            self.speed = 0\n",
    "        else :\n",
    "            self.speed = self.speed - 10\n",
    "    \n",
    "    def carState(self) :\n",
    "        print(\"차종 : \", self.name)\n",
    "        print(\"속도 : \", self.speed)\n",
    "        print(\"연료량 : \", self.gas)\n",
    "\n",
    "\n",
    "tico = Car(\"tico\", 0 , 70)\n",
    "tico.carState() # 형재 상테\n",
    "tico.carAccel()"
   ]
  },
  {
   "cell_type": "code",
   "execution_count": null,
   "id": "5914a7de",
   "metadata": {},
   "outputs": [],
   "source": [
    "tico.carState() # 형재 상테\n",
    "tico.carAccel()"
   ]
  },
  {
   "cell_type": "markdown",
   "id": "427ed678",
   "metadata": {},
   "source": [
    "#### 클래스 실습예제"
   ]
  },
  {
   "cell_type": "code",
   "execution_count": null,
   "id": "0ec14ebe",
   "metadata": {},
   "outputs": [],
   "source": [
    "# 원을 객체로 갖는 클래스 구현\n",
    "class Circle :\n",
    "    r = 0\n",
    "    \n",
    "#     def __init__(self, r) :\n",
    "#         self.r = r\n",
    "    \n",
    "    def __init__(self) :\n",
    "        self.r = int(input(\"반지름 = \"))\n",
    "    \n",
    "    def getRadius(self) :\n",
    "        return self.r\n",
    "    \n",
    "    def setRadius(self, r) :\n",
    "        self.r = r\n",
    "    \n",
    "    def getArea(self) : # 면적 \n",
    "        return self.r**2 * 3.14\n",
    "    \n",
    "# donut = Circle(5)\n",
    "# donut.r = 5\n",
    "# donut.setRadius(5) # donut.r = 5 와 똑같다\n",
    "# radius = int(input(\"반지름 : \"))\n",
    "\n",
    "ap = Circle()\n",
    "print(\"반지름 :\", ap.getArea())"
   ]
  },
  {
   "cell_type": "code",
   "execution_count": null,
   "id": "675dd3ee",
   "metadata": {},
   "outputs": [],
   "source": [
    "# 평면위의 한 점을 객체로 갖고 있는 클래스 선언\n",
    "class Point :\n",
    "    xpos = 0\n",
    "    ypos = 0\n",
    "    \n",
    "    def setX(self, x) :\n",
    "        self.xpos = x\n",
    "    \n",
    "    def setY(self, y) :\n",
    "        self.ypos = y\n",
    "    \n",
    "    def disp(self) :\n",
    "        print(\"점(x, y) = (%d, %d)\" %(self.xpos, self.ypos))\n",
    "        \n",
    "ap = Point()\n",
    "ap.disp()\n",
    "\n",
    "ap.setX(10)  # = ap.xpos = 10\n",
    "ap.setY(20)  # = ap.ypos = 20\n",
    "ap.disp()"
   ]
  },
  {
   "cell_type": "code",
   "execution_count": null,
   "id": "f092b032",
   "metadata": {},
   "outputs": [],
   "source": [
    "# 사격형을 객체로 하는 클래스 선언\n",
    "class Rect :\n",
    "    m = 0\n",
    "    h = 0\n",
    "    \n",
    "    def disp(self) :\n",
    "        print(\"가로 = %d, 세로 = %d\" %(self.m, self.h))\n",
    "        \n",
    "    def getArea(self) :\n",
    "        return self.m * self.h\n",
    "\n",
    "    def check(self) : #정사각형 판별\n",
    "        if self.m == self.h :\n",
    "            return True\n",
    "        else :\n",
    "            return False\n",
    "    \n",
    "a = Rect() #가로0 세로0\n",
    "a.disp()\n",
    "\n",
    "a.m = 3\n",
    "a.h = 5\n",
    "a.disp()\n",
    "\n",
    "a.m = 5\n",
    "a.h = 5\n",
    "a.disp()\n",
    "print(a.check()) # 사각형인지 아닌지 판별\n",
    "\n",
    "if a.check() :\n",
    "    print(\"정사각형입니다\")\n",
    "else :\n",
    "    print(\"정사각형 아닌니다\")"
   ]
  },
  {
   "cell_type": "markdown",
   "id": "c29bce4d",
   "metadata": {},
   "source": [
    "### 도형생성하는 프로그램"
   ]
  },
  {
   "cell_type": "code",
   "execution_count": null,
   "id": "5b2120f8",
   "metadata": {},
   "outputs": [],
   "source": [
    "# 사용자로 부터 원하는 도형을 ㅣㅂ력잗도록 구현한다.\n",
    "# 사용자가 선택한 도형에 맞는 값을 활당하고 출력\n",
    "# 언제든 프로그램은 종료될 수 있도록 구현\n",
    "\n",
    "while True :\n",
    "    menu = int(input('[1]점 [2]원 [3]사각형 [4]종료'))\n",
    "    \n",
    "    if menu == 1 :\n",
    "        a = Point()\n",
    "        a.disp()\n",
    "    \n",
    "    elif menu == 2:\n",
    "        b = Circle()\n",
    "        b.disp()\n",
    "        \n",
    "    elif menu == 3:\n",
    "        c = Rect()\n",
    "        c.disp()\n",
    "        \n",
    "    elif menu == 4:\n",
    "        print(\"프로그램을 종료합니다\")\n",
    "        break\n",
    "        \n",
    "    else :\n",
    "        print(\"선택이 올바르지 않습니다\")\n",
    "        "
   ]
  },
  {
   "cell_type": "code",
   "execution_count": null,
   "id": "7e97fcaa",
   "metadata": {},
   "outputs": [],
   "source": [
    "class Point :\n",
    "    \n",
    "    def __init__(self) :\n",
    "        self.x = int(input(\"x = \"))\n",
    "        self.y = int(input(\"y = \"))\n",
    "    \n",
    "    def disp(self) :\n",
    "        print(\"점(x, y) = (%d, %d)\" %(self.x, self.y))   "
   ]
  },
  {
   "cell_type": "code",
   "execution_count": null,
   "id": "b7f7698d",
   "metadata": {},
   "outputs": [],
   "source": [
    "class Circle :\n",
    "    \n",
    "    def __init__(self) :\n",
    "        self.x = int(input(\"x = \"))\n",
    "        self.y = int(input(\"y = \"))\n",
    "        self.r = int(input(\"r = \"))\n",
    "    \n",
    "    def disp(self):\n",
    "        print(\"점(x, y) = (%d, %d)\" %(self.x, self.y))  \n",
    "        print(\"반지름(r) =\", self.r)"
   ]
  },
  {
   "cell_type": "code",
   "execution_count": null,
   "id": "2be6c0c3",
   "metadata": {},
   "outputs": [],
   "source": [
    "class Rect:\n",
    "    def __init__(self) :\n",
    "        self.x = int(input(\"x = \"))\n",
    "        self.y = int(input(\"y = \"))\n",
    "        self.h = int(input(\"h = \"))\n",
    "        self.w = int(input(\"w = \"))\n",
    "    \n",
    "    def disp(self):\n",
    "        print(\"점(x, y) = (%d, %d)\" %(self.x, self.y))\n",
    "        print(\"높이(h) = %d, 너비(w) = %d\" %(self.h, self.w))"
   ]
  },
  {
   "cell_type": "markdown",
   "id": "90703693",
   "metadata": {},
   "source": [
    "## 상속(Inheiitance)"
   ]
  },
  {
   "cell_type": "code",
   "execution_count": null,
   "id": "d645f3e7",
   "metadata": {},
   "outputs": [],
   "source": [
    "# 상속 : 클래스로부터 멤버를 물려받아서 다시 기술하지 않고 재사용하는 것\n",
    "# 부모 클래스 or 사우이클래스 or 기반클래스\n",
    "# 자녀클래스 or 하위클래스 or 하생클래스\n",
    "# 기본형 class 클래스명 :\n",
    "# 상속 calss 자녀클래스(부모클래스) :\n",
    "# Person : 이름, 나이, 키\n",
    "# PersonInfo : 이름 , 나이, 키, 체중, 시력"
   ]
  },
  {
   "cell_type": "code",
   "execution_count": null,
   "id": "7a897364",
   "metadata": {},
   "outputs": [],
   "source": [
    "class Person :\n",
    "    def __init__(self, name, age, height) :\n",
    "        self.name = name\n",
    "        self.age = age\n",
    "        self.height = height\n",
    "    \n",
    "    def disp(self) :\n",
    "        print(\"이름\" + self.name, end=\" \")\n",
    "        print(\"나이\" + str(self.age), end=\" \")\n",
    "        print(\"신장\" + str(self.height), end=\" \")"
   ]
  },
  {
   "cell_type": "code",
   "execution_count": null,
   "id": "f0a9818e",
   "metadata": {},
   "outputs": [],
   "source": [
    "class PersonInfo(Person) :\n",
    "    \n",
    "    def __init__(self, name, age, height, weight, left_eye,  right_eye) :\n",
    "        Person.__init__(self, name, age, height)\n",
    "        self.weight = weight\n",
    "        self.left_eye = left_eye\n",
    "        self.right_eye = right_eye\n",
    "        \n",
    "    def disp(self) : #오보라이딩(재정의)\n",
    "        Person.disp(self)\n",
    "        print(\"체중\" + str(self.weight), end=\" \")\n",
    "        print(\"시력(좌)\" + str(self.left_eye), end=\" \")\n",
    "        print(\"시력(우)\" + str(self.right_eye), end=\" \")"
   ]
  },
  {
   "cell_type": "code",
   "execution_count": null,
   "id": "83df30dc",
   "metadata": {},
   "outputs": [],
   "source": [
    "# 하위클래스는 상위 클래스의 멤버를 초기화해야 함\n",
    "\n",
    "\n",
    "p1 = PersonInfo(\"홍길동\", 20, 180.5 , 71.5, 1.0, 1.0)\n",
    "p1.disp()"
   ]
  },
  {
   "cell_type": "code",
   "execution_count": null,
   "id": "21437f17",
   "metadata": {},
   "outputs": [],
   "source": [
    "# 중학교 : 이름, 연락처\n",
    "# 고등학교 : 이름 연락처, 주소\n",
    "# 대학교 : 이름 연락처, 전공\n",
    "# 사회인 : 이름, 연락처, 회사면, 지책"
   ]
  },
  {
   "cell_type": "code",
   "execution_count": null,
   "id": "cfd5ecec",
   "metadata": {},
   "outputs": [],
   "source": [
    "class Middle :\n",
    "    name = \"\"\n",
    "    phone = \"\"\n",
    "    \n",
    "    def __init__(self, name, phone) :\n",
    "        self.name = name\n",
    "        self.phone = phone\n",
    "        \n",
    "    def disp(self) :\n",
    "        print(\"이름 : \", self.name)\n",
    "        print(\"연락처 : \", self.phone)\n",
    "\n",
    "\n",
    "friends = [\n",
    "    Middle(\"aaa\", \"010-1111-2222\"),\n",
    "    Middle(\"bbb\", \"010-2222-3333\"),\n",
    "    Middle(\"ccc\", \"010-4444-5555\")\n",
    "]\n",
    "\n",
    "friends.append(m1)\n",
    "friends.append(m2)\n",
    "friends.append(m3)\n",
    "\n",
    "for friend in friends :\n",
    "    friend.disp()\n",
    "\n"
   ]
  },
  {
   "cell_type": "code",
   "execution_count": null,
   "id": "ecea7240",
   "metadata": {},
   "outputs": [],
   "source": [
    "class High(Middle) :\n",
    "    \n",
    "    def __init__(self, name, phone, address) :\n",
    "        Middle.__init__(self,name,phone)\n",
    "        self.name = name\n",
    "        self.phone = phone\n",
    "        self.address = address\n",
    "        \n",
    "    def disp(self) :\n",
    "        Middle.disp(self)\n",
    "        print(\"연락처 : \", self.address)\n",
    "\n",
    "h1 = High(\"kim\", \"010-9999-9999\", \"부산시\")\n",
    "h2 = High(\"lee\", \"010-9999-9999\", \"대전\")"
   ]
  },
  {
   "cell_type": "code",
   "execution_count": null,
   "id": "61f2d53e",
   "metadata": {},
   "outputs": [],
   "source": [
    "class Univ(Middle) :\n",
    "    major = \"\"\n",
    "    \n",
    "    pass"
   ]
  },
  {
   "cell_type": "code",
   "execution_count": null,
   "id": "6e6941ce",
   "metadata": {},
   "outputs": [],
   "source": [
    "class Soc :"
   ]
  },
  {
   "cell_type": "code",
   "execution_count": null,
   "id": "7e07283c",
   "metadata": {},
   "outputs": [],
   "source": []
  },
  {
   "cell_type": "markdown",
   "id": "4b8366a6",
   "metadata": {},
   "source": [
    "### 급여관리 프로그램 구현\n",
    "- 직원정보 : 이름, 급여\n",
    "- 새로운 직원등록\n",
    "- 매당 직읍되는 직원의 급여 출력\n",
    "- 모든 직원 정보출력"
   ]
  },
  {
   "cell_type": "code",
   "execution_count": 4,
   "id": "646609c7",
   "metadata": {},
   "outputs": [],
   "source": [
    "# 상위 클래스\n",
    "\n",
    "class Employee :\n",
    "    name = \"\"\n",
    "    \n",
    "    def __init__(self, name, salary=0) :\n",
    "        self.name = name\n",
    "        \n",
    "    def getpay(self) :\n",
    "        return salf.salary\n",
    "    \n",
    "    def disp(self) :\n",
    "        print(\"이름 : \", self.name, end = \" \")\n",
    "    "
   ]
  },
  {
   "cell_type": "code",
   "execution_count": 7,
   "id": "99d8f4fc",
   "metadata": {},
   "outputs": [],
   "source": [
    "class Permanent(Employee) :\n",
    "    \n",
    "    def __init__(self, name, salary) :\n",
    "        Employee.__init__(self, name) # 상위클래스에 넘겨줌.\n",
    "        self.salary = salary\n",
    "    \n",
    "    def addEmployee(self, name, salary) : # 직원 등록\n",
    "        self.name = name\n",
    "        self.salary = salary\n",
    "\n",
    "    def getPay(self) :      # 직원 급여\n",
    "        return self.salary\n",
    "    \n",
    "    def disp(self) :\n",
    "        Employee.disp(self)\n",
    "        print(\"급여\", self.getPay())\n"
   ]
  },
  {
   "cell_type": "code",
   "execution_count": 8,
   "id": "075158e1",
   "metadata": {},
   "outputs": [
    {
     "name": "stdout",
     "output_type": "stream",
     "text": [
      "이름 :  aaa 급여 1000\n"
     ]
    }
   ],
   "source": [
    "# 직원 등록\n",
    "employees = []\n",
    "\n",
    "e1 = Permanent(\"aaa\", 1000) # e1.addEmployee(\"aaa\", 1000)\n",
    "e1.disp()"
   ]
  },
  {
   "cell_type": "code",
   "execution_count": null,
   "id": "f9eae006",
   "metadata": {},
   "outputs": [],
   "source": [
    "class Sales(Employee) : # 영업직\n",
    "#     name = \"\"\n",
    "#     salary = 0\n",
    "    bonus = 0 # 보너스\n",
    "    rate = 0  # 버너서 율\n",
    "    \n",
    "    def __init__(self, name, salary, bonus, rate) :\n",
    "        Permanent.__init__(self, name, salary)\n",
    "        self.bonus = bonus\n",
    "        self.rate = rate\n",
    "        \n",
    "    def getPay(self) : # 급여\n",
    "        return self.salary + (self.bonus * self.rate)\n",
    "    \n",
    "    def disp(self) :\n",
    "        Permanent.disp(self)\n",
    "        print(\"판매실적\", self.bonus)\n",
    "        print(\"버너스율\", self.rate)\n",
    "        "
   ]
  },
  {
   "cell_type": "code",
   "execution_count": null,
   "id": "ecb0a913",
   "metadata": {},
   "outputs": [],
   "source": []
  },
  {
   "cell_type": "code",
   "execution_count": null,
   "id": "e2520716",
   "metadata": {},
   "outputs": [],
   "source": []
  },
  {
   "cell_type": "code",
   "execution_count": null,
   "id": "15ffd28b",
   "metadata": {},
   "outputs": [],
   "source": []
  },
  {
   "cell_type": "code",
   "execution_count": 22,
   "id": "b370c2ef",
   "metadata": {},
   "outputs": [
    {
     "name": "stdout",
     "output_type": "stream",
     "text": [
      "== 직원관리 프로그램 ==\n",
      "1. 직원등록\n",
      "2. 직원 정보철력\n",
      "3. 총 급여액 출력\n",
      "4. 종료\n",
      "menu = 1\n",
      "[1]정규직 [2]영업직 = 1\n",
      "이름 = aaa\n",
      "기본급 = 1000\n",
      "직원등록이 완료되었다\n",
      "== 직원관리 프로그램 ==\n",
      "1. 직원등록\n",
      "2. 직원 정보철력\n",
      "3. 총 급여액 출력\n",
      "4. 종료\n",
      "menu = 1\n",
      "[1]정규직 [2]영업직 = bbb\n"
     ]
    },
    {
     "ename": "ValueError",
     "evalue": "invalid literal for int() with base 10: 'bbb'",
     "output_type": "error",
     "traceback": [
      "\u001b[1;31m---------------------------------------------------------------------------\u001b[0m",
      "\u001b[1;31mValueError\u001b[0m                                Traceback (most recent call last)",
      "Input \u001b[1;32mIn [22]\u001b[0m, in \u001b[0;36m<cell line: 4>\u001b[1;34m()\u001b[0m\n\u001b[0;32m     10\u001b[0m menu \u001b[38;5;241m=\u001b[39m \u001b[38;5;28mint\u001b[39m(\u001b[38;5;28minput\u001b[39m(\u001b[38;5;124m\"\u001b[39m\u001b[38;5;124mmenu = \u001b[39m\u001b[38;5;124m\"\u001b[39m))\n\u001b[0;32m     12\u001b[0m \u001b[38;5;28;01mif\u001b[39;00m menu \u001b[38;5;241m==\u001b[39m \u001b[38;5;241m1\u001b[39m:\n\u001b[1;32m---> 14\u001b[0m     ch \u001b[38;5;241m=\u001b[39m \u001b[38;5;28;43mint\u001b[39;49m\u001b[43m(\u001b[49m\u001b[38;5;28;43minput\u001b[39;49m\u001b[43m(\u001b[49m\u001b[38;5;124;43m\"\u001b[39;49m\u001b[38;5;124;43m[1]정규직 [2]영업직 = \u001b[39;49m\u001b[38;5;124;43m\"\u001b[39;49m\u001b[43m)\u001b[49m\u001b[43m)\u001b[49m\n\u001b[0;32m     15\u001b[0m     \u001b[38;5;28;01mif\u001b[39;00m ch \u001b[38;5;241m==\u001b[39m \u001b[38;5;241m1\u001b[39m :\n\u001b[0;32m     16\u001b[0m         name \u001b[38;5;241m=\u001b[39m \u001b[38;5;28minput\u001b[39m(\u001b[38;5;124m\"\u001b[39m\u001b[38;5;124m이름 = \u001b[39m\u001b[38;5;124m\"\u001b[39m)\n",
      "\u001b[1;31mValueError\u001b[0m: invalid literal for int() with base 10: 'bbb'"
     ]
    }
   ],
   "source": [
    "empList = []\n",
    "\n",
    "while True :\n",
    "    print(\"== 직원관리 프로그램 ==\")\n",
    "    print(\"1. 직원등록\")\n",
    "    print(\"2. 직원 정보철력\")\n",
    "    print(\"3. 총 급여액 출력\")\n",
    "    print(\"4. 종료\")\n",
    "    \n",
    "    menu = int(input(\"menu = \"))\n",
    "    \n",
    "    if menu == 1:\n",
    "        \n",
    "        ch = int(input(\"[1]정규직 [2]영업직 = \"))\n",
    "        if ch == 1 :\n",
    "            name = input(\"이름 = \")\n",
    "            pay = int(input(\"기본급 = \"))\n",
    "            emp = Permanent(name, pay)\n",
    "            \n",
    "        elif ch == 2:\n",
    "            name = input(\"이름 = \")\n",
    "            pay = int(input(\"기본급 = \"))\n",
    "            bonus = int(input(\"판매실적 = \"))\n",
    "            rate = int(input(\"보너서율 = \"))\n",
    "            emp = Sales(name, pay, bonus, rate)\n",
    "        \n",
    "            \n",
    "        empList.append(emp)\n",
    "        print(\"직원등록이 완료되었다\")\n",
    "        \n",
    "    elif menu == 2 :\n",
    "        print(\"\\n== 전체 직원정보 출력 ==\")\n",
    "        for emp in empList :\n",
    "            emp.disp()\n",
    "        print(\"직원정보 출려 완료\")\n",
    "        \n",
    "    elif menu == 3 :\n",
    "        tot = 0\n",
    "        print(\"\\n== 지급되는 직원급여의 총합 ==\")\n",
    "        for emp in empList:\n",
    "            tot += emp.getPay()\n",
    "        print(\"총 급여액 : \",tot)\n",
    "        \n",
    "    elif menu == 4 :\n",
    "        print(\"end\")\n",
    "        break\n",
    "        \n",
    "    else :\n",
    "        print(\"선택 오류\")"
   ]
  },
  {
   "cell_type": "code",
   "execution_count": null,
   "id": "3361bbd1",
   "metadata": {},
   "outputs": [],
   "source": []
  },
  {
   "cell_type": "code",
   "execution_count": null,
   "id": "c7a51062",
   "metadata": {},
   "outputs": [],
   "source": []
  },
  {
   "cell_type": "code",
   "execution_count": null,
   "id": "f17a8c69",
   "metadata": {},
   "outputs": [],
   "source": []
  },
  {
   "cell_type": "code",
   "execution_count": null,
   "id": "4ab75a2f",
   "metadata": {},
   "outputs": [],
   "source": []
  },
  {
   "cell_type": "code",
   "execution_count": null,
   "id": "a84ee9c6",
   "metadata": {},
   "outputs": [],
   "source": []
  },
  {
   "cell_type": "code",
   "execution_count": null,
   "id": "5b2ad163",
   "metadata": {},
   "outputs": [],
   "source": []
  },
  {
   "cell_type": "code",
   "execution_count": null,
   "id": "24b87a1b",
   "metadata": {},
   "outputs": [],
   "source": []
  },
  {
   "cell_type": "code",
   "execution_count": null,
   "id": "c1214943",
   "metadata": {},
   "outputs": [],
   "source": []
  },
  {
   "cell_type": "code",
   "execution_count": null,
   "id": "fca20a31",
   "metadata": {},
   "outputs": [],
   "source": []
  },
  {
   "cell_type": "code",
   "execution_count": null,
   "id": "53ea5b9b",
   "metadata": {},
   "outputs": [],
   "source": []
  },
  {
   "cell_type": "code",
   "execution_count": null,
   "id": "6d6b16d9",
   "metadata": {},
   "outputs": [],
   "source": []
  }
 ],
 "metadata": {
  "kernelspec": {
   "display_name": "Python 3 (ipykernel)",
   "language": "python",
   "name": "python3"
  },
  "language_info": {
   "codemirror_mode": {
    "name": "ipython",
    "version": 3
   },
   "file_extension": ".py",
   "mimetype": "text/x-python",
   "name": "python",
   "nbconvert_exporter": "python",
   "pygments_lexer": "ipython3",
   "version": "3.9.12"
  },
  "toc": {
   "base_numbering": 1,
   "nav_menu": {},
   "number_sections": true,
   "sideBar": true,
   "skip_h1_title": false,
   "title_cell": "Table of Contents",
   "title_sidebar": "Contents",
   "toc_cell": false,
   "toc_position": {},
   "toc_section_display": true,
   "toc_window_display": false
  }
 },
 "nbformat": 4,
 "nbformat_minor": 5
}
