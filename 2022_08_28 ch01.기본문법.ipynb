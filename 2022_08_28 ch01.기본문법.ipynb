{
 "cells": [
  {
   "cell_type": "markdown",
   "id": "5b091af4",
   "metadata": {},
   "source": [
    "# 기본문법"
   ]
  },
  {
   "cell_type": "markdown",
   "id": "b3d4bf38",
   "metadata": {},
   "source": [
    "## 파이썬 표준 라이브러리 문서\n",
    "- **공식문서** https://docs.python.org/3/library/index.html"
   ]
  },
  {
   "cell_type": "markdown",
   "id": "e71d241c",
   "metadata": {},
   "source": [
    "## 실행 - 파이썬 실행하는 방법\n",
    "1. 도구표시줄에서 RUN 아이콘을 이용해서 실행 : Shift + Enter\n",
    "2. Shift + Enter : 해당 셀을 실행한 후 새로운 셀을 생성\n",
    "3. Ctrl + Enter :해당 셀을 실행한다"
   ]
  },
  {
   "cell_type": "markdown",
   "id": "1d5ca6da",
   "metadata": {},
   "source": [
    "## 예약어(Keywords)\n",
    "- 이미 그 용도가 정해져 있는 명령어들 \n",
    "- 식별자(명령법 or 사용자 정의 규칙, 파일명...)로 사용 불가"
   ]
  },
  {
   "cell_type": "code",
   "execution_count": 1,
   "id": "58e442dd",
   "metadata": {},
   "outputs": [
    {
     "name": "stdout",
     "output_type": "stream",
     "text": [
      "['False', 'None', 'True', '__peg_parser__', 'and', 'as', 'assert', 'async', 'await', 'break', 'class', 'continue', 'def', 'del', 'elif', 'else', 'except', 'finally', 'for', 'from', 'global', 'if', 'import', 'in', 'is', 'lambda', 'nonlocal', 'not', 'or', 'pass', 'raise', 'return', 'try', 'while', 'with', 'yield']\n"
     ]
    }
   ],
   "source": [
    "# 파이썬 예약어 확인 작업\n",
    "import keyword # keyword 라이브러리를 포함\n",
    "\n",
    "# 파이썬의 예약어 목록 출력\n",
    "print(keyword.kwlist)"
   ]
  },
  {
   "cell_type": "code",
   "execution_count": 2,
   "id": "9fcf5e7a",
   "metadata": {},
   "outputs": [
    {
     "name": "stdout",
     "output_type": "stream",
     "text": [
      "36\n"
     ]
    }
   ],
   "source": [
    "# len = length 자료의 개수, 문자의 길이\n",
    "print(len(keyword.kwlist))"
   ]
  },
  {
   "cell_type": "code",
   "execution_count": 3,
   "id": "6678688e",
   "metadata": {},
   "outputs": [
    {
     "data": {
      "text/plain": [
       "'3.9.12 (main, Apr  4 2022, 05:22:27) [MSC v.1916 64 bit (AMD64)]'"
      ]
     },
     "execution_count": 3,
     "metadata": {},
     "output_type": "execute_result"
    }
   ],
   "source": [
    "# 파이썬 버전 확인\n",
    "import sys\n",
    "\n",
    "sys.version"
   ]
  },
  {
   "cell_type": "markdown",
   "id": "7ba4cd30",
   "metadata": {},
   "source": [
    "## 사칙연산\n",
    "- 파이썬을 계산기처럼 사용이 가능하다.\n",
    "- 사칙연산(산술연산) : + - * / // %/%"
   ]
  },
  {
   "cell_type": "code",
   "execution_count": 4,
   "id": "333aff6d",
   "metadata": {},
   "outputs": [
    {
     "data": {
      "text/plain": [
       "40"
      ]
     },
     "execution_count": 4,
     "metadata": {},
     "output_type": "execute_result"
    }
   ],
   "source": [
    "20+20"
   ]
  },
  {
   "cell_type": "code",
   "execution_count": 5,
   "id": "c0f83481",
   "metadata": {},
   "outputs": [
    {
     "data": {
      "text/plain": [
       "6"
      ]
     },
     "execution_count": 5,
     "metadata": {},
     "output_type": "execute_result"
    }
   ],
   "source": [
    "int(30 / 5)"
   ]
  },
  {
   "cell_type": "code",
   "execution_count": 6,
   "id": "ccd37ffa",
   "metadata": {},
   "outputs": [
    {
     "data": {
      "text/plain": [
       "243"
      ]
     },
     "execution_count": 6,
     "metadata": {},
     "output_type": "execute_result"
    }
   ],
   "source": [
    "3 * 3 * 3 * 3 * 3"
   ]
  },
  {
   "cell_type": "code",
   "execution_count": 7,
   "id": "f5dac13b",
   "metadata": {},
   "outputs": [
    {
     "data": {
      "text/plain": [
       "243"
      ]
     },
     "execution_count": 7,
     "metadata": {},
     "output_type": "execute_result"
    }
   ],
   "source": [
    "3**5"
   ]
  },
  {
   "cell_type": "code",
   "execution_count": 8,
   "id": "9ed3ff7f",
   "metadata": {},
   "outputs": [
    {
     "data": {
      "text/plain": [
       "1"
      ]
     },
     "execution_count": 8,
     "metadata": {},
     "output_type": "execute_result"
    }
   ],
   "source": [
    "# 너머지 연산\n",
    "7 % 2"
   ]
  },
  {
   "cell_type": "code",
   "execution_count": 9,
   "id": "95ba1ad4",
   "metadata": {},
   "outputs": [
    {
     "data": {
      "text/plain": [
       "3"
      ]
     },
     "execution_count": 9,
     "metadata": {},
     "output_type": "execute_result"
    }
   ],
   "source": [
    "#목 정수형\n",
    "7//2"
   ]
  },
  {
   "cell_type": "code",
   "execution_count": 10,
   "id": "c9193ccd",
   "metadata": {},
   "outputs": [
    {
     "data": {
      "text/plain": [
       "3.5"
      ]
     },
     "execution_count": 10,
     "metadata": {},
     "output_type": "execute_result"
    }
   ],
   "source": [
    "#목 실수형\n",
    "7 / 2"
   ]
  },
  {
   "cell_type": "code",
   "execution_count": 11,
   "id": "228e1d73",
   "metadata": {},
   "outputs": [
    {
     "name": "stdout",
     "output_type": "stream",
     "text": [
      "3.9.12 (main, Apr  4 2022, 05:22:27) [MSC v.1916 64 bit (AMD64)]\n"
     ]
    }
   ],
   "source": [
    "print(sys.version);"
   ]
  },
  {
   "cell_type": "code",
   "execution_count": 12,
   "id": "865a64a5",
   "metadata": {},
   "outputs": [
    {
     "name": "stdout",
     "output_type": "stream",
     "text": [
      "1\n",
      "2\n",
      "3\n"
     ]
    }
   ],
   "source": [
    "print(1); print(2); print(3)"
   ]
  },
  {
   "cell_type": "code",
   "execution_count": 13,
   "id": "6b98f623",
   "metadata": {},
   "outputs": [
    {
     "name": "stdout",
     "output_type": "stream",
     "text": [
      "1\n",
      "2\n",
      "3\n"
     ]
    }
   ],
   "source": [
    "print(1)\n",
    "print(2)\n",
    "print(3)"
   ]
  },
  {
   "cell_type": "code",
   "execution_count": 14,
   "id": "0524b1c6",
   "metadata": {},
   "outputs": [
    {
     "name": "stdout",
     "output_type": "stream",
     "text": [
      "10\n",
      "9\n",
      "8\n",
      "7\n",
      "6\n",
      "5\n",
      "4\n",
      "3\n",
      "2\n",
      "1\n"
     ]
    }
   ],
   "source": [
    "for i in range(10,0,-1) :\n",
    "    print(i);"
   ]
  },
  {
   "cell_type": "code",
   "execution_count": 15,
   "id": "f766662a",
   "metadata": {},
   "outputs": [
    {
     "data": {
      "text/plain": [
       "7"
      ]
     },
     "execution_count": 15,
     "metadata": {},
     "output_type": "execute_result"
    }
   ],
   "source": [
    "a = 7\n",
    "a"
   ]
  },
  {
   "cell_type": "markdown",
   "id": "313d0d9e",
   "metadata": {},
   "source": [
    "## 주석(conment)\n",
    "- 프로그램 실행과는 상관없이 설명을 담기 위해 사용하는 구문\n",
    "- '#' 한줄 주석\n",
    "- \"\"\" 여러 줄 주석"
   ]
  },
  {
   "cell_type": "code",
   "execution_count": 16,
   "id": "af69283b",
   "metadata": {},
   "outputs": [
    {
     "data": {
      "text/plain": [
       "'\\n3여러줄 주석\\n'"
      ]
     },
     "execution_count": 16,
     "metadata": {},
     "output_type": "execute_result"
    }
   ],
   "source": [
    "# 한줄 주석\n",
    "\"\"\"\n",
    "1여러줄 주석\n",
    "2주석\n",
    "\"\"\"\n",
    "\n",
    "'''\n",
    "3여러줄 주석\n",
    "'''"
   ]
  },
  {
   "cell_type": "code",
   "execution_count": 17,
   "id": "ade03675",
   "metadata": {},
   "outputs": [],
   "source": [
    "# Ctrl + / 불럭주석 : 여러줄을 작성한 후 블럭을 설정함.\n",
    "# ㅁㄴㅇㄹ\n",
    "# ㅁㄴㅇㄹ"
   ]
  },
  {
   "cell_type": "markdown",
   "id": "56f848ba",
   "metadata": {},
   "source": [
    "#  변수(Variable)\n",
    "- 변수 : 변할 수 있는 수 값(상수, data)을 저장하는 공간, 즉 기억공간\n",
    "- 메모리(Memory) : 주기억장소(RAM), 변수를 저장하는 물리적인 공간\n",
    "- 동적타이핑(Dynamic Typing) 자료형이 실행할 때 자동으로 활당된다\n",
    "- V = C;"
   ]
  },
  {
   "cell_type": "code",
   "execution_count": 18,
   "id": "1dae2b4d",
   "metadata": {},
   "outputs": [],
   "source": [
    "a = 10"
   ]
  },
  {
   "cell_type": "code",
   "execution_count": 19,
   "id": "f5a2bf0b",
   "metadata": {},
   "outputs": [
    {
     "data": {
      "text/plain": [
       "10"
      ]
     },
     "execution_count": 19,
     "metadata": {},
     "output_type": "execute_result"
    }
   ],
   "source": [
    "a"
   ]
  },
  {
   "cell_type": "code",
   "execution_count": 20,
   "id": "97074242",
   "metadata": {},
   "outputs": [
    {
     "name": "stdout",
     "output_type": "stream",
     "text": [
      "10\n"
     ]
    }
   ],
   "source": [
    "print(a)"
   ]
  },
  {
   "cell_type": "markdown",
   "id": "8a759e04",
   "metadata": {},
   "source": [
    "## 변수 작성 규칙 : 명령법 or 사용자 정의 규칙\n",
    "- 알파벳(A ~ Z, a ~ z), 숫자(0 ~ 9), 밑줄(_, 언더스코어)\n",
    "- 첫글자는 반드시 영문자의 대, 소문자이거나 밑줄(_)만 올 수 있다.\n",
    "- 예약어는 사용 불가\n",
    "- 글자수에 재한은 없다."
   ]
  },
  {
   "cell_type": "code",
   "execution_count": 21,
   "id": "29406e07",
   "metadata": {},
   "outputs": [
    {
     "data": {
      "text/plain": [
       "10"
      ]
     },
     "execution_count": 21,
     "metadata": {},
     "output_type": "execute_result"
    }
   ],
   "source": [
    "# 정수형 변수 ㅣ 정수형 상수\n",
    "a = 10;\n",
    "# print(a) 혹은 a\n",
    "a"
   ]
  },
  {
   "cell_type": "code",
   "execution_count": 22,
   "id": "72f10c15",
   "metadata": {},
   "outputs": [
    {
     "data": {
      "text/plain": [
       "'파이썬'"
      ]
     },
     "execution_count": 22,
     "metadata": {},
     "output_type": "execute_result"
    }
   ],
   "source": [
    "# 문자열 변수 : 문자열 상수\n",
    "a = \"파이썬\"\n",
    "a"
   ]
  },
  {
   "cell_type": "code",
   "execution_count": 23,
   "id": "498f4405",
   "metadata": {},
   "outputs": [
    {
     "data": {
      "text/plain": [
       "42.125"
      ]
     },
     "execution_count": 23,
     "metadata": {},
     "output_type": "execute_result"
    }
   ],
   "source": [
    "# 실수형 변수 ㅣ 실수형 상수\n",
    "a = 42.125\n",
    "a"
   ]
  },
  {
   "cell_type": "code",
   "execution_count": 24,
   "id": "212f0283",
   "metadata": {},
   "outputs": [
    {
     "name": "stdout",
     "output_type": "stream",
     "text": [
      "7\n",
      "<class 'int'>\n"
     ]
    }
   ],
   "source": [
    "# type(); 자료형 확인하는 함수\n",
    "a = 3\n",
    "b = 4\n",
    "print(a + b)\n",
    "print(type(a)) # 변수 a의 자료형을 확인"
   ]
  },
  {
   "cell_type": "code",
   "execution_count": 25,
   "id": "cd90aa5d",
   "metadata": {},
   "outputs": [],
   "source": [
    "# '=' : 대입연산자, 활당연산자, 치환연산자"
   ]
  },
  {
   "cell_type": "markdown",
   "id": "a973e0c4",
   "metadata": {},
   "source": [
    "## 연산자(Operation)\n",
    "- 피연산자(항) 사이에 계산을 수행하기 위해 사용하는 기호들\n",
    "- 단항연산자 : 하나의 피연산자를 가지고 있는 연산\n",
    "- 이항연산자 : 하나 이상의 피연산자를 가지고 있는 연산\n",
    " 1. 최우선 연산자 ㅣ 우선순위가 가장 높은 연산자(.   ,   []   ()   )\n",
    " 2. 산술 연산자  \n",
    " 3. 관계 연산자(비교연산자) : ==, !=, >, >=, <, <=\n",
    " 4. 논리 연산자 : and(&&), or(||), not(!, 단항 연산자) : not false or not true\n",
    " 5. 비트(bit) 연산자 : and(%), or(|), not(~)\n",
    " 6. 대입활당연산자 : =\n",
    " 7. 대입연산자"
   ]
  },
  {
   "cell_type": "code",
   "execution_count": 26,
   "id": "07451680",
   "metadata": {},
   "outputs": [
    {
     "data": {
      "text/plain": [
       "2"
      ]
     },
     "execution_count": 26,
     "metadata": {},
     "output_type": "execute_result"
    }
   ],
   "source": [
    "# C언어와 Java에서 증감연산자(++, --) Python에서 지원하지 않는다\n",
    "a = 1;\n",
    "# a++, a=a+1. a+=1\n",
    "a+=1;\n",
    "a"
   ]
  },
  {
   "cell_type": "code",
   "execution_count": 27,
   "id": "54a7a645",
   "metadata": {},
   "outputs": [
    {
     "data": {
      "text/plain": [
       "9"
      ]
     },
     "execution_count": 27,
     "metadata": {},
     "output_type": "execute_result"
    }
   ],
   "source": [
    "a = 10\n",
    "# a = a - 1\n",
    "a -= 1\n",
    "a"
   ]
  },
  {
   "cell_type": "code",
   "execution_count": 28,
   "id": "c1442e99",
   "metadata": {},
   "outputs": [
    {
     "data": {
      "text/plain": [
       "6"
      ]
     },
     "execution_count": 28,
     "metadata": {},
     "output_type": "execute_result"
    }
   ],
   "source": [
    "a = 3\n",
    "# a = a*2\n",
    "a*=2\n",
    "a"
   ]
  },
  {
   "cell_type": "markdown",
   "id": "4bd79dd7",
   "metadata": {},
   "source": [
    "## 기본 자료형\n",
    " - 숫자형(수치형) : 정수형과 실수형\n",
    " - 문자형 : ' ' or \"\"\n",
    " - 논리형 : True , False"
   ]
  },
  {
   "cell_type": "code",
   "execution_count": 29,
   "id": "76069afd",
   "metadata": {},
   "outputs": [
    {
     "name": "stdout",
     "output_type": "stream",
     "text": [
      "2 4\n",
      "1.5 2.3\n",
      "Python Hello Word\n",
      "True False\n"
     ]
    }
   ],
   "source": [
    "# 정수형 (intger Type)\n",
    "a = 1\n",
    "a = 2\n",
    "print(a, b)\n",
    "\n",
    "# 실수형 (floatinng-point type, float / double)\n",
    "a = 1.5\n",
    "b = 2.3\n",
    "print(a, b)\n",
    "\n",
    "# 문자형 (String type, char, string)\n",
    "a = 'Python'\n",
    "b = \"Hello Word\"\n",
    "print(a, b)\n",
    "\n",
    "#불린형 (boolean type)\n",
    "a = True\n",
    "b = False\n",
    "print(a, b)"
   ]
  },
  {
   "cell_type": "code",
   "execution_count": 30,
   "id": "301729e9",
   "metadata": {},
   "outputs": [
    {
     "name": "stdout",
     "output_type": "stream",
     "text": [
      "3\n",
      "12\n"
     ]
    }
   ],
   "source": [
    "# '+' : 산술연산의 의미. 연결연산의 의미\n",
    "print(1 + 2)\n",
    "print('1' + '2')"
   ]
  },
  {
   "cell_type": "markdown",
   "id": "86e15333",
   "metadata": {},
   "source": [
    "## 형 변환(casting)\n",
    " - 자료형을 다른 자료형으로 변경 시켜주는 기능\n",
    " - 자동형 변환 (목시적형변환, promotion) : 작은 데이터를 큰 공간에 담을 때, 자료 손실 없음\n",
    " - 강제형 변환 (명시적형변환, Ccasting) : 큰 데이터를 작은 공간에 담을 때,  자료 손실 있음"
   ]
  },
  {
   "cell_type": "code",
   "execution_count": 31,
   "id": "ddfffced",
   "metadata": {},
   "outputs": [
    {
     "name": "stdout",
     "output_type": "stream",
     "text": [
      "10\n",
      "10.0\n"
     ]
    }
   ],
   "source": [
    "# 정수ㅜ형과 실수형 간 변환 : float(), int() 함수사용\n",
    "a = 10;\n",
    "print(a)\n",
    "\n",
    "a = float(a)\n",
    "print(a)\n"
   ]
  },
  {
   "cell_type": "code",
   "execution_count": 32,
   "id": "c4fec22f",
   "metadata": {},
   "outputs": [
    {
     "name": "stdout",
     "output_type": "stream",
     "text": [
      "3.3333333333333335\n"
     ]
    }
   ],
   "source": [
    "# 파이썬은 정수형끼리 나누기해도 자동으로 실수형으로 변홤\n",
    "a = 10\n",
    "b = 3\n",
    "print(a / b)"
   ]
  },
  {
   "cell_type": "code",
   "execution_count": 33,
   "id": "219f6e8a",
   "metadata": {},
   "outputs": [
    {
     "name": "stdout",
     "output_type": "stream",
     "text": [
      "17\n",
      "10 7\n"
     ]
    }
   ],
   "source": [
    "a = int(10.7)\n",
    "b = int(7.3)\n",
    "print(a + b)\n",
    "print(a,b)\n"
   ]
  },
  {
   "cell_type": "code",
   "execution_count": 34,
   "id": "ebd02a12",
   "metadata": {},
   "outputs": [
    {
     "name": "stdout",
     "output_type": "stream",
     "text": [
      "76.3\n",
      "152.6\n"
     ]
    }
   ],
   "source": [
    "# 수수자형과 문자형간의 변환은 주의가 필요\n",
    "a = '76.3'\n",
    "b = float(a)\n",
    "print(a)\n",
    "print(float(a) + b)"
   ]
  },
  {
   "cell_type": "code",
   "execution_count": 35,
   "id": "511ab3d4",
   "metadata": {},
   "outputs": [
    {
     "name": "stdout",
     "output_type": "stream",
     "text": [
      "<class 'int'>\n",
      "<class 'float'>\n",
      "<class 'str'>\n"
     ]
    }
   ],
   "source": [
    "a = int(7.3)\n",
    "b = float(10)\n",
    "c = str(10.3)\n",
    "print(type(a))\n",
    "print(type(b))\n",
    "print(type(c))"
   ]
  },
  {
   "cell_type": "markdown",
   "id": "908064f7",
   "metadata": {},
   "source": [
    "# 표준 입출력(Console input/output)\n",
    " - console : 키보드와 모니터 환경\n",
    "   1. 표준 입력 함수 : input('문자열')\n",
    "   2. 표준 출력 함수 : print('문자열' or 수식 or 서식)"
   ]
  },
  {
   "cell_type": "code",
   "execution_count": 40,
   "id": "ba048163",
   "metadata": {},
   "outputs": [
    {
     "name": "stdout",
     "output_type": "stream",
     "text": [
      "숫자를 입력하세요 : 3\n",
      "연산결과 : 13\n"
     ]
    }
   ],
   "source": [
    "# 표준 입력 함수 : inpnut() \n",
    "a = input('숫자를 입력하세요 : ')\n",
    "print('연산결과 :', int(a) + 10)"
   ]
  },
  {
   "cell_type": "code",
   "execution_count": 37,
   "id": "f947f256",
   "metadata": {},
   "outputs": [
    {
     "name": "stdout",
     "output_type": "stream",
     "text": [
      "Hello pyton!!\n"
     ]
    }
   ],
   "source": [
    "#표준 출력 함수 : print('출력내용')\n",
    "print('Hello pyton!!')"
   ]
  },
  {
   "cell_type": "code",
   "execution_count": 38,
   "id": "76e434e0",
   "metadata": {},
   "outputs": [
    {
     "name": "stdout",
     "output_type": "stream",
     "text": [
      "best python study\n"
     ]
    }
   ],
   "source": [
    "print('best', 'python', 'study')"
   ]
  },
  {
   "cell_type": "code",
   "execution_count": 39,
   "id": "426c5e8b",
   "metadata": {},
   "outputs": [
    {
     "name": "stdout",
     "output_type": "stream",
     "text": [
      "bestpythonstudy\n"
     ]
    }
   ],
   "source": [
    "# 연결연산자 : 문자열과 문자열 연결할 때 사용하는 연산자\n",
    "print('best' + 'python' + 'study')"
   ]
  },
  {
   "cell_type": "code",
   "execution_count": 47,
   "id": "f0571645",
   "metadata": {},
   "outputs": [
    {
     "name": "stdout",
     "output_type": "stream",
     "text": [
      "best @-.-@ python @-.-@ study\n"
     ]
    }
   ],
   "source": [
    "# 구분자 : 문자열과 문자열 사이에 특정 문자열을 추가\n",
    "print('best', 'python', 'study', sep=' @-.-@ ')"
   ]
  },
  {
   "cell_type": "code",
   "execution_count": 49,
   "id": "8544e5ee",
   "metadata": {},
   "outputs": [
    {
     "name": "stdout",
     "output_type": "stream",
     "text": [
      "x = 10\n"
     ]
    }
   ],
   "source": [
    "# 변수를 이용한 출력\n",
    "x = 10\n",
    "print(\"x =\", x)"
   ]
  },
  {
   "cell_type": "code",
   "execution_count": 51,
   "id": "9c669638",
   "metadata": {},
   "outputs": [
    {
     "name": "stdout",
     "output_type": "stream",
     "text": [
      "홍길동 33\n"
     ]
    }
   ],
   "source": [
    "name = \"홍길동\"\n",
    "age = 33\n",
    "print(name,age)"
   ]
  },
  {
   "cell_type": "code",
   "execution_count": 58,
   "id": "4c46fb9e",
   "metadata": {},
   "outputs": [
    {
     "name": "stdout",
     "output_type": "stream",
     "text": [
      "홍길동 : 33\n"
     ]
    }
   ],
   "source": [
    "print(name, age, sep = ' : ')"
   ]
  },
  {
   "cell_type": "code",
   "execution_count": 57,
   "id": "15f6da77",
   "metadata": {},
   "outputs": [
    {
     "name": "stdout",
     "output_type": "stream",
     "text": [
      "name = 홍길동 \n",
      "age = 33\n"
     ]
    }
   ],
   "source": [
    "print('name =', name,'\\nage =',age)"
   ]
  },
  {
   "cell_type": "code",
   "execution_count": 60,
   "id": "6a8ba4af",
   "metadata": {},
   "outputs": [
    {
     "name": "stdout",
     "output_type": "stream",
     "text": [
      "james is my friend.\n",
      "\n",
      "He is Korean\n"
     ]
    }
   ],
   "source": [
    "# 개형문자 \\n\n",
    "print('james is my friend.\\n\\nHe is Korean')"
   ]
  },
  {
   "cell_type": "code",
   "execution_count": 61,
   "id": "b9dd6971",
   "metadata": {},
   "outputs": [
    {
     "name": "stdout",
     "output_type": "stream",
     "text": [
      "Welcome to\n",
      "Python World!\n"
     ]
    }
   ],
   "source": [
    "print(\"Welcome to\")\n",
    "print(\"Python World!\")"
   ]
  },
  {
   "cell_type": "code",
   "execution_count": 63,
   "id": "8cfdbee0",
   "metadata": {},
   "outputs": [
    {
     "name": "stdout",
     "output_type": "stream",
     "text": [
      "Welcome toPython World!\n"
     ]
    }
   ],
   "source": [
    "# print 기본적으로 끝에 end=\"\\n\" 으로 되어 있다.\n",
    "print(\"Welcome to\", end=\"\")\n",
    "print(\"Python World!\")"
   ]
  },
  {
   "cell_type": "markdown",
   "id": "1907469e",
   "metadata": {},
   "source": [
    "## 형식 지정 출력\n",
    " - 기본형식 prinnt(\"%d\" %data)\n",
    " - 서식(format) : 데이터의 타입이나 자릿수를 지정할 때 사용하는 기호\n",
    " - %s 문자열, %d정수, %f실수형\n"
   ]
  },
  {
   "cell_type": "code",
   "execution_count": 67,
   "id": "449b8638",
   "metadata": {},
   "outputs": [
    {
     "name": "stdout",
     "output_type": "stream",
     "text": [
      "홍길동는 나의 친구입니다.\n"
     ]
    }
   ],
   "source": [
    "name = \"홍길동\"\n",
    "print(\"%s는 나의 친구입니다.\" %name)"
   ]
  },
  {
   "cell_type": "code",
   "execution_count": null,
   "id": "af53d2fd",
   "metadata": {},
   "outputs": [],
   "source": []
  }
 ],
 "metadata": {
  "kernelspec": {
   "display_name": "Python 3 (ipykernel)",
   "language": "python",
   "name": "python3"
  },
  "language_info": {
   "codemirror_mode": {
    "name": "ipython",
    "version": 3
   },
   "file_extension": ".py",
   "mimetype": "text/x-python",
   "name": "python",
   "nbconvert_exporter": "python",
   "pygments_lexer": "ipython3",
   "version": "3.9.12"
  },
  "toc": {
   "base_numbering": 1,
   "nav_menu": {},
   "number_sections": true,
   "sideBar": true,
   "skip_h1_title": false,
   "title_cell": "Table of Contents",
   "title_sidebar": "Contents",
   "toc_cell": false,
   "toc_position": {
    "height": "calc(100% - 180px)",
    "left": "10px",
    "top": "150px",
    "width": "265.594px"
   },
   "toc_section_display": true,
   "toc_window_display": true
  }
 },
 "nbformat": 4,
 "nbformat_minor": 5
}
