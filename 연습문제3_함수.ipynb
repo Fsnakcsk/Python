{
 "cells": [
  {
   "cell_type": "code",
   "execution_count": 2,
   "id": "1a478b47",
   "metadata": {
    "ExecuteTime": {
     "end_time": "2022-09-05T07:32:51.027390Z",
     "start_time": "2022-09-05T07:32:51.018268Z"
    }
   },
   "outputs": [
    {
     "name": "stdout",
     "output_type": "stream",
     "text": [
      "홀수입니다\n"
     ]
    }
   ],
   "source": [
    "# 문제1. 주어진 자연수가 홀수인지 짝수인지 판정하는 함수 is_odd()를 구현하시오.\n",
    "\n",
    "def is_odd(num) :\n",
    "    if num % 2 == 1 :\n",
    "        print(\"홀수입니다\")\n",
    "    else :\n",
    "        print(\"짝수입니다\")\n",
    "\n",
    "is_odd(5)\n",
    "    "
   ]
  },
  {
   "cell_type": "code",
   "execution_count": 1,
   "id": "48106018",
   "metadata": {},
   "outputs": [
    {
     "name": "stdout",
     "output_type": "stream",
     "text": [
      "입력이 종료하려면 0을 입력하시오\n",
      "숫자1 : 1\n",
      "숫자2 : 2\n",
      "숫자3 : 3\n",
      "숫자4 : 4\n",
      "숫자5 : 5\n",
      "숫자6 : 0\n",
      "list =  [1, 2, 3, 4, 5]\n",
      "평균 : 3\n"
     ]
    }
   ],
   "source": [
    "# 문제2. 입력을 받아 들어오는 모든 수의 평균을 계산하는 함수를 구현하시오.\n",
    "# 단, 입력으로 들어오는 매개변수의 개수는 정해져있지 않다.\n",
    "# 평균은 계산할 때 len()함수를 이용할 것.\n",
    "\n",
    "def avg(List) :\n",
    "    sum = 0\n",
    "    for i in List :\n",
    "        sum += i\n",
    "    return sum / len(List)\n",
    "\n",
    "i = 1\n",
    "List = []\n",
    "print(\"입력이 종료하려면 0을 입력하시오\")\n",
    "\n",
    "while 1 :\n",
    "    num = int(input(\"숫자%d : \" %i))\n",
    "    if num == 0 :\n",
    "        break\n",
    "    List.append(num)\n",
    "    i+=1\n",
    "\n",
    "print(\"list = \",List)\n",
    "rus = avg(List)\n",
    "print(\"평균 : %d\" %rus)\n",
    "    "
   ]
  },
  {
   "cell_type": "code",
   "execution_count": 5,
   "id": "f38b3359",
   "metadata": {},
   "outputs": [
    {
     "name": "stdout",
     "output_type": "stream",
     "text": [
      "number 1 10\n",
      "number 1 20\n",
      "30\n"
     ]
    }
   ],
   "source": [
    "# 문제3. 두 개의 정수를 입력받아 더한 결과를 반환하는 함수를 구현하시오.\n",
    "\n",
    "def getSum(x, y) :\n",
    "    return x + y\n",
    "    \n",
    "sum1 = int(input(\"number 1 \"))\n",
    "sum2 = int(input(\"number 1 \"))\n",
    "print(getSum(sum1, sum2))\n"
   ]
  },
  {
   "cell_type": "code",
   "execution_count": null,
   "id": "52aea957",
   "metadata": {},
   "outputs": [],
   "source": [
    "# 문제4.다음 주어진 출력 결과중 다른 한 개를 찾아 그 결과를 서술하시오.\n",
    "## 1. print(\"you\"  \"need\"  \"python\")\n",
    "## 2. print(\"you\"+\"need\"+\"python\")\n",
    "## 3. print(\"you\", \"need\", \"python\")\n",
    "## 4. print(\"\".join([\"you\",\"need\",\"python\"]))\n",
    "\n",
    "# 3번 ,를 찍었기 때문에 문자열 마다 빈칸이 생겼다."
   ]
  },
  {
   "cell_type": "code",
   "execution_count": null,
   "id": "cde9afa7",
   "metadata": {},
   "outputs": [],
   "source": []
  },
  {
   "cell_type": "code",
   "execution_count": null,
   "id": "5255aa21",
   "metadata": {},
   "outputs": [],
   "source": []
  },
  {
   "cell_type": "code",
   "execution_count": null,
   "id": "a371f85f",
   "metadata": {},
   "outputs": [],
   "source": []
  },
  {
   "cell_type": "code",
   "execution_count": null,
   "id": "143e1bdc",
   "metadata": {},
   "outputs": [],
   "source": []
  }
 ],
 "metadata": {
  "kernelspec": {
   "display_name": "Python 3 (ipykernel)",
   "language": "python",
   "name": "python3"
  },
  "language_info": {
   "codemirror_mode": {
    "name": "ipython",
    "version": 3
   },
   "file_extension": ".py",
   "mimetype": "text/x-python",
   "name": "python",
   "nbconvert_exporter": "python",
   "pygments_lexer": "ipython3",
   "version": "3.9.12"
  },
  "toc": {
   "base_numbering": 1,
   "nav_menu": {},
   "number_sections": true,
   "sideBar": true,
   "skip_h1_title": false,
   "title_cell": "Table of Contents",
   "title_sidebar": "Contents",
   "toc_cell": false,
   "toc_position": {},
   "toc_section_display": true,
   "toc_window_display": false
  }
 },
 "nbformat": 4,
 "nbformat_minor": 5
}
